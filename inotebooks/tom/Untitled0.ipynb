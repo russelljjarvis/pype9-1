{
 "metadata": {
  "name": "Untitled0"
 }, 
 "nbformat": 2, 
 "worksheets": [
  {
   "cells": [
    {
     "cell_type": "code", 
     "collapsed": false, 
     "input": [
      "from utilities.inotebook import *", 
      "inotebook_init()"
     ], 
     "language": "python", 
     "outputs": [
      {
       "output_type": "stream", 
       "stream": "stdout", 
       "text": [
        "Using git revision of k-Brain: 672ae28238f83455e8fc353103f6734fabc7dd48", 
        ""
       ]
      }
     ], 
     "prompt_number": 1
    }, 
    {
     "cell_type": "markdown", 
     "source": [
      "Combination of new and old mod files", 
      "---"
     ]
    }, 
    {
     "cell_type": "code", 
     "collapsed": true, 
     "input": [
      "ALL_MECHS = ('ca', 'ca2', 'CaHVA', 'CaLVA', 'HCN1', 'HCN2', 'k', 'KA', 'KCa', 'KM', 'KV', 'Lkg', 'na', 'Na', 'NaP', 'NaR', 'SK2')", 
      "def combine_new_with_old(new_mechs):", 
      "    bash('rm -r external/nemo_testing/neuron/combined_golgi/*')", 
      "    for mech in new_mechs:", 
      "        bash('ln -s external/nemo_testing/neuron/generated_fabios_golgi/{}.mod external/nemo_testing/neuron/combined_golgi/'.format(mech))", 
      "    for mech in ALL_MECHS:", 
      "        if mech not in new_mechs:", 
      "            bash('ln -s external/nemo_testing/neuron/renamed_fabios_golgi/{}.mod external/nemo_testing/neuron/combined_golgi/'.format(mech))", 
      "    bash('cd external/nemo_testing/neuron/combined_golgi; nrnivmodl')", 
      "    bash('cd external/nemo_testing/neuron/combined_golgi; nrngui run.hoc')", 
      "    bash('mv external/nemo_testing/neuron/combined_golgi/Golgi.v_dat output/{}.Golgi.v_dat'.format('.'.join(new_mechs)))    "
     ], 
     "language": "python", 
     "outputs": [], 
     "prompt_number": 2
    }, 
    {
     "cell_type": "code", 
     "collapsed": true, 
     "input": [
      "combine_new_with_old(('"
     ], 
     "language": "python", 
     "outputs": []
    }
   ]
  }
 ]
}