{
 "metadata": {
  "name": "Lab Meeting 2012-12-7"
 }, 
 "nbformat": 2, 
 "worksheets": [
  {
   "cells": [
    {
     "cell_type": "markdown", 
     "source": [
      "---", 
      "To Do", 
      "---", 
      "", 
      "- Converting Golgi cell to single compartment model", 
      "", 
      "  - Keep the same input impedence by increasing the diameter of the single cell", 
      "", 
      "  - Check how it responds to synaptic input", 
      "  ", 
      "    - change the gmax?", 
      "", 
      "- Test NEST code generation"
     ]
    }, 
    {
     "cell_type": "code", 
     "collapsed": true, 
     "input": [], 
     "language": "python", 
     "outputs": []
    }
   ]
  }
 ]
}