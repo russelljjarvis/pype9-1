{
 "metadata": {
  "name": "Lab Meeting 2012-12-7"
 }, 
 "nbformat": 2, 
 "worksheets": [
  {
   "cells": [
    {
     "cell_type": "code", 
     "collapsed": false, 
     "input": [
      "from utilities.inotebook import *", 
      "inotebook_init()"
     ], 
     "language": "python", 
     "outputs": [
      {
       "output_type": "stream", 
       "stream": "stdout", 
       "text": [
        "Using git revision of k-Brain: 398d94bb500c7e889bbb0094cadd393160745693", 
        ""
       ]
      }
     ], 
     "prompt_number": 1
    }, 
    {
     "cell_type": "markdown", 
     "source": [
      "---", 
      "Fabio's Network Testing", 
      "---"
     ]
    }, 
    {
     "cell_type": "markdown", 
     "source": [
      "---", 
      "No gap junctions, no PF to Golgi"
     ]
    }, 
    {
     "cell_type": "code", 
     "collapsed": false, 
     "input": [
      "activity_plot('/home/tclose/data_kbrain/fabios_network/lab_meeting-7-12-12/no_gap-no_gr2go/Granules.spikes --extra_label \" no Gap, no PF to Golgi\"')"
     ], 
     "language": "python", 
     "outputs": [], 
     "prompt_number": 4
    }, 
    {
     "cell_type": "code", 
     "collapsed": true, 
     "input": [
      "activity_plot('/home/tclose/data_kbrain/fabios_network/lab_meeting-7-12-12/no_gap-no_gr2go/Granules.v --extra_label \" no Gap, no PF to Golgi\"')"
     ], 
     "language": "python", 
     "outputs": []
    }, 
    {
     "cell_type": "code", 
     "collapsed": true, 
     "input": [
      "activity_plot('/home/tclose/data_kbrain/fabios_network/lab_meeting-7-12-12/no_gap-no_gr2go/Golgis.spikes --extra_label \" no Gap, no PF to Golgi\"')"
     ], 
     "language": "python", 
     "outputs": [], 
     "prompt_number": 30
    }, 
    {
     "cell_type": "code", 
     "collapsed": true, 
     "input": [
      "activity_plot('/home/tclose/data_kbrain/fabios_network/lab_meeting-7-12-12/no_gap-no_gr2go/Golgis.v --extra_label \" no Gap, no PF to Golgi\"')"
     ], 
     "language": "python", 
     "outputs": [], 
     "prompt_number": 5
    }, 
    {
     "cell_type": "markdown", 
     "source": [
      "---", 
      "With gap junctions, no PF to Golgi"
     ]
    }, 
    {
     "cell_type": "code", 
     "collapsed": true, 
     "input": [
      "activity_plot('/home/tclose/data_kbrain/fabios_network/lab_meeting-7-12-12/gap-no_gr2go/Granules.spikes --extra_label \" with Gap, no PF to Golgi\"')"
     ], 
     "language": "python", 
     "outputs": []
    }, 
    {
     "cell_type": "code", 
     "collapsed": true, 
     "input": [
      "activity_plot('/home/tclose/data_kbrain/fabios_network/lab_meeting-7-12-12/gap-no_gr2go/Granules.v --extra_label \" with Gap, no PF to Golgi\"')"
     ], 
     "language": "python", 
     "outputs": [], 
     "prompt_number": 10
    }, 
    {
     "cell_type": "code", 
     "collapsed": true, 
     "input": [
      "activity_plot('/home/tclose/data_kbrain/fabios_network/lab_meeting-7-12-12/gap-no_gr2go/Golgis.spikes --extra_label \" with Gap, no PF to Golgi\"')"
     ], 
     "language": "python", 
     "outputs": [], 
     "prompt_number": 29
    }, 
    {
     "cell_type": "code", 
     "collapsed": true, 
     "input": [
      "activity_plot('/home/tclose/data_kbrain/fabios_network/lab_meeting-7-12-12/gap-no_gr2go/Golgis.v --extra_label \" with Gap, no PF to Golgi\"')"
     ], 
     "language": "python", 
     "outputs": [], 
     "prompt_number": 6
    }, 
    {
     "cell_type": "markdown", 
     "source": [
      "---", 
      "No gap junctions, with PF to Golgi"
     ]
    }, 
    {
     "cell_type": "code", 
     "collapsed": true, 
     "input": [
      "activity_plot('/home/tclose/data_kbrain/fabios_network/lab_meeting-7-12-12/no_gap-gr2go/Granules.spikes --extra_label \" no Gap, with PF to Golgi\"')"
     ], 
     "language": "python", 
     "outputs": [], 
     "prompt_number": 11
    }, 
    {
     "cell_type": "code", 
     "collapsed": true, 
     "input": [
      "activity_plot('/home/tclose/data_kbrain/fabios_network/lab_meeting-7-12-12/no_gap-gr2go/Granules.v --extra_label \" no Gap, with PF to Golgi\"')"
     ], 
     "language": "python", 
     "outputs": []
    }, 
    {
     "cell_type": "code", 
     "collapsed": true, 
     "input": [
      "activity_plot('/home/tclose/data_kbrain/fabios_network/lab_meeting-7-12-12/no_gap-gr2go/Golgis.spikes --extra_label \" no Gap, with PF to Golgi\"')"
     ], 
     "language": "python", 
     "outputs": [], 
     "prompt_number": 15
    }, 
    {
     "cell_type": "code", 
     "collapsed": true, 
     "input": [
      "activity_plot('/home/tclose/data_kbrain/fabios_network/lab_meeting-7-12-12/no_gap-gr2go/Golgis.v --extra_label \" no Gap, with PF to Golgi\"')"
     ], 
     "language": "python", 
     "outputs": [], 
     "prompt_number": 31
    }, 
    {
     "cell_type": "markdown", 
     "source": [
      "---", 
      "With gap junctions, with PF to Golgi"
     ]
    }, 
    {
     "cell_type": "code", 
     "collapsed": true, 
     "input": [
      "activity_plot('/home/tclose/data_kbrain/fabios_network/lab_meeting-7-12-12/gap-gr2go/Granules.spikes --extra_label \" with Gap, with PF to Golgi\"')"
     ], 
     "language": "python", 
     "outputs": []
    }, 
    {
     "cell_type": "code", 
     "collapsed": true, 
     "input": [
      "activity_plot('/home/tclose/data_kbrain/fabios_network/lab_meeting-7-12-12/gap-gr2go/Granules.v --extra_label \" with Gap, with PF to Golgi\"')"
     ], 
     "language": "python", 
     "outputs": []
    }, 
    {
     "cell_type": "code", 
     "collapsed": true, 
     "input": [
      "activity_plot('/home/tclose/data_kbrain/fabios_network/lab_meeting-7-12-12/gap-gr2go/Golgis.spikes --extra_label \" with Gap, with PF to Golgi\"')"
     ], 
     "language": "python", 
     "outputs": []
    }, 
    {
     "cell_type": "code", 
     "collapsed": true, 
     "input": [
      "activity_plot('/home/tclose/data_kbrain/fabios_network/lab_meeting-7-12-12/gap-gr2go/Golgis.v --extra_label \" with Gap, no PF with Golgi\"')"
     ], 
     "language": "python", 
     "outputs": []
    }, 
    {
     "cell_type": "markdown", 
     "source": [
      "---", 
      "Granule to PC conectivity", 
      "---"
     ]
    }, 
    {
     "cell_type": "code", 
     "collapsed": false, 
     "input": [
      "bash('src/visualize/connection_matrix.py output/pf2pc_connections.shifted.txt --plot_slice 2 4')"
     ], 
     "language": "python", 
     "outputs": [], 
     "prompt_number": "*"
    }, 
    {
     "cell_type": "code", 
     "collapsed": false, 
     "input": [
      "bash('src/visualize/connection_matrix.py output/pf2pc_connections.shifted.txt --plot_slice 0 60')"
     ], 
     "language": "python", 
     "outputs": [
      {
       "output_type": "stream", 
       "stream": "stdout", 
       "text": [
        ""
       ]
      }
     ], 
     "prompt_number": 33
    }, 
    {
     "cell_type": "code", 
     "collapsed": false, 
     "input": [
      "bash('src/visualize/connection_matrix.py output/pf2pc_connections.shifted.txt --histogram')"
     ], 
     "language": "python", 
     "outputs": [
      {
       "output_type": "stream", 
       "stream": "stdout", 
       "text": [
        ""
       ]
      }
     ], 
     "prompt_number": 34
    }, 
    {
     "cell_type": "code", 
     "collapsed": false, 
     "input": [
      "bash('src/visualize/connection_matrix.py output/pf2pc_connections.shifted.txt --sorted 500 0 5')"
     ], 
     "language": "python", 
     "outputs": [
      {
       "output_type": "stream", 
       "stream": "stdout", 
       "text": [
        ""
       ]
      }
     ], 
     "prompt_number": 36
    }, 
    {
     "cell_type": "code", 
     "collapsed": false, 
     "input": [
      "bash('src/visualize/connection_matrix.py output/pf2pc_connections.shifted.txt --sorted 2500 2000 5')"
     ], 
     "language": "python", 
     "outputs": [
      {
       "output_type": "stream", 
       "stream": "stdout", 
       "text": [
        ""
       ]
      }
     ], 
     "prompt_number": 37
    }, 
    {
     "cell_type": "code", 
     "collapsed": true, 
     "input": [], 
     "language": "python", 
     "outputs": []
    }
   ]
  }
 ]
}