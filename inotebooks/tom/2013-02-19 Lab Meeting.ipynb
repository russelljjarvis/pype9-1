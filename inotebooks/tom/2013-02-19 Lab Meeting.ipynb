{
 "metadata": {
  "name": "2013-02-19 Lab Meeting"
 }, 
 "nbformat": 2, 
 "worksheets": [
  {
   "cells": [
    {
     "cell_type": "markdown", 
     "source": [
      "---", 
      "To Do", 
      "---", 
      "", 
      "- Fix gap junction synapses implementation", 
      "", 
      "- Analyse BREP connectivity between PF and Golgis", 
      "", 
      "- PF to Purkinje Analysis", 
      "", 
      "  - Calculate the average density across the forest in the X-Y plane", 
      "", 
      "  - Implement different connection angles (this will introduce sampling error so may need to go to much smaller size)", 
      "", 
      "- Neurofitter on reduced golgi model", 
      "", 
      "- See how connectivity matrix changes as voxel sizes increase (macro versus micro overlap)", 
      "  - Need to implement non-isotropic kernels to keep \"resolution\" high in 'z' plane kernels, while lowering in 'x' and 'y' planes"
     ]
    }, 
    {
     "cell_type": "code", 
     "collapsed": true, 
     "input": [], 
     "language": "python", 
     "outputs": []
    }
   ]
  }
 ]
}