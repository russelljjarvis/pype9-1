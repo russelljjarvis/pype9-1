{
 "metadata": {
  "name": "Lab Meeting 2012-10-23"
 }, 
 "nbformat": 2, 
 "worksheets": [
  {
   "cells": [
    {
     "cell_type": "markdown", 
     "source": [
      "---", 
      "IPython Notebook Initialisation"
     ]
    }, 
    {
     "cell_type": "code", 
     "collapsed": true, 
     "input": [
      "from utilities.inotebook import *"
     ], 
     "language": "python", 
     "outputs": [], 
     "prompt_number": 18
    }, 
    {
     "cell_type": "code", 
     "collapsed": false, 
     "input": [
      "inotebook_init()"
     ], 
     "language": "python", 
     "outputs": [
      {
       "output_type": "stream", 
       "stream": "stdout", 
       "text": [
        "Using git revision of k-Brain: 8ab07bea1df2f75f53796a8211a128bd2fe8e143"
       ]
      }
     ], 
     "prompt_number": 19
    }, 
    {
     "cell_type": "code", 
     "collapsed": true, 
     "input": [
      "os.chdir('/home/tclose/Data/KBrain/fabios_network/in_anger/2000')"
     ], 
     "language": "python", 
     "outputs": [], 
     "prompt_number": 20
    }, 
    {
     "cell_type": "markdown", 
     "source": [
      "---", 
      "Fabio's Granular-Golgi Network (plots from paper)", 
      "---", 
      "Note that leak current, initial membrane voltage and cell diameter is not being \"randomized\" as it is in Fabio's paper, which probably explains some of the differences in firing behaviour"
     ]
    }, 
    {
     "cell_type": "markdown", 
     "source": [
      "---", 
      "No Gap junctions or PF to Golgi connections"
     ]
    }, 
    {
     "cell_type": "code", 
     "collapsed": true, 
     "input": [
      "activity_plot('no_gap_no_granule_to_golgi/Golgis.spikes --time_start 800 --time_stop 1200')"
     ], 
     "language": "python", 
     "outputs": [], 
     "prompt_number": 21
    }, 
    {
     "cell_type": "code", 
     "collapsed": true, 
     "input": [
      "activity_plot('no_gap_no_granule_to_golgi/Granules.spikes --time_start 800 --time_stop 1200')"
     ], 
     "language": "python", 
     "outputs": [], 
     "prompt_number": 22
    }, 
    {
     "cell_type": "markdown", 
     "source": [
      "---", 
      "With Gap junctions but no PF to Golgi connections"
     ]
    }, 
    {
     "cell_type": "code", 
     "collapsed": true, 
     "input": [
      "activity_plot('include_gap_no_granule_to_golgi/Golgis.spikes --time_start 800 --time_stop 1200')"
     ], 
     "language": "python", 
     "outputs": [], 
     "prompt_number": 23
    }, 
    {
     "cell_type": "code", 
     "collapsed": true, 
     "input": [
      "activity_plot('include_gap_no_granule_to_golgi/Golgis.spikes --time_start 800 --time_stop 1200')"
     ], 
     "language": "python", 
     "outputs": [], 
     "prompt_number": 24
    }, 
    {
     "cell_type": "markdown", 
     "source": [
      "---", 
      "Without Gap junctions with PF to Golgi connections"
     ]
    }, 
    {
     "cell_type": "code", 
     "collapsed": true, 
     "input": [
      "activity_plot('no_gap/Golgis.spikes --time_start 800 --time_stop 1200')"
     ], 
     "language": "python", 
     "outputs": [], 
     "prompt_number": 25
    }, 
    {
     "cell_type": "code", 
     "collapsed": true, 
     "input": [
      "activity_plot('no_gap/Granules.spikes --time_start 800 --time_stop 1200')"
     ], 
     "language": "python", 
     "outputs": [], 
     "prompt_number": 26
    }, 
    {
     "cell_type": "markdown", 
     "source": [
      "---", 
      "With Gap junctions and PF to Golgi connections"
     ]
    }, 
    {
     "cell_type": "code", 
     "collapsed": true, 
     "input": [
      "activity_plot('include_gap/Golgis.spikes --time_start 800 --time_stop 1200')"
     ], 
     "language": "python", 
     "outputs": [], 
     "prompt_number": 27
    }, 
    {
     "cell_type": "code", 
     "collapsed": true, 
     "input": [
      "activity_plot('include_gap/Granules.spikes --time_start 800 --time_stop 1200')"
     ], 
     "language": "python", 
     "outputs": [], 
     "prompt_number": 28
    }, 
    {
     "cell_type": "markdown", 
     "source": [
      "---", 
      "Ongoing tasks:", 
      "---", 
      "- incorporating random distributions into NetworkML framework", 
      "- NEST implementation", 
      "  - Test module compiles and loads into pyNN framework"
     ]
    }, 
    {
     "cell_type": "code", 
     "collapsed": true, 
     "input": [], 
     "language": "python", 
     "outputs": [], 
     "prompt_number": 28
    }
   ]
  }
 ]
}