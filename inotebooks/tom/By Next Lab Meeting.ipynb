{
 "metadata": {
  "name": "By Next Lab Meeting"
 }, 
 "nbformat": 2, 
 "worksheets": [
  {
   "cells": [
    {
     "cell_type": "markdown", 
     "source": [
      "---", 
      "To Do", 
      "---", 
      "", 
      "- Fix gap junction synapses implementation", 
      "", 
      "- Fix BREP connectivity between PF and Golgis", 
      "", 
      "- Converting Golgi cell to single compartment model", 
      "", 
      "  - Keep the same input impedence by increasing the diameter of the single cell", 
      "", 
      "  - Check how it responds to synaptic input", 
      "  ", 
      "    - change the gmax?", 
      "", 
      "- PF to Purkinje Analysis", 
      "", 
      "", 
      "  - Calculate the average density across the forest in the X-Y plane", 
      "", 
      "  - Implement different connection angles (this will introduce sampling error so may need to go to much smaller size)", 
      ""
     ]
    }, 
    {
     "cell_type": "code", 
     "collapsed": true, 
     "input": [], 
     "language": "python", 
     "outputs": []
    }
   ]
  }
 ]
}