{
 "metadata": {
  "name": "By Next Lab Meeting"
 }, 
 "nbformat": 2, 
 "worksheets": [
  {
   "cells": [
    {
     "cell_type": "markdown", 
     "source": [
      "---", 
      "To Do", 
      "---", 
      "", 
      "- Check/fix gap junction synapses implementation", 
      "", 
      "- Fix BREP connectivity between PF and Golgis", 
      "", 
      "- Converting Golgi cell to single compartment model", 
      "", 
      "  - Keep the same input impedence by increasing the diameter of the single cell", 
      "", 
      "  - Check how it responds to synaptic input", 
      "  ", 
      "    - change the gmax?", 
      "", 
      "- Email Andrew Davison", 
      "", 
      "- PF to Purkinje Analysis", 
      "", 
      "  - Take slice volume and calculate the voronoi plot between a Purkinje cell and all its neighbours", 
      "", 
      "  - Calculate the average density across the forest in the X-Y plane", 
      "", 
      "  - Implement different connection angles (this will introduce sampling error so may need to go to much smaller size)"
     ]
    }, 
    {
     "cell_type": "code", 
     "collapsed": true, 
     "input": [], 
     "language": "python", 
     "outputs": []
    }
   ]
  }
 ]
}