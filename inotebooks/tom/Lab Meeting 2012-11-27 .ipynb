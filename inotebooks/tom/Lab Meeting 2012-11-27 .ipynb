{
 "metadata": {
  "name": "Lab Meeting 2012-11-27 "
 }, 
 "nbformat": 2, 
 "worksheets": [
  {
   "cells": [
    {
     "cell_type": "code", 
     "collapsed": false, 
     "input": [
      "from utilities.inotebook import *", 
      "inotebook_init()"
     ], 
     "language": "python", 
     "outputs": [
      {
       "output_type": "stream", 
       "stream": "stdout", 
       "text": [
        "Using git revision of k-Brain: b19bb724d307d5339b090f55287446e724bcd555", 
        ""
       ]
      }
     ], 
     "prompt_number": 2
    }, 
    {
     "cell_type": "markdown", 
     "source": [
      "---", 
      "Single Loop Molecular Layer", 
      "---"
     ]
    }, 
    {
     "cell_type": "markdown", 
     "source": [
      "---", 
      "Run python version of loop without any connections"
     ]
    }, 
    {
     "cell_type": "code", 
     "collapsed": false, 
     "input": [
      "bash('single_molecular_loop.py --NoMossyFiber2GranuleAMPA --NoMossyFiber2GranuleNMDA --NoMossyFiber2Golgi --NoGranulesGolgi --NoGolgi2Granule', save_output='single_molecular_loop_no_connections.log')"
     ], 
     "language": "python", 
     "outputs": [
      {
       "output_type": "stream", 
       "stream": "stdout", 
       "text": [
        "NEURON -- Release 7.2 (562:42a47463b504) 2011-12-21", 
        "Duke, Yale, and the BlueBrain Project -- Copyright 1984-2008", 
        "See http://www.neuron.yale.edu/credits.html", 
        "", 
        "Additional mechanisms from files", 
        " Gap.mod adexp.mod alphaisyn.mod alphasyn.mod expisyn.mod gsfa_grr.mod hh_traub.mod netstim2.mod refrac.mod reset.mod stdwa_guetig.mod stdwa_softlimits.mod stdwa_songabbott.mod stdwa_symm.mod tmgsyn.mod tmisyn.mod vecstim.mod", 
        "Additional mechanisms from files", 
        " Granule_CaHVA.mod Granule_KA.mod Granule_KCa.mod Granule_KM.mod Granule_KV.mod Granule_Kir.mod Granule_Lkg1.mod Granule_Lkg2.mod Granule_Na.mod Granule_ca.mod", 
        "Additional mechanisms from files", 
        " Golgi_CaHVA.mod Golgi_CaLVA.mod Golgi_HCN1.mod Golgi_HCN2.mod Golgi_KA.mod Golgi_KCa.mod Golgi_KM.mod Golgi_KV.mod Golgi_Lkg.mod Golgi_Na.mod Golgi_NaP.mod Golgi_NaR.mod Golgi_SK2.mod Golgi_ca.mod Golgi_ca2.mod", 
        "No handlers could be found for logger \"PyNN\"", 
        "Stimulation seed is 346618592897", 
        "MPI_Initialized==false, disabling MPI functionality.", 
        "Building network", 
        "Setting up simulation", 
        "Setting up recorders", 
        "Network description", 
        "Populations:", 
        "Population \"MossyFibers\"", 
        "    Structure   : Line", 
        "      y: 0.0", 
        "      x0: 0.0", 
        "      z: 0.0", 
        "      dx: 1.0", 
        "    Local cells : 1", 
        "    Cell type   : SpikeSourceArray", 
        "    ID range    : 2-2", 
        "    First cell on this node:", 
        "      ID: 2", 
        "      spike_times: [ 1000.  1100.  1200.  1300.  1400.  1500.  1600.  1700.  1800.  1900.]", 
        "", 
        "Population \"Golgis\"", 
        "    Structure   : Line", 
        "      y: 0.0", 
        "      x0: 0.0", 
        "      z: 0.0", 
        "      dx: 1.0", 
        "    Local cells : 1", 
        "    Cell type   : GolgiWithoutAxon", 
        "    ID range    : 1-1", 
        "    First cell on this node:", 
        "      ID: 1", 
        "      soma_group.L: 27.0", 
        "      soma_group.Na.e_rev: 87.39", 
        "      soma_group.NaR.e_rev: 87.39", 
        "      soma_group.NaP.e_rev: 87.39", 
        "      soma_group.SK2.e_rev: -84.69", 
        "      soma_group.KA.e_rev: -84.69", 
        "      soma_group.KCa.e_rev: -84.69", 
        "      soma_group.KM.gbar: 0.001", 
        "      soma_group.HCN2.e_rev: -20.0", 
        "      all_segs.Lkg.e_rev: -55.0", 
        "      all_segs.Lkg.gbar: 2.1e-05", 
        "      soma_group.KA.gbar: 0.008", 
        "      soma_group.SK2.gbar: 0.038", 
        "      soma_group.diam: 27.0", 
        "      all_segs.cm: 1.0", 
        "      soma_group.AMPA_Granule.tau2: 13.3", 
        "      soma_group.AMPA_Granule.tau1: 1.0", 
        "      dendrite_group.L: 11.3000001907", 
        "      soma_group.KM.e_rev: -84.69", 
        "      dendrite_group.diam: 3.0", 
        "      parent: <weakref at 0x27cd520; to 'Population' at 0x27c34d0>", 
        "      all_segs.Ra: 100.0", 
        "      soma_group.KV.gbar: 0.032", 
        "      soma_group.HCN1.gbar: 5e-05", 
        "      soma_group.AMPA_Granule.e: 0.0", 
        "      soma_group.CaHVA.gbar: 0.00046", 
        "      soma_group.NaP.gbar: 0.00019", 
        "      soma_group.AMPA_MossyFiber.e: 0.0", 
        "      soma_group.Na.gbar: 0.048", 
        "      soma_group.AMPA_MossyFiber.tau2: 0.5", 
        "      soma_group.AMPA_MossyFiber.tau1: 0.3", 
        "      soma_group.HCN1.e_rev: -20.0", 
        "      soma_group.HCN2.gbar: 8e-05", 
        "      soma_group.KV.e_rev: -84.69", 
        "      soma_group.NaR.gbar: 0.0017", 
        "      soma_group.KCa.gbar: 0.003", 
        "      soma_group.CaLVA.gbar: 0.00025", 
        "      soma_group.CaHVA.e_rev: 129.33", 
        "", 
        "Population \"Granules\"", 
        "    Structure   : Line", 
        "      y: 0.0", 
        "      x0: 0.0", 
        "      z: 0.0", 
        "      dx: 1.0", 
        "    Local cells : 1", 
        "    Cell type   : Granule", 
        "    ID range    : 0-0", 
        "    First cell on this node:", 
        "      ID: 0", 
        "      soma_group.L: 11.8000001907", 
        "      all_segs.GABA.e: -75.0", 
        "      all_segs.KA.gbar: 0.0032", 
        "      all_segs.KV.gbar: 0.003", 
        "      all_segs.Na.e_rev: 87.39", 
        "      all_segs.CaHVA.e_rev: 129.33", 
        "      all_segs.Na.gbar: 0.013", 
        "      all_segs.CaHVA.gbar: 0.00046", 
        "      all_segs.KM.e_rev: -84.69", 
        "      all_segs.GABA.tau2: 8.8", 
        "      all_segs.Lkg2.e_rev: -65.0", 
        "      all_segs.KV.e_rev: -84.69", 
        "      all_segs.Kir.e_rev: -84.69", 
        "      all_segs.Kir.gbar: 0.0009", 
        "      soma_group.diam: 11.8", 
        "      all_segs.KM.gbar: 0.00025", 
        "      all_segs.Lkg2.gbar: 3e-05", 
        "      all_segs.cm: 1.0", 
        "      all_segs.Lkg1.e_rev: -16.5", 
        "      all_segs.AMPA.e: 0.0", 
        "      all_segs.KA.e_rev: -84.69", 
        "      parent: <weakref at 0x25cf628; to 'Population' at 0x25c5e90>", 
        "      all_segs.Ra: 100.0", 
        "      all_segs.NMDA.tau1: 1.0", 
        "      all_segs.NMDA.tau2: 13.3", 
        "      all_segs.KCa.e_rev: -84.69", 
        "      all_segs.GABA.tau1: 0.31", 
        "      all_segs.NMDA.e: 0.0", 
        "      all_segs.KCa.gbar: 0.04", 
        "      all_segs.AMPA.tau2: 0.5", 
        "      all_segs.AMPA.tau1: 0.3", 
        "      all_segs.Lkg1.gbar: 5.68e-05", 
        "", 
        "Projections:", 
        "Starting run", 
        "Simulation time: 2000.000000", 
        "Stimulation start: 1000.000000", 
        "MossyFiber firing rate: 10.000000", 
        "Simulated Single Molecular Loop for 2000.000000 milliseconds"
       ]
      }
     ], 
     "prompt_number": 5
    }, 
    {
     "cell_type": "markdown", 
     "source": [
      "---", 
      "Run hoc version without any connections"
     ]
    }, 
    {
     "cell_type": "code", 
     "collapsed": true, 
     "input": [
      "bash('cd external/fabios_network; nrnivmodl', silent=True)", 
      "bash('cd external/fabios_network; nrniv single_molecular_loop_mosinit.hoc', save_output='output/single_molecular_loop_hoc.log')"
     ], 
     "language": "python", 
     "outputs": [
      {
       "output_type": "stream", 
       "stream": "stdout", 
       "text": [
        "NEURON -- Release 7.2 (562:42a47463b504) 2011-12-21", 
        "Duke, Yale, and the BlueBrain Project -- Copyright 1984-2008", 
        "See http://www.neuron.yale.edu/credits.html", 
        "", 
        "Additional mechanisms from files", 
        " GRC_CA.mod GRC_CALC.mod GRC_KA.mod GRC_KCA.mod GRC_KIR.mod GRC_KM.mod GRC_KV.mod GRC_LKG1.mod GRC_LKG2.mod GRC_NA.mod Golgi_BK.mod Golgi_CALC.mod Golgi_CALC_ca2.mod Golgi_Ca_HVA.mod Golgi_Ca_LVA.mod Golgi_KA.mod Golgi_KM.mod Golgi_KV.mod Golgi_Na.mod Golgi_NaP.mod Golgi_NaR.mod Golgi_SK2.mod Golgi_hcn1.mod Golgi_hcn2.mod Golgi_lkg.mod K_conc.mod Na_conc.mod gap.mod", 
        "nrniv: unable to open font \"*helvetica-medium-r-normal*--14*\", using \"fixed\"", 
        "\t1 ", 
        "\t0 ", 
        "\t1 ", 
        "\t1 ", 
        "\t1 ", 
        "\t1 ", 
        "Goc[0].soma { nseg=1  L=27  Ra=100", 
        "\t/*location 0 attached to cell 5*/", 
        "\t/* First segment only */", 
        "\tinsert morphology { diam=27}", 
        "\tinsert capacitance { cm=1}", 
        "\tinsert Golgi_lkg { glbar_Golgi_lkg=2.1e-05 el_Golgi_lkg=-55}", 
        "\tinsert Golgi_Na { Aalpha_m_Golgi_Na=0.3 Kalpha_m_Golgi_Na=-10 V0alpha_m_Golgi_Na=-25 Abeta_m_Golgi_Na=12 Kbeta_m_Golgi_Na=-18.182 V0beta_m_Golgi_Na=-50 Aalpha_h_Golgi_Na=0.21 Kalpha_h_Golgi_Na=-3.333 V0alpha_h_Golgi_Na=-50 Abeta_h_Golgi_Na=3 Kbeta_h_Golgi_Na=-5 V0beta_h_Golgi_Na=-17 gnabar_Golgi_Na=0.048}", 
        "\tinsert Golgi_NaR { Aalpha_s_Golgi_NaR=-0.00493 V0alpha_s_Golgi_NaR=-4.48754 Kalpha_s_Golgi_NaR=-6.81881 Shiftalpha_s_Golgi_NaR=8e-05 Abeta_s_Golgi_NaR=0.01558 V0beta_s_Golgi_NaR=43.9749 Kbeta_s_Golgi_NaR=0.10818 Shiftbeta_s_Golgi_NaR=0.04752 Aalpha_f_Golgi_NaR=0.31836 V0alpha_f_Golgi_NaR=-80 Kalpha_f_Golgi_NaR=-62.5262 Abeta_f_Golgi_NaR=0.01014 V0beta_f_Golgi_NaR=-83.3332 Kbeta_f_Golgi_NaR=16.0538 gnabar_Golgi_NaR=0.0017}", 
        "\tinsert Golgi_NaP { gbar_Golgi_NaP=0.00019}", 
        "\tinsert Golgi_Ca_HVA { gcabar_Golgi_Ca_HVA=0.00046}", 
        "\tinsert Golgi_Ca_LVA { gca2bar_Golgi_Ca_LVA=0.00025 shift_Golgi_Ca_LVA=2 v0_m_inf_Golgi_Ca_LVA=-50 v0_h_inf_Golgi_Ca_LVA=-78 k_m_inf_Golgi_Ca_LVA=-7.4 k_h_inf_Golgi_Ca_LVA=5 C_tau_m_Golgi_Ca_LVA=3 A_tau_m_Golgi_Ca_LVA=1 v0_tau_m1_Golgi_Ca_LVA=-25 v0_tau_m2_Golgi_Ca_LVA=-100 k_tau_m1_Golgi_Ca_LVA=10 k_tau_m2_Golgi_Ca_LVA=-15 C_tau_h_Golgi_Ca_LVA=85 A_tau_h_Golgi_Ca_LVA=1 v0_tau_h1_Golgi_Ca_LVA=-46 v0_tau_h2_Golgi_Ca_LVA=-405 k_tau_h1_Golgi_Ca_LVA=4 k_tau_h2_Golgi_Ca_LVA=-50}", 
        "\tinsert Golgi_KV { gkbar_Golgi_KV=0.032}", 
        "\tinsert Golgi_KM { gkbar_Golgi_KM=0.001}", 
        "\tinsert Golgi_KA { gkbar_Golgi_KA=0.008}", 
        "\tinsert Golgi_BK { Aalpha_c_Golgi_BK=7 Balpha_c_Golgi_BK=0.0015 Kalpha_c_Golgi_BK=-11.765 Abeta_c_Golgi_BK=1 Bbeta_c_Golgi_BK=0.00015 Kbeta_c_Golgi_BK=-11.765 gkbar_Golgi_BK=0.003}", 
        "\tinsert Golgi_SK2 { gkbar_Golgi_SK2=0.038}", 
        "\tinsert Golgi_hcn1 { gbar_Golgi_hcn1=5e-05 Erev_Golgi_hcn1=-20}", 
        "\tinsert Golgi_hcn2 { gbar_Golgi_hcn2=8e-05 ehcn2_Golgi_hcn2=-20}", 
        "\tinsert Golgi_CALC { d_Golgi_CALC=0.2 cai0_Golgi_CALC=5e-05 beta_Golgi_CALC=1.3}", 
        "\tinsert ca_ion {}", 
        "\tinsert Golgi_CALC_ca2 { d_Golgi_CALC_ca2=0.2 ca2i0_Golgi_CALC_ca2=5e-05 beta_Golgi_CALC_ca2=1.3}", 
        "\tinsert ca2_ion {}", 
        "\tinsert na_conc { d_na_conc=0.2 nao0_na_conc=145 nai0_na_conc=5 beta_na_conc=0.075}", 
        "\tinsert na_ion {}", 
        "\tinsert k_conc { d_k_conc=0.2 ko0_k_conc=5 ki0_k_conc=140 beta_k_conc=0.075}", 
        "\tinsert k_ion {}", 
        "\tinsert Exp2Syn { tau1=0.03 tau2=0.5 e=0}", 
        "\tinsert Exp2Syn { tau1=0.03 tau2=0.5 e=0}", 
        "\tinsert APCount { n=0 thresh=-20 time=0}", 
        "}", 
        "\t1 ", 
        "\t1 ", 
        "\t1 ", 
        "\t0 ", 
        "\t1 ", 
        "\t0 ", 
        "\t1 ", 
        "\t1 ", 
        "\t1 ", 
        "\t0 ", 
        "\t0 ", 
        "\tVector[10] ", 
        "\tVector[12] ", 
        "\tMatrix[0] ", 
        "\tMatrix[1] ", 
        "\tMatrix[2] ", 
        "\tMatrix[2] ", 
        "\tMatrix[1] ", 
        "\tMatrix[0] ", 
        "\t0 ", 
        "\t0 ", 
        "\t0 ", 
        "\t0 ", 
        "\t0 ", 
        "\t0 ", 
        "\t1 ", 
        "\t1 ", 
        "\t1 ", 
        "\t0 ", 
        ""
       ]
      }
     ], 
     "prompt_number": 18
    }, 
    {
     "cell_type": "code", 
     "collapsed": false, 
     "input": [
      "bash('cd external/fabios_network; nrnivmodl', silent=True)", 
      "bash('cd external/fabios_network; nrniv disconnected_network.hoc', save_output='output/disconnected_network_hoc.log')"
     ], 
     "language": "python", 
     "outputs": [
      {
       "output_type": "stream", 
       "stream": "stdout", 
       "text": [
        "NEURON -- Release 7.2 (562:42a47463b504) 2011-12-21", 
        "Duke, Yale, and the BlueBrain Project -- Copyright 1984-2008", 
        "See http://www.neuron.yale.edu/credits.html", 
        "", 
        "Additional mechanisms from files", 
        " GRC_CA.mod GRC_CALC.mod GRC_KA.mod GRC_KCA.mod GRC_KIR.mod GRC_KM.mod GRC_KV.mod GRC_LKG1.mod GRC_LKG2.mod GRC_NA.mod Golgi_BK.mod Golgi_CALC.mod Golgi_CALC_ca2.mod Golgi_Ca_HVA.mod Golgi_Ca_LVA.mod Golgi_KA.mod Golgi_KM.mod Golgi_KV.mod Golgi_Na.mod Golgi_NaP.mod Golgi_NaR.mod Golgi_SK2.mod Golgi_hcn1.mod Golgi_hcn2.mod Golgi_lkg.mod K_conc.mod Na_conc.mod gap.mod", 
        "\t1 ", 
        "\t1 ", 
        "\t1 ", 
        "\t1 ", 
        "\t1 ", 
        "\t1 ", 
        "\t1 ", 
        "\t1 ", 
        ""
       ]
      }
     ], 
     "prompt_number": 27
    }, 
    {
     "cell_type": "code", 
     "collapsed": false, 
     "input": [
      "activity_plot('output/SingleMolecularLoop.Golgis.v output/SingleMolecularLoop.Golgis.v_dat output/single_cell_without_axon.Golgis.v ' \\", 
      "              'output/fabios_golgi_hoc.dat output/DisconnectedNetwork.Golgis.v_dat --combine')"
     ], 
     "language": "python", 
     "outputs": [
      {
       "ename": "IOError", 
       "evalue": "[Errno 2] No such file or directory: 'output/DisconnectedNetwork.Golgis.v_dat'", 
       "output_type": "pyerr", 
       "traceback": [
        "\u001b[1;31m---------------------------------------------------------------------------\u001b[0m\n\u001b[1;31mIOError\u001b[0m                                   Traceback (most recent call last)", 
        "\u001b[1;32m/home/tclose/git/kbrain/<ipython-input-28-9721d89ab330>\u001b[0m in \u001b[0;36m<module>\u001b[1;34m()\u001b[0m\n\u001b[1;32m----> 1\u001b[1;33m activity_plot('output/SingleMolecularLoop.Golgis.v output/SingleMolecularLoop.Golgis.v_dat output/single_cell_without_axon.Golgis.v ' \\\n\u001b[0m\u001b[0;32m      2\u001b[0m               'output/fabios_golgi_hoc.dat output/DisconnectedNetwork.Golgis.v_dat --combine')\n", 
        "\u001b[1;32m/home/tclose/git/kbrain/src/visualize/activity_plot.pyc\u001b[0m in \u001b[0;36mactivity_plot\u001b[1;34m(arguments)\u001b[0m\n\u001b[0;32m    337\u001b[0m \u001b[1;32mdef\u001b[0m \u001b[0mactivity_plot\u001b[0m\u001b[1;33m(\u001b[0m\u001b[0marguments\u001b[0m\u001b[1;33m)\u001b[0m\u001b[1;33m:\u001b[0m\u001b[1;33m\u001b[0m\u001b[0m\n\u001b[0;32m    338\u001b[0m     \u001b[1;32mimport\u001b[0m \u001b[0mshlex\u001b[0m\u001b[1;33m\u001b[0m\u001b[0m\n\u001b[1;32m--> 339\u001b[1;33m     \u001b[0mmain\u001b[0m\u001b[1;33m(\u001b[0m\u001b[0mshlex\u001b[0m\u001b[1;33m.\u001b[0m\u001b[0msplit\u001b[0m\u001b[1;33m(\u001b[0m\u001b[0marguments\u001b[0m\u001b[1;33m)\u001b[0m\u001b[1;33m)\u001b[0m\u001b[1;33m\u001b[0m\u001b[0m\n\u001b[0m\u001b[0;32m    340\u001b[0m \u001b[1;33m\u001b[0m\u001b[0m\n\u001b[0;32m    341\u001b[0m \u001b[1;32mif\u001b[0m \u001b[0m__name__\u001b[0m \u001b[1;33m==\u001b[0m \u001b[1;34m'__main__'\u001b[0m\u001b[1;33m:\u001b[0m\u001b[1;33m\u001b[0m\u001b[0m\n", 
        "\u001b[1;32m/home/tclose/git/kbrain/src/visualize/activity_plot.pyc\u001b[0m in \u001b[0;36mmain\u001b[1;34m(arguments)\u001b[0m\n\u001b[0;32m    196\u001b[0m         \u001b[1;31m# Legacy hoc\u001b[0m\n\u001b[1;33m\u001b[0m\u001b[0m\n\u001b[0;32m    197\u001b[0m         \u001b[1;32melif\u001b[0m \u001b[0mvariable_name\u001b[0m \u001b[1;33m==\u001b[0m \u001b[1;34m'v_dat'\u001b[0m\u001b[1;33m:\u001b[0m\u001b[1;33m\u001b[0m\u001b[0m\n\u001b[1;32m--> 198\u001b[1;33m                 \u001b[0mt_data\u001b[0m \u001b[1;33m=\u001b[0m \u001b[0mnumpy\u001b[0m\u001b[1;33m.\u001b[0m\u001b[0mloadtxt\u001b[0m\u001b[1;33m(\u001b[0m\u001b[0mfilename\u001b[0m\u001b[1;33m)\u001b[0m\u001b[1;33m\u001b[0m\u001b[0m\n\u001b[0m\u001b[0;32m    199\u001b[0m                 \u001b[0mt\u001b[0m \u001b[1;33m=\u001b[0m \u001b[0mt_data\u001b[0m\u001b[1;33m[\u001b[0m\u001b[1;33m:\u001b[0m\u001b[1;33m,\u001b[0m \u001b[1;36m0\u001b[0m\u001b[1;33m]\u001b[0m\u001b[1;33m\u001b[0m\u001b[0m\n\u001b[0;32m    200\u001b[0m                 \u001b[0mdata\u001b[0m \u001b[1;33m=\u001b[0m \u001b[0mt_data\u001b[0m\u001b[1;33m[\u001b[0m\u001b[1;33m:\u001b[0m\u001b[1;33m,\u001b[0m \u001b[1;36m1\u001b[0m\u001b[1;33m]\u001b[0m\u001b[1;33m\u001b[0m\u001b[0m\n", 
        "\u001b[1;32m/usr/lib/python2.7/dist-packages/numpy/lib/npyio.pyc\u001b[0m in \u001b[0;36mloadtxt\u001b[1;34m(fname, dtype, comments, delimiter, converters, skiprows, usecols, unpack, ndmin)\u001b[0m\n\u001b[0;32m    688\u001b[0m                 \u001b[0mfh\u001b[0m \u001b[1;33m=\u001b[0m \u001b[0miter\u001b[0m\u001b[1;33m(\u001b[0m\u001b[0mbz2\u001b[0m\u001b[1;33m.\u001b[0m\u001b[0mBZ2File\u001b[0m\u001b[1;33m(\u001b[0m\u001b[0mfname\u001b[0m\u001b[1;33m)\u001b[0m\u001b[1;33m)\u001b[0m\u001b[1;33m\u001b[0m\u001b[0m\n\u001b[0;32m    689\u001b[0m             \u001b[1;32melse\u001b[0m\u001b[1;33m:\u001b[0m\u001b[1;33m\u001b[0m\u001b[0m\n\u001b[1;32m--> 690\u001b[1;33m                 \u001b[0mfh\u001b[0m \u001b[1;33m=\u001b[0m \u001b[0miter\u001b[0m\u001b[1;33m(\u001b[0m\u001b[0mopen\u001b[0m\u001b[1;33m(\u001b[0m\u001b[0mfname\u001b[0m\u001b[1;33m,\u001b[0m \u001b[1;34m'U'\u001b[0m\u001b[1;33m)\u001b[0m\u001b[1;33m)\u001b[0m\u001b[1;33m\u001b[0m\u001b[0m\n\u001b[0m\u001b[0;32m    691\u001b[0m         \u001b[1;32melse\u001b[0m\u001b[1;33m:\u001b[0m\u001b[1;33m\u001b[0m\u001b[0m\n\u001b[0;32m    692\u001b[0m             \u001b[0mfh\u001b[0m \u001b[1;33m=\u001b[0m \u001b[0miter\u001b[0m\u001b[1;33m(\u001b[0m\u001b[0mfname\u001b[0m\u001b[1;33m)\u001b[0m\u001b[1;33m\u001b[0m\u001b[0m\n", 
        "\u001b[1;31mIOError\u001b[0m: [Errno 2] No such file or directory: 'output/DisconnectedNetwork.Golgis.v_dat'"
       ]
      }
     ], 
     "prompt_number": 28
    }, 
    {
     "cell_type": "code", 
     "collapsed": false, 
     "input": [
      "os.listdir('output')"
     ], 
     "language": "python", 
     "outputs": [
      {
       "output_type": "pyout", 
       "prompt_number": 26, 
       "text": [
        "['fabios_golgi_hoc.dat',", 
        " 'SingleMolecularLoop.Granules.v',", 
        " 'single_cell_single_compartment.Golgis.v',", 
        " 'single_golgi_cell_without_axon.log',", 
        " 'sergios_golgi.log',", 
        " 'single_molecular_loop_no_connections_hoc.log',", 
        " 'SingleMolecularLoop.Granules.spikes',", 
        " 'single_cell_single_compartment.Golgis.spikes',", 
        " 'SingleMolecularLoop.Golgis.v_dat',", 
        " 'SingleMolecularLoop.Golgis.v',", 
        " 'mechanisms.test.dat',", 
        " 'SingleMolecularLoop.Granules.v_dat',", 
        " 'SingleMolecularLoop.MossyFibers.spikes_dat',", 
        " 'sergios_golgi_hoc.dat',", 
        " 'SingleMolecularLoop.MossyFibers.spikes',", 
        " 'mechanisms.log',", 
        " 'SingleMolecularLoop.Granules.spikes_dat',", 
        " 'ncml_generated_golgi.log',", 
        " 'ncml_generated_golgi_hoc.dat',", 
        " 'single_golgi_cell_with_axon.log',", 
        " 'single_cell_with_axon.Golgis.v',", 
        " 'single_golgi_cell_single_compartment.log',", 
        " 'SingleMolecularLoop.Golgis.spikes_dat',", 
        " 'single_cell_without_axon.Golgis.v',", 
        " 'ivans_generated_golgi_hoc.dat',", 
        " 'single_molecular_loop_hoc.log',", 
        " 'single_cell_without_axon.Golgis.spikes',", 
        " 'single_cell_with_axon.Golgis.spikes',", 
        " 'fabios_golgi.log',", 
        " 'SingleMolecularLoop.Golgis.spikes',", 
        " 'ivans_generated_golgi.log',", 
        " 'disconnected_network_hoc.log']"
       ]
      }
     ], 
     "prompt_number": 26
    }, 
    {
     "cell_type": "code", 
     "collapsed": true, 
     "input": [], 
     "language": "python", 
     "outputs": []
    }
   ]
  }
 ]
}