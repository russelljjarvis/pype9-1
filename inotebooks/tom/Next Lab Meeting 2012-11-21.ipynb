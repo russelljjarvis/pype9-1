{
 "metadata": {
  "name": "Next Lab Meeting 2012-11-21"
 }, 
 "nbformat": 2, 
 "worksheets": [
  {
   "cells": [
    {
     "cell_type": "markdown", 
     "source": [
      "---", 
      "Converting Golgi cell to single compartment model", 
      "", 
      "  - Keep the same input impedence by increasing the diameter of the single cell", 
      "", 
      "  - Check how it responds to synaptic input", 
      "  ", 
      "    - change the gmax?"
     ]
    }, 
    {
     "cell_type": "code", 
     "collapsed": true, 
     "input": [], 
     "language": "python", 
     "outputs": []
    }
   ]
  }
 ]
}