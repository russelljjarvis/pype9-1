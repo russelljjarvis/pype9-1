{
 "metadata": {
  "name": "Testing Golgi mechanisms"
 }, 
 "nbformat": 2, 
 "worksheets": [
  {
   "cells": [
    {
     "cell_type": "markdown", 
     "source": [
      "---", 
      "Initialise IPython Notebook", 
      "---"
     ]
    }, 
    {
     "cell_type": "code", 
     "collapsed": true, 
     "input": [
      "from utilities.inotebook import *"
     ], 
     "language": "python", 
     "outputs": [], 
     "prompt_number": 1
    }, 
    {
     "cell_type": "code", 
     "collapsed": false, 
     "input": [
      "inotebook_init()"
     ], 
     "language": "python", 
     "outputs": [
      {
       "output_type": "stream", 
       "stream": "stdout", 
       "text": [
        "Using git revision of k-Brain: 9f85ef90b4b242fd5243eb6f3e854042fc3a0cdf", 
        ""
       ]
      }
     ], 
     "prompt_number": 2
    }, 
    {
     "cell_type": "markdown", 
     "source": [
      "---", 
      "Testing original vs generated golgi mod files using Sergio's hoc script", 
      "---"
     ]
    }, 
    {
     "cell_type": "markdown", 
     "source": [
      "---", 
      "Preporatory tasks"
     ]
    }, 
    {
     "cell_type": "markdown", 
     "source": [
      "Clear any files that might be getting confused with previous builds"
     ]
    }, 
    {
     "cell_type": "code", 
     "collapsed": false, 
     "input": [
      "clear_output_dir() "
     ], 
     "language": "python", 
     "outputs": [
      {
       "output_type": "stream", 
       "stream": "stdout", 
       "text": [
        "No files provided, clearing all files in output directory", 
        "Removed single_cell.Golgis.ik from output directory", 
        "Removed single_cell.Golgis.ica from output directory", 
        "Removed sergios_golgi.log from output directory", 
        "Removed single_cell.Golgis.ina from output directory", 
        "Removed single_cell.Golgis.v from output directory", 
        "Removed mechanisms.test.dat from output directory", 
        "Removed sergios_golgi_hoc.dat from output directory", 
        "Removed mechanisms.log from output directory", 
        "Removed ncml_generated_golgi.log from output directory", 
        "Removed ncml_generated_golgi_hoc.dat from output directory", 
        "Removed single_cell.Golgis.spikes from output directory", 
        "Removed ivans_generated_golgi_hoc.dat from output directory", 
        "Removed single_cell.Golgis.cai from output directory", 
        "Removed single_cell.log from output directory", 
        "Removed ivans_generated_golgi.log from output directory", 
        "", 
        "-----------------------------------", 
        "Remaining files in output directory", 
        "-----------------------------------", 
        "", 
        "-----------------------------------"
       ]
      }
     ], 
     "prompt_number": 3
    }, 
    {
     "cell_type": "markdown", 
     "source": [
      "Checking that hoc scripts are doing the same thing"
     ]
    }, 
    {
     "cell_type": "code", 
     "collapsed": false, 
     "input": [
      "diff('external/nemo_testing/neuron/sergios_fabios_golgi/sergios_golgi.hoc', 'external/nemo_testing/neuron/ncml_build_dir/Golgi/ncml_generated_golgi.hoc')"
     ], 
     "language": "python", 
     "outputs": [
      {
       "output_type": "stream", 
       "stream": "stdout", 
       "text": [
        "*** ", 
        "--- ", 
        "***************", 
        "*** 1,5 ****", 
        "  // This is the absolute path on my machine (feel free to add your own as it doesn't hurt)", 
        "! nrn_load_dll(\"/home/tclose/kbrain/external/nemo_testing/neuron/sergios_fabios_golgi/x86_64/.libs/libnrnmech.so\")", 
        "  ", 
        "  objref SpikeTrain, netcon, nil", 
        "  objref exc[78], inh[27], synapses", 
        "--- 1,5 ----", 
        "  // This is the absolute path on my machine (feel free to add your own as it doesn't hurt)", 
        "! nrn_load_dll(\"/home/tclose/kbrain/external/nemo_testing/neuron/ncml_build_dir/Golgi/install/x86_64/.libs/libnrnmech.so\")", 
        "  ", 
        "  objref SpikeTrain, netcon, nil", 
        "  objref exc[78], inh[27], synapses", 
        "***************", 
        "*** 14,38 ****", 
        "      L = 27", 
        "      Ra = 100 // From Roth&Hausser2000", 
        "      celsius = 23", 
        "!     ", 
        "!     insert Golgi_BK", 
        "!     insert Golgi_Ca_HVA", 
        "!     insert Golgi_Ca_LVA", 
        "!     insert Golgi_CALC", 
        "!     insert Golgi_CALC_ca2", 
        "!     insert Golgi_hcn1", 
        "!     insert Golgi_hcn2", 
        "      insert Golgi_KA", 
        "      insert Golgi_KM", 
        "      insert Golgi_KV", 
        "!     insert Golgi_lkg", 
        "      insert Golgi_Na", 
        "      insert Golgi_NaR", 
        "-     insert Golgi_NaP", 
        "      insert Golgi_SK2", 
        "      ", 
        "!     usetable_Golgi_LVA = 0", 
        "!     usetable_Golgi_HVA = 0", 
        "      usetable_Golgi_KA = 0", 
        "      usetable_Golgi_KV = 0", 
        "      usetable_Golgi_NaR = 0", 
        "--- 14,38 ----", 
        "      L = 27", 
        "      Ra = 100 // From Roth&Hausser2000", 
        "      celsius = 23", 
        "! ", 
        "!     insert Golgi_ca", 
        "!     insert Golgi_ca2", 
        "!     insert Golgi_CaHVA", 
        "!     insert Golgi_CaLVA", 
        "!     insert Golgi_HCN1", 
        "!     insert Golgi_HCN2", 
        "      insert Golgi_KA", 
        "+     insert Golgi_KCa", 
        "      insert Golgi_KM", 
        "      insert Golgi_KV", 
        "!     insert Golgi_Lkg", 
        "      insert Golgi_Na", 
        "+     insert Golgi_NaP", 
        "      insert Golgi_NaR", 
        "      insert Golgi_SK2", 
        "      ", 
        "!     usetable_GolgiLVA = 0", 
        "!     usetable_GolgiHVA = 0", 
        "      usetable_Golgi_KA = 0", 
        "      usetable_Golgi_KV = 0", 
        "      usetable_Golgi_NaR = 0", 
        "***************", 
        "*** 45,52 ****", 
        "      cai = cai0_ca_ion", 
        "      ca2i = cai", 
        "      ca2o = cao", 
        "!     cai0_Golgi_CALC = cai0_ca_ion", 
        "!     ca2i0_Golgi_CALC_ca2 = cai0_ca_ion", 
        "      ", 
        "      ena=87.39", 
        "      ek=-84.69", 
        "--- 45,52 ----", 
        "      cai = cai0_ca_ion", 
        "      ca2i = cai", 
        "      ca2o = cao", 
        "!     cai0_Golgi_ca = cai0_ca_ion", 
        "!     ca2i0_Golgi_ca2 = cai0_ca_ion", 
        "      ", 
        "      ena=87.39", 
        "      ek=-84.69", 
        "***************", 
        "*** 70,76 ****", 
        "          Ra = 100", 
        "          celsius = 23", 
        "          ", 
        "!         insert Golgi_lkg", 
        "          for k=0, 25 {", 
        "              exc[(i*26)+k] = new Synapse(0.5)", 
        "          }", 
        "--- 70,76 ----", 
        "          Ra = 100", 
        "          celsius = 23", 
        "          ", 
        "!         insert Golgi_Lkg", 
        "          for k=0, 25 {", 
        "              exc[(i*26)+k] = new Synapse(0.5)", 
        "          }", 
        "***************", 
        "*** 90,96 ****", 
        "    L = 1200", 
        "    Ra = 100", 
        "    celsius = 23", 
        "!   insert Golgi_lkg", 
        "  }", 
        "  connect axon(0), soma(0)", 
        "      ", 
        "--- 90,96 ----", 
        "    L = 1200", 
        "    Ra = 100", 
        "    celsius = 23", 
        "!   insert Golgi_Lkg", 
        "  }", 
        "  connect axon(0), soma(0)", 
        "      ", 
        "***************", 
        "*** 142,149 ****", 
        "  ", 
        "  objref output_file", 
        "  output_file = new File()", 
        "! printf(\"Writing output to 'output/sergios_golgi_hoc.dat'\")", 
        "! output_file.wopen(\"output/sergios_golgi_hoc.dat\")", 
        "  for (i=0; i < rec_v.size(); i=i+1) {", 
        "    output_file.printf(\"%g %g\\n\", rec_t.x[i], rec_v.x[i])", 
        "  }", 
        "--- 142,149 ----", 
        "  ", 
        "  objref output_file", 
        "  output_file = new File()", 
        "! printf(\"Writing output to 'output/ncml_generated_golgi_hoc.dat'\")", 
        "! output_file.wopen(\"output/ncml_generated_golgi_hoc.dat\")", 
        "  for (i=0; i < rec_v.size(); i=i+1) {", 
        "    output_file.printf(\"%g %g\\n\", rec_t.x[i], rec_v.x[i])", 
        "  }"
       ]
      }
     ], 
     "prompt_number": 4
    }, 
    {
     "cell_type": "markdown", 
     "source": [
      "---", 
      "Diff between ivans_generated_golgi_hoc and ncml_generated_golgi_hoc"
     ]
    }, 
    {
     "cell_type": "code", 
     "collapsed": false, 
     "input": [
      "diff('external/nemo_testing/neuron/ivans_generated/ivans_generated_golgi.hoc', 'external/nemo_testing/neuron/ncml_build_dir/Golgi/ncml_generated_golgi.hoc')"
     ], 
     "language": "python", 
     "outputs": [
      {
       "output_type": "stream", 
       "stream": "stdout", 
       "text": [
        "*** ", 
        "--- ", 
        "***************", 
        "*** 1,5 ****", 
        "  // This is the absolute path on my machine (feel free to add your own as it doesn't hurt)", 
        "! nrn_load_dll(\"/home/tclose/kbrain/external/nemo_testing/neuron/ivans_generated/x86_64/.libs/libnrnmech.so\")", 
        "  ", 
        "  objref SpikeTrain, netcon, nil", 
        "  objref exc[78], inh[27], synapses", 
        "--- 1,5 ----", 
        "  // This is the absolute path on my machine (feel free to add your own as it doesn't hurt)", 
        "! nrn_load_dll(\"/home/tclose/kbrain/external/nemo_testing/neuron/ncml_build_dir/Golgi/install/x86_64/.libs/libnrnmech.so\")", 
        "  ", 
        "  objref SpikeTrain, netcon, nil", 
        "  objref exc[78], inh[27], synapses", 
        "***************", 
        "*** 15,22 ****", 
        "      Ra = 100 // From Roth&Hausser2000", 
        "      celsius = 23", 
        "  ", 
        "!     insert Golgi_Ca", 
        "!     insert Golgi_Ca2", 
        "      insert Golgi_CaHVA", 
        "      insert Golgi_CaLVA", 
        "      insert Golgi_HCN1", 
        "--- 15,22 ----", 
        "      Ra = 100 // From Roth&Hausser2000", 
        "      celsius = 23", 
        "  ", 
        "!     insert Golgi_ca", 
        "!     insert Golgi_ca2", 
        "      insert Golgi_CaHVA", 
        "      insert Golgi_CaLVA", 
        "      insert Golgi_HCN1", 
        "***************", 
        "*** 45,52 ****", 
        "      cai = cai0_ca_ion", 
        "      ca2i = cai", 
        "      ca2o = cao", 
        "!     cai0_Golgi_Ca = cai0_ca_ion", 
        "!     ca2i0_Golgi_Ca2 = cai0_ca_ion", 
        "      ", 
        "      ena=87.39", 
        "      ek=-84.69", 
        "--- 45,52 ----", 
        "      cai = cai0_ca_ion", 
        "      ca2i = cai", 
        "      ca2o = cao", 
        "!     cai0_Golgi_ca = cai0_ca_ion", 
        "!     ca2i0_Golgi_ca2 = cai0_ca_ion", 
        "      ", 
        "      ena=87.39", 
        "      ek=-84.69", 
        "***************", 
        "*** 142,149 ****", 
        "  ", 
        "  objref output_file", 
        "  output_file = new File()", 
        "! printf(\"Writing output to 'output/ivans_generated_golgi_hoc.dat'\")", 
        "! output_file.wopen(\"output/ivans_generated_golgi_hoc.dat\")", 
        "  for (i=0; i < rec_v.size(); i=i+1) {", 
        "    output_file.printf(\"%g %g\\n\", rec_t.x[i], rec_v.x[i])", 
        "  }", 
        "--- 142,149 ----", 
        "  ", 
        "  objref output_file", 
        "  output_file = new File()", 
        "! printf(\"Writing output to 'output/ncml_generated_golgi_hoc.dat'\")", 
        "! output_file.wopen(\"output/ncml_generated_golgi_hoc.dat\")", 
        "  for (i=0; i < rec_v.size(); i=i+1) {", 
        "    output_file.printf(\"%g %g\\n\", rec_t.x[i], rec_v.x[i])", 
        "  }"
       ]
      }
     ], 
     "prompt_number": 5
    }, 
    {
     "cell_type": "markdown", 
     "source": [
      "---", 
      "Sergio's hoc script and mod files"
     ]
    }, 
    {
     "cell_type": "code", 
     "collapsed": false, 
     "input": [
      "bash('cd external/nemo_testing/neuron/sergios_fabios_golgi; nrnivmodl', silent=True)", 
      "bash('nrngui external/nemo_testing/neuron/sergios_fabios_golgi/sergios_golgi.hoc', save_output='output/sergios_golgi.log', silent=True)"
     ], 
     "language": "python", 
     "outputs": [], 
     "prompt_number": 6
    }, 
    {
     "cell_type": "markdown", 
     "source": [
      "---", 
      "Ivans generated script"
     ]
    }, 
    {
     "cell_type": "code", 
     "collapsed": false, 
     "input": [
      "bash('cd external/nemo_testing/neuron/ivans_generated; nrnivmodl', silent=True)", 
      "bash('nrngui external/nemo_testing/neuron/ivans_generated/ivans_generated_golgi.hoc', save_output='output/ivans_generated_golgi.log', silent=True)"
     ], 
     "language": "python", 
     "outputs": [], 
     "prompt_number": 7
    }, 
    {
     "cell_type": "markdown", 
     "source": [
      "---", 
      "Fabio's hoc script and mod files"
     ]
    }, 
    {
     "cell_type": "code", 
     "collapsed": false, 
     "input": [
      "#bash('cd external/fabios_network; nrnivmodl', silent=True)", 
      "#bash('nrngui external/fabios_network/fabios_golgi.hoc')"
     ], 
     "language": "python", 
     "outputs": [], 
     "prompt_number": 8
    }, 
    {
     "cell_type": "markdown", 
     "source": [
      "---", 
      "Generated mod files with hoc script that was modified from Sergio's"
     ]
    }, 
    {
     "cell_type": "code", 
     "collapsed": false, 
     "input": [
      "bash('cd external/nemo_testing/neuron/ncml_build_dir/Golgi/install; nrnivmodl', silent=True)", 
      "bash('nrngui external/nemo_testing/neuron/ncml_build_dir/Golgi/ncml_generated_golgi.hoc', save_output='output/ncml_generated_golgi.log', silent=True)"
     ], 
     "language": "python", 
     "outputs": [], 
     "prompt_number": 9
    }, 
    {
     "cell_type": "markdown", 
     "source": [
      "---", 
      "Sergio's mod files with Sergio's hoc script but with only a single somatic compartment"
     ]
    }, 
    {
     "cell_type": "code", 
     "collapsed": false, 
     "input": [
      "#bash('cd external/original_mod/golgi; nrnivmodl', silent=True)", 
      "#bash('nrngui external/original_mod/golgi/single_compart_sergios_golgi.hoc', save_output='output/single_compart_sergios_golgi.log')"
     ], 
     "language": "python", 
     "outputs": [], 
     "prompt_number": 10
    }, 
    {
     "cell_type": "markdown", 
     "source": [
      "---", 
      "Generated mod files with hoc script that was modified from Sergio's with only a single somatic compartment"
     ]
    }, 
    {
     "cell_type": "code", 
     "collapsed": false, 
     "input": [
      "#bash('cd xml/cerebellum/ncml/build/nmodl; nrnivmodl', silent=True)", 
      "#bash('nrngui xml/cerebellum/ncml/build/nmodl/single_compart_generated_golgi.hoc', save_output='output/single_compart_generated_golgi.log')"
     ], 
     "language": "python", 
     "outputs": [], 
     "prompt_number": 11
    }, 
    {
     "cell_type": "markdown", 
     "source": [
      "---", 
      "Attempting to replicate results test/mechanisms.py (single compartment)"
     ]
    }, 
    {
     "cell_type": "code", 
     "collapsed": false, 
     "input": [
      "bash('mechanisms.py external/nemo_testing/neuron/ncml_build_dir/Golgi/install/Golgi*.mod --init_var ek \"-84.69\" --init_var ena 87.39 --init_var eca 132.457934 --init_mech_var ca_ion cai0 50e-6 \\", 
      "--init_mech_var ca2_ion ca2i0 50e-6 --init_var cai 50e-6 --init_var ca2i 50e-6 --init_var ca2o 50e-6 --init_mech_var Golgi_Ca cai0 50e-6 --init_mech_var Golgi_Ca2 ca2i0 50e-6 \\", 
      "--length 27 --diam 27 --silent_build --celsius 23 --no_input --no_tables --save_prefix output/mechanisms --timestep 0.025 --no_plot', save_output='output/mechanisms.log', silent=True)"
     ], 
     "language": "python", 
     "outputs": [], 
     "prompt_number": 12
    }, 
    {
     "cell_type": "markdown", 
     "source": [
      "---", 
      "Using pyNN this time (should be the same as the multi-compartment case)"
     ]
    }, 
    {
     "cell_type": "code", 
     "collapsed": false, 
     "input": [
      "bash('single_cell.py xml/cerebellum/single_golgi.xml --silent_build --print_all', save_output='output/single_cell.log', silent=True)"
     ], 
     "language": "python", 
     "outputs": [], 
     "prompt_number": 13
    }, 
    {
     "cell_type": "markdown", 
     "source": [
      "---", 
      "Compare psections between ncml_generated and ivans_generated output"
     ]
    }, 
    {
     "cell_type": "code", 
     "collapsed": false, 
     "input": [
      "compare_psections('output/ncml_generated_golgi.log', 'output/ivans_generated_golgi.log')"
     ], 
     "language": "python", 
     "outputs": [
      {
       "output_type": "stream", 
       "stream": "stdout", 
       "text": [
        "", 
        "0.0017       ", 
        "---------", 
        "    Ref:", 
        "        _gbar_Golgi_NaR", 
        "    New:", 
        "        _gbar_Golgi_NaR", 
        "", 
        "", 
        "10       ", 
        "---------", 
        "    Ref:", 
        "        _vcinc_Golgi_CaHVA, _vcinc_Golgi_CaLVA, _vcinc_Golgi_KA, _vcinc_Golgi_KCa, _vcinc_Golgi_KM, _vcinc_Golgi_KV, _vcinc_Golgi_Na, _vcinc_Golgi_NaP, _vcinc_Golgi_NaR", 
        "    New:", 
        "        _vcinc_Golgi_CaHVA, _vcinc_Golgi_CaLVA, _vcinc_Golgi_KA, _vcinc_Golgi_KCa, _vcinc_Golgi_KM, _vcinc_Golgi_KV, _vcinc_Golgi_Na, _vcinc_Golgi_NaP, _vcinc_Golgi_NaR", 
        "", 
        "", 
        "87.39       ", 
        "---------", 
        "    Ref:", 
        "        _e_Golgi_Na, _e_Golgi_NaP, _e_Golgi_NaR, ena", 
        "    New:", 
        "        _e_Golgi_Na, _e_Golgi_NaP, _e_Golgi_NaR, ena", 
        "", 
        "", 
        "27       ", 
        "---------", 
        "    Ref:", 
        "        L, diam", 
        "    New:", 
        "        L, diam", 
        "", 
        "", 
        "0.00025       ", 
        "---------", 
        "    Ref:", 
        "        _gbar_Golgi_CaLVA", 
        "    New:", 
        "        _gbar_Golgi_CaLVA", 
        "", 
        "", 
        "200       ", 
        "---------", 
        "    Ref:", 
        "        _vchdur_Golgi_CaLVA", 
        "    New:", 
        "        _vchdur_Golgi_CaLVA", 
        "", 
        "", 
        "0.048       ", 
        "---------", 
        "    Ref:", 
        "        _gbar_Golgi_Na", 
        "    New:", 
        "        _gbar_Golgi_Na", 
        "", 
        "", 
        "30       ", 
        "---------", 
        "    Ref:", 
        "        _vchdur_Golgi_CaHVA, _vcbdur_Golgi_CaLVA, _vchdur_Golgi_KA, _vchdur_Golgi_KCa, _vchdur_Golgi_KM, _vchdur_Golgi_KV, _vchdur_Golgi_Na, _vchdur_Golgi_NaP, _vchdur_Golgi_NaR", 
        "    New:", 
        "        _vchdur_Golgi_CaHVA, _vcbdur_Golgi_CaLVA, _vchdur_Golgi_KA, _vchdur_Golgi_KCa, _vchdur_Golgi_KM, _vchdur_Golgi_KV, _vchdur_Golgi_Na, _vchdur_Golgi_NaP, _vchdur_Golgi_NaR", 
        "", 
        "", 
        "129.33       ", 
        "---------", 
        "    Ref:", 
        "        _e_Golgi_CaHVA", 
        "    New:", 
        "        _e_Golgi_CaHVA", 
        "", 
        "", 
        "2.1e-05       ", 
        "---------", 
        "    Ref:", 
        "        _gbar_Golgi_Lkg", 
        "    New:", 
        "        _gbar_Golgi_Lkg", 
        "", 
        "", 
        "1       ", 
        "---------", 
        "    Ref:", 
        "        nseg, cm", 
        "    New:", 
        "        nseg, cm", 
        "", 
        "", 
        "2       ", 
        "---------", 
        "    Ref:", 
        "        ", 
        "    New:", 
        "        _valence_Golgi_CaLVA", 
        "", 
        "", 
        "0.00019       ", 
        "---------", 
        "    Ref:", 
        "        _gbar_Golgi_NaP", 
        "    New:", 
        "        _gbar_Golgi_NaP", 
        "", 
        "", 
        "0.008       ", 
        "---------", 
        "    Ref:", 
        "        _gbar_Golgi_KA", 
        "    New:", 
        "        _gbar_Golgi_KA", 
        "", 
        "", 
        "9       ", 
        "---------", 
        "    Ref:", 
        "        _vcsteps_Golgi_Na, _vcsteps_Golgi_NaP, _vcsteps_Golgi_NaR", 
        "    New:", 
        "        _vcsteps_Golgi_Na, _vcsteps_Golgi_NaP, _vcsteps_Golgi_NaR", 
        "", 
        "", 
        "8       ", 
        "---------", 
        "    Ref:", 
        "        _vcsteps_Golgi_CaHVA, _vcsteps_Golgi_CaLVA, _vcsteps_Golgi_KA, _vcsteps_Golgi_KCa, _vcsteps_Golgi_KM, _vcsteps_Golgi_KV", 
        "    New:", 
        "        _vcsteps_Golgi_CaHVA, _vcsteps_Golgi_CaLVA, _vcsteps_Golgi_KA, _vcsteps_Golgi_KCa, _vcsteps_Golgi_KM, _vcsteps_Golgi_KV", 
        "", 
        "", 
        "100       ", 
        "---------", 
        "    Ref:", 
        "        Ra, _vcbdur_Golgi_CaHVA, _vcbdur_Golgi_KA, _vcbdur_Golgi_KCa, _vcbdur_Golgi_KM, _vcbdur_Golgi_KV, _vcbdur_Golgi_Na, _vcbdur_Golgi_NaP, _vcbdur_Golgi_NaR", 
        "    New:", 
        "        Ra, _vcbdur_Golgi_CaHVA, _vcbdur_Golgi_KA, _vcbdur_Golgi_KCa, _vcbdur_Golgi_KM, _vcbdur_Golgi_KV, _vcbdur_Golgi_Na, _vcbdur_Golgi_NaP, _vcbdur_Golgi_NaR", 
        "", 
        "", 
        "0.003       ", 
        "---------", 
        "    Ref:", 
        "        _gbar_Golgi_KCa", 
        "    New:", 
        "        _gbar_Golgi_KCa", 
        "", 
        "", 
        "0.032       ", 
        "---------", 
        "    Ref:", 
        "        _gbar_Golgi_KV", 
        "    New:", 
        "        _gbar_Golgi_KV", 
        "", 
        "", 
        "0.001       ", 
        "---------", 
        "    Ref:", 
        "        _gbar_Golgi_KM", 
        "    New:", 
        "        _gbar_Golgi_KM", 
        "", 
        "", 
        "0.00046       ", 
        "---------", 
        "    Ref:", 
        "        _gbar_Golgi_CaHVA", 
        "    New:", 
        "        _gbar_Golgi_CaHVA", 
        ""
       ]
      }
     ], 
     "prompt_number": 16
    }, 
    {
     "cell_type": "markdown", 
     "source": [
      "---", 
      "Plotting comparison between different scripts or mod files"
     ]
    }, 
    {
     "cell_type": "code", 
     "collapsed": false, 
     "input": [
      "activity_plot('output/ivans_generated_golgi_hoc.dat output/ncml_generated_golgi_hoc.dat --combine')"
     ], 
     "language": "python", 
     "outputs": [], 
     "prompt_number": 14
    }, 
    {
     "cell_type": "markdown", 
     "source": [
      "In this case the peak voltage is the same but the firing rate of the generated files is considerably slower, not sure what the problem is"
     ]
    }, 
    {
     "cell_type": "code", 
     "collapsed": false, 
     "input": [
      "os.listdir('output')"
     ], 
     "language": "python", 
     "outputs": [
      {
       "output_type": "pyout", 
       "prompt_number": 15, 
       "text": [
        "['single_cell.Golgis.ik',", 
        " 'single_cell.Golgis.ica',", 
        " 'sergios_golgi.log',", 
        " 'single_cell.Golgis.ina',", 
        " 'single_cell.Golgis.v',", 
        " 'mechanisms.test.dat',", 
        " 'sergios_golgi_hoc.dat',", 
        " 'mechanisms.log',", 
        " 'ncml_generated_golgi.log',", 
        " 'ncml_generated_golgi_hoc.dat',", 
        " 'single_cell.Golgis.spikes',", 
        " 'ivans_generated_golgi_hoc.dat',", 
        " 'single_cell.Golgis.cai',", 
        " 'single_cell.log',", 
        " 'ivans_generated_golgi.log']"
       ]
      }
     ], 
     "prompt_number": 15
    }
   ]
  }
 ]
}