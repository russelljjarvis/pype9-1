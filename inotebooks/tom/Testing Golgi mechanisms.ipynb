{
 "metadata": {
  "name": "Testing Golgi mechanisms"
 }, 
 "nbformat": 2, 
 "worksheets": [
  {
   "cells": [
    {
     "cell_type": "markdown", 
     "source": [
      "---", 
      "Initialise IPython Notebook", 
      "---"
     ]
    }, 
    {
     "cell_type": "code", 
     "collapsed": true, 
     "input": [
      "from utilities.inotebook import *", 
      "inotebook_init()"
     ], 
     "language": "python", 
     "outputs": [], 
     "prompt_number": 1
    }, 
    {
     "cell_type": "markdown", 
     "source": [
      "---", 
      "Testing original vs generated golgi mod files using Sergio's hoc script", 
      "---"
     ]
    }, 
    {
     "cell_type": "markdown", 
     "source": [
      "---", 
      "Preporatory tasks"
     ]
    }, 
    {
     "cell_type": "markdown", 
     "source": [
      "Clear any files that might be getting confused with previous builds"
     ]
    }, 
    {
     "cell_type": "code", 
     "collapsed": true, 
     "input": [
      "#clear_output_dir() "
     ], 
     "language": "python", 
     "outputs": [], 
     "prompt_number": 24
    }, 
    {
     "cell_type": "markdown", 
     "source": [
      "Checking that hoc scripts are doing the same thing"
     ]
    }, 
    {
     "cell_type": "code", 
     "collapsed": true, 
     "input": [
      "diff('external/nemo_testing/neuron/sergios_fabios_golgi/sergios_golgi.hoc', 'external/nemo_testing/neuron/ncml_build_dir/Golgi/ncml_generated_golgi.hoc')"
     ], 
     "language": "python", 
     "outputs": [], 
     "prompt_number": 25
    }, 
    {
     "cell_type": "markdown", 
     "source": [
      "---", 
      "Diff between ivans_generated_golgi_hoc and ncml_generated_golgi_hoc"
     ]
    }, 
    {
     "cell_type": "code", 
     "collapsed": true, 
     "input": [
      "diff('external/nemo_testing/neuron/ivans_generated/ivans_generated_golgi.hoc', 'external/nemo_testing/neuron/ncml_build_dir/Golgi/ncml_generated_golgi.hoc')"
     ], 
     "language": "python", 
     "outputs": [], 
     "prompt_number": 26
    }, 
    {
     "cell_type": "markdown", 
     "source": [
      "---", 
      "Sergio's hoc script and mod files"
     ]
    }, 
    {
     "cell_type": "code", 
     "collapsed": true, 
     "input": [
      "bash('cd external/nemo_testing/neuron/sergios_fabios_golgi; nrnivmodl', silent=True)", 
      "bash('nrngui external/nemo_testing/neuron/sergios_fabios_golgi/sergios_golgi.hoc', save_output='output/sergios_golgi.log', silent=True)"
     ], 
     "language": "python", 
     "outputs": [], 
     "prompt_number": 27
    }, 
    {
     "cell_type": "markdown", 
     "source": [
      "---", 
      "Fabio's version (without the axon)"
     ]
    }, 
    {
     "cell_type": "code", 
     "collapsed": true, 
     "input": [
      "bash('cd external/nemo_testing/neuron/sergios_fabios_golgi; nrnivmodl', silent=True)", 
      "bash('nrngui external/nemo_testing/neuron/sergios_fabios_golgi/fabios_golgi.hoc', save_output='output/fabios_golgi.log', silent=True)"
     ], 
     "language": "python", 
     "outputs": [], 
     "prompt_number": 8
    }, 
    {
     "cell_type": "markdown", 
     "source": [
      "---", 
      "Ivans generated script"
     ]
    }, 
    {
     "cell_type": "code", 
     "collapsed": true, 
     "input": [
      "bash('cd external/nemo_testing/neuron/ivans_generated; nrnivmodl', silent=True)", 
      "bash('nrngui external/nemo_testing/neuron/ivans_generated/ivans_generated_golgi.hoc', save_output='output/ivans_generated_golgi.log')"
     ], 
     "language": "python", 
     "outputs": [], 
     "prompt_number": 28
    }, 
    {
     "cell_type": "markdown", 
     "source": [
      "---", 
      "Fabio's hoc script and mod files"
     ]
    }, 
    {
     "cell_type": "code", 
     "collapsed": true, 
     "input": [
      "#bash('cd external/fabios_network; nrnivmodl', silent=True)", 
      "#bash('nrngui external/fabios_network/fabios_golgi.hoc')"
     ], 
     "language": "python", 
     "outputs": [], 
     "prompt_number": 29
    }, 
    {
     "cell_type": "markdown", 
     "source": [
      "---", 
      "Generated mod files with hoc script that was modified from Sergio's"
     ]
    }, 
    {
     "cell_type": "code", 
     "collapsed": true, 
     "input": [
      "bash('cd external/nemo_testing/neuron/ncml_build_dir/Golgi/install; nrnivmodl', silent=True)", 
      "bash('nrngui external/nemo_testing/neuron/ncml_build_dir/Golgi/ncml_generated_golgi.hoc', save_output='output/ncml_generated_golgi.log')"
     ], 
     "language": "python", 
     "outputs": [], 
     "prompt_number": 30
    }, 
    {
     "cell_type": "markdown", 
     "source": [
      "---", 
      "Sergio's mod files with Sergio's hoc script but with only a single somatic compartment"
     ]
    }, 
    {
     "cell_type": "code", 
     "collapsed": true, 
     "input": [
      "#bash('cd external/original_mod/golgi; nrnivmodl', silent=True)", 
      "#bash('nrngui external/original_mod/golgi/single_compart_sergios_golgi.hoc', save_output='output/single_compart_sergios_golgi.log')"
     ], 
     "language": "python", 
     "outputs": [], 
     "prompt_number": 31
    }, 
    {
     "cell_type": "markdown", 
     "source": [
      "---", 
      "Generated mod files with hoc script that was modified from Sergio's with only a single somatic compartment"
     ]
    }, 
    {
     "cell_type": "code", 
     "collapsed": true, 
     "input": [
      "#bash('cd xml/cerebellum/ncml/build/nmodl; nrnivmodl', silent=True)", 
      "#bash('nrngui xml/cerebellum/ncml/build/nmodl/single_compart_generated_golgi.hoc', save_output='output/single_compart_generated_golgi.log')"
     ], 
     "language": "python", 
     "outputs": [], 
     "prompt_number": 32
    }, 
    {
     "cell_type": "markdown", 
     "source": [
      "---", 
      "Attempting to replicate results test/mechanisms.py (single compartment)"
     ]
    }, 
    {
     "cell_type": "code", 
     "collapsed": true, 
     "input": [
      "bash('mechanisms.py external/nemo_testing/neuron/ncml_build_dir/Golgi/install/Golgi*.mod --init_var ek \"-84.69\" --init_var ena 87.39 --init_var eca 132.457934 --init_mech_var ca_ion cai0 50e-6 \\", 
      "--init_mech_var ca2_ion ca2i0 50e-6 --init_var cai 50e-6 --init_var ca2i 50e-6 --init_var ca2o 50e-6 --init_mech_var Golgi_Ca cai0 50e-6 --init_mech_var Golgi_Ca2 ca2i0 50e-6 \\", 
      "--length 27 --diam 27 --silent_build --celsius 23 --no_input --no_tables --save_prefix output/mechanisms --timestep 0.025 --no_plot', save_output='output/mechanisms.log', silent=True)"
     ], 
     "language": "python", 
     "outputs": [], 
     "prompt_number": 33
    }, 
    {
     "cell_type": "markdown", 
     "source": [
      "---", 
      "Using pyNN this time (should be the same as the multi-compartment case)"
     ]
    }, 
    {
     "cell_type": "code", 
     "collapsed": false, 
     "input": [
      "bash('single_cell.py xml/cerebellum/single_golgi_with_axon.xml --output output/single_cell_with_axon.', save_output='output/single_golgi_cell_with_axon.log')"
     ], 
     "language": "python", 
     "outputs": [
      {
       "output_type": "stream", 
       "stream": "stdout", 
       "text": [
        "NEURON -- Release 7.2 (562:42a47463b504) 2011-12-21", 
        "Duke, Yale, and the BlueBrain Project -- Copyright 1984-2008", 
        "See http://www.neuron.yale.edu/credits.html", 
        "", 
        "Additional mechanisms from files", 
        " Gap.mod adexp.mod alphaisyn.mod alphasyn.mod expisyn.mod gsfa_grr.mod hh_traub.mod netstim2.mod refrac.mod reset.mod stdwa_guetig.mod stdwa_softlimits.mod stdwa_songabbott.mod stdwa_symm.mod tmgsyn.mod tmisyn.mod vecstim.mod", 
        "Additional mechanisms from files", 
        " Golgi_CaHVA.mod Golgi_CaLVA.mod Golgi_HCN1.mod Golgi_HCN2.mod Golgi_KA.mod Golgi_KCa.mod Golgi_KM.mod Golgi_KV.mod Golgi_Lkg.mod Golgi_Na.mod Golgi_NaP.mod Golgi_NaR.mod Golgi_SK2.mod Golgi_ca.mod Golgi_ca2.mod", 
        "MPI_Initialized==false, disabling MPI functionality.", 
        "Building network", 
        "PySec_3654710 { nseg=1  L=27  Ra=100", 
        "\t/*location 0 attached to cell 3*/", 
        "\t/* First segment only */", 
        "\tinsert morphology { diam=27}", 
        "\tinsert capacitance { cm=1}", 
        "\tinsert Golgi_CaHVA { comp441_vchold_Golgi_CaHVA=-71 comp441_vchdur_Golgi_CaHVA=30 comp526_e_Golgi_CaHVA=129.33 comp441_vcbdur_Golgi_CaHVA=100 comp441_vcbase_Golgi_CaHVA=-69 comp441_vcsteps_Golgi_CaHVA=8 comp526_gbar_Golgi_CaHVA=0.00046 comp441_vcinc_Golgi_CaHVA=10}", 
        "\tinsert Golgi_CaLVA { comp886_vchdur_Golgi_CaLVA=200 comp886_vcbdur_Golgi_CaLVA=30 comp971_valence_Golgi_CaLVA=2 comp886_vcinc_Golgi_CaLVA=10 comp886_vcbase_Golgi_CaLVA=-69 comp971_gbar_Golgi_CaLVA=0.00025 comp886_vcsteps_Golgi_CaLVA=8 comp886_vchold_Golgi_CaLVA=-71}", 
        "\tinsert Golgi_HCN1 { comp1438_e_Golgi_HCN1=-20 comp1353_vcbdur_Golgi_HCN1=100 comp1353_vcbase_Golgi_HCN1=-69 comp1438_gbar_Golgi_HCN1=5e-05 comp1353_vcsteps_Golgi_HCN1=8 comp1353_vchold_Golgi_HCN1=-71 comp1353_vchdur_Golgi_HCN1=30 comp1353_vcinc_Golgi_HCN1=10}", 
        "\tinsert Golgi_HCN2 { comp1719_vchold_Golgi_HCN2=-71 comp1719_vchdur_Golgi_HCN2=30 comp1719_vcbdur_Golgi_HCN2=100 comp1804_e_Golgi_HCN2=-20 comp1719_vcbase_Golgi_HCN2=-69 comp1719_vcinc_Golgi_HCN2=10 comp1719_vcsteps_Golgi_HCN2=8 comp1804_gbar_Golgi_HCN2=8e-05}", 
        "\tinsert Golgi_KA { comp2188_e_Golgi_KA=-84.69 comp2103_vcbdur_Golgi_KA=100 comp2103_vcbase_Golgi_KA=-69 comp2103_vcinc_Golgi_KA=10 comp2103_vcsteps_Golgi_KA=8 comp2188_gbar_Golgi_KA=0.008 comp2103_vchold_Golgi_KA=-71 comp2103_vchdur_Golgi_KA=30}", 
        "\tinsert Golgi_KCa { comp2714_gbar_Golgi_KCa=0.003 comp2629_vchold_Golgi_KCa=-71 comp2629_vchdur_Golgi_KCa=30 comp2629_vcinc_Golgi_KCa=10 comp2629_vcbdur_Golgi_KCa=100 comp2629_vcbase_Golgi_KCa=-69 comp2629_vcsteps_Golgi_KCa=8 comp2714_e_Golgi_KCa=-84.69}", 
        "\tinsert Golgi_KM { comp2941_vchold_Golgi_KM=-71 comp3026_gbar_Golgi_KM=0.001 comp2941_vchdur_Golgi_KM=30 comp2941_vcbdur_Golgi_KM=100 comp2941_vcbase_Golgi_KM=-69 comp2941_vcsteps_Golgi_KM=8 comp2941_vcinc_Golgi_KM=10 comp3026_e_Golgi_KM=-84.69}", 
        "\tinsert Golgi_KV { comp3363_e_Golgi_KV=-84.69 comp3278_vchold_Golgi_KV=-71 comp3278_vcinc_Golgi_KV=10 comp3278_vchdur_Golgi_KV=30 comp3363_gbar_Golgi_KV=0.032 comp3278_vcsteps_Golgi_KV=8 comp3278_vcbdur_Golgi_KV=100 comp3278_vcbase_Golgi_KV=-69}", 
        "\tinsert Golgi_Lkg { comp5220_gbar_Golgi_Lkg=2.1e-05 comp5220_e_Golgi_Lkg=-55}", 
        "\tinsert Golgi_Na { comp3920_vcinc_Golgi_Na=10 comp4005_gbar_Golgi_Na=0.048 comp3920_vchold_Golgi_Na=-71 comp3920_vchdur_Golgi_Na=30 comp4005_e_Golgi_Na=87.39 comp3920_vcsteps_Golgi_Na=9 comp3920_vcbdur_Golgi_Na=100 comp3920_vcbase_Golgi_Na=-60}", 
        "\tinsert Golgi_NaP { comp4384_vchold_Golgi_NaP=-71 comp4384_vchdur_Golgi_NaP=30 comp4384_vcinc_Golgi_NaP=10 comp4469_gbar_Golgi_NaP=0.00019 comp4384_vcsteps_Golgi_NaP=9 comp4384_vcbdur_Golgi_NaP=100 comp4384_vcbase_Golgi_NaP=-60 comp4469_e_Golgi_NaP=87.39}", 
        "\tinsert Golgi_NaR { comp4743_vcbdur_Golgi_NaR=100 comp4743_vcbase_Golgi_NaR=-60 comp4743_vcinc_Golgi_NaR=10 comp4828_e_Golgi_NaR=87.39 comp4743_vcsteps_Golgi_NaR=9 comp4828_gbar_Golgi_NaR=0.0017 comp4743_vchold_Golgi_NaR=-71 comp4743_vchdur_Golgi_NaR=30}", 
        "\tinsert na_ion { ena=87.39}", 
        "\tinsert Golgi_SK2 { comp3606_vchdur_Golgi_SK2=30 comp3691_gbar_Golgi_SK2=0.038 comp3606_vcbdur_Golgi_SK2=100 comp3606_vcinc_Golgi_SK2=10 comp3606_vcbase_Golgi_SK2=-69 comp3606_vcsteps_Golgi_SK2=8 comp3691_e_Golgi_SK2=-84.69 comp3606_vchold_Golgi_SK2=-71}", 
        "\tinsert k_ion { ek=-84.69}", 
        "\tinsert Golgi_ca {}", 
        "\tinsert ca_ion {}", 
        "\tinsert Golgi_ca2 { comp314_valence_Golgi_ca2=2}", 
        "\tinsert ca2_ion {}", 
        "\tinsert Exp2Syn { tau1=0.1 tau2=10 e=0}", 
        "\tinsert Exp2Syn { tau1=0.1 tau2=10 e=0}", 
        "\tinsert Exp2Syn { tau1=0.1 tau2=10 e=0}", 
        "\tinsert Gap { g=1e-10}", 
        "}", 
        "------Miscellaneous hoc variables to print------", 
        "ena: 87.39", 
        "ek: -84.69", 
        "eca: 132.457934", 
        "celsius: 23.0", 
        "Starting run", 
        "Simulated single cell for 2000.000000 milliseconds"
       ]
      }
     ], 
     "prompt_number": 14
    }, 
    {
     "cell_type": "markdown", 
     "source": [
      "---", 
      "Using pyNN but without axon"
     ]
    }, 
    {
     "cell_type": "code", 
     "collapsed": true, 
     "input": [
      "bash('single_cell.py xml/cerebellum/single_golgi_without_axon.xml --output output/single_cell_without_axon.', save_output='output/single_golgi_cell_without_axon.log')"
     ], 
     "language": "python", 
     "outputs": [], 
     "prompt_number": 3
    }, 
    {
     "cell_type": "markdown", 
     "source": [
      "---", 
      "Using pyNN but with single compartment"
     ]
    }, 
    {
     "cell_type": "code", 
     "collapsed": true, 
     "input": [
      "bash('single_cell.py xml/cerebellum/single_golgi_single_compartment.xml --output output/single_cell_single_compartment.', save_output='output/single_golgi_cell_single_compartment.log')"
     ], 
     "language": "python", 
     "outputs": [], 
     "prompt_number": 6
    }, 
    {
     "cell_type": "markdown", 
     "source": [
      "---", 
      "Compare psections between ncml_generated and ivans_generated output"
     ]
    }, 
    {
     "cell_type": "code", 
     "collapsed": true, 
     "input": [
      "diff('output/ncml_generated_golgi.log', 'output/single_golgi_cell_single_compartment.log')"
     ], 
     "language": "python", 
     "outputs": [], 
     "prompt_number": 35
    }, 
    {
     "cell_type": "code", 
     "collapsed": true, 
     "input": [
      "compare_psections('output/ncml_generated_golgi.log', 'output/single_golgi_cell_single_compartment.log')"
     ], 
     "language": "python", 
     "outputs": [], 
     "prompt_number": 36
    }, 
    {
     "cell_type": "markdown", 
     "source": [
      "---", 
      "Plotting comparison between different scripts or mod files"
     ]
    }, 
    {
     "cell_type": "code", 
     "collapsed": true, 
     "input": [
      "activity_plot('output/single_cell_with_axon.Golgis.v output/ncml_generated_golgi_hoc.dat --combine')"
     ], 
     "language": "python", 
     "outputs": [], 
     "prompt_number": 38
    }, 
    {
     "cell_type": "code", 
     "collapsed": true, 
     "input": [
      "activity_plot('output/single_cell_with_axon.Golgis.v output/sergios_golgi_hoc.dat --combine')"
     ], 
     "language": "python", 
     "outputs": [], 
     "prompt_number": 18
    }, 
    {
     "cell_type": "code", 
     "collapsed": true, 
     "input": [
      "activity_plot('output/single_cell_with_axon.Golgis.v output/single_cell_without_axon.Golgis.v --combine')"
     ], 
     "language": "python", 
     "outputs": [], 
     "prompt_number": 16
    }, 
    {
     "cell_type": "code", 
     "collapsed": true, 
     "input": [
      "activity_plot('output/single_cell_without_axon.Golgis.v output/fabios_golgi_hoc.dat --combine')"
     ], 
     "language": "python", 
     "outputs": [], 
     "prompt_number": 17
    }, 
    {
     "cell_type": "markdown", 
     "source": [
      "In this case the peak voltage is the same but the firing rate of the generated files is considerably slower, not sure what the problem is"
     ]
    }, 
    {
     "cell_type": "code", 
     "collapsed": true, 
     "input": [
      "os.listdir('output')"
     ], 
     "language": "python", 
     "outputs": [], 
     "prompt_number": 40
    }
   ]
  }
 ]
}