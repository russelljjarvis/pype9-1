{
 "metadata": {
  "name": "Testing Golgi mechanisms"
 }, 
 "nbformat": 2, 
 "worksheets": [
  {
   "cells": [
    {
     "cell_type": "markdown", 
     "source": [
      "---", 
      "Initialise IPython Notebook", 
      "---"
     ]
    }, 
    {
     "cell_type": "code", 
     "collapsed": true, 
     "input": [
      "from utilities.inotebook import *"
     ], 
     "language": "python", 
     "outputs": [], 
     "prompt_number": 20
    }, 
    {
     "cell_type": "code", 
     "collapsed": false, 
     "input": [
      "inotebook_init()"
     ], 
     "language": "python", 
     "outputs": [
      {
       "output_type": "stream", 
       "stream": "stdout", 
       "text": [
        "Using git revision of k-Brain: fedfc6a7d39add76979bfab70ba18d9d4f1b5d5a", 
        ""
       ]
      }
     ], 
     "prompt_number": 21
    }, 
    {
     "cell_type": "markdown", 
     "source": [
      "---", 
      "Testing original vs generated golgi mod files using Sergio's hoc script", 
      "---"
     ]
    }, 
    {
     "cell_type": "markdown", 
     "source": [
      "---", 
      "Preporatory tasks"
     ]
    }, 
    {
     "cell_type": "markdown", 
     "source": [
      "Clear any files that might be getting confused with previous builds"
     ]
    }, 
    {
     "cell_type": "code", 
     "collapsed": false, 
     "input": [
      "clear_output_dir() "
     ], 
     "language": "python", 
     "outputs": [
      {
       "output_type": "stream", 
       "stream": "stdout", 
       "text": [
        "No files provided, clearing all files in output directory", 
        "Removed single_cell.Granules.cai from output directory", 
        "Removed generated_granule_mechanisms.log from output directory", 
        "Removed single_cell.Granules.v from output directory", 
        "Removed single_cell.Granules.ik from output directory", 
        "Removed ncml_generated_granule_hoc.log from output directory", 
        "Removed single_cell.Granules.ina from output directory", 
        "Removed ncml_generated_granule_hoc.dat from output directory", 
        "Removed fabios_granule_hoc.log from output directory", 
        "Removed single_granule_cell.log from output directory", 
        "Removed single_cell.Granules.ica from output directory", 
        "Removed fabios_granule_hoc.dat from output directory", 
        "Removed ivans_generated_granule_hoc.dat from output directory", 
        "Removed single_cell.Granules.spikes from output directory", 
        "Removed ivans_generated_granule_hoc.log from output directory", 
        "Removed generated_granule_mechanisms.test.dat from output directory", 
        "", 
        "-----------------------------------", 
        "Remaining files in output directory", 
        "-----------------------------------", 
        "", 
        "-----------------------------------"
       ]
      }
     ], 
     "prompt_number": 22
    }, 
    {
     "cell_type": "markdown", 
     "source": [
      "Checking that hoc scripts are doing the same thing"
     ]
    }, 
    {
     "cell_type": "code", 
     "collapsed": false, 
     "input": [
      "diff('external/nemo_testing/neuron/sergios_fabios_golgi/sergios_golgi.hoc', 'external/nemo_testing/neuron/ncml_build_dir/Golgi/ncml_generated_golgi.hoc')"
     ], 
     "language": "python", 
     "outputs": [
      {
       "output_type": "stream", 
       "stream": "stdout", 
       "text": [
        "*** ", 
        "--- ", 
        "***************", 
        "*** 1,5 ****", 
        "  // This is the absolute path on my machine (feel free to add your own as it doesn't hurt)", 
        "! nrn_load_dll(\"/home/tclose/kbrain/external/nemo_testing/neuron/sergios_fabios_golgi/x86_64/.libs/libnrnmech.so\")", 
        "  ", 
        "  objref SpikeTrain, netcon, nil", 
        "  objref exc[78], inh[27], synapses", 
        "--- 1,5 ----", 
        "  // This is the absolute path on my machine (feel free to add your own as it doesn't hurt)", 
        "! nrn_load_dll(\"/home/tclose/kbrain/external/nemo_testing/neuron/ncml_build_dir/Golgi/install/x86_64/.libs/libnrnmech.so\")", 
        "  ", 
        "  objref SpikeTrain, netcon, nil", 
        "  objref exc[78], inh[27], synapses", 
        "***************", 
        "*** 14,38 ****", 
        "      L = 27", 
        "      Ra = 100 // From Roth&Hausser2000", 
        "      celsius = 23", 
        "!     ", 
        "!     insert Golgi_BK", 
        "!     insert Golgi_Ca_HVA", 
        "!     insert Golgi_Ca_LVA", 
        "!     insert Golgi_CALC", 
        "!     insert Golgi_CALC_ca2", 
        "!     insert Golgi_hcn1", 
        "!     insert Golgi_hcn2", 
        "      insert Golgi_KA", 
        "      insert Golgi_KM", 
        "      insert Golgi_KV", 
        "!     insert Golgi_lkg", 
        "      insert Golgi_Na", 
        "      insert Golgi_NaR", 
        "-     insert Golgi_NaP", 
        "      insert Golgi_SK2", 
        "      ", 
        "!     usetable_Golgi_LVA = 0", 
        "!     usetable_Golgi_HVA = 0", 
        "      usetable_Golgi_KA = 0", 
        "      usetable_Golgi_KV = 0", 
        "      usetable_Golgi_NaR = 0", 
        "--- 14,38 ----", 
        "      L = 27", 
        "      Ra = 100 // From Roth&Hausser2000", 
        "      celsius = 23", 
        "! ", 
        "!     insert Golgi_ca", 
        "!     insert Golgi_ca2", 
        "!     insert Golgi_CaHVA", 
        "!     insert Golgi_CaLVA", 
        "!     insert Golgi_HCN1", 
        "!     insert Golgi_HCN2", 
        "      insert Golgi_KA", 
        "+     insert Golgi_KCa", 
        "      insert Golgi_KM", 
        "      insert Golgi_KV", 
        "!     insert Golgi_Lkg", 
        "      insert Golgi_Na", 
        "+     insert Golgi_NaP", 
        "      insert Golgi_NaR", 
        "      insert Golgi_SK2", 
        "      ", 
        "!     usetable_GolgiLVA = 0", 
        "!     usetable_GolgiHVA = 0", 
        "      usetable_Golgi_KA = 0", 
        "      usetable_Golgi_KV = 0", 
        "      usetable_Golgi_NaR = 0", 
        "***************", 
        "*** 45,52 ****", 
        "      cai = cai0_ca_ion", 
        "      ca2i = cai", 
        "      ca2o = cao", 
        "!     cai0_Golgi_CALC = cai0_ca_ion", 
        "!     ca2i0_Golgi_CALC_ca2 = cai0_ca_ion", 
        "      ", 
        "      ena=87.39", 
        "      ek=-84.69", 
        "--- 45,52 ----", 
        "      cai = cai0_ca_ion", 
        "      ca2i = cai", 
        "      ca2o = cao", 
        "!     cai0_Golgi_ca = cai0_ca_ion", 
        "!     ca2i0_Golgi_ca2 = cai0_ca_ion", 
        "      ", 
        "      ena=87.39", 
        "      ek=-84.69", 
        "***************", 
        "*** 70,76 ****", 
        "          Ra = 100", 
        "          celsius = 23", 
        "          ", 
        "!         insert Golgi_lkg", 
        "          for k=0, 25 {", 
        "              exc[(i*26)+k] = new Synapse(0.5)", 
        "          }", 
        "--- 70,76 ----", 
        "          Ra = 100", 
        "          celsius = 23", 
        "          ", 
        "!         insert Golgi_Lkg", 
        "          for k=0, 25 {", 
        "              exc[(i*26)+k] = new Synapse(0.5)", 
        "          }", 
        "***************", 
        "*** 90,96 ****", 
        "    L = 1200", 
        "    Ra = 100", 
        "    celsius = 23", 
        "!   insert Golgi_lkg", 
        "  }", 
        "  connect axon(0), soma(0)", 
        "      ", 
        "--- 90,96 ----", 
        "    L = 1200", 
        "    Ra = 100", 
        "    celsius = 23", 
        "!   insert Golgi_Lkg", 
        "  }", 
        "  connect axon(0), soma(0)", 
        "      ", 
        "***************", 
        "*** 142,149 ****", 
        "  ", 
        "  objref output_file", 
        "  output_file = new File()", 
        "! printf(\"Writing output to 'output/sergios_golgi_hoc.dat'\")", 
        "! output_file.wopen(\"output/sergios_golgi_hoc.dat\")", 
        "  for (i=0; i < rec_v.size(); i=i+1) {", 
        "    output_file.printf(\"%g %g\\n\", rec_t.x[i], rec_v.x[i])", 
        "  }", 
        "--- 142,149 ----", 
        "  ", 
        "  objref output_file", 
        "  output_file = new File()", 
        "! printf(\"Writing output to 'output/ncml_generated_golgi_hoc.dat'\")", 
        "! output_file.wopen(\"output/ncml_generated_golgi_hoc.dat\")", 
        "  for (i=0; i < rec_v.size(); i=i+1) {", 
        "    output_file.printf(\"%g %g\\n\", rec_t.x[i], rec_v.x[i])", 
        "  }"
       ]
      }
     ], 
     "prompt_number": 23
    }, 
    {
     "cell_type": "markdown", 
     "source": [
      "---", 
      "Diff between ivans_generated_golgi_hoc and ncml_generated_golgi_hoc"
     ]
    }, 
    {
     "cell_type": "code", 
     "collapsed": false, 
     "input": [
      "diff('external/nemo_testing/neuron/ivans_generated/ivans_generated_golgi.hoc', 'external/nemo_testing/neuron/ncml_build_dir/Golgi/ncml_generated_golgi.hoc')"
     ], 
     "language": "python", 
     "outputs": [
      {
       "output_type": "stream", 
       "stream": "stdout", 
       "text": [
        "*** ", 
        "--- ", 
        "***************", 
        "*** 1,5 ****", 
        "  // This is the absolute path on my machine (feel free to add your own as it doesn't hurt)", 
        "! nrn_load_dll(\"/home/tclose/kbrain/external/nemo_testing/neuron/ivans_generated/x86_64/.libs/libnrnmech.so\")", 
        "  ", 
        "  objref SpikeTrain, netcon, nil", 
        "  objref exc[78], inh[27], synapses", 
        "--- 1,5 ----", 
        "  // This is the absolute path on my machine (feel free to add your own as it doesn't hurt)", 
        "! nrn_load_dll(\"/home/tclose/kbrain/external/nemo_testing/neuron/ncml_build_dir/Golgi/install/x86_64/.libs/libnrnmech.so\")", 
        "  ", 
        "  objref SpikeTrain, netcon, nil", 
        "  objref exc[78], inh[27], synapses", 
        "***************", 
        "*** 15,22 ****", 
        "      Ra = 100 // From Roth&Hausser2000", 
        "      celsius = 23", 
        "  ", 
        "!     insert Golgi_Ca", 
        "!     insert Golgi_Ca2", 
        "      insert Golgi_CaHVA", 
        "      insert Golgi_CaLVA", 
        "      insert Golgi_HCN1", 
        "--- 15,22 ----", 
        "      Ra = 100 // From Roth&Hausser2000", 
        "      celsius = 23", 
        "  ", 
        "!     insert Golgi_ca", 
        "!     insert Golgi_ca2", 
        "      insert Golgi_CaHVA", 
        "      insert Golgi_CaLVA", 
        "      insert Golgi_HCN1", 
        "***************", 
        "*** 45,52 ****", 
        "      cai = cai0_ca_ion", 
        "      ca2i = cai", 
        "      ca2o = cao", 
        "!     cai0_Golgi_Ca = cai0_ca_ion", 
        "!     ca2i0_Golgi_Ca2 = cai0_ca_ion", 
        "      ", 
        "      ena=87.39", 
        "      ek=-84.69", 
        "--- 45,52 ----", 
        "      cai = cai0_ca_ion", 
        "      ca2i = cai", 
        "      ca2o = cao", 
        "!     cai0_Golgi_ca = cai0_ca_ion", 
        "!     ca2i0_Golgi_ca2 = cai0_ca_ion", 
        "      ", 
        "      ena=87.39", 
        "      ek=-84.69", 
        "***************", 
        "*** 142,149 ****", 
        "  ", 
        "  objref output_file", 
        "  output_file = new File()", 
        "! printf(\"Writing output to 'output/ivans_generated_golgi_hoc.dat'\")", 
        "! output_file.wopen(\"output/ivans_generated_golgi_hoc.dat\")", 
        "  for (i=0; i < rec_v.size(); i=i+1) {", 
        "    output_file.printf(\"%g %g\\n\", rec_t.x[i], rec_v.x[i])", 
        "  }", 
        "--- 142,149 ----", 
        "  ", 
        "  objref output_file", 
        "  output_file = new File()", 
        "! printf(\"Writing output to 'output/ncml_generated_golgi_hoc.dat'\")", 
        "! output_file.wopen(\"output/ncml_generated_golgi_hoc.dat\")", 
        "  for (i=0; i < rec_v.size(); i=i+1) {", 
        "    output_file.printf(\"%g %g\\n\", rec_t.x[i], rec_v.x[i])", 
        "  }"
       ]
      }
     ], 
     "prompt_number": 24
    }, 
    {
     "cell_type": "markdown", 
     "source": [
      "---", 
      "Sergio's hoc script and mod files"
     ]
    }, 
    {
     "cell_type": "code", 
     "collapsed": false, 
     "input": [
      "bash('cd external/nemo_testing/neuron/sergios_fabios_golgi; nrnivmodl', silent=True)", 
      "bash('nrngui external/nemo_testing/neuron/sergios_fabios_golgi/sergios_golgi.hoc', save_output='output/sergios_golgi.log', silent=True)"
     ], 
     "language": "python", 
     "outputs": [], 
     "prompt_number": 25
    }, 
    {
     "cell_type": "markdown", 
     "source": [
      "---", 
      "Ivans generated script"
     ]
    }, 
    {
     "cell_type": "code", 
     "collapsed": false, 
     "input": [
      "bash('cd external/nemo_testing/neuron/ivans_generated; nrnivmodl', silent=True)", 
      "bash('nrngui external/nemo_testing/neuron/ivans_generated/ivans_generated_golgi.hoc', save_output='output/ivans_generated_golgi.log')"
     ], 
     "language": "python", 
     "outputs": [
      {
       "output_type": "stream", 
       "stream": "stdout", 
       "text": [
        "NEURON -- Release 7.2 (562:42a47463b504) 2011-12-21", 
        "Duke, Yale, and the BlueBrain Project -- Copyright 1984-2008", 
        "See http://www.neuron.yale.edu/credits.html", 
        "", 
        "nrniv: unable to open font \"*helvetica-medium-r-normal*--14*\", using \"fixed\"", 
        "Additional mechanisms from files", 
        " Gap.mod Golgi_Ca.mod Golgi_Ca2.mod Golgi_CaHVA.mod Golgi_CaLVA.mod Golgi_HCN1.mod Golgi_HCN2.mod Golgi_KA.mod Golgi_KCa.mod Golgi_KM.mod Golgi_KV.mod Golgi_Lkg.mod Golgi_Na.mod Golgi_NaP.mod Golgi_NaR.mod Golgi_SK2.mod Granule_Ca.mod Granule_CaHVA.mod Granule_KA.mod Granule_KCa.mod Granule_KM.mod Granule_KV.mod Granule_Kir.mod Granule_Lkg1.mod Granule_Lkg2.mod Granule_Na.mod KConc.mod NaConc.mod SunghosMech.mod Synapse.mod old_Golgi_Lkg.mod", 
        "\t1 ", 
        "soma { nseg=1  L=27  Ra=100", 
        "\t/*location 0 attached to cell 0*/", 
        "\t/* First segment only */", 
        "\tinsert morphology { diam=27}", 
        "\tinsert capacitance { cm=1}", 
        "\tinsert Golgi_Ca {}", 
        "\tinsert Golgi_Ca2 { comp19_valence_Golgi_Ca2=2}", 
        "\tinsert Golgi_CaHVA { comp283_vchdur_Golgi_CaHVA=30 comp19_gbar_Golgi_CaHVA=0.00046 comp283_vchold_Golgi_CaHVA=-71 comp283_vcbase_Golgi_CaHVA=-69 comp19_e_Golgi_CaHVA=129.33 comp283_vcbdur_Golgi_CaHVA=100 comp283_vcsteps_Golgi_CaHVA=8 comp283_vcinc_Golgi_CaHVA=10}", 
        "\tinsert Golgi_CaLVA { comp303_vcbase_Golgi_CaLVA=-69 comp19_gbar_Golgi_CaLVA=0.00025 comp303_vchdur_Golgi_CaLVA=200 comp303_vcinc_Golgi_CaLVA=10 comp303_vcsteps_Golgi_CaLVA=8 comp303_vchold_Golgi_CaLVA=-71 comp303_vcbdur_Golgi_CaLVA=30}", 
        "\tinsert ca2_ion {}", 
        "\tinsert Golgi_HCN1 { comp270_vchdur_Golgi_HCN1=30 comp19_gbar_Golgi_HCN1=5e-05 comp270_vcbdur_Golgi_HCN1=100 comp270_vchold_Golgi_HCN1=-71 comp19_e_Golgi_HCN1=-20 comp270_vcsteps_Golgi_HCN1=8 comp270_vcinc_Golgi_HCN1=10 comp270_vcbase_Golgi_HCN1=-69}", 
        "\tinsert Golgi_HCN2 { comp290_vchold_Golgi_HCN2=-71 comp19_gbar_Golgi_HCN2=8e-05 comp290_vcbdur_Golgi_HCN2=100 comp290_vchdur_Golgi_HCN2=30 comp290_vcinc_Golgi_HCN2=10 comp19_e_Golgi_HCN2=-20 comp290_vcsteps_Golgi_HCN2=8 comp290_vcbase_Golgi_HCN2=-69}", 
        "\tinsert Golgi_KA { comp35_e_Golgi_KA=-84.69 comp355_vcinc_Golgi_KA=10 comp35_gbar_Golgi_KA=0.008 comp355_vcsteps_Golgi_KA=8 comp355_vchdur_Golgi_KA=30 comp355_vcbdur_Golgi_KA=100 comp355_vchold_Golgi_KA=-71 comp355_vcbase_Golgi_KA=-69}", 
        "\tinsert Golgi_KCa { comp170_vcbase_Golgi_KCa=-69 comp170_vchold_Golgi_KCa=-71 comp19_gbar_Golgi_KCa=0.003 comp170_vcbdur_Golgi_KCa=100 comp170_vcinc_Golgi_KCa=10 comp170_vchdur_Golgi_KCa=30 comp19_e_Golgi_KCa=-84.69 comp170_vcsteps_Golgi_KCa=8}", 
        "\tinsert Golgi_KM { comp195_vcbase_Golgi_KM=-69 comp195_vcbdur_Golgi_KM=100 comp19_gbar_Golgi_KM=0.001 comp195_vchdur_Golgi_KM=30 comp195_vcsteps_Golgi_KM=8 comp195_vchold_Golgi_KM=-71 comp195_vcinc_Golgi_KM=10 comp19_e_Golgi_KM=-84.69}", 
        "\tinsert Golgi_KV { comp183_vcbase_Golgi_KV=-69 comp35_e_Golgi_KV=-84.69 comp183_vcsteps_Golgi_KV=8 comp35_gbar_Golgi_KV=0.032 comp183_vcinc_Golgi_KV=10 comp183_vcbdur_Golgi_KV=100 comp183_vchdur_Golgi_KV=30 comp183_vchold_Golgi_KV=-71}", 
        "\tinsert Golgi_Lkg { comp19_gbar_Golgi_Lkg=2.1e-05 comp19_e_Golgi_Lkg=-55}", 
        "\tinsert Golgi_Na { comp35_e_Golgi_Na=87.39 comp299_vcsteps_Golgi_Na=9 comp299_vchdur_Golgi_Na=30 comp299_vcbdur_Golgi_Na=100 comp299_vcinc_Golgi_Na=10 comp35_gbar_Golgi_Na=0.048 comp299_vcbase_Golgi_Na=-60 comp299_vchold_Golgi_Na=-71}", 
        "\tinsert Golgi_NaP { comp211_vchold_Golgi_NaP=-71 comp35_e_Golgi_NaP=87.39 comp211_vchdur_Golgi_NaP=30 comp211_vcsteps_Golgi_NaP=9 comp35_gbar_Golgi_NaP=0.00019 comp211_vcinc_Golgi_NaP=10 comp211_vcbdur_Golgi_NaP=100 comp211_vcbase_Golgi_NaP=-60}", 
        "\tinsert Golgi_NaR { comp313_vchold_Golgi_NaR=-71 comp19_gbar_Golgi_NaR=0.0017 comp313_vchdur_Golgi_NaR=30 comp313_vcsteps_Golgi_NaR=9 comp313_vcbdur_Golgi_NaR=100 comp313_vcbase_Golgi_NaR=-60 comp313_vcinc_Golgi_NaR=10 comp19_e_Golgi_NaR=87.39}", 
        "\tinsert na_ion { ena=87.39}", 
        "\tinsert Golgi_SK2 { comp220_vchdur_Golgi_SK2=30 comp220_vcinc_Golgi_SK2=10 comp220_vchold_Golgi_SK2=-71 comp19_gbar_Golgi_SK2=0.038 comp220_vcbase_Golgi_SK2=-69 comp220_vcsteps_Golgi_SK2=8 comp220_vcbdur_Golgi_SK2=100 comp19_e_Golgi_SK2=-84.69}", 
        "\tinsert k_ion { ek=-84.69}", 
        "\tinsert ca_ion {}", 
        "}", 
        "\t1 ", 
        "ena: 87.390000\t14 ", 
        "ek: -84.690000\t14 ", 
        "eca: 132.457934\t15 ", 
        "celsius: 23.000000\t18 ", 
        "\t1 ", 
        "\t1 ", 
        "Writing output to 'output/ivans_generated_golgi_hoc.dat'\t56 ", 
        "\t1 ", 
        "\t0 ", 
        ""
       ]
      }
     ], 
     "prompt_number": 26
    }, 
    {
     "cell_type": "markdown", 
     "source": [
      "---", 
      "Fabio's hoc script and mod files"
     ]
    }, 
    {
     "cell_type": "code", 
     "collapsed": false, 
     "input": [
      "#bash('cd external/fabios_network; nrnivmodl', silent=True)", 
      "#bash('nrngui external/fabios_network/fabios_golgi.hoc')"
     ], 
     "language": "python", 
     "outputs": [], 
     "prompt_number": 27
    }, 
    {
     "cell_type": "markdown", 
     "source": [
      "---", 
      "Generated mod files with hoc script that was modified from Sergio's"
     ]
    }, 
    {
     "cell_type": "code", 
     "collapsed": false, 
     "input": [
      "bash('cd external/nemo_testing/neuron/ncml_build_dir/Golgi/install; nrnivmodl', silent=True)", 
      "bash('nrngui external/nemo_testing/neuron/ncml_build_dir/Golgi/ncml_generated_golgi.hoc', save_output='output/ncml_generated_golgi.log')"
     ], 
     "language": "python", 
     "outputs": [
      {
       "output_type": "stream", 
       "stream": "stdout", 
       "text": [
        "NEURON -- Release 7.2 (562:42a47463b504) 2011-12-21", 
        "Duke, Yale, and the BlueBrain Project -- Copyright 1984-2008", 
        "See http://www.neuron.yale.edu/credits.html", 
        "", 
        "nrniv: unable to open font \"*helvetica-medium-r-normal*--14*\", using \"fixed\"", 
        "Additional mechanisms from files", 
        " Golgi_CaHVA.mod Golgi_CaLVA.mod Golgi_CaLVA_new.mod Golgi_HCN1.mod Golgi_HCN2.mod Golgi_KA.mod Golgi_KCa.mod Golgi_KM.mod Golgi_KV.mod Golgi_Lkg.mod Golgi_Na.mod Golgi_NaP.mod Golgi_NaR.mod Golgi_SK2.mod Golgi_ca.mod Golgi_ca2.mod Synapse.mod", 
        "\t1 ", 
        "soma { nseg=1  L=27  Ra=100", 
        "\t/*location 0 attached to cell 0*/", 
        "\t/* First segment only */", 
        "\tinsert morphology { diam=27}", 
        "\tinsert capacitance { cm=1}", 
        "\tinsert Golgi_ca {}", 
        "\tinsert Golgi_ca2 { comp314_valence_Golgi_ca2=2}", 
        "\tinsert Golgi_CaHVA { comp441_vchold_Golgi_CaHVA=-71 comp441_vchdur_Golgi_CaHVA=30 comp526_e_Golgi_CaHVA=129.33 comp441_vcbdur_Golgi_CaHVA=100 comp441_vcbase_Golgi_CaHVA=-69 comp441_vcsteps_Golgi_CaHVA=8 comp526_gbar_Golgi_CaHVA=0.00046 comp441_vcinc_Golgi_CaHVA=10}", 
        "\tinsert Golgi_CaLVA { comp886_vchdur_Golgi_CaLVA=200 comp886_vcbdur_Golgi_CaLVA=30 comp971_valence_Golgi_CaLVA=2 comp886_vcinc_Golgi_CaLVA=10 comp886_vcbase_Golgi_CaLVA=-69 comp971_gbar_Golgi_CaLVA=0.00025 comp886_vcsteps_Golgi_CaLVA=8 comp886_vchold_Golgi_CaLVA=-71}", 
        "\tinsert ca2_ion {}", 
        "\tinsert Golgi_HCN1 { comp1438_e_Golgi_HCN1=-20 comp1353_vcbdur_Golgi_HCN1=100 comp1353_vcbase_Golgi_HCN1=-69 comp1438_gbar_Golgi_HCN1=5e-05 comp1353_vcsteps_Golgi_HCN1=8 comp1353_vchold_Golgi_HCN1=-71 comp1353_vchdur_Golgi_HCN1=30 comp1353_vcinc_Golgi_HCN1=10}", 
        "\tinsert Golgi_HCN2 { comp1719_vchold_Golgi_HCN2=-71 comp1719_vchdur_Golgi_HCN2=30 comp1719_vcbdur_Golgi_HCN2=100 comp1804_e_Golgi_HCN2=-20 comp1719_vcbase_Golgi_HCN2=-69 comp1719_vcinc_Golgi_HCN2=10 comp1719_vcsteps_Golgi_HCN2=8 comp1804_gbar_Golgi_HCN2=8e-05}", 
        "\tinsert Golgi_KA { comp2188_e_Golgi_KA=-84.69 comp2103_vcbdur_Golgi_KA=100 comp2103_vcbase_Golgi_KA=-69 comp2103_vcinc_Golgi_KA=10 comp2103_vcsteps_Golgi_KA=8 comp2188_gbar_Golgi_KA=0.008 comp2103_vchold_Golgi_KA=-71 comp2103_vchdur_Golgi_KA=30}", 
        "\tinsert Golgi_KCa { comp2714_gbar_Golgi_KCa=0.003 comp2629_vchold_Golgi_KCa=-71 comp2629_vchdur_Golgi_KCa=30 comp2629_vcinc_Golgi_KCa=10 comp2629_vcbdur_Golgi_KCa=100 comp2629_vcbase_Golgi_KCa=-69 comp2629_vcsteps_Golgi_KCa=8 comp2714_e_Golgi_KCa=-84.69}", 
        "\tinsert Golgi_KM { comp2941_vchold_Golgi_KM=-71 comp3026_gbar_Golgi_KM=0.001 comp2941_vchdur_Golgi_KM=30 comp2941_vcbdur_Golgi_KM=100 comp2941_vcbase_Golgi_KM=-69 comp2941_vcsteps_Golgi_KM=8 comp2941_vcinc_Golgi_KM=10 comp3026_e_Golgi_KM=-84.69}", 
        "\tinsert Golgi_KV { comp3363_e_Golgi_KV=-84.69 comp3278_vchold_Golgi_KV=-71 comp3278_vcinc_Golgi_KV=10 comp3278_vchdur_Golgi_KV=30 comp3363_gbar_Golgi_KV=0.032 comp3278_vcsteps_Golgi_KV=8 comp3278_vcbdur_Golgi_KV=100 comp3278_vcbase_Golgi_KV=-69}", 
        "\tinsert Golgi_Lkg { comp5220_gbar_Golgi_Lkg=2.1e-05 comp5220_e_Golgi_Lkg=-55}", 
        "\tinsert Golgi_Na { comp3920_vcinc_Golgi_Na=10 comp4005_gbar_Golgi_Na=0.048 comp3920_vchold_Golgi_Na=-71 comp3920_vchdur_Golgi_Na=30 comp4005_e_Golgi_Na=87.39 comp3920_vcsteps_Golgi_Na=9 comp3920_vcbdur_Golgi_Na=100 comp3920_vcbase_Golgi_Na=-60}", 
        "\tinsert Golgi_NaP { comp4384_vchold_Golgi_NaP=-71 comp4384_vchdur_Golgi_NaP=30 comp4384_vcinc_Golgi_NaP=10 comp4469_gbar_Golgi_NaP=0.00019 comp4384_vcsteps_Golgi_NaP=9 comp4384_vcbdur_Golgi_NaP=100 comp4384_vcbase_Golgi_NaP=-60 comp4469_e_Golgi_NaP=87.39}", 
        "\tinsert Golgi_NaR { comp4743_vcbdur_Golgi_NaR=100 comp4743_vcbase_Golgi_NaR=-60 comp4743_vcinc_Golgi_NaR=10 comp4828_e_Golgi_NaR=87.39 comp4743_vcsteps_Golgi_NaR=9 comp4828_gbar_Golgi_NaR=0.0017 comp4743_vchold_Golgi_NaR=-71 comp4743_vchdur_Golgi_NaR=30}", 
        "\tinsert na_ion { ena=87.39}", 
        "\tinsert Golgi_SK2 { comp3606_vchdur_Golgi_SK2=30 comp3691_gbar_Golgi_SK2=0.038 comp3606_vcbdur_Golgi_SK2=100 comp3606_vcinc_Golgi_SK2=10 comp3606_vcbase_Golgi_SK2=-69 comp3606_vcsteps_Golgi_SK2=8 comp3691_e_Golgi_SK2=-84.69 comp3606_vchold_Golgi_SK2=-71}", 
        "\tinsert ca_ion {}", 
        "\tinsert k_ion { ek=-84.69}", 
        "}", 
        "\t1 ", 
        "ena: 87.390000\t14 ", 
        "ek: -84.690000\t14 ", 
        "eca: 132.457934\t15 ", 
        "celsius: 23.000000\t18 ", 
        "\t1 ", 
        "\t1 ", 
        "Writing output to 'output/ncml_generated_golgi_hoc.dat'\t55 ", 
        "\t1 ", 
        "\t0 ", 
        ""
       ]
      }
     ], 
     "prompt_number": 28
    }, 
    {
     "cell_type": "markdown", 
     "source": [
      "---", 
      "Sergio's mod files with Sergio's hoc script but with only a single somatic compartment"
     ]
    }, 
    {
     "cell_type": "code", 
     "collapsed": false, 
     "input": [
      "#bash('cd external/original_mod/golgi; nrnivmodl', silent=True)", 
      "#bash('nrngui external/original_mod/golgi/single_compart_sergios_golgi.hoc', save_output='output/single_compart_sergios_golgi.log')"
     ], 
     "language": "python", 
     "outputs": [], 
     "prompt_number": 29
    }, 
    {
     "cell_type": "markdown", 
     "source": [
      "---", 
      "Generated mod files with hoc script that was modified from Sergio's with only a single somatic compartment"
     ]
    }, 
    {
     "cell_type": "code", 
     "collapsed": false, 
     "input": [
      "#bash('cd xml/cerebellum/ncml/build/nmodl; nrnivmodl', silent=True)", 
      "#bash('nrngui xml/cerebellum/ncml/build/nmodl/single_compart_generated_golgi.hoc', save_output='output/single_compart_generated_golgi.log')"
     ], 
     "language": "python", 
     "outputs": [], 
     "prompt_number": 30
    }, 
    {
     "cell_type": "markdown", 
     "source": [
      "---", 
      "Attempting to replicate results test/mechanisms.py (single compartment)"
     ]
    }, 
    {
     "cell_type": "code", 
     "collapsed": false, 
     "input": [
      "bash('mechanisms.py external/nemo_testing/neuron/ncml_build_dir/Golgi/install/Golgi*.mod --init_var ek \"-84.69\" --init_var ena 87.39 --init_var eca 132.457934 --init_mech_var ca_ion cai0 50e-6 \\", 
      "--init_mech_var ca2_ion ca2i0 50e-6 --init_var cai 50e-6 --init_var ca2i 50e-6 --init_var ca2o 50e-6 --init_mech_var Golgi_Ca cai0 50e-6 --init_mech_var Golgi_Ca2 ca2i0 50e-6 \\", 
      "--length 27 --diam 27 --silent_build --celsius 23 --no_input --no_tables --save_prefix output/mechanisms --timestep 0.025 --no_plot', save_output='output/mechanisms.log', silent=True)"
     ], 
     "language": "python", 
     "outputs": [], 
     "prompt_number": 31
    }, 
    {
     "cell_type": "markdown", 
     "source": [
      "---", 
      "Using pyNN this time (should be the same as the multi-compartment case)"
     ]
    }, 
    {
     "cell_type": "code", 
     "collapsed": false, 
     "input": [
      "bash('single_cell.py xml/cerebellum/single_golgi.xml --silent_build --print_all', save_output='output/single_cell.log', silent=True)"
     ], 
     "language": "python", 
     "outputs": [], 
     "prompt_number": 32
    }, 
    {
     "cell_type": "markdown", 
     "source": [
      "---", 
      "Compare psections between ncml_generated and ivans_generated output"
     ]
    }, 
    {
     "cell_type": "code", 
     "collapsed": false, 
     "input": [
      "compare_psections('output/ncml_generated_golgi.log', 'output/ivans_generated_golgi.log')"
     ], 
     "language": "python", 
     "outputs": [
      {
       "output_type": "stream", 
       "stream": "stdout", 
       "text": [
        "", 
        "0.0017       ", 
        "---------", 
        "    Ref:", 
        "        _gbar_Golgi_NaR", 
        "    New:", 
        "        _gbar_Golgi_NaR", 
        "", 
        "", 
        "10       ", 
        "---------", 
        "    Ref:", 
        "        _vcinc_Golgi_CaHVA, _vcinc_Golgi_CaLVA, _vcinc_Golgi_KA, _vcinc_Golgi_KCa, _vcinc_Golgi_KM, _vcinc_Golgi_KV, _vcinc_Golgi_Na, _vcinc_Golgi_NaP, _vcinc_Golgi_NaR", 
        "    New:", 
        "        _vcinc_Golgi_CaHVA, _vcinc_Golgi_CaLVA, _vcinc_Golgi_KA, _vcinc_Golgi_KCa, _vcinc_Golgi_KM, _vcinc_Golgi_KV, _vcinc_Golgi_Na, _vcinc_Golgi_NaP, _vcinc_Golgi_NaR", 
        "", 
        "", 
        "87.39       ", 
        "---------", 
        "    Ref:", 
        "        _e_Golgi_Na, _e_Golgi_NaP, _e_Golgi_NaR, ena", 
        "    New:", 
        "        _e_Golgi_Na, _e_Golgi_NaP, _e_Golgi_NaR, ena", 
        "", 
        "", 
        "27       ", 
        "---------", 
        "    Ref:", 
        "        L, diam", 
        "    New:", 
        "        L, diam", 
        "", 
        "", 
        "0.00025       ", 
        "---------", 
        "    Ref:", 
        "        _gbar_Golgi_CaLVA", 
        "    New:", 
        "        _gbar_Golgi_CaLVA", 
        "", 
        "", 
        "200       ", 
        "---------", 
        "    Ref:", 
        "        _vchdur_Golgi_CaLVA", 
        "    New:", 
        "        _vchdur_Golgi_CaLVA", 
        "", 
        "", 
        "0.048       ", 
        "---------", 
        "    Ref:", 
        "        _gbar_Golgi_Na", 
        "    New:", 
        "        _gbar_Golgi_Na", 
        "", 
        "", 
        "30       ", 
        "---------", 
        "    Ref:", 
        "        _vchdur_Golgi_CaHVA, _vcbdur_Golgi_CaLVA, _vchdur_Golgi_KA, _vchdur_Golgi_KCa, _vchdur_Golgi_KM, _vchdur_Golgi_KV, _vchdur_Golgi_Na, _vchdur_Golgi_NaP, _vchdur_Golgi_NaR", 
        "    New:", 
        "        _vchdur_Golgi_CaHVA, _vcbdur_Golgi_CaLVA, _vchdur_Golgi_KA, _vchdur_Golgi_KCa, _vchdur_Golgi_KM, _vchdur_Golgi_KV, _vchdur_Golgi_Na, _vchdur_Golgi_NaP, _vchdur_Golgi_NaR", 
        "", 
        "", 
        "129.33       ", 
        "---------", 
        "    Ref:", 
        "        _e_Golgi_CaHVA", 
        "    New:", 
        "        _e_Golgi_CaHVA", 
        "", 
        "", 
        "2.1e-05       ", 
        "---------", 
        "    Ref:", 
        "        _gbar_Golgi_Lkg", 
        "    New:", 
        "        _gbar_Golgi_Lkg", 
        "", 
        "", 
        "1       ", 
        "---------", 
        "    Ref:", 
        "        nseg, cm", 
        "    New:", 
        "        nseg, cm", 
        "", 
        "", 
        "2       ", 
        "---------", 
        "    Ref:", 
        "        ", 
        "    New:", 
        "        _valence_Golgi_CaLVA", 
        "", 
        "", 
        "0.00019       ", 
        "---------", 
        "    Ref:", 
        "        _gbar_Golgi_NaP", 
        "    New:", 
        "        _gbar_Golgi_NaP", 
        "", 
        "", 
        "0.008       ", 
        "---------", 
        "    Ref:", 
        "        _gbar_Golgi_KA", 
        "    New:", 
        "        _gbar_Golgi_KA", 
        "", 
        "", 
        "9       ", 
        "---------", 
        "    Ref:", 
        "        _vcsteps_Golgi_Na, _vcsteps_Golgi_NaP, _vcsteps_Golgi_NaR", 
        "    New:", 
        "        _vcsteps_Golgi_Na, _vcsteps_Golgi_NaP, _vcsteps_Golgi_NaR", 
        "", 
        "", 
        "8       ", 
        "---------", 
        "    Ref:", 
        "        _vcsteps_Golgi_CaHVA, _vcsteps_Golgi_CaLVA, _vcsteps_Golgi_KA, _vcsteps_Golgi_KCa, _vcsteps_Golgi_KM, _vcsteps_Golgi_KV", 
        "    New:", 
        "        _vcsteps_Golgi_CaHVA, _vcsteps_Golgi_CaLVA, _vcsteps_Golgi_KA, _vcsteps_Golgi_KCa, _vcsteps_Golgi_KM, _vcsteps_Golgi_KV", 
        "", 
        "", 
        "100       ", 
        "---------", 
        "    Ref:", 
        "        Ra, _vcbdur_Golgi_CaHVA, _vcbdur_Golgi_KA, _vcbdur_Golgi_KCa, _vcbdur_Golgi_KM, _vcbdur_Golgi_KV, _vcbdur_Golgi_Na, _vcbdur_Golgi_NaP, _vcbdur_Golgi_NaR", 
        "    New:", 
        "        Ra, _vcbdur_Golgi_CaHVA, _vcbdur_Golgi_KA, _vcbdur_Golgi_KCa, _vcbdur_Golgi_KM, _vcbdur_Golgi_KV, _vcbdur_Golgi_Na, _vcbdur_Golgi_NaP, _vcbdur_Golgi_NaR", 
        "", 
        "", 
        "0.003       ", 
        "---------", 
        "    Ref:", 
        "        _gbar_Golgi_KCa", 
        "    New:", 
        "        _gbar_Golgi_KCa", 
        "", 
        "", 
        "0.032       ", 
        "---------", 
        "    Ref:", 
        "        _gbar_Golgi_KV", 
        "    New:", 
        "        _gbar_Golgi_KV", 
        "", 
        "", 
        "0.001       ", 
        "---------", 
        "    Ref:", 
        "        _gbar_Golgi_KM", 
        "    New:", 
        "        _gbar_Golgi_KM", 
        "", 
        "", 
        "0.00046       ", 
        "---------", 
        "    Ref:", 
        "        _gbar_Golgi_CaHVA", 
        "    New:", 
        "        _gbar_Golgi_CaHVA", 
        ""
       ]
      }
     ], 
     "prompt_number": 33
    }, 
    {
     "cell_type": "markdown", 
     "source": [
      "---", 
      "Plotting comparison between different scripts or mod files"
     ]
    }, 
    {
     "cell_type": "code", 
     "collapsed": false, 
     "input": [
      "activity_plot('output/ivans_generated_golgi_hoc.dat output/ncml_generated_golgi_hoc.dat --combine')"
     ], 
     "language": "python", 
     "outputs": [], 
     "prompt_number": 34
    }, 
    {
     "cell_type": "markdown", 
     "source": [
      "In this case the peak voltage is the same but the firing rate of the generated files is considerably slower, not sure what the problem is"
     ]
    }, 
    {
     "cell_type": "code", 
     "collapsed": false, 
     "input": [
      "os.listdir('output')"
     ], 
     "language": "python", 
     "outputs": [
      {
       "output_type": "pyout", 
       "prompt_number": 35, 
       "text": [
        "['single_cell.Golgis.ik',", 
        " 'single_cell.Golgis.ica',", 
        " 'sergios_golgi.log',", 
        " 'single_cell.Golgis.ina',", 
        " 'single_cell.Golgis.v',", 
        " 'mechanisms.test.dat',", 
        " 'sergios_golgi_hoc.dat',", 
        " 'mechanisms.log',", 
        " 'ncml_generated_golgi.log',", 
        " 'ncml_generated_golgi_hoc.dat',", 
        " 'single_cell.Golgis.spikes',", 
        " 'ivans_generated_golgi_hoc.dat',", 
        " 'single_cell.Golgis.cai',", 
        " 'single_cell.log',", 
        " 'ivans_generated_golgi.log']"
       ]
      }
     ], 
     "prompt_number": 35
    }
   ]
  }
 ]
}