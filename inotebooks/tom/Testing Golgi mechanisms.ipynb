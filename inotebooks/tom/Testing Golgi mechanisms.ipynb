{
 "metadata": {
  "name": "Testing Golgi mechanisms"
 }, 
 "nbformat": 2, 
 "worksheets": [
  {
   "cells": [
    {
     "cell_type": "markdown", 
     "source": [
      "---", 
      "Initialise IPython Notebook", 
      "---"
     ]
    }, 
    {
     "cell_type": "code", 
     "collapsed": false, 
     "input": [
      "from utilities.inotebook import *", 
      "inotebook_init()"
     ], 
     "language": "python", 
     "outputs": [
      {
       "output_type": "stream", 
       "stream": "stdout", 
       "text": [
        "Using git revision of k-Brain: 510e7951758f9d48b8f57b628b0d302ede440936", 
        ""
       ]
      }
     ], 
     "prompt_number": 1
    }, 
    {
     "cell_type": "markdown", 
     "source": [
      "---", 
      "Testing original vs generated golgi mod files using Sergio's hoc script", 
      "---"
     ]
    }, 
    {
     "cell_type": "markdown", 
     "source": [
      "---", 
      "Preporatory tasks"
     ]
    }, 
    {
     "cell_type": "markdown", 
     "source": [
      "Clear any files that might be getting confused with previous builds"
     ]
    }, 
    {
     "cell_type": "code", 
     "collapsed": false, 
     "input": [
      "clear_output_dir() "
     ], 
     "language": "python", 
     "outputs": [
      {
       "output_type": "stream", 
       "stream": "stdout", 
       "text": [
        "No files provided, clearing all files in output directory", 
        "", 
        "-----------------------------------", 
        "Remaining files in output directory", 
        "-----------------------------------", 
        "ellipsoid_test.", 
        "-----------------------------------"
       ]
      }
     ], 
     "prompt_number": 2
    }, 
    {
     "cell_type": "markdown", 
     "source": [
      "Checking that hoc scripts are doing the same thing"
     ]
    }, 
    {
     "cell_type": "markdown", 
     "source": [
      "---", 
      "Using pyNN this time (should be the same as the multi-compartment case)"
     ]
    }, 
    {
     "cell_type": "code", 
     "collapsed": false, 
     "input": [
      "bash('single_cell.py xml/test/single_golgi_with_axon.xml --output output/single_cell_with_axon.', save_output='output/single_golgi_cell_with_axon.log')"
     ], 
     "language": "python", 
     "outputs": [], 
     "prompt_number": "*"
    }, 
    {
     "cell_type": "markdown", 
     "source": [
      "---", 
      "Using pyNN but without axon"
     ]
    }, 
    {
     "cell_type": "code", 
     "collapsed": false, 
     "input": [
      "bash('single_cell.py xml/test/single_golgi_without_axon.xml --output output/single_cell_without_axon.', save_output='output/single_golgi_cell_without_axon.log')"
     ], 
     "language": "python", 
     "outputs": [], 
     "prompt_number": "*"
    }, 
    {
     "cell_type": "markdown", 
     "source": [
      "---", 
      "Using pyNN but with single compartment"
     ]
    }, 
    {
     "cell_type": "code", 
     "collapsed": false, 
     "input": [
      "bash('single_cell.py xml/test/single_golgi_single_compartment.xml --output output/single_cell_single_compartment.', save_output='output/single_golgi_cell_single_compartment.log')"
     ], 
     "language": "python", 
     "outputs": [], 
     "prompt_number": "*"
    }, 
    {
     "cell_type": "markdown", 
     "source": [
      "---", 
      "Sergio's hoc script and mod files"
     ]
    }, 
    {
     "cell_type": "code", 
     "collapsed": true, 
     "input": [
      "bash('cd external/nemo_testing/neuron/sergios_fabios_golgi; nrnivmodl', silent=True)", 
      "bash('nrngui external/nemo_testing/neuron/sergios_fabios_golgi/sergios_golgi.hoc', save_output='output/sergios_golgi.log', silent=True)"
     ], 
     "language": "python", 
     "outputs": [], 
     "prompt_number": "*"
    }, 
    {
     "cell_type": "markdown", 
     "source": [
      "---", 
      "Fabio's version (without the axon)"
     ]
    }, 
    {
     "cell_type": "code", 
     "collapsed": true, 
     "input": [
      "bash('cd external/nemo_testing/neuron/sergios_fabios_golgi; nrnivmodl', silent=True)", 
      "bash('nrngui external/nemo_testing/neuron/sergios_fabios_golgi/fabios_golgi.hoc', save_output='output/fabios_golgi.log', silent=True)"
     ], 
     "language": "python", 
     "outputs": [], 
     "prompt_number": "*"
    }, 
    {
     "cell_type": "markdown", 
     "source": [
      "---", 
      "Fabio's hoc script and mod files"
     ]
    }, 
    {
     "cell_type": "code", 
     "collapsed": false, 
     "input": [
      "bash('cd external/fabios_network; nrnivmodl', silent=True)", 
      "bash('nrngui external/fabios_network/fabios_golgi.hoc')"
     ], 
     "language": "python", 
     "outputs": [], 
     "prompt_number": "*"
    }, 
    {
     "cell_type": "markdown", 
     "source": [
      "---", 
      "Generated mod files with hoc script that was modified from Sergio's"
     ]
    }, 
    {
     "cell_type": "code", 
     "collapsed": false, 
     "input": [
      "bash('cd external/nemo_testing/neuron/ncml_build_dir/Golgi_Solinas08/install; nrnivmodl', silent=True)", 
      "bash('nrngui external/nemo_testing/neuron/ncml_generated_hoc/ncml_generated_golgi.hoc', save_output='output/ncml_generated_golgi.log')"
     ], 
     "language": "python", 
     "outputs": [], 
     "prompt_number": "*"
    }, 
    {
     "cell_type": "markdown", 
     "source": [
      "---", 
      "Sergio's mod files with Sergio's hoc script but with only a single somatic compartment"
     ]
    }, 
    {
     "cell_type": "code", 
     "collapsed": false, 
     "input": [
      "bash('cd external/original_mod/golgi; nrnivmodl', silent=True)", 
      "bash('nrngui external/original_mod/golgi/single_compart_sergios_golgi.hoc', save_output='output/single_compart_sergios_golgi.log')"
     ], 
     "language": "python", 
     "outputs": [], 
     "prompt_number": "*"
    }, 
    {
     "cell_type": "markdown", 
     "source": [
      "---", 
      "Generated mod files with hoc script that was modified from Sergio's with only a single somatic compartment"
     ]
    }, 
    {
     "cell_type": "code", 
     "collapsed": false, 
     "input": [
      "bash('cd xml/test/ncml/build/nmodl; nrnivmodl', silent=True)", 
      "bash('nrngui xml/test/ncml/build/nmodl/single_compart_generated_golgi.hoc', save_output='output/single_compart_generated_golgi.log')"
     ], 
     "language": "python", 
     "outputs": [], 
     "prompt_number": "*"
    }, 
    {
     "cell_type": "markdown", 
     "source": [
      "---", 
      "Attempting to replicate results test/mechanisms.py (single compartment)"
     ]
    }, 
    {
     "cell_type": "code", 
     "collapsed": false, 
     "input": [
      "bash('mechanisms.py external/nemo_testing/neuron/ncml_build_dir/Golgi/install/Golgi*.mod --init_var ek \"-84.69\" --init_var ena 87.39 --init_var eca 132.457934 --init_mech_var ca_ion cai0 50e-6 \\", 
      "--init_mech_var ca2_ion ca2i0 50e-6 --init_var cai 50e-6 --init_var ca2i 50e-6 --init_var ca2o 50e-6 --init_mech_var Golgi_Ca cai0 50e-6 --init_mech_var Golgi_Ca2 ca2i0 50e-6 \\", 
      "--length 27 --diam 27 --silent_build --celsius 23 --no_input --no_tables --save_prefix output/mechanisms --timestep 0.025 --no_plot', save_output='output/mechanisms.log', silent=True)"
     ], 
     "language": "python", 
     "outputs": [], 
     "prompt_number": "*"
    }, 
    {
     "cell_type": "markdown", 
     "source": [
      "---", 
      "Compare psections between ncml_generated and ivans_generated output"
     ]
    }, 
    {
     "cell_type": "code", 
     "collapsed": false, 
     "input": [
      "compare_psections('output/ncml_generated_golgi.log', 'output/single_golgi_cell_single_compartment.log')"
     ], 
     "language": "python", 
     "outputs": [], 
     "prompt_number": "*"
    }, 
    {
     "cell_type": "markdown", 
     "source": [
      "---", 
      "Plotting comparison between different scripts or mod files"
     ]
    }, 
    {
     "cell_type": "code", 
     "collapsed": true, 
     "input": [
      "activity_plot('output/single_cell_with_axon.Golgis.v output/ncml_generated_golgi_hoc.dat --combine')"
     ], 
     "language": "python", 
     "outputs": [], 
     "prompt_number": "*"
    }, 
    {
     "cell_type": "code", 
     "collapsed": true, 
     "input": [
      "activity_plot('output/single_cell_with_axon.Golgis.v output/sergios_golgi_hoc.dat --combine')"
     ], 
     "language": "python", 
     "outputs": [], 
     "prompt_number": "*"
    }, 
    {
     "cell_type": "code", 
     "collapsed": true, 
     "input": [
      "activity_plot('output/single_cell_with_axon.Golgis.v output/single_cell_without_axon.Golgis.v --combine')"
     ], 
     "language": "python", 
     "outputs": [], 
     "prompt_number": "*"
    }, 
    {
     "cell_type": "code", 
     "collapsed": true, 
     "input": [
      "activity_plot('output/single_cell_without_axon.Golgis.v output/fabios_golgi_hoc.dat --combine')"
     ], 
     "language": "python", 
     "outputs": [], 
     "prompt_number": "*"
    }, 
    {
     "cell_type": "markdown", 
     "source": [
      "In this case the peak voltage is the same but the firing rate of the generated files is considerably slower, not sure what the problem is"
     ]
    }
   ]
  }
 ]
}