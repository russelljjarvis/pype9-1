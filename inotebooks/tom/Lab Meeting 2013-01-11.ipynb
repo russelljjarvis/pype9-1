{
 "metadata": {
  "name": "Lab Meeting 2013-01-11"
 }, 
 "nbformat": 2, 
 "worksheets": [
  {
   "cells": [
    {
     "cell_type": "code", 
     "collapsed": false, 
     "input": [
      "from utilities.inotebook import *", 
      "inotebook_init()"
     ], 
     "language": "python", 
     "outputs": [
      {
       "output_type": "stream", 
       "stream": "stdout", 
       "text": [
        "Using git revision of k-Brain: c4ac9029b4585525a4a4758df00f5586314d4624", 
        ""
       ]
      }
     ], 
     "prompt_number": 4
    }, 
    {
     "cell_type": "markdown", 
     "source": [
      "---", 
      "Fabio's network update", 
      "---", 
      "- Debugging gap junctions over MPI implemtation", 
      "  - Works using supposedly MPI-compatible syntax, when MPI is disabled...", 
      "  - However, throws a segfault when MPI is enabled", 
      "  - Waiting on response from Michael Hines"
     ]
    }, 
    {
     "cell_type": "markdown", 
     "source": [
      "---", 
      "Golgi cell tuning", 
      "---", 
      "Without axon (but dendrites) - as in Fabio's model"
     ]
    }, 
    {
     "cell_type": "code", 
     "collapsed": false, 
     "input": [
      "plot_activity('output/golgi_tuning.with_axon.diam27.0.v output/golgi_tuning.without_axon.diam_27.0.v output/golgi_tuning.without_axon.diam10.0.v output/golgi_tuning.without_axon.diam9.0.v  output/golgi_tuning.without_axon.diam8.0.v --combine --extra_label \"Without Axon\"')"
     ], 
     "language": "python", 
     "outputs": [], 
     "prompt_number": 15
    }, 
    {
     "cell_type": "markdown", 
     "source": [
      "---", 
      "Single compartment"
     ]
    }, 
    {
     "cell_type": "code", 
     "collapsed": false, 
     "input": [
      "plot_activity('output/golgi_tuning.with_axon.diam27.0.v output/golgi_tuning.single_compartment.diam10.0.v output/golgi_tuning.single_compartment.diam_1.0.v --extra_label \"Single Compartment\" --combine')"
     ], 
     "language": "python", 
     "outputs": [], 
     "prompt_number": 16
    }, 
    {
     "cell_type": "markdown", 
     "source": [
      "---", 
      "Overlap Matrix between Purkinje cells", 
      "---", 
      "For 2 micron voxels"
     ]
    }, 
    {
     "cell_type": "code", 
     "collapsed": false, 
     "input": [
      "plot_overlap_matrix('/home/tclose//data_kbrain/pf2pc_connectivity/GFP_P60.1_slide7_2ndslice-HN-FINAL.txt --overlap_matrix')"
     ], 
     "language": "python", 
     "outputs": [], 
     "prompt_number": 3
    }, 
    {
     "cell_type": "markdown", 
     "source": [
      "Next up", 
      "", 
      "- Waiting on Hermina for Forests with smooth dendrites marked", 
      "- See how connectivity matrix changes as voxel sizes increase (macro versus micro overlap)"
     ]
    }, 
    {
     "cell_type": "code", 
     "collapsed": true, 
     "input": [], 
     "language": "python", 
     "outputs": []
    }, 
    {
     "cell_type": "markdown", 
     "source": [
      "---", 
      "Discussion with Andrew Davison re integrating work into PyNN", 
      "---", 
      "- Would like to integrate my work into the main branch", 
      "- Mentioned authorship on PyNN-NineML paper", 
      "- Collaboration meetings planned in mid-late May in Europe", 
      "- They are also interested in seeing Ivan's work because they have been working on a equivalent Python code for Neuron/Nest/Others (although still haven't implemented conductance-based models) "
     ]
    }, 
    {
     "cell_type": "code", 
     "collapsed": true, 
     "input": [], 
     "language": "python", 
     "outputs": []
    }
   ]
  }
 ]
}