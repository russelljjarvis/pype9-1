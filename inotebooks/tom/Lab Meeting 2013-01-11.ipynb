{
 "metadata": {
  "name": "Lab Meeting 2013-01-11"
 }, 
 "nbformat": 2, 
 "worksheets": [
  {
   "cells": [
    {
     "cell_type": "code", 
     "collapsed": false, 
     "input": [
      "from utilities.inotebook import *", 
      "inotebook_init()", 
      "os.listdir('output')"
     ], 
     "language": "python", 
     "outputs": [
      {
       "output_type": "stream", 
       "stream": "stdout", 
       "text": [
        "Using git revision of k-Brain: e82d545e57c141405653ddd5993ac591759ca2dc", 
        ""
       ]
      }, 
      {
       "output_type": "pyout", 
       "prompt_number": 1, 
       "text": [
        "['golgi_tuning.with_axon.diam27.0.v',", 
        " 'golgi_tuning.without_axon.diam9.0.v',", 
        " 'golgi_tuning.single_compartment.diam12.0.v',", 
        " 'golgi_tuning.10.v',", 
        " 'golgi_tuning.17.5.v',", 
        " 'golgi_tuning.1.v',", 
        " 'golgi_tuning.without_axon.diam12.0.v',", 
        " 'golgi_tuning.15.v',", 
        " 'golgi_tuning.without_axon.diam8.0.v',", 
        " 'golgi_tuning.20.v',", 
        " 'golgi_tuning.100.v',", 
        " 'golgi_tuning.27.0.v',", 
        " 'golgi_tuning.single_compartment.diam_1.0.v',", 
        " 'golgi_tuning.12.5.v',", 
        " 'golgi_tuning.without_axon.diam10.0.v',", 
        " 'golgi_tuning.27.v',", 
        " 'golgi_tuning.50.v',", 
        " 'golgi_tuning.5.v',", 
        " 'golgi_tuning.single_compartment.diam10.0.v',", 
        " 'golgi_tuning.without_axon.diam_27.0.v']"
       ]
      }
     ], 
     "prompt_number": 1
    }, 
    {
     "cell_type": "markdown", 
     "source": [
      "---", 
      "Golgi cell tuning", 
      "---"
     ]
    }, 
    {
     "cell_type": "markdown", 
     "source": [
      "---", 
      "Without axon (but dendrites) - as in Fabio's model"
     ]
    }, 
    {
     "cell_type": "code", 
     "collapsed": false, 
     "input": [
      "plot_activity('output/golgi_tuning.with_axon.diam27.0.v output/golgi_tuning.without_axon.diam_27.0.v output/golgi_tuning.without_axon.diam10.0.v output/golgi_tuning.without_axon.diam9.0.v  output/golgi_tuning.without_axon.diam8.0.v --combine --extra_label \"Without Axon\"')"
     ], 
     "language": "python", 
     "outputs": [], 
     "prompt_number": 15
    }, 
    {
     "cell_type": "markdown", 
     "source": [
      "---", 
      "Single compartment"
     ]
    }, 
    {
     "cell_type": "code", 
     "collapsed": false, 
     "input": [
      "plot_activity('output/golgi_tuning.with_axon.diam27.0.v output/golgi_tuning.single_compartment.diam10.0.v output/golgi_tuning.single_compartment.diam_1.0.v --extra_label \"Single Compartment\" --combine')"
     ], 
     "language": "python", 
     "outputs": [], 
     "prompt_number": 16
    }, 
    {
     "cell_type": "markdown", 
     "source": [
      "---", 
      "Overlap Matrix between Purkinje cells", 
      "---"
     ]
    }, 
    {
     "cell_type": "markdown", 
     "source": [
      "For 2 micron voxels"
     ]
    }, 
    {
     "cell_type": "code", 
     "collapsed": false, 
     "input": [
      "plot_overlap_matrix('/home/tclose//data_kbrain/pf2pc_connectivity/GFP_P60.1_slide7_2ndslice-HN-FINAL.txt --overlap_matrix')"
     ], 
     "language": "python", 
     "outputs": [], 
     "prompt_number": 3
    }, 
    {
     "cell_type": "markdown", 
     "source": [
      "---", 
      "Discussion with Andrew Davison re integrating work into PyNN", 
      "---"
     ]
    }, 
    {
     "cell_type": "markdown", 
     "source": [
      "- Would like to integrate my work into the main branch", 
      "- Mentioned authorship on PyNN-NineML paper"
     ]
    }, 
    {
     "cell_type": "code", 
     "collapsed": true, 
     "input": [], 
     "language": "python", 
     "outputs": []
    }
   ]
  }
 ]
}