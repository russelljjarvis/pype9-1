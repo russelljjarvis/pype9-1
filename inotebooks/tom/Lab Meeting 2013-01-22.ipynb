{
 "metadata": {
  "name": "Lab Meeting 2013-01-22"
 }, 
 "nbformat": 2, 
 "worksheets": [
  {
   "cells": [
    {
     "cell_type": "code", 
     "collapsed": false, 
     "input": [
      "from utilities.inotebook import *", 
      "inotebook_init()"
     ], 
     "language": "python", 
     "outputs": [
      {
       "output_type": "stream", 
       "stream": "stdout", 
       "text": [
        "Using git revision of k-Brain: 9e27866ffab2d0dfe81202ea323172227bd697ae", 
        ""
       ]
      }
     ], 
     "prompt_number": 1
    }, 
    {
     "cell_type": "markdown", 
     "source": [
      "---", 
      "Fabio's Network with Gap junctions", 
      "---", 
      "- Changed gap mod file", 
      "- Exactly copied the connectivity that is in Fabio's original network", 
      "  - Dropped BRep", 
      "  - Reduced the number of connections at edges, fixed probability instead of fixed number of connections"
     ]
    }, 
    {
     "cell_type": "markdown", 
     "source": [
      "---", 
      "Seems to be working but can't check on tombo due to maintenance", 
      "", 
      "Reduced model (that can run on my laptop in a reasonable time)"
     ]
    }, 
    {
     "cell_type": "code", 
     "collapsed": true, 
     "input": [
      "os.chdir('/home/tclose/data_kbrain/fabios_network/')", 
      "plot_activity('without_gap/fabios_network.Golgis.v with_gap/fabios_network.Golgis.v --title_prefix')"
     ], 
     "language": "python", 
     "outputs": [], 
     "prompt_number": 3
    }, 
    {
     "cell_type": "markdown", 
     "source": [
      "---", 
      "Working on integrating NEST models into PyNN", 
      "---", 
      " - Models automatically compile and load", 
      " - Some bugs to smooth out with accessing model parameters"
     ]
    }, 
    {
     "cell_type": "code", 
     "collapsed": true, 
     "input": [], 
     "language": "python", 
     "outputs": []
    }
   ]
  }
 ]
}