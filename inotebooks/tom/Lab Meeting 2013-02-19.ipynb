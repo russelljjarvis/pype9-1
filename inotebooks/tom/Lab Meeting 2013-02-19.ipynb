{
 "metadata": {
  "name": "Lab Meeting 2013-02-19"
 }, 
 "nbformat": 2, 
 "worksheets": [
  {
   "cells": [
    {
     "cell_type": "code", 
     "collapsed": false, 
     "input": [
      "from utilities.inotebook import *", 
      "inotebook_init()"
     ], 
     "language": "python", 
     "outputs": [
      {
       "output_type": "stream", 
       "stream": "stdout", 
       "text": [
        "Using git revision of k-Brain: de6b08e61c7aca2980a5f3627fdfa9df541bf355", 
        ""
       ]
      }
     ], 
     "prompt_number": 1
    }, 
    {
     "cell_type": "markdown", 
     "source": [
      "---", 
      "Fabio's network testing", 
      "---"
     ]
    }, 
    {
     "cell_type": "markdown", 
     "source": [
      "With very large gap conductance to check if it is working"
     ]
    }, 
    {
     "cell_type": "code", 
     "collapsed": false, 
     "input": [
      "plot_activity('/home/tclose/data_kbrain/fabios_network/fab_four_final/big_gap/Golgis.spikes')"
     ], 
     "language": "python", 
     "outputs": [], 
     "prompt_number": 3
    }, 
    {
     "cell_type": "markdown", 
     "source": [
      "Without gap"
     ]
    }, 
    {
     "cell_type": "code", 
     "collapsed": true, 
     "input": [
      "plot_activity('/home/tclose/data_kbrain/fabios_network/fab_four_final/no_gap-gr2go/Golgis.spikes')"
     ], 
     "language": "python", 
     "outputs": [], 
     "prompt_number": 4
    }, 
    {
     "cell_type": "markdown", 
     "source": [
      "With gap"
     ]
    }, 
    {
     "cell_type": "code", 
     "collapsed": false, 
     "input": [
      "plot_activity('/home/tclose/data_kbrain/fabios_network/fab_four_final/gap-gr2go/Golgis.spikes')"
     ], 
     "language": "python", 
     "outputs": [], 
     "prompt_number": 6
    }, 
    {
     "cell_type": "code", 
     "collapsed": true, 
     "input": [], 
     "language": "python", 
     "outputs": []
    }
   ]
  }
 ]
}