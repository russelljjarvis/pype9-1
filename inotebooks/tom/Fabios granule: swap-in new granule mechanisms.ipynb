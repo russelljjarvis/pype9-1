{
 "metadata": {
  "name": "Fabios granule: swap-in new granule mechanisms"
 }, 
 "nbformat": 2, 
 "worksheets": [
  {
   "cells": [
    {
     "cell_type": "code", 
     "collapsed": false, 
     "input": [
      "import os.path", 
      "import matplotlib.pyplot as plt", 
      "from utilities.inotebook import *", 
      "inotebook_init()", 
      "", 
      "# A list of all the mechnisms", 
      "ALL_MECHS = ('ca', 'CaHVA', 'KA', 'KCa', 'KM', 'KV', 'Kir', 'Lkg1', 'Lkg2',  'Na')", 
      "# Returns the remaining mechs not included in the provided list", 
      "def remaining_mechs(mechs):", 
      "    remain = []", 
      "    for m in ALL_MECHS:", 
      "        if m not in mechs:", 
      "            remain.append(m)", 
      "    return remain", 
      "", 
      "# The filename to copy the output file to", 
      "def get_output_name(new_mechs=(), ampa_freq=0, nmda_freq=0, gaba_freq=0):", 
      "    return \"output/granule-new.{}-ampa_{}.nmda_{}.gaba_{}.v_dat\".format('.'.join(new_mechs), ampa_freq, nmda_freq, gaba_freq)", 
      "", 
      "# Run the simulation using a hoc script with different combinations of new and old mechanisms", 
      "def combine_new_with_old(new_mechs=(), ampa_freq=0, nmda_freq=0, gaba_freq=0, silent=False, save_output=None):", 
      "    bash('rm -r external/nemo_testing/neuron/combined_granule/x86_64; rm -r external/nemo_testing/neuron/combined_granule/Granule_DeSouza10_*', silent=silent)", 
      "    for mech in new_mechs:", 
      "        bash('ln -s `pwd`/external/nemo_testing/neuron/generated_fabios_granule/Granule_DeSouza10_{}.mod external/nemo_testing/neuron/combined_granule/'.format(mech), silent=silent)", 
      "    for mech in ALL_MECHS:", 
      "        if mech not in new_mechs:", 
      "            bash('ln -s `pwd`/external/nemo_testing/neuron/renamed_fabios_granule/Granule_DeSouza10_{}.mod external/nemo_testing/neuron/combined_granule/'.format(mech), silent=silent)", 
      "    bash('cd external/nemo_testing/neuron/combined_granule; nrnivmodl')", 
      "    if ampa_freq or nmda_freq or gaba_freq:", 
      "        mosinit_name='mosinit-ampa_{}.nmda_{}.gaba_{}.hoc'.format(ampa_freq, nmda_freq, gaba_freq)", 
      "        bash(\"cd external/nemo_testing/neuron/combined_granule; echo 'input_freq_AMPA = {ampa_freq}' > {name}; echo 'input_freq_NMDA = {nmda_freq}' >> {name};\"", 
      "             \"echo 'input_freq_GABA = {gaba_freq}' >> {name}; tail -n +4 mosinit.hoc >> {name}\"", 
      "             .format(name=mosinit_name, ampa_freq=ampa_freq, nmda_freq=nmda_freq, gaba_freq=gaba_freq), silent=silent)", 
      "    else:", 
      "        mosinit_name='mosinit.hoc'", 
      "    bash('cd external/nemo_testing/neuron/combined_granule; nrngui {}'.format(mosinit_name), save_output=save_output)", 
      "    if ampa_freq or nmda_freq or gaba_freq:", 
      "        os.remove(os.path.join('external/nemo_testing/neuron/combined_granule', mosinit_name))", 
      "    output_name=get_output_name(new_mechs, ampa_freq, nmda_freq, gaba_freq)", 
      "    bash(\"mv output/combined.Granule.v_dat {}\".format(output_name))", 
      "    print \"Voltage trace recorded at {}\".format(output_name)"
     ], 
     "language": "python", 
     "outputs": [], 
     "prompt_number": 31
    }, 
    {
     "cell_type": "code", 
     "collapsed": false, 
     "input": [
      "combine_new_with_old(ampa_freq=100)", 
      "for mech in ALL_MECHS:", 
      "    combine_new_with_old((mech,), ampa_freq=100)"
     ], 
     "language": "python", 
     "outputs": [], 
     "prompt_number": 28
    }, 
    {
     "cell_type": "code", 
     "collapsed": false, 
     "input": [
      "for mech in ALL_MECHS:", 
      "    plot_activity(\"{} {} --combine --no_show --label {}\".format(get_output_name((mech,), ampa_freq=100), get_output_name(ampa_freq=100), mech))", 
      "plt.show()"
     ], 
     "language": "python", 
     "outputs": [], 
     "prompt_number": 30
    }, 
    {
     "cell_type": "code", 
     "collapsed": true, 
     "input": [], 
     "language": "python", 
     "outputs": []
    }
   ]
  }
 ]
}