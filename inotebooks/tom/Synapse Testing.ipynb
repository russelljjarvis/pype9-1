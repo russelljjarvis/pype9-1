{
 "metadata": {
  "name": "Synapse Testing"
 }, 
 "nbformat": 2, 
 "worksheets": [
  {
   "cells": [
    {
     "cell_type": "code", 
     "collapsed": false, 
     "input": [
      "from utilities.inotebook import *", 
      "inotebook_init()", 
      "import matplotlib.pyplot as plt"
     ], 
     "language": "python", 
     "outputs": [
      {
       "output_type": "stream", 
       "stream": "stdout", 
       "text": [
        "Using git revision of k-Brain: e6f6da1828ac13efbe63d728bb29427e65ac991f", 
        ""
       ]
      }
     ], 
     "prompt_number": 1
    }, 
    {
     "cell_type": "code", 
     "collapsed": true, 
     "input": [
      "bash('single_cell.py xml/cerebellum/single_granule.xml --build force --no_description --output output/single_granule.neuron.AMPA.pkl --simulator neuron --input spikes soma_seg.AMPA  0.0025', silent=True)"
     ], 
     "language": "python", 
     "outputs": [], 
     "prompt_number": 2
    }, 
    {
     "cell_type": "code", 
     "collapsed": true, 
     "input": [
      "bash('single_cell.py xml/cerebellum/single_granule.xml --no_description --output output/single_granule.neuron.NMDA.pkl --simulator neuron --input spikes soma_seg.NMDA 0.00021', silent=True)"
     ], 
     "language": "python", 
     "outputs": [], 
     "prompt_number": 3
    }, 
    {
     "cell_type": "code", 
     "collapsed": true, 
     "input": [
      "bash('single_cell.py xml/cerebellum/single_granule.xml --no_description --output output/single_granule.neuron.GABA.pkl --simulator neuron --input spikes soma_seg.GABA 0.001', silent=True)"
     ], 
     "language": "python", 
     "outputs": [], 
     "prompt_number": 4
    }, 
    {
     "cell_type": "code", 
     "collapsed": true, 
     "input": [
      "bash('single_cell.py xml/cerebellum/single_granule.xml --build force --no_description --output output/single_granule.nest.AMPA.pkl --simulator nest --input spikes soma_seg.AMPA  0.0025', silent=True)"
     ], 
     "language": "python", 
     "outputs": [], 
     "prompt_number": 5
    }, 
    {
     "cell_type": "code", 
     "collapsed": true, 
     "input": [
      "bash('single_cell.py xml/cerebellum/single_granule.xml --no_description --output output/single_granule.nest.NMDA.pkl --simulator nest --input spikes soma_seg.NMDA 0.00021', silent=True)"
     ], 
     "language": "python", 
     "outputs": [], 
     "prompt_number": 6
    }, 
    {
     "cell_type": "code", 
     "collapsed": true, 
     "input": [
      "bash('single_cell.py xml/cerebellum/single_granule.xml --no_description --output output/single_granule.nest.GABA.pkl --simulator nest --input spikes soma_seg.GABA 0.001', silent=True)"
     ], 
     "language": "python", 
     "outputs": [], 
     "prompt_number": 7
    }, 
    {
     "cell_type": "code", 
     "collapsed": true, 
     "input": [
      "bash('single_cell.py xml/cerebellum/single_golgi_without_axon.xml --build force --no_description --output output/single_golgi.neuron.AMPA_MossyFiber.pkl --simulator neuron --input spikes soma_seg.AMPA_MossyFiber  0.0025', silent=True) # 0.001"
     ], 
     "language": "python", 
     "outputs": [], 
     "prompt_number": 8
    }, 
    {
     "cell_type": "code", 
     "collapsed": true, 
     "input": [
      "bash('single_cell.py xml/cerebellum/single_golgi_without_axon.xml --no_description --output output/single_golgi.neuron.AMPA_Granule.pkl --simulator neuron --input spikes soma_seg.AMPA_Granule  0.0025', silent=True)"
     ], 
     "language": "python", 
     "outputs": [], 
     "prompt_number": 9
    }, 
    {
     "cell_type": "code", 
     "collapsed": true, 
     "input": [
      "bash('single_cell.py xml/cerebellum/single_golgi_without_axon.xml --build force --no_description --output output/single_golgi.nest.AMPA_MossyFiber.pkl --simulator nest --input spikes soma_seg.AMPA_MossyFiber  0.0025', silent=True) # 0.001"
     ], 
     "language": "python", 
     "outputs": [], 
     "prompt_number": 10
    }, 
    {
     "cell_type": "code", 
     "collapsed": true, 
     "input": [
      "bash('single_cell.py xml/cerebellum/single_golgi_without_axon.xml --no_description --output output/single_golgi.nest.AMPA_Granule.pkl --simulator nest --input spikes soma_seg.AMPA_Granule  0.0025', silent=True)"
     ], 
     "language": "python", 
     "outputs": [], 
     "prompt_number": 11
    }, 
    {
     "cell_type": "code", 
     "collapsed": true, 
     "input": [
      "plot_activity('output/single_granule.neuron.AMPA.pkl --only traces --no_show')"
     ], 
     "language": "python", 
     "outputs": [], 
     "prompt_number": 12
    }, 
    {
     "cell_type": "code", 
     "collapsed": true, 
     "input": [
      "plot_activity('output/single_granule.neuron.NMDA.pkl --only traces --no_show')"
     ], 
     "language": "python", 
     "outputs": [], 
     "prompt_number": 13
    }, 
    {
     "cell_type": "code", 
     "collapsed": true, 
     "input": [
      "plot_activity('output/single_granule.neuron.GABA.pkl --only traces --no_show')"
     ], 
     "language": "python", 
     "outputs": [], 
     "prompt_number": 14
    }, 
    {
     "cell_type": "code", 
     "collapsed": true, 
     "input": [
      "plot_activity('output/single_granule.nest.AMPA.pkl --only traces --no_show')"
     ], 
     "language": "python", 
     "outputs": [], 
     "prompt_number": 15
    }, 
    {
     "cell_type": "code", 
     "collapsed": true, 
     "input": [
      "plot_activity('output/single_granule.nest.NMDA.pkl --only traces --no_show')"
     ], 
     "language": "python", 
     "outputs": [], 
     "prompt_number": 16
    }, 
    {
     "cell_type": "code", 
     "collapsed": true, 
     "input": [
      "plot_activity('output/single_granule.nest.GABA.pkl --only traces --no_show')"
     ], 
     "language": "python", 
     "outputs": [], 
     "prompt_number": 17
    }, 
    {
     "cell_type": "code", 
     "collapsed": true, 
     "input": [
      "plot_activity('output/single_golgi.neuron.AMPA_MossyFiber.pkl --only traces --no_show')"
     ], 
     "language": "python", 
     "outputs": [], 
     "prompt_number": 18
    }, 
    {
     "cell_type": "code", 
     "collapsed": true, 
     "input": [
      "plot_activity('output/single_golgi.neuron.AMPA_Granule.pkl --only traces --no_show')"
     ], 
     "language": "python", 
     "outputs": [], 
     "prompt_number": 19
    }, 
    {
     "cell_type": "code", 
     "collapsed": true, 
     "input": [
      "plot_activity('output/single_golgi.nest.AMPA_MossyFiber.pkl --only traces --no_show')"
     ], 
     "language": "python", 
     "outputs": [], 
     "prompt_number": 20
    }, 
    {
     "cell_type": "code", 
     "collapsed": true, 
     "input": [
      "plot_activity('output/single_golgi.nest.AMPA_Granule.pkl --only traces --no_show')"
     ], 
     "language": "python", 
     "outputs": [], 
     "prompt_number": 21
    }, 
    {
     "cell_type": "code", 
     "collapsed": true, 
     "input": [
      "plt.show()"
     ], 
     "language": "python", 
     "outputs": [], 
     "prompt_number": 22
    }
   ]
  }
 ]
}