{
 "metadata": {
  "name": "Sergios Golgi: swap-in new mechanisms"
 }, 
 "nbformat": 2, 
 "worksheets": [
  {
   "cells": [
    {
     "cell_type": "code", 
     "collapsed": false, 
     "input": [
      "import os.path", 
      "import matplotlib.pyplot as plt", 
      "from utilities.inotebook import *", 
      "inotebook_init()", 
      "", 
      "# A list of all the mechnisms", 
      "ALL_MECHS = ('ca', 'ca2', 'CaHVA', 'CaLVA', 'HCN1', 'HCN2', 'KA', 'KCa', 'KM', 'KV', 'Lkg',  'Na', 'NaP', 'NaR', 'SK2', 'na','k')", 
      "", 
      "# Returns the remaining mechs not included in the provided list", 
      "def remaining_mechs(mechs):", 
      "    remain = []", 
      "    for m in ALL_MECHS:", 
      "        if m not in mechs:", 
      "            remain.append(m)", 
      "    return remain", 
      "", 
      "# The filename to copy the output file to", 
      "def get_output_name(new_mechs=(), input_freq=0):", 
      "    return \"output/golgi-new.{}-input.{}.v_dat\".format('.'.join(new_mechs), input_freq)", 
      "", 
      "# Run the simulation using a hoc script with different combinations of new and old mechanisms", 
      "def combine_new_with_old(new_mechs=(), input_freq=0, silent=False, save_output=None):", 
      "    bash('rm -r external/nemo_testing/neuron/combined_sergios_golgi/x86_64; rm -r external/nemo_testing/neuron/combined_golgi/Golgi_DeSouza10_*', silent=silent)", 
      "    for mech in new_mechs:", 
      "        bash('ln -s `pwd`/external/nemo_testing/neuron/generated_sergios_golgi/Golgi_DeSouza10_{}.mod external/nemo_testing/neuron/combined_sergios_golgi/'.format(mech), silent=silent)", 
      "    for mech in ALL_MECHS:", 
      "        if mech not in new_mechs:", 
      "            bash('ln -s `pwd`/external/nemo_testing/neuron/renamed_sergios_golgi/Golgi_DeSouza10_{}.mod external/nemo_testing/neuron/combined_sergios_golgi/'.format(mech), silent=silent)", 
      "    bash('cd external/nemo_testing/neuron/combined_sergios_golgi; nrnivmodl')", 
      "    if input_freq:", 
      "        mosinit_name='mosinit-input_{}.hoc'.format(input_freq)", 
      "        bash(\"cd external/nemo_testing/neuron/combined_sergios_golgi; echo 'input_freq = {freq}' > {name}; tail -n +2 mosinit.hoc >> {name}\".format(name=mosinit_name, freq=input_freq), silent=silent)", 
      "    else:", 
      "        mosinit_name='mosinit.hoc'", 
      "    bash('cd external/nemo_testing/neuron/combined_sergios_golgi; nrngui {}'.format(mosinit_name), save_output=save_output)", 
      "    if input_freq:", 
      "        os.remove(os.path.join('external/nemo_testing/neuron/combined_sergios_golgi', mosinit_name))", 
      "    output_name=get_output_name(new_mechs, input_freq)", 
      "    bash(\"mv output/combined_sergios.Golgi.v_dat {}\".format(output_name))", 
      "    print \"Voltage trace recorded at {}\".format(output_name)"
     ], 
     "language": "python", 
     "outputs": [
      {
       "output_type": "stream", 
       "stream": "stdout", 
       "text": [
        "Using git revision of k-Brain: 3dadfaf9b82ce2070ff9451a941e1632134e3c60", 
        ""
       ]
      }
     ], 
     "prompt_number": 1
    }, 
    {
     "cell_type": "code", 
     "collapsed": true, 
     "input": [
      "combine_new_with_old()", 
      "combine_new_with_old(ALL_MECHS)", 
      "for mech in ALL_MECHS:", 
      "    combine_new_with_old((mech,), input_freq=100)"
     ], 
     "language": "python", 
     "outputs": []
    }, 
    {
     "cell_type": "code", 
     "collapsed": true, 
     "input": [
      "plot_activity(\"{} {} --combine --no_show --label {}\".format(get_output_name(ALL_MECHS), get_output_name(), 'ALL_MECHS'))", 
      "for mech in ALL_MECHS:", 
      "    plot_activity(\"{} {} --combine --no_show --label {}\".format(get_output_name((mech,)), get_output_name(), mech))", 
      "plt.show()"
     ], 
     "language": "python", 
     "outputs": []
    }
   ]
  }
 ]
}