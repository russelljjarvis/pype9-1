{
 "metadata": {
  "name": "Testing Granule mechanisms"
 }, 
 "nbformat": 2, 
 "worksheets": [
  {
   "cells": [
    {
     "cell_type": "markdown", 
     "source": [
      "Preporatory tasks", 
      "---"
     ]
    }, 
    {
     "cell_type": "code", 
     "collapsed": false, 
     "input": [
      "from utilities.inotebook import *", 
      "inotebook_init()"
     ], 
     "language": "python", 
     "outputs": [
      {
       "output_type": "stream", 
       "stream": "stdout", 
       "text": [
        "Using git revision of k-Brain: 617c79f2341d1df5f5375244896e9a393e0affb0", 
        ""
       ]
      }
     ], 
     "prompt_number": 1
    }, 
    {
     "cell_type": "markdown", 
     "source": [
      "Clear any files that might be getting confused with previous builds"
     ]
    }, 
    {
     "cell_type": "code", 
     "collapsed": true, 
     "input": [
      "#clear_output_dir() "
     ], 
     "language": "python", 
     "outputs": [], 
     "prompt_number": 12
    }, 
    {
     "cell_type": "markdown", 
     "source": [
      "Run simulations", 
      "---"
     ]
    }, 
    {
     "cell_type": "markdown", 
     "source": [
      "---", 
      "Python and NeMo version"
     ]
    }, 
    {
     "cell_type": "code", 
     "collapsed": false, 
     "input": [
      "bash('single_cell.py xml/cerebellum/single_granule.xml --inject step 0.01875 1000 --output output/single_granule.v --no_description', save_output='output/single_granule_cell.log')"
     ], 
     "language": "python", 
     "outputs": [
      {
       "output_type": "stream", 
       "stream": "stdout", 
       "text": [
        "NEURON -- VERSION 7.3 (755:56b2e4fa6248) 2013-01-02", 
        "Duke, Yale, and the BlueBrain Project -- Copyright 1984-2012", 
        "See http://www.neuron.yale.edu/credits.html", 
        "", 
        "Additional mechanisms from files", 
        " adexp.mod alphaisyn.mod alphasyn.mod expisyn.mod gap.mod gsfa_grr.mod hh_traub.mod netstim2.mod refrac.mod reset.mod stdwa_guetig.mod stdwa_softlimits.mod stdwa_songabbott.mod stdwa_symm.mod tmgsyn.mod tmisyn.mod vecstim.mod", 
        "", 
        "Warning: uncaught exception: (specificCapacitance (@ (value \"1.0\") (units \"uF_per_cm2\")))", 
        "", 
        "", 
        "Warning: uncaught exception: (reversalPotential (@ (value \"87.39\") (units \"mV\") (species \"na\")))", 
        "", 
        "", 
        "Warning: uncaught exception: (reversalPotential (@ (value \"-84.69\") (units \"mV\") (species \"k\")))", 
        "", 
        "", 
        "Warning: uncaught exception: (reversalPotential (@ (value \"129.33\") (units \"mV\") (species \"ca\")))", 
        "", 
        "Creating x86_64 directory for .o files.", 
        "", 
        "/home/tclose/git/kbrain/xml/cerebellum/ncml/build/neuron/Granule_DeSouza10/install", 
        "Granule_DeSouza10_CaHVA.mod Granule_DeSouza10_KA.mod Granule_DeSouza10_KCa.mod Granule_DeSouza10_KM.mod Granule_DeSouza10_KV.mod Granule_DeSouza10_Kir.mod Granule_DeSouza10_Lkg1.mod Granule_DeSouza10_Lkg2.mod Granule_DeSouza10_Na.mod Granule_DeSouza10_ca.mod Granule_DeSouza10_soma.mod", 
        "Granule_DeSouza10_CaHVA.mod Granule_DeSouza10_KA.mod Granule_DeSouza10_KCa.mod Granule_DeSouza10_KM.mod Granule_DeSouza10_KV.mod Granule_DeSouza10_Kir.mod Granule_DeSouza10_Lkg1.mod Granule_DeSouza10_Lkg2.mod Granule_DeSouza10_Na.mod Granule_DeSouza10_ca.mod Granule_DeSouza10_soma.mod", 
        "\"/opt/NEURON/nrn-7.3//x86_64/bin/nocmodl\" Granule_DeSouza10_CaHVA", 
        "Translating Granule_DeSouza10_CaHVA.mod into Granule_DeSouza10_CaHVA.c", 
        "Thread Safe", 
        "\"/opt/NEURON/nrn-7.3//share/nrn/libtool\" --tag=CC --mode=compile mpicc -DHAVE_CONFIG_H  -I. -I.. -I\"/opt/NEURON/nrn-7.3//include/nrn\" -I\"/opt/NEURON/nrn-7.3//x86_64/lib\"      -g -O2 -c -o Granule_DeSouza10_CaHVA.lo Granule_DeSouza10_CaHVA.c", 
        "libtool: compile:  mpicc -DHAVE_CONFIG_H -I. -I.. -I/opt/NEURON/nrn-7.3//include/nrn -I/opt/NEURON/nrn-7.3//x86_64/lib -g -O2 -c Granule_DeSouza10_CaHVA.c  -fPIC -DPIC -o .libs/Granule_DeSouza10_CaHVA.o", 
        "\"/opt/NEURON/nrn-7.3//x86_64/bin/nocmodl\" Granule_DeSouza10_KA", 
        "Translating Granule_DeSouza10_KA.mod into Granule_DeSouza10_KA.c", 
        "Thread Safe", 
        "\"/opt/NEURON/nrn-7.3//share/nrn/libtool\" --tag=CC --mode=compile mpicc -DHAVE_CONFIG_H  -I. -I.. -I\"/opt/NEURON/nrn-7.3//include/nrn\" -I\"/opt/NEURON/nrn-7.3//x86_64/lib\"      -g -O2 -c -o Granule_DeSouza10_KA.lo Granule_DeSouza10_KA.c", 
        "libtool: compile:  mpicc -DHAVE_CONFIG_H -I. -I.. -I/opt/NEURON/nrn-7.3//include/nrn -I/opt/NEURON/nrn-7.3//x86_64/lib -g -O2 -c Granule_DeSouza10_KA.c  -fPIC -DPIC -o .libs/Granule_DeSouza10_KA.o", 
        "\"/opt/NEURON/nrn-7.3//x86_64/bin/nocmodl\" Granule_DeSouza10_KCa", 
        "Translating Granule_DeSouza10_KCa.mod into Granule_DeSouza10_KCa.c", 
        "Thread Safe", 
        "\"/opt/NEURON/nrn-7.3//share/nrn/libtool\" --tag=CC --mode=compile mpicc -DHAVE_CONFIG_H  -I. -I.. -I\"/opt/NEURON/nrn-7.3//include/nrn\" -I\"/opt/NEURON/nrn-7.3//x86_64/lib\"      -g -O2 -c -o Granule_DeSouza10_KCa.lo Granule_DeSouza10_KCa.c", 
        "libtool: compile:  mpicc -DHAVE_CONFIG_H -I. -I.. -I/opt/NEURON/nrn-7.3//include/nrn -I/opt/NEURON/nrn-7.3//x86_64/lib -g -O2 -c Granule_DeSouza10_KCa.c  -fPIC -DPIC -o .libs/Granule_DeSouza10_KCa.o", 
        "\"/opt/NEURON/nrn-7.3//x86_64/bin/nocmodl\" Granule_DeSouza10_KM", 
        "Translating Granule_DeSouza10_KM.mod into Granule_DeSouza10_KM.c", 
        "Thread Safe", 
        "\"/opt/NEURON/nrn-7.3//share/nrn/libtool\" --tag=CC --mode=compile mpicc -DHAVE_CONFIG_H  -I. -I.. -I\"/opt/NEURON/nrn-7.3//include/nrn\" -I\"/opt/NEURON/nrn-7.3//x86_64/lib\"      -g -O2 -c -o Granule_DeSouza10_KM.lo Granule_DeSouza10_KM.c", 
        "libtool: compile:  mpicc -DHAVE_CONFIG_H -I. -I.. -I/opt/NEURON/nrn-7.3//include/nrn -I/opt/NEURON/nrn-7.3//x86_64/lib -g -O2 -c Granule_DeSouza10_KM.c  -fPIC -DPIC -o .libs/Granule_DeSouza10_KM.o", 
        "\"/opt/NEURON/nrn-7.3//x86_64/bin/nocmodl\" Granule_DeSouza10_KV", 
        "Translating Granule_DeSouza10_KV.mod into Granule_DeSouza10_KV.c", 
        "Thread Safe", 
        "\"/opt/NEURON/nrn-7.3//share/nrn/libtool\" --tag=CC --mode=compile mpicc -DHAVE_CONFIG_H  -I. -I.. -I\"/opt/NEURON/nrn-7.3//include/nrn\" -I\"/opt/NEURON/nrn-7.3//x86_64/lib\"      -g -O2 -c -o Granule_DeSouza10_KV.lo Granule_DeSouza10_KV.c", 
        "libtool: compile:  mpicc -DHAVE_CONFIG_H -I. -I.. -I/opt/NEURON/nrn-7.3//include/nrn -I/opt/NEURON/nrn-7.3//x86_64/lib -g -O2 -c Granule_DeSouza10_KV.c  -fPIC -DPIC -o .libs/Granule_DeSouza10_KV.o", 
        "\"/opt/NEURON/nrn-7.3//x86_64/bin/nocmodl\" Granule_DeSouza10_Kir", 
        "Translating Granule_DeSouza10_Kir.mod into Granule_DeSouza10_Kir.c", 
        "Thread Safe", 
        "\"/opt/NEURON/nrn-7.3//share/nrn/libtool\" --tag=CC --mode=compile mpicc -DHAVE_CONFIG_H  -I. -I.. -I\"/opt/NEURON/nrn-7.3//include/nrn\" -I\"/opt/NEURON/nrn-7.3//x86_64/lib\"      -g -O2 -c -o Granule_DeSouza10_Kir.lo Granule_DeSouza10_Kir.c", 
        "libtool: compile:  mpicc -DHAVE_CONFIG_H -I. -I.. -I/opt/NEURON/nrn-7.3//include/nrn -I/opt/NEURON/nrn-7.3//x86_64/lib -g -O2 -c Granule_DeSouza10_Kir.c  -fPIC -DPIC -o .libs/Granule_DeSouza10_Kir.o", 
        "\"/opt/NEURON/nrn-7.3//x86_64/bin/nocmodl\" Granule_DeSouza10_Lkg1", 
        "Translating Granule_DeSouza10_Lkg1.mod into Granule_DeSouza10_Lkg1.c", 
        "Thread Safe", 
        "\"/opt/NEURON/nrn-7.3//share/nrn/libtool\" --tag=CC --mode=compile mpicc -DHAVE_CONFIG_H  -I. -I.. -I\"/opt/NEURON/nrn-7.3//include/nrn\" -I\"/opt/NEURON/nrn-7.3//x86_64/lib\"      -g -O2 -c -o Granule_DeSouza10_Lkg1.lo Granule_DeSouza10_Lkg1.c", 
        "libtool: compile:  mpicc -DHAVE_CONFIG_H -I. -I.. -I/opt/NEURON/nrn-7.3//include/nrn -I/opt/NEURON/nrn-7.3//x86_64/lib -g -O2 -c Granule_DeSouza10_Lkg1.c  -fPIC -DPIC -o .libs/Granule_DeSouza10_Lkg1.o", 
        "\"/opt/NEURON/nrn-7.3//x86_64/bin/nocmodl\" Granule_DeSouza10_Lkg2", 
        "Translating Granule_DeSouza10_Lkg2.mod into Granule_DeSouza10_Lkg2.c", 
        "Thread Safe", 
        "\"/opt/NEURON/nrn-7.3//share/nrn/libtool\" --tag=CC --mode=compile mpicc -DHAVE_CONFIG_H  -I. -I.. -I\"/opt/NEURON/nrn-7.3//include/nrn\" -I\"/opt/NEURON/nrn-7.3//x86_64/lib\"      -g -O2 -c -o Granule_DeSouza10_Lkg2.lo Granule_DeSouza10_Lkg2.c", 
        "libtool: compile:  mpicc -DHAVE_CONFIG_H -I. -I.. -I/opt/NEURON/nrn-7.3//include/nrn -I/opt/NEURON/nrn-7.3//x86_64/lib -g -O2 -c Granule_DeSouza10_Lkg2.c  -fPIC -DPIC -o .libs/Granule_DeSouza10_Lkg2.o", 
        "\"/opt/NEURON/nrn-7.3//x86_64/bin/nocmodl\" Granule_DeSouza10_Na", 
        "Translating Granule_DeSouza10_Na.mod into Granule_DeSouza10_Na.c", 
        "NEURON's CVode method ignores conservation", 
        "Thread Safe", 
        "\"/opt/NEURON/nrn-7.3//share/nrn/libtool\" --tag=CC --mode=compile mpicc -DHAVE_CONFIG_H  -I. -I.. -I\"/opt/NEURON/nrn-7.3//include/nrn\" -I\"/opt/NEURON/nrn-7.3//x86_64/lib\"      -g -O2 -c -o Granule_DeSouza10_Na.lo Granule_DeSouza10_Na.c", 
        "libtool: compile:  mpicc -DHAVE_CONFIG_H -I. -I.. -I/opt/NEURON/nrn-7.3//include/nrn -I/opt/NEURON/nrn-7.3//x86_64/lib -g -O2 -c Granule_DeSouza10_Na.c  -fPIC -DPIC -o .libs/Granule_DeSouza10_Na.o", 
        "\"/opt/NEURON/nrn-7.3//x86_64/bin/nocmodl\" Granule_DeSouza10_ca", 
        "Translating Granule_DeSouza10_ca.mod into Granule_DeSouza10_ca.c", 
        "Thread Safe", 
        "\"/opt/NEURON/nrn-7.3//share/nrn/libtool\" --tag=CC --mode=compile mpicc -DHAVE_CONFIG_H  -I. -I.. -I\"/opt/NEURON/nrn-7.3//include/nrn\" -I\"/opt/NEURON/nrn-7.3//x86_64/lib\"      -g -O2 -c -o Granule_DeSouza10_ca.lo Granule_DeSouza10_ca.c", 
        "libtool: compile:  mpicc -DHAVE_CONFIG_H -I. -I.. -I/opt/NEURON/nrn-7.3//include/nrn -I/opt/NEURON/nrn-7.3//x86_64/lib -g -O2 -c Granule_DeSouza10_ca.c  -fPIC -DPIC -o .libs/Granule_DeSouza10_ca.o", 
        "\"/opt/NEURON/nrn-7.3//x86_64/bin/nocmodl\" Granule_DeSouza10_soma", 
        "Translating Granule_DeSouza10_soma.mod into Granule_DeSouza10_soma.c", 
        "Thread Safe", 
        "\"/opt/NEURON/nrn-7.3//share/nrn/libtool\" --tag=CC --mode=compile mpicc -DHAVE_CONFIG_H  -I. -I.. -I\"/opt/NEURON/nrn-7.3//include/nrn\" -I\"/opt/NEURON/nrn-7.3//x86_64/lib\"      -g -O2 -c -o Granule_DeSouza10_soma.lo Granule_DeSouza10_soma.c", 
        "libtool: compile:  mpicc -DHAVE_CONFIG_H -I. -I.. -I/opt/NEURON/nrn-7.3//include/nrn -I/opt/NEURON/nrn-7.3//x86_64/lib -g -O2 -c Granule_DeSouza10_soma.c  -fPIC -DPIC -o .libs/Granule_DeSouza10_soma.o", 
        "\"/opt/NEURON/nrn-7.3//share/nrn/libtool\" --tag=CC --mode=compile mpicc -DHAVE_CONFIG_H  -I. -I.. -I\"/opt/NEURON/nrn-7.3//include/nrn\" -I\"/opt/NEURON/nrn-7.3//x86_64/lib\"      -g -O2 -c -o mod_func.lo mod_func.c", 
        "libtool: compile:  mpicc -DHAVE_CONFIG_H -I. -I.. -I/opt/NEURON/nrn-7.3//include/nrn -I/opt/NEURON/nrn-7.3//x86_64/lib -g -O2 -c mod_func.c  -fPIC -DPIC -o .libs/mod_func.o", 
        "\"/opt/NEURON/nrn-7.3//share/nrn/libtool\" --tag=CC --mode=link mpicc -module  -g -O2    -o libnrnmech.la -rpath \"/opt/NEURON/nrn-7.3//x86_64/lib\"  Granule_DeSouza10_CaHVA.lo Granule_DeSouza10_KA.lo Granule_DeSouza10_KCa.lo Granule_DeSouza10_KM.lo Granule_DeSouza10_KV.lo Granule_DeSouza10_Kir.lo Granule_DeSouza10_Lkg1.lo Granule_DeSouza10_Lkg2.lo Granule_DeSouza10_Na.lo Granule_DeSouza10_ca.lo Granule_DeSouza10_soma.lo mod_func.lo  -L\"/opt/NEURON/nrn-7.3//x86_64/lib\" -lnrnoc -loc -lmemacs -lnrnmpi -lscopmath -lsparse13 -lreadline -lncurses -L\"/opt/NEURON/nrn-7.3//x86_64/lib\" \"/opt/NEURON/nrn-7.3//x86_64/lib/libnrniv.la\" -livoc -lneuron_gnu -lmeschach -lsundials       -lm -ldl", 
        "libtool: link: mpicc -shared  -fPIC -DPIC  .libs/Granule_DeSouza10_CaHVA.o .libs/Granule_DeSouza10_KA.o .libs/Granule_DeSouza10_KCa.o .libs/Granule_DeSouza10_KM.o .libs/Granule_DeSouza10_KV.o .libs/Granule_DeSouza10_Kir.o .libs/Granule_DeSouza10_Lkg1.o .libs/Granule_DeSouza10_Lkg2.o .libs/Granule_DeSouza10_Na.o .libs/Granule_DeSouza10_ca.o .libs/Granule_DeSouza10_soma.o .libs/mod_func.o   -Wl,-rpath -Wl,/opt/NEURON/nrn-7.3/x86_64/lib -Wl,-rpath -Wl,/opt/NEURON/nrn-7.3/x86_64/lib -L/opt/NEURON/nrn-7.3//x86_64/lib /opt/NEURON/nrn-7.3/x86_64/lib/libnrnoc.so /opt/NEURON/nrn-7.3/x86_64/lib/liboc.so /opt/NEURON/nrn-7.3/x86_64/lib/libmemacs.so /opt/NEURON/nrn-7.3/x86_64/lib/libnrnmpi.so /opt/NEURON/nrn-7.3/x86_64/lib/libscopmath.so /opt/NEURON/nrn-7.3/x86_64/lib/libsparse13.so -lreadline -lncurses /opt/NEURON/nrn-7.3/x86_64/lib/libnrniv.so /opt/NEURON/nrn-7.3/x86_64/lib/libivoc.so /opt/NEURON/nrn-7.3/x86_64/lib/libneuron_gnu.so /opt/NEURON/nrn-7.3/x86_64/lib/libmeschach.so /opt/NEURON/nrn-7.3/x86_64/lib/libsundials.so -lm -ldl  -O2   -pthread -Wl,-soname -Wl,libnrnmech.so.0 -o .libs/libnrnmech.so.0.0.0", 
        "libtool: link: (cd \".libs\" && rm -f \"libnrnmech.so.0\" && ln -s \"libnrnmech.so.0.0.0\" \"libnrnmech.so.0\")", 
        "libtool: link: (cd \".libs\" && rm -f \"libnrnmech.so\" && ln -s \"libnrnmech.so.0.0.0\" \"libnrnmech.so\")", 
        "libtool: link: ( cd \".libs\" && rm -f \"libnrnmech.la\" && ln -s \"../libnrnmech.la\" \"libnrnmech.la\" )", 
        "Successfully created x86_64/special", 
        "Additional mechanisms from files", 
        " Granule_DeSouza10_CaHVA.mod Granule_DeSouza10_KA.mod Granule_DeSouza10_KCa.mod Granule_DeSouza10_KM.mod Granule_DeSouza10_KV.mod Granule_DeSouza10_Kir.mod Granule_DeSouza10_Lkg1.mod Granule_DeSouza10_Lkg2.mod Granule_DeSouza10_Na.mod Granule_DeSouza10_ca.mod Granule_DeSouza10_soma.mod", 
        "numprocs=1", 
        "Building network", 
        "Building mechanisms in '/home/tclose/git/kbrain/xml/cerebellum/ncml/build/neuron/Granule_DeSouza10/install' directory.", 
        "PySec_0x3d690b0 { nseg=1  L=11.8  Ra=100", 
        "\t/*location 0 attached to cell 3*/", 
        "\t/* First segment only */", 
        "\tinsert morphology { diam=11.8}", 
        "\tinsert capacitance { cm=1}", 
        "\tinsert Granule_DeSouza10_CaHVA { comp222_V_t_Granule_DeSouza10_CaHVA=-35 comp224_vcinc_Granule_DeSouza10_CaHVA=10 comp224_vcbase_Granule_DeSouza10_CaHVA=-69 comp225_gbar_Granule_DeSouza10_CaHVA=0.00046 comp224_vcsteps_Granule_DeSouza10_CaHVA=8 comp223_C_m_Granule_DeSouza10_CaHVA=1 comp224_vchdur_Granule_DeSouza10_CaHVA=30 comp224_vcbdur_Granule_DeSouza10_CaHVA=100 comp222_celsius_Granule_DeSouza10_CaHVA=30 comp224_vchold_Granule_DeSouza10_CaHVA=-71}", 
        "\tinsert Granule_DeSouza10_KA { comp265_vcbdur_Granule_DeSouza10_KA=100 comp266_gbar_Granule_DeSouza10_KA=0.0032 comp265_vchold_Granule_DeSouza10_KA=-71 comp265_vcinc_Granule_DeSouza10_KA=10 comp263_V_t_Granule_DeSouza10_KA=-35 comp265_vcsteps_Granule_DeSouza10_KA=8 comp263_celsius_Granule_DeSouza10_KA=30 comp265_vcbase_Granule_DeSouza10_KA=-69 comp266_e_Granule_DeSouza10_KA=-84.69 comp264_C_m_Granule_DeSouza10_KA=1 comp265_vchdur_Granule_DeSouza10_KA=30}", 
        "\tinsert Granule_DeSouza10_KCa { comp317_vcinc_Granule_DeSouza10_KCa=10 comp317_vchold_Granule_DeSouza10_KCa=-71 comp318_e_Granule_DeSouza10_KCa=-84.69 comp315_V_t_Granule_DeSouza10_KCa=-35 comp317_vcsteps_Granule_DeSouza10_KCa=8 comp317_vcbase_Granule_DeSouza10_KCa=-69 comp315_celsius_Granule_DeSouza10_KCa=30 comp316_C_m_Granule_DeSouza10_KCa=1 comp317_vchdur_Granule_DeSouza10_KCa=30 comp317_vcbdur_Granule_DeSouza10_KCa=100 comp318_gbar_Granule_DeSouza10_KCa=0.04}", 
        "\tinsert Granule_DeSouza10_KM { comp383_e_Granule_DeSouza10_KM=-84.69 comp382_vcbase_Granule_DeSouza10_KM=-69 comp381_C_m_Granule_DeSouza10_KM=1 comp383_gbar_Granule_DeSouza10_KM=0.00025 comp382_vcsteps_Granule_DeSouza10_KM=8 comp382_vchdur_Granule_DeSouza10_KM=30 comp382_vcbdur_Granule_DeSouza10_KM=100 comp380_celsius_Granule_DeSouza10_KM=30 comp382_vchold_Granule_DeSouza10_KM=-71 comp380_V_t_Granule_DeSouza10_KM=-35 comp382_vcinc_Granule_DeSouza10_KM=10}", 
        "\tinsert Granule_DeSouza10_KV { comp413_vchold_Granule_DeSouza10_KV=-71 comp414_e_Granule_DeSouza10_KV=-84.69 comp411_V_t_Granule_DeSouza10_KV=-35 comp413_vcsteps_Granule_DeSouza10_KV=8 comp413_vcbase_Granule_DeSouza10_KV=-69 comp414_gbar_Granule_DeSouza10_KV=0.003 comp411_celsius_Granule_DeSouza10_KV=30 comp412_C_m_Granule_DeSouza10_KV=1 comp413_vcinc_Granule_DeSouza10_KV=10 comp413_vchdur_Granule_DeSouza10_KV=30 comp413_vcbdur_Granule_DeSouza10_KV=100}", 
        "\tinsert Granule_DeSouza10_Kir { comp351_vcbdur_Granule_DeSouza10_Kir=100 comp350_C_m_Granule_DeSouza10_Kir=1 comp351_vchold_Granule_DeSouza10_Kir=-71 comp351_vcsteps_Granule_DeSouza10_Kir=8 comp351_vcinc_Granule_DeSouza10_Kir=10 comp349_celsius_Granule_DeSouza10_Kir=30 comp352_gbar_Granule_DeSouza10_Kir=0.0009 comp351_vcbase_Granule_DeSouza10_Kir=-69 comp349_V_t_Granule_DeSouza10_Kir=-35 comp352_e_Granule_DeSouza10_Kir=-84.69 comp351_vchdur_Granule_DeSouza10_Kir=30}", 
        "\tinsert k_ion { ek=-84.69}", 
        "\tinsert Granule_DeSouza10_Lkg1 { comp449_gbar_Granule_DeSouza10_Lkg1=5.68e-05 comp448_C_m_Granule_DeSouza10_Lkg1=1 comp447_celsius_Granule_DeSouza10_Lkg1=30 comp447_V_t_Granule_DeSouza10_Lkg1=-35 comp449_e_Granule_DeSouza10_Lkg1=-16.5}", 
        "\tinsert Granule_DeSouza10_Lkg2 { comp466_V_t_Granule_DeSouza10_Lkg2=-35 comp467_C_m_Granule_DeSouza10_Lkg2=1 comp468_egaba_Granule_DeSouza10_Lkg2=-65 comp468_ggaba_Granule_DeSouza10_Lkg2=3e-05 comp466_celsius_Granule_DeSouza10_Lkg2=30}", 
        "\tinsert Granule_DeSouza10_Na { comp487_vchold_Granule_DeSouza10_Na=-71 comp487_vcinc_Granule_DeSouza10_Na=10 comp487_vcsteps_Granule_DeSouza10_Na=9 comp488_e_Granule_DeSouza10_Na=87.39 comp485_V_t_Granule_DeSouza10_Na=-35 comp487_vcbase_Granule_DeSouza10_Na=-60 comp485_celsius_Granule_DeSouza10_Na=30 comp487_vchdur_Granule_DeSouza10_Na=30 comp487_vcbdur_Granule_DeSouza10_Na=100 comp486_C_m_Granule_DeSouza10_Na=1 comp488_gbar_Granule_DeSouza10_Na=0.013}", 
        "\tinsert na_ion { ena=87.39}", 
        "\tinsert Granule_DeSouza10_ca { comp206_C_m_Granule_DeSouza10_ca=1 comp205_celsius_Granule_DeSouza10_ca=30 comp205_V_t_Granule_DeSouza10_ca=-35 comp207_cao_Granule_DeSouza10_ca=2}", 
        "\tinsert ca_ion {}", 
        "\tinsert Exp2Syn { tau1=0.03 tau2=0.5 e=0}", 
        "\tinsert Exp2Syn { tau1=1 tau2=13.3 e=0}", 
        "\tinsert Exp2Syn { tau1=0.31 tau2=8.8 e=-75}", 
        "}", 
        "------Miscellaneous hoc variables to print------", 
        "ena: 87.39", 
        "ek: -84.69", 
        "eca: 129.33", 
        "celsius: 30.0", 
        "Starting run", 
        "Simulated single cell for 2000.000000 milliseconds", 
        "Saved voltage trace to 'output/single_granule.v'"
       ]
      }
     ], 
     "prompt_number": 2
    }, 
    {
     "cell_type": "markdown", 
     "source": [
      "---", 
      "Fabio's hoc script and original mod files"
     ]
    }, 
    {
     "cell_type": "code", 
     "collapsed": true, 
     "input": [
      "bash('cd external/nemo_testing/neuron/fabios_granule; nrnivmodl', silent=True)", 
      "bash('nrngui external/nemo_testing/neuron/fabios_granule/fabios_granule.hoc', save_output='output/fabios_granule_hoc.log')"
     ], 
     "language": "python", 
     "outputs": [], 
     "prompt_number": 14
    }, 
    {
     "cell_type": "markdown", 
     "source": [
      "---", 
      "NeMo mod files with hoc script"
     ]
    }, 
    {
     "cell_type": "code", 
     "collapsed": true, 
     "input": [
      "bash('nrngui external/nemo_testing/neuron/ncml_generated_hoc/ncml_generated_granule.hoc', save_output='output/ncml_generated_granule_hoc.log')"
     ], 
     "language": "python", 
     "outputs": [], 
     "prompt_number": 22
    }, 
    {
     "cell_type": "markdown", 
     "source": [
      "---", 
      "Use mechanisms.py with generated mod files"
     ]
    }, 
    {
     "cell_type": "code", 
     "collapsed": true, 
     "input": [
      "bash('mechanisms.py xml/cerebellum/ncml/build/neuron/Granule_DeSouza10/install/Granule_*.mod --save_prefix output/generated_granule_mechanisms --timestep 0.025 --no_plot --silent_build --init_var ena 87.39 --step 0.01875 --init_var ek \"-84.69\" --init_var eca 129.33', save_output='output/generated_granule_mechanisms.log')"
     ], 
     "language": "python", 
     "outputs": [], 
     "prompt_number": 16
    }, 
    {
     "cell_type": "markdown", 
     "source": [
      "---", 
      "NEST version"
     ]
    }, 
    {
     "cell_type": "code", 
     "collapsed": false, 
     "input": [
      "bash('single_cell.py xml/cerebellum/single_granule_no_input.xml --inject step 0.01875 1000 --output output/single_granule_nest.v --no_description --simulator nest', save_output='output/single_granule_cell_nest.log')"
     ], 
     "language": "python", 
     "outputs": [
      {
       "ename": "KeyboardInterrupt", 
       "evalue": "", 
       "output_type": "pyerr", 
       "traceback": [
        "\u001b[1;31m---------------------------------------------------------------------------\u001b[0m\n\u001b[1;31mKeyboardInterrupt\u001b[0m                         Traceback (most recent call last)", 
        "\u001b[1;32m/home/tclose/git/kbrain/<ipython-input-3-33ef6d1ba983>\u001b[0m in \u001b[0;36m<module>\u001b[1;34m()\u001b[0m\n\u001b[1;32m----> 1\u001b[1;33m \u001b[0mbash\u001b[0m\u001b[1;33m(\u001b[0m\u001b[1;34m'single_cell.py xml/cerebellum/single_granule_no_input.xml --inject step 0.01875 1000 --output output/single_granule_nest.v --no_description --simulator nest'\u001b[0m\u001b[1;33m,\u001b[0m \u001b[0msave_output\u001b[0m\u001b[1;33m=\u001b[0m\u001b[1;34m'output/single_granule_cell_nest.log'\u001b[0m\u001b[1;33m)\u001b[0m\u001b[1;33m\u001b[0m\u001b[0m\n\u001b[0m", 
        "\u001b[1;32m/home/tclose/git/kbrain/src/utilities/inotebook.pyc\u001b[0m in \u001b[0;36mbash\u001b[1;34m(cmd, silent, save_output)\u001b[0m\n\u001b[0;32m     62\u001b[0m     \"\"\"\n\u001b[0;32m     63\u001b[0m     \u001b[1;32mtry\u001b[0m\u001b[1;33m:\u001b[0m\u001b[1;33m\u001b[0m\u001b[0m\n\u001b[1;32m---> 64\u001b[1;33m         \u001b[0moutput\u001b[0m \u001b[1;33m=\u001b[0m \u001b[0msubprocess\u001b[0m\u001b[1;33m.\u001b[0m\u001b[0mcheck_output\u001b[0m\u001b[1;33m(\u001b[0m\u001b[0mcmd\u001b[0m\u001b[1;33m,\u001b[0m \u001b[0mshell\u001b[0m\u001b[1;33m=\u001b[0m\u001b[0mTrue\u001b[0m\u001b[1;33m,\u001b[0m \u001b[0mstderr\u001b[0m\u001b[1;33m=\u001b[0m\u001b[0msubprocess\u001b[0m\u001b[1;33m.\u001b[0m\u001b[0mSTDOUT\u001b[0m\u001b[1;33m)\u001b[0m\u001b[1;33m\u001b[0m\u001b[0m\n\u001b[0m\u001b[0;32m     65\u001b[0m     \u001b[1;32mexcept\u001b[0m \u001b[0msubprocess\u001b[0m\u001b[1;33m.\u001b[0m\u001b[0mCalledProcessError\u001b[0m \u001b[1;32mas\u001b[0m \u001b[0me\u001b[0m\u001b[1;33m:\u001b[0m\u001b[1;33m\u001b[0m\u001b[0m\n\u001b[0;32m     66\u001b[0m         \u001b[0moutput\u001b[0m \u001b[1;33m=\u001b[0m \u001b[1;34m'Return Code: {0}\\n{1}'\u001b[0m\u001b[1;33m.\u001b[0m\u001b[0mformat\u001b[0m\u001b[1;33m(\u001b[0m\u001b[0me\u001b[0m\u001b[1;33m.\u001b[0m\u001b[0mreturncode\u001b[0m\u001b[1;33m,\u001b[0m \u001b[0me\u001b[0m\u001b[1;33m.\u001b[0m\u001b[0moutput\u001b[0m\u001b[1;33m)\u001b[0m\u001b[1;33m\u001b[0m\u001b[0m\n", 
        "\u001b[1;32m/usr/lib/python2.7/subprocess.pyc\u001b[0m in \u001b[0;36mcheck_output\u001b[1;34m(*popenargs, **kwargs)\u001b[0m\n\u001b[0;32m    536\u001b[0m         \u001b[1;32mraise\u001b[0m \u001b[0mValueError\u001b[0m\u001b[1;33m(\u001b[0m\u001b[1;34m'stdout argument not allowed, it will be overridden.'\u001b[0m\u001b[1;33m)\u001b[0m\u001b[1;33m\u001b[0m\u001b[0m\n\u001b[0;32m    537\u001b[0m     \u001b[0mprocess\u001b[0m \u001b[1;33m=\u001b[0m \u001b[0mPopen\u001b[0m\u001b[1;33m(\u001b[0m\u001b[0mstdout\u001b[0m\u001b[1;33m=\u001b[0m\u001b[0mPIPE\u001b[0m\u001b[1;33m,\u001b[0m \u001b[1;33m*\u001b[0m\u001b[0mpopenargs\u001b[0m\u001b[1;33m,\u001b[0m \u001b[1;33m**\u001b[0m\u001b[0mkwargs\u001b[0m\u001b[1;33m)\u001b[0m\u001b[1;33m\u001b[0m\u001b[0m\n\u001b[1;32m--> 538\u001b[1;33m     \u001b[0moutput\u001b[0m\u001b[1;33m,\u001b[0m \u001b[0munused_err\u001b[0m \u001b[1;33m=\u001b[0m \u001b[0mprocess\u001b[0m\u001b[1;33m.\u001b[0m\u001b[0mcommunicate\u001b[0m\u001b[1;33m(\u001b[0m\u001b[1;33m)\u001b[0m\u001b[1;33m\u001b[0m\u001b[0m\n\u001b[0m\u001b[0;32m    539\u001b[0m     \u001b[0mretcode\u001b[0m \u001b[1;33m=\u001b[0m \u001b[0mprocess\u001b[0m\u001b[1;33m.\u001b[0m\u001b[0mpoll\u001b[0m\u001b[1;33m(\u001b[0m\u001b[1;33m)\u001b[0m\u001b[1;33m\u001b[0m\u001b[0m\n\u001b[0;32m    540\u001b[0m     \u001b[1;32mif\u001b[0m \u001b[0mretcode\u001b[0m\u001b[1;33m:\u001b[0m\u001b[1;33m\u001b[0m\u001b[0m\n", 
        "\u001b[1;32m/usr/lib/python2.7/subprocess.pyc\u001b[0m in \u001b[0;36mcommunicate\u001b[1;34m(self, input)\u001b[0m\n\u001b[0;32m    744\u001b[0m                 \u001b[0mself\u001b[0m\u001b[1;33m.\u001b[0m\u001b[0mstdin\u001b[0m\u001b[1;33m.\u001b[0m\u001b[0mclose\u001b[0m\u001b[1;33m(\u001b[0m\u001b[1;33m)\u001b[0m\u001b[1;33m\u001b[0m\u001b[0m\n\u001b[0;32m    745\u001b[0m             \u001b[1;32melif\u001b[0m \u001b[0mself\u001b[0m\u001b[1;33m.\u001b[0m\u001b[0mstdout\u001b[0m\u001b[1;33m:\u001b[0m\u001b[1;33m\u001b[0m\u001b[0m\n\u001b[1;32m--> 746\u001b[1;33m                 \u001b[0mstdout\u001b[0m \u001b[1;33m=\u001b[0m \u001b[0m_eintr_retry_call\u001b[0m\u001b[1;33m(\u001b[0m\u001b[0mself\u001b[0m\u001b[1;33m.\u001b[0m\u001b[0mstdout\u001b[0m\u001b[1;33m.\u001b[0m\u001b[0mread\u001b[0m\u001b[1;33m)\u001b[0m\u001b[1;33m\u001b[0m\u001b[0m\n\u001b[0m\u001b[0;32m    747\u001b[0m                 \u001b[0mself\u001b[0m\u001b[1;33m.\u001b[0m\u001b[0mstdout\u001b[0m\u001b[1;33m.\u001b[0m\u001b[0mclose\u001b[0m\u001b[1;33m(\u001b[0m\u001b[1;33m)\u001b[0m\u001b[1;33m\u001b[0m\u001b[0m\n\u001b[0;32m    748\u001b[0m             \u001b[1;32melif\u001b[0m \u001b[0mself\u001b[0m\u001b[1;33m.\u001b[0m\u001b[0mstderr\u001b[0m\u001b[1;33m:\u001b[0m\u001b[1;33m\u001b[0m\u001b[0m\n", 
        "\u001b[1;32m/usr/lib/python2.7/subprocess.pyc\u001b[0m in \u001b[0;36m_eintr_retry_call\u001b[1;34m(func, *args)\u001b[0m\n\u001b[0;32m    476\u001b[0m     \u001b[1;32mwhile\u001b[0m \u001b[0mTrue\u001b[0m\u001b[1;33m:\u001b[0m\u001b[1;33m\u001b[0m\u001b[0m\n\u001b[0;32m    477\u001b[0m         \u001b[1;32mtry\u001b[0m\u001b[1;33m:\u001b[0m\u001b[1;33m\u001b[0m\u001b[0m\n\u001b[1;32m--> 478\u001b[1;33m             \u001b[1;32mreturn\u001b[0m \u001b[0mfunc\u001b[0m\u001b[1;33m(\u001b[0m\u001b[1;33m*\u001b[0m\u001b[0margs\u001b[0m\u001b[1;33m)\u001b[0m\u001b[1;33m\u001b[0m\u001b[0m\n\u001b[0m\u001b[0;32m    479\u001b[0m         \u001b[1;32mexcept\u001b[0m \u001b[1;33m(\u001b[0m\u001b[0mOSError\u001b[0m\u001b[1;33m,\u001b[0m \u001b[0mIOError\u001b[0m\u001b[1;33m)\u001b[0m \u001b[1;32mas\u001b[0m \u001b[0me\u001b[0m\u001b[1;33m:\u001b[0m\u001b[1;33m\u001b[0m\u001b[0m\n\u001b[0;32m    480\u001b[0m             \u001b[1;32mif\u001b[0m \u001b[0me\u001b[0m\u001b[1;33m.\u001b[0m\u001b[0merrno\u001b[0m \u001b[1;33m==\u001b[0m \u001b[0merrno\u001b[0m\u001b[1;33m.\u001b[0m\u001b[0mEINTR\u001b[0m\u001b[1;33m:\u001b[0m\u001b[1;33m\u001b[0m\u001b[0m\n", 
        "\u001b[1;31mKeyboardInterrupt\u001b[0m: "
       ]
      }
     ], 
     "prompt_number": 3
    }, 
    {
     "cell_type": "markdown", 
     "source": [
      "Compare parameters", 
      "---"
     ]
    }, 
    {
     "cell_type": "code", 
     "collapsed": true, 
     "input": [
      "compare_psections('output/single_granule_cell.log', ref_psection_log='output/ncml_generated_granule_hoc.log')"
     ], 
     "language": "python", 
     "outputs": [], 
     "prompt_number": 18
    }, 
    {
     "cell_type": "markdown", 
     "source": [
      "Plotting comparisons", 
      "---"
     ]
    }, 
    {
     "cell_type": "code", 
     "collapsed": true, 
     "input": [
      "activity_plot('output/fabios_granule_hoc.dat output/single_granule.v --combine')"
     ], 
     "language": "python", 
     "outputs": [], 
     "prompt_number": 19
    }, 
    {
     "cell_type": "code", 
     "collapsed": true, 
     "input": [
      "activity_plot('output/fabios_granule_hoc.dat output/ncml_generated_granule_hoc.dat --combine')"
     ], 
     "language": "python", 
     "outputs": [], 
     "prompt_number": 23
    }, 
    {
     "cell_type": "code", 
     "collapsed": true, 
     "input": [
      "activity_plot('output/single_granule.v output/single_granule_nest.v --combine --label \"NEST vs NEURON\" --prefix_filename')"
     ], 
     "language": "python", 
     "outputs": [], 
     "prompt_number": "*"
    }, 
    {
     "cell_type": "code", 
     "collapsed": true, 
     "input": [], 
     "language": "python", 
     "outputs": []
    }
   ]
  }
 ]
}