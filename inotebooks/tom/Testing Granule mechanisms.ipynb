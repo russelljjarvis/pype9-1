{
 "metadata": {
  "name": "Testing Granule mechanisms"
 }, 
 "nbformat": 2, 
 "worksheets": [
  {
   "cells": [
    {
     "cell_type": "markdown", 
     "source": [
      "---", 
      "Initialise IPython Notebook", 
      "---"
     ]
    }, 
    {
     "cell_type": "code", 
     "collapsed": true, 
     "input": [
      "from utilities.inotebook import *"
     ], 
     "language": "python", 
     "outputs": [], 
     "prompt_number": 1
    }, 
    {
     "cell_type": "code", 
     "collapsed": false, 
     "input": [
      "inotebook_init()"
     ], 
     "language": "python", 
     "outputs": [
      {
       "output_type": "stream", 
       "stream": "stdout", 
       "text": [
        "Using git revision of k-Brain: 8cf3f4fc0ffbc3765b343a7959a8b086588cde4e", 
        ""
       ]
      }
     ], 
     "prompt_number": 2
    }, 
    {
     "cell_type": "markdown", 
     "source": [
      "---", 
      "Testing original vs generated granule mod files", 
      "---"
     ]
    }, 
    {
     "cell_type": "markdown", 
     "source": [
      "---", 
      "Preporatory tasks"
     ]
    }, 
    {
     "cell_type": "markdown", 
     "source": [
      "Clear any files that might be getting confused with previous builds"
     ]
    }, 
    {
     "cell_type": "code", 
     "collapsed": false, 
     "input": [
      "clear_output_dir() "
     ], 
     "language": "python", 
     "outputs": [
      {
       "output_type": "stream", 
       "stream": "stdout", 
       "text": [
        "No files provided, clearing all files in output directory", 
        "Removed fabios_golgi_hoc.dat from output directory", 
        "Removed single_cell.Golgis.ik from output directory", 
        "Removed single_cell.Golgis.ca2i from output directory", 
        "Removed single_cell.Golgis.ica from output directory", 
        "Removed test_golgi.v from output directory", 
        "Removed first_golgi.v from output directory", 
        "Removed single_cell.Golgis.ina from output directory", 
        "Removed single_cell.Golgis.v from output directory", 
        "Removed sunghos_gap.log from output directory", 
        "Removed single_compart_generated_golgi_hoc.dat from output directory", 
        "Removed mechanisms.test.dat from output directory", 
        "Removed sergios_golgi_hoc.dat from output directory", 
        "Removed single_cell.Golgis.ca2o from output directory"
       ]
      }, 
      {
       "output_type": "stream", 
       "stream": "stdout", 
       "text": [
        "", 
        "Removed mechanisms.log from output directory", 
        "Removed single_compart_sergios_golgi_hoc.dat from output directory", 
        "Removed single_compart_generated_golgi.log from output directory", 
        "Removed single_compart_sergios_golgi.log from output directory", 
        "Removed generated_golgi_hoc.dat from output directory", 
        "Removed single_cell.Golgis.ica2 from output directory", 
        "Removed single_cell.Golgis.spikes from output directory", 
        "Removed single_cell.Golgis.cai from output directory", 
        "Removed single_cell.log from output directory", 
        "Removed TestCells.v from output directory", 
        "", 
        "-----------------------------------", 
        "Remaining files in output directory", 
        "-----------------------------------", 
        "", 
        "-----------------------------------"
       ]
      }
     ], 
     "prompt_number": 3
    }, 
    {
     "cell_type": "markdown", 
     "source": [
      "Checking that hoc scripts are doing the same thing"
     ]
    }, 
    {
     "cell_type": "code", 
     "collapsed": false, 
     "input": [
      "#diff('external/original_mod/granule/fabios_granule.hoc', 'xml/cerebellum/ncml/build/nmodl/generated_granule.hoc')"
     ], 
     "language": "python", 
     "outputs": [
      {
       "ename": "IOError", 
       "evalue": "[Errno 2] No such file or directory: 'xml/cerebellum/ncml/build/nmodl/generated_granule.hoc'", 
       "output_type": "pyerr", 
       "traceback": [
        "\u001b[1;31m---------------------------------------------------------------------------\u001b[0m\n\u001b[1;31mIOError\u001b[0m                                   Traceback (most recent call last)", 
        "\u001b[1;32m/home/tclose/git/kbrain/<ipython-input-4-f128a2554b55>\u001b[0m in \u001b[0;36m<module>\u001b[1;34m()\u001b[0m\n\u001b[1;32m----> 1\u001b[1;33m \u001b[0mdiff\u001b[0m\u001b[1;33m(\u001b[0m\u001b[1;34m'external/original_mod/granule/fabios_granule.hoc'\u001b[0m\u001b[1;33m,\u001b[0m \u001b[1;34m'xml/cerebellum/ncml/build/nmodl/generated_granule.hoc'\u001b[0m\u001b[1;33m)\u001b[0m\u001b[1;33m\u001b[0m\u001b[0m\n\u001b[0m", 
        "\u001b[1;32m/home/tclose/git/kbrain/src/utilities/inotebook.pyc\u001b[0m in \u001b[0;36mdiff\u001b[1;34m(ref_file, new_file)\u001b[0m\n\u001b[0;32m     46\u001b[0m     \"\"\"\n\u001b[0;32m     47\u001b[0m     \u001b[0mref_file_contents\u001b[0m \u001b[1;33m=\u001b[0m \u001b[0mopen\u001b[0m\u001b[1;33m(\u001b[0m\u001b[0mref_file\u001b[0m\u001b[1;33m)\u001b[0m\u001b[1;33m.\u001b[0m\u001b[0mreadlines\u001b[0m\u001b[1;33m(\u001b[0m\u001b[1;33m)\u001b[0m\u001b[1;33m\u001b[0m\u001b[0m\n\u001b[1;32m---> 48\u001b[1;33m     \u001b[0mnew_file_contents\u001b[0m \u001b[1;33m=\u001b[0m \u001b[0mopen\u001b[0m\u001b[1;33m(\u001b[0m\u001b[0mnew_file\u001b[0m\u001b[1;33m)\u001b[0m\u001b[1;33m.\u001b[0m\u001b[0mreadlines\u001b[0m\u001b[1;33m(\u001b[0m\u001b[1;33m)\u001b[0m\u001b[1;33m\u001b[0m\u001b[0m\n\u001b[0m\u001b[0;32m     49\u001b[0m     \u001b[1;32mfor\u001b[0m \u001b[0mline\u001b[0m \u001b[1;32min\u001b[0m \u001b[0mcontext_diff\u001b[0m\u001b[1;33m(\u001b[0m\u001b[0mref_file_contents\u001b[0m\u001b[1;33m,\u001b[0m \u001b[0mnew_file_contents\u001b[0m\u001b[1;33m)\u001b[0m\u001b[1;33m:\u001b[0m\u001b[1;33m\u001b[0m\u001b[0m\n\u001b[0;32m     50\u001b[0m         \u001b[0msys\u001b[0m\u001b[1;33m.\u001b[0m\u001b[0mstdout\u001b[0m\u001b[1;33m.\u001b[0m\u001b[0mwrite\u001b[0m\u001b[1;33m(\u001b[0m\u001b[0mline\u001b[0m\u001b[1;33m)\u001b[0m\u001b[1;33m\u001b[0m\u001b[0m\n", 
        "\u001b[1;31mIOError\u001b[0m: [Errno 2] No such file or directory: 'xml/cerebellum/ncml/build/nmodl/generated_granule.hoc'"
       ]
      }
     ], 
     "prompt_number": 4
    }, 
    {
     "cell_type": "markdown", 
     "source": [
      "---", 
      "Fabio's hoc script and mod files"
     ]
    }, 
    {
     "cell_type": "code", 
     "collapsed": false, 
     "input": [
      "bash('cd external/original_mod/granule; nrnivmodl', silent=True)", 
      "bash('nrngui external/original_mod/granule/fabios_granule.hoc', save_output='output/fabios_granule_hoc.log')"
     ], 
     "language": "python", 
     "outputs": []
    }, 
    {
     "cell_type": "markdown", 
     "source": [
      "---", 
      "Generated mod files with Fabio's hoc script"
     ]
    }, 
    {
     "cell_type": "code", 
     "collapsed": false, 
     "input": [
      "#bash('cd xml/cerebellum/ncml/build/nmodl; nrnivmodl', silent=True)", 
      "#bash('nrngui xml/cerebellum/ncml/build/nmodl/generated_granule.hoc', save_output='output/generated_granule_hoc.log')"
     ], 
     "language": "python", 
     "outputs": []
    }, 
    {
     "cell_type": "markdown", 
     "source": [
      "---", 
      "New Fabios hoc files"
     ]
    }, 
    {
     "cell_type": "code", 
     "collapsed": false, 
     "input": [
      "#bash('cd external/CGC_tests/fabio/; nrnivmodl', silent=True)", 
      "#bash('nrngui external/CGC_tests/fabio/new_fabios_granule.hoc', save_output='output/new_fabios_granule_hoc.log')"
     ], 
     "language": "python", 
     "outputs": []
    }, 
    {
     "cell_type": "markdown", 
     "source": [
      "---", 
      "New generated tests"
     ]
    }, 
    {
     "cell_type": "code", 
     "collapsed": false, 
     "input": [
      "#bash('cd external/CGC_tests/nemo_nmodl_generated/; nrnivmodl', silent=True)", 
      "#bash('nrngui external/CGC_tests/nemo_nmodl_generated/new_generated_granule.hoc', save_output='output/new_generated_granule_hoc.log')"
     ], 
     "language": "python", 
     "outputs": []
    }, 
    {
     "cell_type": "markdown", 
     "source": [
      "---", 
      "Use mechanisms.py with generated mod files"
     ]
    }, 
    {
     "cell_type": "code", 
     "collapsed": false, 
     "input": [
      "bash('mechanisms.py xml/cerebellum/ncml/build/nmodl/CGC*.mod --save_prefix output/generated_granule_mechanisms --timestep 0.025 --no_plot --silent_build --init_var ena 87.39 --step 0.01875 --init_var ek \"-84.69\" --init_var eca 129.33', save_output='output/generated_granule_mechanisms.log')"
     ], 
     "language": "python", 
     "outputs": []
    }, 
    {
     "cell_type": "markdown", 
     "source": [
      "---", 
      "pyNN single cell version"
     ]
    }, 
    {
     "cell_type": "code", 
     "collapsed": false, 
     "input": [
      "bash('single_cell.py xml/cerebellum/single_granule.xml --silent_build --inject step 0.01875 1000 --output output/single_cell.', save_output='output/single_granule_cell.log')"
     ], 
     "language": "python", 
     "outputs": []
    }, 
    {
     "cell_type": "markdown", 
     "source": [
      "In this case the peak voltage is the same but the firing rate of the generated files is considerably slower, not sure what the problem is"
     ]
    }, 
    {
     "cell_type": "code", 
     "collapsed": false, 
     "input": [
      "compare_psections('output/single_granule_cell.log', 'output/generated_granule_hoc.log')"
     ], 
     "language": "python", 
     "outputs": []
    }, 
    {
     "cell_type": "markdown", 
     "source": [
      "---", 
      "Plotting comparison between different scripts or mod files"
     ]
    }, 
    {
     "cell_type": "code", 
     "collapsed": true, 
     "input": [
      "activity_plot('output/generated_granule_hoc.dat output/single_cell.Granules.v --combine')"
     ], 
     "language": "python", 
     "outputs": []
    }, 
    {
     "cell_type": "markdown", 
     "source": [
      "---", 
      "Testing generated mechanisms agains old ones", 
      "---"
     ]
    }, 
    {
     "cell_type": "markdown", 
     "source": [
      "---", 
      "Use mechanisms.py with original mod files"
     ]
    }, 
    {
     "cell_type": "code", 
     "collapsed": false, 
     "input": [
      "#bash('mechanisms.py external/original_mod/granule/GRC*.mod --no_tables --save_prefix output/fabios_granule_mechanisms --timestep 0.025 --no_plot --silent_build --init_var ena 87.39 --step 0.01875 --init_var ek \"-84.69\" --init_var eca 129.33 --init_mech_var GRC_CA gcabar 0.00046 --init_mech_var GRC_KCA gkbar 0.04 --init_mech_var GRC_KV gkbar 0.003 --init_mech_var GRC_KA gkbar 0.0032 --init_mech_var GRC_KM gkbar 0.00025 --init_mech_var GRC_KIR gkbar 0.0009 --init_mech_var GRC_LKG1 gl 5.68e-5 --init_mech_var GRC_LKG2 ggaba 3e-05 --init_mech_var GRC_NA gnabar 0.013 --init_mech_var GRC_CALC beta 1.5', save_output='output/fabios_granule_mechanisms.log')"
     ], 
     "language": "python", 
     "outputs": []
    }, 
    {
     "cell_type": "markdown", 
     "source": [
      "---", 
      "Generated mechanisms list"
     ]
    }, 
    {
     "cell_type": "code", 
     "collapsed": true, 
     "input": [
      "#print ''.join(['xml/cerebellum/ncml/build/nmodl/{} \\\\\\n'.format(f) if f.startswith('CGC_') and f.endswith('.mod') else '' for f in os.listdir('xml/cerebellum/ncml/build/nmodl/')])"
     ], 
     "language": "python", 
     "outputs": []
    }, 
    {
     "cell_type": "markdown", 
     "source": [
      "---", 
      "Original mechanisms list"
     ]
    }, 
    {
     "cell_type": "code", 
     "collapsed": true, 
     "input": [
      "#print ''.join(['external/original_mod/granule/{} \\\\\\n'.format(f) if f.startswith('GRC_') and f.endswith('.mod') else '' for f in os.listdir('external/original_mod/granule/')])"
     ], 
     "language": "python", 
     "outputs": []
    }, 
    {
     "cell_type": "code", 
     "collapsed": true, 
     "input": [
      "#print '--init_var ena 87.39 --init_var ek \"-84.69\" --init_var eca 129.33 '"
     ], 
     "language": "python", 
     "outputs": []
    }, 
    {
     "cell_type": "markdown", 
     "source": [
      "---", 
      "Testing combinations of mechanisms"
     ]
    }, 
    {
     "cell_type": "code", 
     "collapsed": true, 
     "input": [
      "#bash('mechanisms.py \\", 
      "#xml/cerebellum/ncml/build/nmodl/CGC_Ca.mod \\", 
      "#xml/cerebellum/ncml/build/nmodl/CGC_Lkg1.mod \\", 
      "#--reference external/original_mod/granule/GRC_KV.mod \\", 
      "#external/original_mod/granule/GRC_LKG1.mod \\", 
      "#external/original_mod/granule/GRC_CALC.mod \\", 
      "#--no_tables --timestep 0.025 --silent_build --init_var eca 129.33 ')"
     ], 
     "language": "python", 
     "outputs": []
    }, 
    {
     "cell_type": "markdown", 
     "source": [
      "---", 
      "Testing all mechanisms together"
     ]
    }, 
    {
     "cell_type": "code", 
     "collapsed": true, 
     "input": [
      "#bash('mechanisms.py xml/cerebellum/ncml/build/nmodl/CGC*.mod -r external/original_mod/granule/GRC*.mod --no_tables --timestep 0.025 --silent_build --init_var ena 87.39 --step 0.01875 --init_var ek \"-84.69\" --init_var eca 129.33 --init_mech_var GRC_CA gcabar 0.00046 --init_mech_var GRC_KCA gkbar 0.04 --init_mech_var GRC_KV gkbar 0.003 --init_mech_var GRC_KA gkbar 0.0032 --init_mech_var GRC_KM gkbar 0.00025 --init_mech_var GRC_KIR gkbar 0.0009 --init_mech_var GRC_LKG1 gl 5.68e-5 --init_mech_var GRC_LKG2 ggaba 3e-05 --init_mech_var GRC_NA gnabar 0.013 --init_mech_var GRC_CALC beta 1.5')"
     ], 
     "language": "python", 
     "outputs": []
    }, 
    {
     "cell_type": "code", 
     "collapsed": true, 
     "input": [], 
     "language": "python", 
     "outputs": []
    }
   ]
  }
 ]
}