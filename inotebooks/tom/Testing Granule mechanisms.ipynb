{
 "metadata": {
  "name": "Testing Granule mechanisms"
 }, 
 "nbformat": 2, 
 "worksheets": [
  {
   "cells": [
    {
     "cell_type": "markdown", 
     "source": [
      "---", 
      "Initialise IPython Notebook", 
      "---"
     ]
    }, 
    {
     "cell_type": "code", 
     "collapsed": true, 
     "input": [
      "from utilities.inotebook import *"
     ], 
     "language": "python", 
     "outputs": [], 
     "prompt_number": 1
    }, 
    {
     "cell_type": "code", 
     "collapsed": false, 
     "input": [
      "inotebook_init()"
     ], 
     "language": "python", 
     "outputs": [
      {
       "output_type": "stream", 
       "stream": "stdout", 
       "text": [
        "Using git revision of k-Brain: 510e7951758f9d48b8f57b628b0d302ede440936", 
        ""
       ]
      }
     ], 
     "prompt_number": 2
    }, 
    {
     "cell_type": "markdown", 
     "source": [
      "---", 
      "Testing original vs generated granule mod files", 
      "---"
     ]
    }, 
    {
     "cell_type": "markdown", 
     "source": [
      "---", 
      "Preporatory tasks"
     ]
    }, 
    {
     "cell_type": "markdown", 
     "source": [
      "Clear any files that might be getting confused with previous builds"
     ]
    }, 
    {
     "cell_type": "code", 
     "collapsed": false, 
     "input": [
      "clear_output_dir() "
     ], 
     "language": "python", 
     "outputs": [
      {
       "output_type": "stream", 
       "stream": "stdout", 
       "text": [
        "No files provided, clearing all files in output directory", 
        "Removed generated_granule_mechanisms.log from output directory", 
        "Removed ncml_generated_granule_hoc.log from output directory", 
        "Removed ncml_generated_granule_hoc.dat from output directory", 
        "Removed fabios_granule_hoc.log from output directory", 
        "Removed single_granule.v from output directory", 
        "Removed single_granule_cell.log from output directory", 
        "Removed fabios_granule_hoc.dat from output directory", 
        "", 
        "-----------------------------------", 
        "Remaining files in output directory", 
        "-----------------------------------", 
        "ellipsoid_test.", 
        "-----------------------------------"
       ]
      }
     ], 
     "prompt_number": 3
    }, 
    {
     "cell_type": "markdown", 
     "source": [
      "---", 
      "Python and NeMo version"
     ]
    }, 
    {
     "cell_type": "code", 
     "collapsed": false, 
     "input": [
      "bash('single_cell.py xml/test/single_granule.xml --build force --inject step 0.01875 1000 --output output/single_granule.v --no_description', save_output='output/single_granule_cell.log')"
     ], 
     "language": "python", 
     "outputs": [
      {
       "output_type": "stream", 
       "stream": "stdout", 
       "text": [
        "NEURON -- VERSION 7.3 (755:56b2e4fa6248) 2013-01-02", 
        "Duke, Yale, and the BlueBrain Project -- Copyright 1984-2012", 
        "See http://www.neuron.yale.edu/credits.html", 
        "", 
        "Additional mechanisms from files", 
        " adexp.mod alphaisyn.mod alphasyn.mod expisyn.mod gap.mod gsfa_grr.mod hh_traub.mod netstim2.mod refrac.mod reset.mod stdwa_guetig.mod stdwa_softlimits.mod stdwa_songabbott.mod stdwa_symm.mod tmgsyn.mod tmisyn.mod vecstim.mod", 
        "", 
        "Warning: uncaught exception: (specificCapacitance (@ (value \"1.0\") (units \"uF_per_cm2\")))", 
        "", 
        "", 
        "Warning: uncaught exception: (reversalPotential (@ (value \"87.39\") (units \"mV\") (species \"na\")))", 
        "", 
        "", 
        "Warning: uncaught exception: (reversalPotential (@ (value \"-84.69\") (units \"mV\") (species \"k\")))", 
        "", 
        "", 
        "Warning: uncaught exception: (reversalPotential (@ (value \"129.33\") (units \"mV\") (species \"ca\")))", 
        "", 
        "Additional mechanisms from files", 
        " Granule_DeSouza10_CaHVA.mod Granule_DeSouza10_KA.mod Granule_DeSouza10_KCa.mod Granule_DeSouza10_KM.mod Granule_DeSouza10_KV.mod Granule_DeSouza10_Kir.mod Granule_DeSouza10_Lkg1.mod Granule_DeSouza10_Lkg2.mod Granule_DeSouza10_Na.mod Granule_DeSouza10_ca.mod", 
        "Building mechanisms in '/home/tclose/git/kbrain/src/pyNN/neuron/nmodl' directory.", 
        "numprocs=1", 
        "Building network", 
        "Building mechanisms in 'xml/test/ncml/build/neuron/Granule_DeSouza10/install' directory.", 
        "PySec_0x450ae30 { nseg=1  L=11.8  Ra=100", 
        "\t/*location 0 attached to cell 3*/", 
        "\t/* First segment only */", 
        "\tinsert morphology { diam=11.8}", 
        "\tinsert capacitance { cm=1}", 
        "\tinsert Granule_DeSouza10_CaHVA { comp206_C_m_Granule_DeSouza10_CaHVA=1 comp208_vcbase_Granule_DeSouza10_CaHVA=-69 comp208_vcsteps_Granule_DeSouza10_CaHVA=8 comp208_vcinc_Granule_DeSouza10_CaHVA=10 comp207_area_Granule_DeSouza10_CaHVA=437.435 comp208_vchdur_Granule_DeSouza10_CaHVA=30 comp208_vcbdur_Granule_DeSouza10_CaHVA=100 comp205_celsius_Granule_DeSouza10_CaHVA=30 comp205_V_t_Granule_DeSouza10_CaHVA=-35 comp209_gbar_Granule_DeSouza10_CaHVA=0.00046 comp208_vchold_Granule_DeSouza10_CaHVA=-71}", 
        "\tinsert Granule_DeSouza10_KA { comp251_e_Granule_DeSouza10_KA=-84.69 comp250_vcbase_Granule_DeSouza10_KA=-69 comp250_vcsteps_Granule_DeSouza10_KA=8 comp250_vcinc_Granule_DeSouza10_KA=10 comp250_vchdur_Granule_DeSouza10_KA=30 comp247_V_t_Granule_DeSouza10_KA=-35 comp250_vcbdur_Granule_DeSouza10_KA=100 comp247_celsius_Granule_DeSouza10_KA=30 comp251_gbar_Granule_DeSouza10_KA=0.0032 comp249_area_Granule_DeSouza10_KA=437.435 comp250_vchold_Granule_DeSouza10_KA=-71 comp248_C_m_Granule_DeSouza10_KA=1}", 
        "\tinsert Granule_DeSouza10_KCa { comp304_gbar_Granule_DeSouza10_KCa=0.04 comp303_vchold_Granule_DeSouza10_KCa=-71 comp300_V_t_Granule_DeSouza10_KCa=-35 comp303_vcsteps_Granule_DeSouza10_KCa=8 comp303_vcbase_Granule_DeSouza10_KCa=-69 comp301_C_m_Granule_DeSouza10_KCa=1 comp300_celsius_Granule_DeSouza10_KCa=30 comp302_area_Granule_DeSouza10_KCa=437.435 comp303_vchdur_Granule_DeSouza10_KCa=30 comp303_vcbdur_Granule_DeSouza10_KCa=100 comp304_e_Granule_DeSouza10_KCa=-84.69 comp303_vcinc_Granule_DeSouza10_KCa=10}", 
        "\tinsert Granule_DeSouza10_KM { comp371_e_Granule_DeSouza10_KM=-84.69 comp370_vcbase_Granule_DeSouza10_KM=-69 comp370_vcinc_Granule_DeSouza10_KM=10 comp370_vcsteps_Granule_DeSouza10_KM=8 comp371_gbar_Granule_DeSouza10_KM=0.00025 comp369_area_Granule_DeSouza10_KM=437.435 comp367_V_t_Granule_DeSouza10_KM=-35 comp370_vchdur_Granule_DeSouza10_KM=30 comp370_vcbdur_Granule_DeSouza10_KM=100 comp367_celsius_Granule_DeSouza10_KM=30 comp370_vchold_Granule_DeSouza10_KM=-71 comp368_C_m_Granule_DeSouza10_KM=1}", 
        "\tinsert Granule_DeSouza10_KV { comp403_gbar_Granule_DeSouza10_KV=0.003 comp402_vcbase_Granule_DeSouza10_KV=-69 comp400_C_m_Granule_DeSouza10_KV=1 comp403_e_Granule_DeSouza10_KV=-84.69 comp402_vcsteps_Granule_DeSouza10_KV=8 comp402_vchdur_Granule_DeSouza10_KV=30 comp402_vcbdur_Granule_DeSouza10_KV=100 comp399_celsius_Granule_DeSouza10_KV=30 comp401_area_Granule_DeSouza10_KV=437.435 comp402_vchold_Granule_DeSouza10_KV=-71 comp402_vcinc_Granule_DeSouza10_KV=10 comp399_V_t_Granule_DeSouza10_KV=-35}", 
        "\tinsert Granule_DeSouza10_Kir { comp338_vcinc_Granule_DeSouza10_Kir=10 comp335_V_t_Granule_DeSouza10_Kir=-35 comp337_area_Granule_DeSouza10_Kir=437.435 comp338_vcbase_Granule_DeSouza10_Kir=-69 comp338_vcsteps_Granule_DeSouza10_Kir=8 comp336_C_m_Granule_DeSouza10_Kir=1 comp338_vchdur_Granule_DeSouza10_Kir=30 comp339_gbar_Granule_DeSouza10_Kir=0.0009 comp338_vcbdur_Granule_DeSouza10_Kir=100 comp335_celsius_Granule_DeSouza10_Kir=30 comp339_e_Granule_DeSouza10_Kir=-84.69 comp338_vchold_Granule_DeSouza10_Kir=-71}", 
        "\tinsert k_ion { ek=-84.69}", 
        "\tinsert Granule_DeSouza10_Lkg1 { comp438_area_Granule_DeSouza10_Lkg1=437.435 comp437_C_m_Granule_DeSouza10_Lkg1=1 comp439_e_Granule_DeSouza10_Lkg1=-16.5 comp436_celsius_Granule_DeSouza10_Lkg1=30 comp436_V_t_Granule_DeSouza10_Lkg1=-35 comp439_gbar_Granule_DeSouza10_Lkg1=5.68e-05}", 
        "\tinsert Granule_DeSouza10_Lkg2 { comp457_C_m_Granule_DeSouza10_Lkg2=1 comp459_egaba_Granule_DeSouza10_Lkg2=-65 comp458_area_Granule_DeSouza10_Lkg2=437.435 comp459_ggaba_Granule_DeSouza10_Lkg2=3e-05 comp456_celsius_Granule_DeSouza10_Lkg2=30 comp456_V_t_Granule_DeSouza10_Lkg2=-35}", 
        "\tinsert Granule_DeSouza10_Na { comp479_vcbdur_Granule_DeSouza10_Na=100 comp480_e_Granule_DeSouza10_Na=87.39 comp479_vcinc_Granule_DeSouza10_Na=10 comp479_vchold_Granule_DeSouza10_Na=-71 comp479_vcsteps_Granule_DeSouza10_Na=9 comp480_gbar_Granule_DeSouza10_Na=0.013 comp478_area_Granule_DeSouza10_Na=437.435 comp476_V_t_Granule_DeSouza10_Na=-35 comp476_celsius_Granule_DeSouza10_Na=30 comp479_vcbase_Granule_DeSouza10_Na=-60 comp477_C_m_Granule_DeSouza10_Na=1 comp479_vchdur_Granule_DeSouza10_Na=30}", 
        "\tinsert na_ion { ena=87.39}", 
        "\tinsert Granule_DeSouza10_ca { comp190_cao_Granule_DeSouza10_ca=2 comp187_V_t_Granule_DeSouza10_ca=-35 comp187_celsius_Granule_DeSouza10_ca=30 comp188_C_m_Granule_DeSouza10_ca=1 comp189_area_Granule_DeSouza10_ca=437.435}", 
        "\tinsert ca_ion {}", 
        "\tinsert Exp2Syn { tau1=0.3 tau2=0.5 e=0}", 
        "\tinsert Exp2Syn { tau1=1 tau2=13.3 e=0}", 
        "\tinsert Exp2Syn { tau1=0.31 tau2=8.8 e=-75}", 
        "}", 
        "------Miscellaneous hoc variables to print------", 
        "ena: 87.39", 
        "ek: -84.69", 
        "eca: 129.33", 
        "celsius: 30.0", 
        "Starting run", 
        "Simulated single cell for 2000.000000 milliseconds", 
        "Saved voltage trace to 'output/single_granule.v'", 
        ""
       ]
      }
     ], 
     "prompt_number": 4
    }, 
    {
     "cell_type": "markdown", 
     "source": [
      "---", 
      "Fabio's hoc script and original mod files"
     ]
    }, 
    {
     "cell_type": "code", 
     "collapsed": false, 
     "input": [
      "bash('cd external/nemo_testing/neuron/fabios_granule; nrnivmodl', silent=True)", 
      "bash('nrngui external/nemo_testing/neuron/fabios_granule/fabios_granule.hoc', save_output='output/fabios_granule_hoc.log')"
     ], 
     "language": "python", 
     "outputs": [], 
     "prompt_number": "*"
    }, 
    {
     "cell_type": "markdown", 
     "source": [
      "---", 
      "NeMo mod files with hoc script"
     ]
    }, 
    {
     "cell_type": "code", 
     "collapsed": false, 
     "input": [
      "bash('cd external/nemo_testing/neuron/ncml_build_dir/Granule_DeSouza10/install; nrnivmodl', silent=True)", 
      "bash('nrngui external/nemo_testing/neuron/ncml_generated_hoc/ncml_generated_granule.hoc', save_output='output/ncml_generated_granule_hoc.log')"
     ], 
     "language": "python", 
     "outputs": [], 
     "prompt_number": "*"
    }, 
    {
     "cell_type": "markdown", 
     "source": [
      "---", 
      "Use mechanisms.py with generated mod files"
     ]
    }, 
    {
     "cell_type": "code", 
     "collapsed": false, 
     "input": [
      "bash('mechanisms.py xml/cerebellum/ncml/build/neuron/Granule_DeSouza10/install/Granule_*.mod --save_prefix output/generated_granule_mechanisms --timestep 0.025 --no_plot --silent_build --init_var ena 87.39 --step 0.01875 --init_var ek \"-84.69\" --init_var eca 129.33', save_output='output/generated_granule_mechanisms.log')"
     ], 
     "language": "python", 
     "outputs": [], 
     "prompt_number": "*"
    }, 
    {
     "cell_type": "code", 
     "collapsed": false, 
     "input": [
      "compare_psections('output/single_granule_cell.log', ref_psection_log='output/ncml_generated_granule_hoc.log')"
     ], 
     "language": "python", 
     "outputs": [], 
     "prompt_number": "*"
    }, 
    {
     "cell_type": "markdown", 
     "source": [
      "---", 
      "Plotting comparison between different scripts or mod files"
     ]
    }, 
    {
     "cell_type": "code", 
     "collapsed": true, 
     "input": [
      "activity_plot('output/fabios_granule_hoc.dat output/single_granule.v --combine')"
     ], 
     "language": "python", 
     "outputs": [], 
     "prompt_number": "*"
    }, 
    {
     "cell_type": "code", 
     "collapsed": true, 
     "input": [
      "activity_plot('output/fabios_granule_hoc.dat output/ncml_generated_granule_hoc.dat --combine')"
     ], 
     "language": "python", 
     "outputs": [], 
     "prompt_number": "*"
    }
   ]
  }
 ]
}