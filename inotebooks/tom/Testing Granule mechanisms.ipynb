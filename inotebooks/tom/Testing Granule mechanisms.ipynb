{
 "metadata": {
  "name": "Testing Granule mechanisms"
 }, 
 "nbformat": 2, 
 "worksheets": [
  {
   "cells": [
    {
     "cell_type": "markdown", 
     "source": [
      "---", 
      "Initialise IPython Notebook", 
      "---"
     ]
    }, 
    {
     "cell_type": "code", 
     "collapsed": true, 
     "input": [
      "from utilities.inotebook import *"
     ], 
     "language": "python", 
     "outputs": [], 
     "prompt_number": 16
    }, 
    {
     "cell_type": "code", 
     "collapsed": false, 
     "input": [
      "inotebook_init()"
     ], 
     "language": "python", 
     "outputs": [
      {
       "output_type": "stream", 
       "stream": "stdout", 
       "text": [
        "Using git revision of k-Brain: 9eaedcc3abe1699be6bbef689daed4cc6979c7e5", 
        ""
       ]
      }
     ], 
     "prompt_number": 17
    }, 
    {
     "cell_type": "markdown", 
     "source": [
      "---", 
      "Testing original vs generated granule mod files", 
      "---"
     ]
    }, 
    {
     "cell_type": "markdown", 
     "source": [
      "---", 
      "Preporatory tasks"
     ]
    }, 
    {
     "cell_type": "markdown", 
     "source": [
      "Clear any files that might be getting confused with previous builds"
     ]
    }, 
    {
     "cell_type": "code", 
     "collapsed": false, 
     "input": [
      "clear_output_dir() "
     ], 
     "language": "python", 
     "outputs": [
      {
       "output_type": "stream", 
       "stream": "stdout", 
       "text": [
        "No files provided, clearing all files in output directory", 
        "Removed single_cell.Golgis.ik from output directory", 
        "Removed single_cell.Golgis.ica from output directory", 
        "Removed generated_granule_mechanisms.log from output directory", 
        "Removed single_cell.Golgis.ina from output directory", 
        "Removed single_cell.Golgis.v from output directory", 
        "Removed fabios_granule_hoc.log from output directory", 
        "Removed single_granule_cell.log from output directory", 
        "Removed single_cell.Golgis.spikes from output directory", 
        "Removed fabios_granule_hoc.dat from output directory", 
        "Removed single_cell.Golgis.cai from output directory", 
        "", 
        "-----------------------------------", 
        "Remaining files in output directory", 
        "-----------------------------------", 
        "", 
        "-----------------------------------"
       ]
      }
     ], 
     "prompt_number": 18
    }, 
    {
     "cell_type": "markdown", 
     "source": [
      "Checking that hoc scripts are doing the same thing"
     ]
    }, 
    {
     "cell_type": "code", 
     "collapsed": false, 
     "input": [
      "#diff('external/original_mod/granule/fabios_granule.hoc', 'xml/cerebellum/ncml/build/nmodl/generated_granule.hoc')"
     ], 
     "language": "python", 
     "outputs": [], 
     "prompt_number": 19
    }, 
    {
     "cell_type": "markdown", 
     "source": [
      "---", 
      "Fabio's hoc script and mod files"
     ]
    }, 
    {
     "cell_type": "code", 
     "collapsed": false, 
     "input": [
      "bash('cd external/original_mod/granule; nrnivmodl', silent=True)", 
      "bash('nrngui external/original_mod/granule/fabios_granule.hoc', save_output='output/fabios_granule_hoc.log')"
     ], 
     "language": "python", 
     "outputs": [
      {
       "output_type": "stream", 
       "stream": "stdout", 
       "text": [
        "NEURON -- Release 7.2 (562:42a47463b504) 2011-12-21", 
        "Duke, Yale, and the BlueBrain Project -- Copyright 1984-2008", 
        "See http://www.neuron.yale.edu/credits.html", 
        "", 
        "nrniv: unable to open font \"*helvetica-medium-r-normal*--14*\", using \"fixed\"", 
        "Additional mechanisms from files", 
        " GRC_CA.mod GRC_CALC.mod GRC_KA.mod GRC_KCA.mod GRC_KIR.mod GRC_KM.mod GRC_KV.mod GRC_LKG1.mod GRC_LKG2.mod GRC_NA.mod", 
        "\t1 ", 
        "soma { nseg=1  L=11.8  Ra=100", 
        "\t/*location 0 attached to cell 0*/", 
        "\t/* First segment only */", 
        "\tinsert morphology { diam=11.8}", 
        "\tinsert capacitance { cm=1}", 
        "\tinsert GRC_CA { Aalpha_s_GRC_CA=0.04944 Kalpha_s_GRC_CA=15.873 V0alpha_s_GRC_CA=-29.06 Abeta_s_GRC_CA=0.08298 Kbeta_s_GRC_CA=-25.641 V0beta_s_GRC_CA=-18.66 Aalpha_u_GRC_CA=0.0013 Kalpha_u_GRC_CA=-18.183 V0alpha_u_GRC_CA=-48 Abeta_u_GRC_CA=0.0013 Kbeta_u_GRC_CA=83.33 V0beta_u_GRC_CA=-48 gcabar_GRC_CA=0.00046}", 
        "\tinsert GRC_CALC { d_GRC_CALC=0.2 cai0_GRC_CALC=0.0001 beta_GRC_CALC=1.5}", 
        "\tinsert GRC_KA { Aalpha_a_GRC_KA=0.8147 Kalpha_a_GRC_KA=-23.3271 V0alpha_a_GRC_KA=-9.17203 Abeta_a_GRC_KA=0.1655 Kbeta_a_GRC_KA=19.4718 V0beta_a_GRC_KA=-18.2791 Aalpha_b_GRC_KA=0.0368 Kalpha_b_GRC_KA=12.8433 V0alpha_b_GRC_KA=-111.332 Abeta_b_GRC_KA=0.0345 Kbeta_b_GRC_KA=-8.90123 V0beta_b_GRC_KA=-49.9537 V0_ainf_GRC_KA=-38 K_ainf_GRC_KA=-17 V0_binf_GRC_KA=-78.8 K_binf_GRC_KA=8.4 gkbar_GRC_KA=0.0032}", 
        "\tinsert GRC_KCA { Aalpha_c_GRC_KCA=2.5 Balpha_c_GRC_KCA=0.0015 Kalpha_c_GRC_KCA=-11.765 Abeta_c_GRC_KCA=1.5 Bbeta_c_GRC_KCA=0.00015 Kbeta_c_GRC_KCA=-11.765 gkbar_GRC_KCA=0.04}", 
        "\tinsert ca_ion {}", 
        "\tinsert GRC_KIR { Aalpha_d_GRC_KIR=0.13289 Kalpha_d_GRC_KIR=-24.3902 V0alpha_d_GRC_KIR=-83.94 Abeta_d_GRC_KIR=0.16994 Kbeta_d_GRC_KIR=35.714 V0beta_d_GRC_KIR=-83.94 gkbar_GRC_KIR=0.0009}", 
        "\tinsert GRC_KM { Aalpha_n_GRC_KM=0.0033 Kalpha_n_GRC_KM=40 V0alpha_n_GRC_KM=-30 Abeta_n_GRC_KM=0.0033 Kbeta_n_GRC_KM=-20 V0beta_n_GRC_KM=-30 V0_ninf_GRC_KM=-35 B_ninf_GRC_KM=6 gkbar_GRC_KM=0.00025}", 
        "\tinsert GRC_KV { Aalpha_n_GRC_KV=-0.01 Kalpha_n_GRC_KV=-10 V0alpha_n_GRC_KV=-25 Abeta_n_GRC_KV=0.125 Kbeta_n_GRC_KV=-80 V0beta_n_GRC_KV=-35 gkbar_GRC_KV=0.003}", 
        "\tinsert k_ion { ek=-84.69}", 
        "\tinsert GRC_LKG1 { gl_GRC_LKG1=5.68e-05 el_GRC_LKG1=-16.5}", 
        "\tinsert GRC_LKG2 { ggaba_GRC_LKG2=3e-05 egaba_GRC_LKG2=-65}", 
        "\tinsert GRC_NA { gnabar_GRC_NA=0.013 Aalfa_GRC_NA=353.91 Valfa_GRC_NA=13.99 Abeta_GRC_NA=1.272 Vbeta_GRC_NA=13.99 Agamma_GRC_NA=150 Adelta_GRC_NA=40 Aepsilon_GRC_NA=1.75 Ateta_GRC_NA=0.0201 Vteta_GRC_NA=25 ACon_GRC_NA=0.005 ACoff_GRC_NA=0.5 AOon_GRC_NA=0.75 AOoff_GRC_NA=0.005 n1_GRC_NA=5.422 n2_GRC_NA=3.279 n3_GRC_NA=1.83 n4_GRC_NA=0.738}", 
        "\tinsert na_ion { ena=87.39}", 
        "\tinsert Exp2Syn { tau1=0.03 tau2=0.5 e=0}", 
        "\tinsert Exp2Syn { tau1=1 tau2=13.3 e=0}", 
        "\tinsert Exp2Syn { tau1=0.31 tau2=8.8 e=-75}", 
        "\tinsert Exp2Syn { tau1=0.31 tau2=300 e=-75}", 
        "\tinsert APCount { n=0 thresh=-20 time=0}", 
        "}", 
        "\t1 ", 
        "ena: 87.390000\t14 ", 
        "ek: -84.690000\t14 ", 
        "eca: 132.457934\t15 ", 
        "ecl: -65.000000\t15 ", 
        "celsius: 30.000000\t18 ", 
        "\t1 ", 
        "\t1 ", 
        "Saving file to '/home/tclose/kbrain/output/fabios_granule_hoc.dat'\t66 ", 
        "\t1 ", 
        "\t0 ", 
        ""
       ]
      }
     ], 
     "prompt_number": 20
    }, 
    {
     "cell_type": "markdown", 
     "source": [
      "---", 
      "Generated mod files with Fabio's hoc script"
     ]
    }, 
    {
     "cell_type": "code", 
     "collapsed": false, 
     "input": [
      "#bash('cd xml/cerebellum/ncml/build/nmodl; nrnivmodl', silent=True)", 
      "#bash('nrngui xml/cerebellum/ncml/build/nmodl/generated_granule.hoc', save_output='output/generated_granule_hoc.log')"
     ], 
     "language": "python", 
     "outputs": [], 
     "prompt_number": 21
    }, 
    {
     "cell_type": "markdown", 
     "source": [
      "---", 
      "New Fabios hoc files"
     ]
    }, 
    {
     "cell_type": "code", 
     "collapsed": false, 
     "input": [
      "#bash('cd external/CGC_tests/fabio/; nrnivmodl', silent=True)", 
      "#bash('nrngui external/CGC_tests/fabio/new_fabios_granule.hoc', save_output='output/new_fabios_granule_hoc.log')"
     ], 
     "language": "python", 
     "outputs": [], 
     "prompt_number": 22
    }, 
    {
     "cell_type": "markdown", 
     "source": [
      "---", 
      "New generated tests"
     ]
    }, 
    {
     "cell_type": "code", 
     "collapsed": false, 
     "input": [
      "#bash('cd external/CGC_tests/nemo_nmodl_generated/; nrnivmodl', silent=True)", 
      "#bash('nrngui external/CGC_tests/nemo_nmodl_generated/new_generated_granule.hoc', save_output='output/new_generated_granule_hoc.log')"
     ], 
     "language": "python", 
     "outputs": [], 
     "prompt_number": 23
    }, 
    {
     "cell_type": "markdown", 
     "source": [
      "---", 
      "Use mechanisms.py with generated mod files"
     ]
    }, 
    {
     "cell_type": "code", 
     "collapsed": false, 
     "input": [
      "bash('mechanisms.py xml/cerebellum/ncml/build/neuron/Granule/install/Granule_*.mod --save_prefix output/generated_granule_mechanisms --timestep 0.025 --no_plot --silent_build --init_var ena 87.39 --step 0.01875 --init_var ek \"-84.69\" --init_var eca 129.33', save_output='output/generated_granule_mechanisms.log')"
     ], 
     "language": "python", 
     "outputs": [
      {
       "output_type": "stream", 
       "stream": "stdout", 
       "text": [
        "Recording activity for injected step current starting at 1000", 
        "NEURON -- Release 7.2 (562:42a47463b504) 2011-12-21", 
        "Duke, Yale, and the BlueBrain Project -- Copyright 1984-2008", 
        "See http://www.neuron.yale.edu/credits.html", 
        "", 
        "Additional mechanisms from files", 
        " Gap.mod adexp.mod alphaisyn.mod alphasyn.mod expisyn.mod gsfa_grr.mod hh_traub.mod netstim2.mod refrac.mod reset.mod stdwa_guetig.mod stdwa_softlimits.mod stdwa_songabbott.mod stdwa_symm.mod tmgsyn.mod tmisyn.mod vecstim.mod", 
        "MPI_Initialized==false, disabling MPI functionality.", 
        "Build mechanisms in '/home/tclose/git/kbrain/xml/cerebellum/ncml/build/neuron/Granule/install' directory", 
        "NEURON -- Release 7.2 (562:42a47463b504) 2011-12-21", 
        "Duke, Yale, and the BlueBrain Project -- Copyright 1984-2008", 
        "See http://www.neuron.yale.edu/credits.html", 
        "", 
        "Additional mechanisms from files", 
        " Granule_CaHVA.mod Granule_KA.mod Granule_KCa.mod Granule_KM.mod Granule_KV.mod Granule_Kir.mod Granule_Lkg1.mod Granule_Lkg2.mod Granule_Na.mod Granule_ca.mod", 
        "Mechanisms inserted into test: Granule_CaHVA, Granule_KA, Granule_KCa, Granule_KM, Granule_KV, Granule_Kir, Granule_Lkg1, Granule_Lkg2, Granule_Na, Granule_ca", 
        "MPI_Initialized==false, disabling MPI functionality.", 
        "Creating test cell...", 
        "ena = 87.39", 
        "ek = -84.69", 
        "eca = 129.33", 
        "Starting simulation of 'test'...", 
        "Simulating at 30.000000C", 
        "Finished simulation of 'test'", 
        "", 
        "Saved test recording to 'output/generated_granule_mechanisms.test.dat'", 
        "Description of test cell:", 
        "<__main__.NeuronTestCell object at 0x1b50ad0>.PySec_3101870 { nseg=1  L=11.8  Ra=100", 
        "\t/*location 0 attached to cell 0*/", 
        "\t/* First segment only */", 
        "\tinsert morphology { diam=11.8}", 
        "\tinsert capacitance { cm=1}", 
        "\tinsert Granule_CaHVA { comp350_vcinc_Granule_CaHVA=10 comp350_vchold_Granule_CaHVA=-71 comp350_vchdur_Granule_CaHVA=30 comp435_e_Granule_CaHVA=132.458 comp350_vcsteps_Granule_CaHVA=8 comp350_vcbdur_Granule_CaHVA=100 comp350_vcbase_Granule_CaHVA=-69 comp435_gbar_Granule_CaHVA=0.00046}", 
        "\tinsert Granule_KA { comp898_e_Granule_KA=-84.69 comp898_gbar_Granule_KA=0.0032 comp813_vcbdur_Granule_KA=100 comp813_vcbase_Granule_KA=-69 comp813_vcsteps_Granule_KA=8 comp813_vchold_Granule_KA=-71 comp813_vchdur_Granule_KA=30 comp813_vcinc_Granule_KA=10}", 
        "\tinsert Granule_KCa { comp1341_vchold_Granule_KCa=-71 comp1426_gbar_Granule_KCa=0.04 comp1341_vchdur_Granule_KCa=30 comp1426_e_Granule_KCa=-84.69 comp1341_vcbdur_Granule_KCa=100 comp1341_vcbase_Granule_KCa=-69 comp1341_vcsteps_Granule_KCa=8 comp1341_vcinc_Granule_KCa=10}", 
        "\tinsert Granule_KM { comp2083_gbar_Granule_KM=0.00025 comp1998_vchold_Granule_KM=-71 comp1998_vchdur_Granule_KM=30 comp2083_e_Granule_KM=-84.69 comp1998_vcsteps_Granule_KM=8 comp1998_vcbdur_Granule_KM=100 comp1998_vcinc_Granule_KM=10 comp1998_vcbase_Granule_KM=-69}", 
        "\tinsert Granule_KV { comp2353_vcbdur_Granule_KV=100 comp2353_vcbase_Granule_KV=-69 comp2438_e_Granule_KV=-84.69 comp2438_gbar_Granule_KV=0.003 comp2353_vcsteps_Granule_KV=8 comp2353_vchold_Granule_KV=-71 comp2353_vchdur_Granule_KV=30 comp2353_vcinc_Granule_KV=10}", 
        "\tinsert Granule_Kir { comp1671_vchold_Granule_Kir=-71 comp1756_gbar_Granule_Kir=0.0009 comp1671_vchdur_Granule_Kir=30 comp1671_vcbdur_Granule_Kir=100 comp1671_vcbase_Granule_Kir=-69 comp1671_vcsteps_Granule_Kir=8 comp1756_e_Granule_Kir=-84.69 comp1671_vcinc_Granule_Kir=10}", 
        "\tinsert k_ion { ek=-84.69}", 
        "\tinsert Granule_Lkg1 { comp2683_gbar_Granule_Lkg1=5.68e-05 comp2683_e_Granule_Lkg1=-16.5}", 
        "\tinsert Granule_Lkg2 { comp2760_egaba_Granule_Lkg2=-65 comp2760_ggaba_Granule_Lkg2=3e-05}", 
        "\tinsert Granule_Na { comp2837_vcbdur_Granule_Na=100 comp2837_vcbase_Granule_Na=-60 comp2837_vcinc_Granule_Na=10 comp2837_vcsteps_Granule_Na=9 comp2837_vchold_Granule_Na=-71 comp2837_vchdur_Granule_Na=30 comp2922_gbar_Granule_Na=0.013 comp2922_e_Granule_Na=87.39}", 
        "\tinsert na_ion { ena=87.39}", 
        "\tinsert Granule_ca {}", 
        "\tinsert ca_ion {}", 
        "\tinsert IClamp { del=1000 dur=1999 amp=0.01875}", 
        "}", 
        "Finished testing mechanisms.", 
        ""
       ]
      }
     ], 
     "prompt_number": 28
    }, 
    {
     "cell_type": "markdown", 
     "source": [
      "---", 
      "pyNN single cell version"
     ]
    }, 
    {
     "cell_type": "code", 
     "collapsed": false, 
     "input": [
      "bash('single_cell.py xml/cerebellum/single_granule.xml --silent_build --inject step 0.01875 1000 --output output/single_cell.', save_output='output/single_granule_cell.log')"
     ], 
     "language": "python", 
     "outputs": [
      {
       "output_type": "stream", 
       "stream": "stdout", 
       "text": [
        "NEURON -- Release 7.2 (562:42a47463b504) 2011-12-21", 
        "Duke, Yale, and the BlueBrain Project -- Copyright 1984-2008", 
        "See http://www.neuron.yale.edu/credits.html", 
        "", 
        "Additional mechanisms from files", 
        " Gap.mod adexp.mod alphaisyn.mod alphasyn.mod expisyn.mod gsfa_grr.mod hh_traub.mod netstim2.mod refrac.mod reset.mod stdwa_guetig.mod stdwa_softlimits.mod stdwa_songabbott.mod stdwa_symm.mod tmgsyn.mod tmisyn.mod vecstim.mod", 
        "Additional mechanisms from files", 
        " Granule_CaHVA.mod Granule_KA.mod Granule_KCa.mod Granule_KM.mod Granule_KV.mod Granule_Kir.mod Granule_Lkg1.mod Granule_Lkg2.mod Granule_Na.mod Granule_ca.mod", 
        "No handlers could be found for logger \"PyNN\"", 
        "MPI_Initialized==false, disabling MPI functionality.", 
        "Building network", 
        "------Miscellaneous hoc variables to print------", 
        "ena: 87.39", 
        "ek: -84.69", 
        "eca: 129.33", 
        "Starting run", 
        "Simulated single cell for 2000.000000 milliseconds", 
        ""
       ]
      }
     ], 
     "prompt_number": 27
    }, 
    {
     "cell_type": "markdown", 
     "source": [
      "In this case the peak voltage is the same but the firing rate of the generated files is considerably slower, not sure what the problem is"
     ]
    }, 
    {
     "cell_type": "code", 
     "collapsed": false, 
     "input": [
      "#compare_psections('output/single_granule_cell.log', 'output/generated_granule_hoc.log')"
     ], 
     "language": "python", 
     "outputs": [], 
     "prompt_number": 31
    }, 
    {
     "cell_type": "markdown", 
     "source": [
      "---", 
      "Plotting comparison between different scripts or mod files"
     ]
    }, 
    {
     "cell_type": "code", 
     "collapsed": false, 
     "input": [
      "activity_plot('output/fabios_granule_hoc.dat output/single_cell.Granules.v --combine')"
     ], 
     "language": "python", 
     "outputs": [], 
     "prompt_number": 33
    }, 
    {
     "cell_type": "markdown", 
     "source": [
      "---", 
      "Testing generated mechanisms agains old ones", 
      "---"
     ]
    }, 
    {
     "cell_type": "markdown", 
     "source": [
      "---", 
      "Use mechanisms.py with original mod files"
     ]
    }, 
    {
     "cell_type": "code", 
     "collapsed": false, 
     "input": [
      "#bash('mechanisms.py external/original_mod/granule/GRC*.mod --no_tables --save_prefix output/fabios_granule_mechanisms --timestep 0.025 --no_plot --silent_build --init_var ena 87.39 --step 0.01875 --init_var ek \"-84.69\" --init_var eca 129.33 --init_mech_var GRC_CA gcabar 0.00046 --init_mech_var GRC_KCA gkbar 0.04 --init_mech_var GRC_KV gkbar 0.003 --init_mech_var GRC_KA gkbar 0.0032 --init_mech_var GRC_KM gkbar 0.00025 --init_mech_var GRC_KIR gkbar 0.0009 --init_mech_var GRC_LKG1 gl 5.68e-5 --init_mech_var GRC_LKG2 ggaba 3e-05 --init_mech_var GRC_NA gnabar 0.013 --init_mech_var GRC_CALC beta 1.5', save_output='output/fabios_granule_mechanisms.log')"
     ], 
     "language": "python", 
     "outputs": []
    }, 
    {
     "cell_type": "markdown", 
     "source": [
      "---", 
      "Generated mechanisms list"
     ]
    }, 
    {
     "cell_type": "code", 
     "collapsed": true, 
     "input": [
      "#print ''.join(['xml/cerebellum/ncml/build/nmodl/{} \\\\\\n'.format(f) if f.startswith('CGC_') and f.endswith('.mod') else '' for f in os.listdir('xml/cerebellum/ncml/build/nmodl/')])"
     ], 
     "language": "python", 
     "outputs": []
    }, 
    {
     "cell_type": "markdown", 
     "source": [
      "---", 
      "Original mechanisms list"
     ]
    }, 
    {
     "cell_type": "code", 
     "collapsed": true, 
     "input": [
      "#print ''.join(['external/original_mod/granule/{} \\\\\\n'.format(f) if f.startswith('GRC_') and f.endswith('.mod') else '' for f in os.listdir('external/original_mod/granule/')])"
     ], 
     "language": "python", 
     "outputs": []
    }, 
    {
     "cell_type": "code", 
     "collapsed": true, 
     "input": [
      "#print '--init_var ena 87.39 --init_var ek \"-84.69\" --init_var eca 129.33 '"
     ], 
     "language": "python", 
     "outputs": []
    }, 
    {
     "cell_type": "markdown", 
     "source": [
      "---", 
      "Testing combinations of mechanisms"
     ]
    }, 
    {
     "cell_type": "code", 
     "collapsed": true, 
     "input": [
      "#bash('mechanisms.py \\", 
      "#xml/cerebellum/ncml/build/nmodl/CGC_Ca.mod \\", 
      "#xml/cerebellum/ncml/build/nmodl/CGC_Lkg1.mod \\", 
      "#--reference external/original_mod/granule/GRC_KV.mod \\", 
      "#external/original_mod/granule/GRC_LKG1.mod \\", 
      "#external/original_mod/granule/GRC_CALC.mod \\", 
      "#--no_tables --timestep 0.025 --silent_build --init_var eca 129.33 ')"
     ], 
     "language": "python", 
     "outputs": []
    }, 
    {
     "cell_type": "markdown", 
     "source": [
      "---", 
      "Testing all mechanisms together"
     ]
    }, 
    {
     "cell_type": "code", 
     "collapsed": true, 
     "input": [
      "#bash('mechanisms.py xml/cerebellum/ncml/build/nmodl/CGC*.mod -r external/original_mod/granule/GRC*.mod --no_tables --timestep 0.025 --silent_build --init_var ena 87.39 --step 0.01875 --init_var ek \"-84.69\" --init_var eca 129.33 --init_mech_var GRC_CA gcabar 0.00046 --init_mech_var GRC_KCA gkbar 0.04 --init_mech_var GRC_KV gkbar 0.003 --init_mech_var GRC_KA gkbar 0.0032 --init_mech_var GRC_KM gkbar 0.00025 --init_mech_var GRC_KIR gkbar 0.0009 --init_mech_var GRC_LKG1 gl 5.68e-5 --init_mech_var GRC_LKG2 ggaba 3e-05 --init_mech_var GRC_NA gnabar 0.013 --init_mech_var GRC_CALC beta 1.5')"
     ], 
     "language": "python", 
     "outputs": []
    }, 
    {
     "cell_type": "code", 
     "collapsed": true, 
     "input": [], 
     "language": "python", 
     "outputs": []
    }
   ]
  }
 ]
}