{
 "metadata": {
  "name": "Lab Meeting 2013-04-09"
 }, 
 "nbformat": 2, 
 "worksheets": [
  {
   "cells": [
    {
     "cell_type": "code", 
     "collapsed": false, 
     "input": [
      "from utilities.inotebook import *", 
      "inotebook_init()"
     ], 
     "language": "python", 
     "outputs": [
      {
       "output_type": "stream", 
       "stream": "stdout", 
       "text": [
        "Using git revision of k-Brain: ac08e0ddae98731b5d6b7bc3be1048bd371d3be1", 
        ""
       ]
      }
     ], 
     "prompt_number": 2
    }, 
    {
     "cell_type": "markdown", 
     "source": [
      "Golgis raster - no gap junctions, no granule cell input", 
      "---"
     ]
    }, 
    {
     "cell_type": "code", 
     "collapsed": true, 
     "input": [
      "plot_activity('/home/tclose/Data/KBrain/fabios_network/corrected_ampa/n_gap-n_gr2go/Golgis.spikes')"
     ], 
     "language": "python", 
     "outputs": [], 
     "prompt_number": 8
    }, 
    {
     "cell_type": "markdown", 
     "source": [
      "Golgis raster - with gap junctions, no granule cell input", 
      "---"
     ]
    }, 
    {
     "cell_type": "code", 
     "collapsed": true, 
     "input": [
      "plot_activity('/home/tclose/Data/KBrain/fabios_network/corrected_ampa/w_gap-n_gr2go/Golgis.spikes')"
     ], 
     "language": "python", 
     "outputs": [], 
     "prompt_number": 9
    }, 
    {
     "cell_type": "markdown", 
     "source": [
      "Golgis raster - no gap junctions, with granule cell input", 
      "---"
     ]
    }, 
    {
     "cell_type": "code", 
     "collapsed": false, 
     "input": [
      "plot_activity('/home/tclose/Data/KBrain/fabios_network/corrected_ampa/n_gap-w_gr2go/Golgis.spikes')"
     ], 
     "language": "python", 
     "outputs": [], 
     "prompt_number": 3
    }, 
    {
     "cell_type": "markdown", 
     "source": [
      "Granules raster", 
      "---"
     ]
    }, 
    {
     "cell_type": "code", 
     "collapsed": true, 
     "input": [
      "plot_activity('/home/tclose/Data/KBrain/fabios_network/corrected_ampa/n_gap-w_gr2go/Granules.spikes')"
     ], 
     "language": "python", 
     "outputs": [], 
     "prompt_number": 13
    }, 
    {
     "cell_type": "markdown", 
     "source": [
      "Granules voltage trace", 
      "---"
     ]
    }, 
    {
     "cell_type": "code", 
     "collapsed": true, 
     "input": [
      "plot_activity('/home/tclose/Data/KBrain/fabios_network/corrected_ampa/n_gap-w_gr2go/Granules.v')"
     ], 
     "language": "python", 
     "outputs": [], 
     "prompt_number": 12
    }, 
    {
     "cell_type": "code", 
     "collapsed": true, 
     "input": [], 
     "language": "python", 
     "outputs": []
    }
   ]
  }
 ]
}