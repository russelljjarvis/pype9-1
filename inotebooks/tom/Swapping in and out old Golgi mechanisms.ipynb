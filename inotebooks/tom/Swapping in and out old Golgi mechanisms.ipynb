{
 "metadata": {
  "name": "Swapping in and out old Golgi mechanisms"
 }, 
 "nbformat": 2, 
 "worksheets": [
  {
   "cells": [
    {
     "cell_type": "code", 
     "collapsed": false, 
     "input": [
      "from utilities.inotebook import *", 
      "inotebook_init()"
     ], 
     "language": "python", 
     "outputs": [
      {
       "output_type": "stream", 
       "stream": "stdout", 
       "text": [
        "Using git revision of k-Brain: b11b9fc5b1a56b829e45c7872dc399b7e236212b", 
        ""
       ]
      }
     ], 
     "prompt_number": 4
    }, 
    {
     "cell_type": "markdown", 
     "source": [
      "Combination of new and old mod files", 
      "---"
     ]
    }, 
    {
     "cell_type": "code", 
     "collapsed": true, 
     "input": [
      "ALL_MECHS = ('ca', 'ca2', 'CaHVA', 'CaLVA', 'HCN1', 'HCN2', 'KA', 'KCa', 'KM', 'KV', 'Lkg',  'Na', 'NaP', 'NaR', 'SK2', 'na','k')", 
      "def combine_new_with_old(new_mechs):", 
      "    bash('rm -r external/nemo_testing/neuron/combined_golgi/x86_64; rm -r external/nemo_testing/neuron/combined_golgi/Golgi_DeSouza10_*')", 
      "    for mech in new_mechs:", 
      "        bash('ln -s `pwd`/external/nemo_testing/neuron/generated_fabios_golgi/Golgi_DeSouza10_{}.mod external/nemo_testing/neuron/combined_golgi/'.format(mech))", 
      "    for mech in ALL_MECHS:", 
      "        if mech not in new_mechs:", 
      "            bash('ln -s `pwd`/external/nemo_testing/neuron/renamed_fabios_golgi/Golgi_DeSouza10_{}.mod external/nemo_testing/neuron/combined_golgi/'.format(mech))", 
      "    bash('cd external/nemo_testing/neuron/combined_golgi; nrnivmodl')", 
      "    bash('cd external/nemo_testing/neuron/combined_golgi; nrngui mosinit.hoc')", 
      "    bash('mv output/combined.Golgi.v_dat output/{}.Golgi.v_dat'.format('.'.join(new_mechs)))    ", 
      "    print \"Voltage trace recorded at <project-home>/output/{}.Golgi.v_dat\".format('.'.join(new_mechs)))"
     ], 
     "language": "python", 
     "outputs": [], 
     "prompt_number": 13
    }, 
    {
     "cell_type": "code", 
     "collapsed": false, 
     "input": [
      "combine_new_with_old(())"
     ], 
     "language": "python", 
     "outputs": [
      {
       "output_type": "stream", 
       "stream": "stdout", 
       "text": [
        "", 
        "", 
        "", 
        "", 
        "", 
        "", 
        "", 
        "", 
        "", 
        "", 
        "", 
        "", 
        ""
       ]
      }, 
      {
       "output_type": "stream", 
       "stream": "stdout", 
       "text": [
        "", 
        "", 
        "", 
        "", 
        "", 
        "Creating x86_64 directory for .o files.", 
        "", 
        "/home/tclose/git/kbrain/external/nemo_testing/neuron/combined_golgi", 
        "Golgi_DeSouza10_CaHVA.mod Golgi_DeSouza10_CaLVA.mod Golgi_DeSouza10_HCN1.mod Golgi_DeSouza10_HCN2.mod Golgi_DeSouza10_KA.mod Golgi_DeSouza10_KCa.mod Golgi_DeSouza10_KM.mod Golgi_DeSouza10_KV.mod Golgi_DeSouza10_Lkg.mod Golgi_DeSouza10_Na.mod Golgi_DeSouza10_NaP.mod Golgi_DeSouza10_NaR.mod Golgi_DeSouza10_SK2.mod Golgi_DeSouza10_ca.mod Golgi_DeSouza10_ca2.mod Golgi_DeSouza10_k.mod Golgi_DeSouza10_na.mod Synapse.mod", 
        "Golgi_DeSouza10_CaHVA.mod Golgi_DeSouza10_CaLVA.mod Golgi_DeSouza10_HCN1.mod Golgi_DeSouza10_HCN2.mod Golgi_DeSouza10_KA.mod Golgi_DeSouza10_KCa.mod Golgi_DeSouza10_KM.mod Golgi_DeSouza10_KV.mod Golgi_DeSouza10_Lkg.mod Golgi_DeSouza10_Na.mod Golgi_DeSouza10_NaP.mod Golgi_DeSouza10_NaR.mod Golgi_DeSouza10_SK2.mod Golgi_DeSouza10_ca.mod Golgi_DeSouza10_ca2.mod Golgi_DeSouza10_k.mod Golgi_DeSouza10_na.mod Synapse.mod", 
        "\"/opt/NEURON/nrn-7.3//x86_64/bin/nocmodl\" Golgi_DeSouza10_CaHVA", 
        "Translating Golgi_DeSouza10_CaHVA.mod into Golgi_DeSouza10_CaHVA.c", 
        "Thread Safe", 
        "\"/opt/NEURON/nrn-7.3//share/nrn/libtool\" --tag=CC --mode=compile mpicc -DHAVE_CONFIG_H  -I. -I.. -I\"/opt/NEURON/nrn-7.3//include/nrn\" -I\"/opt/NEURON/nrn-7.3//x86_64/lib\"      -g -O2 -c -o Golgi_DeSouza10_CaHVA.lo Golgi_DeSouza10_CaHVA.c", 
        "libtool: compile:  mpicc -DHAVE_CONFIG_H -I. -I.. -I/opt/NEURON/nrn-7.3//include/nrn -I/opt/NEURON/nrn-7.3//x86_64/lib -g -O2 -c Golgi_DeSouza10_CaHVA.c  -fPIC -DPIC -o .libs/Golgi_DeSouza10_CaHVA.o", 
        "\"/opt/NEURON/nrn-7.3//x86_64/bin/nocmodl\" Golgi_DeSouza10_CaLVA", 
        "Translating Golgi_DeSouza10_CaLVA.mod into Golgi_DeSouza10_CaLVA.c", 
        "Thread Safe", 
        "\"/opt/NEURON/nrn-7.3//share/nrn/libtool\" --tag=CC --mode=compile mpicc -DHAVE_CONFIG_H  -I. -I.. -I\"/opt/NEURON/nrn-7.3//include/nrn\" -I\"/opt/NEURON/nrn-7.3//x86_64/lib\"      -g -O2 -c -o Golgi_DeSouza10_CaLVA.lo Golgi_DeSouza10_CaLVA.c", 
        "libtool: compile:  mpicc -DHAVE_CONFIG_H -I. -I.. -I/opt/NEURON/nrn-7.3//include/nrn -I/opt/NEURON/nrn-7.3//x86_64/lib -g -O2 -c Golgi_DeSouza10_CaLVA.c  -fPIC -DPIC -o .libs/Golgi_DeSouza10_CaLVA.o", 
        "\"/opt/NEURON/nrn-7.3//x86_64/bin/nocmodl\" Golgi_DeSouza10_HCN1", 
        "Translating Golgi_DeSouza10_HCN1.mod into Golgi_DeSouza10_HCN1.c", 
        "Thread Safe", 
        "\"/opt/NEURON/nrn-7.3//share/nrn/libtool\" --tag=CC --mode=compile mpicc -DHAVE_CONFIG_H  -I. -I.. -I\"/opt/NEURON/nrn-7.3//include/nrn\" -I\"/opt/NEURON/nrn-7.3//x86_64/lib\"      -g -O2 -c -o Golgi_DeSouza10_HCN1.lo Golgi_DeSouza10_HCN1.c", 
        "libtool: compile:  mpicc -DHAVE_CONFIG_H -I. -I.. -I/opt/NEURON/nrn-7.3//include/nrn -I/opt/NEURON/nrn-7.3//x86_64/lib -g -O2 -c Golgi_DeSouza10_HCN1.c  -fPIC -DPIC -o .libs/Golgi_DeSouza10_HCN1.o", 
        "\"/opt/NEURON/nrn-7.3//x86_64/bin/nocmodl\" Golgi_DeSouza10_HCN2", 
        "Translating Golgi_DeSouza10_HCN2.mod into Golgi_DeSouza10_HCN2.c", 
        "Thread Safe", 
        "\"/opt/NEURON/nrn-7.3//share/nrn/libtool\" --tag=CC --mode=compile mpicc -DHAVE_CONFIG_H  -I. -I.. -I\"/opt/NEURON/nrn-7.3//include/nrn\" -I\"/opt/NEURON/nrn-7.3//x86_64/lib\"      -g -O2 -c -o Golgi_DeSouza10_HCN2.lo Golgi_DeSouza10_HCN2.c", 
        "libtool: compile:  mpicc -DHAVE_CONFIG_H -I. -I.. -I/opt/NEURON/nrn-7.3//include/nrn -I/opt/NEURON/nrn-7.3//x86_64/lib -g -O2 -c Golgi_DeSouza10_HCN2.c  -fPIC -DPIC -o .libs/Golgi_DeSouza10_HCN2.o", 
        "\"/opt/NEURON/nrn-7.3//x86_64/bin/nocmodl\" Golgi_DeSouza10_KA", 
        "Translating Golgi_DeSouza10_KA.mod into Golgi_DeSouza10_KA.c", 
        "Thread Safe", 
        "\"/opt/NEURON/nrn-7.3//share/nrn/libtool\" --tag=CC --mode=compile mpicc -DHAVE_CONFIG_H  -I. -I.. -I\"/opt/NEURON/nrn-7.3//include/nrn\" -I\"/opt/NEURON/nrn-7.3//x86_64/lib\"      -g -O2 -c -o Golgi_DeSouza10_KA.lo Golgi_DeSouza10_KA.c", 
        "libtool: compile:  mpicc -DHAVE_CONFIG_H -I. -I.. -I/opt/NEURON/nrn-7.3//include/nrn -I/opt/NEURON/nrn-7.3//x86_64/lib -g -O2 -c Golgi_DeSouza10_KA.c  -fPIC -DPIC -o .libs/Golgi_DeSouza10_KA.o", 
        "\"/opt/NEURON/nrn-7.3//x86_64/bin/nocmodl\" Golgi_DeSouza10_KCa", 
        "Translating Golgi_DeSouza10_KCa.mod into Golgi_DeSouza10_KCa.c", 
        "Thread Safe", 
        "\"/opt/NEURON/nrn-7.3//share/nrn/libtool\" --tag=CC --mode=compile mpicc -DHAVE_CONFIG_H  -I. -I.. -I\"/opt/NEURON/nrn-7.3//include/nrn\" -I\"/opt/NEURON/nrn-7.3//x86_64/lib\"      -g -O2 -c -o Golgi_DeSouza10_KCa.lo Golgi_DeSouza10_KCa.c", 
        "libtool: compile:  mpicc -DHAVE_CONFIG_H -I. -I.. -I/opt/NEURON/nrn-7.3//include/nrn -I/opt/NEURON/nrn-7.3//x86_64/lib -g -O2 -c Golgi_DeSouza10_KCa.c  -fPIC -DPIC -o .libs/Golgi_DeSouza10_KCa.o", 
        "\"/opt/NEURON/nrn-7.3//x86_64/bin/nocmodl\" Golgi_DeSouza10_KM", 
        "Translating Golgi_DeSouza10_KM.mod into Golgi_DeSouza10_KM.c", 
        "Thread Safe", 
        "\"/opt/NEURON/nrn-7.3//share/nrn/libtool\" --tag=CC --mode=compile mpicc -DHAVE_CONFIG_H  -I. -I.. -I\"/opt/NEURON/nrn-7.3//include/nrn\" -I\"/opt/NEURON/nrn-7.3//x86_64/lib\"      -g -O2 -c -o Golgi_DeSouza10_KM.lo Golgi_DeSouza10_KM.c", 
        "libtool: compile:  mpicc -DHAVE_CONFIG_H -I. -I.. -I/opt/NEURON/nrn-7.3//include/nrn -I/opt/NEURON/nrn-7.3//x86_64/lib -g -O2 -c Golgi_DeSouza10_KM.c  -fPIC -DPIC -o .libs/Golgi_DeSouza10_KM.o", 
        "\"/opt/NEURON/nrn-7.3//x86_64/bin/nocmodl\" Golgi_DeSouza10_KV", 
        "Translating Golgi_DeSouza10_KV.mod into Golgi_DeSouza10_KV.c", 
        "Thread Safe", 
        "\"/opt/NEURON/nrn-7.3//share/nrn/libtool\" --tag=CC --mode=compile mpicc -DHAVE_CONFIG_H  -I. -I.. -I\"/opt/NEURON/nrn-7.3//include/nrn\" -I\"/opt/NEURON/nrn-7.3//x86_64/lib\"      -g -O2 -c -o Golgi_DeSouza10_KV.lo Golgi_DeSouza10_KV.c", 
        "libtool: compile:  mpicc -DHAVE_CONFIG_H -I. -I.. -I/opt/NEURON/nrn-7.3//include/nrn -I/opt/NEURON/nrn-7.3//x86_64/lib -g -O2 -c Golgi_DeSouza10_KV.c  -fPIC -DPIC -o .libs/Golgi_DeSouza10_KV.o", 
        "\"/opt/NEURON/nrn-7.3//x86_64/bin/nocmodl\" Golgi_DeSouza10_Lkg", 
        "Translating Golgi_DeSouza10_Lkg.mod into Golgi_DeSouza10_Lkg.c", 
        "Thread Safe", 
        "\"/opt/NEURON/nrn-7.3//share/nrn/libtool\" --tag=CC --mode=compile mpicc -DHAVE_CONFIG_H  -I. -I.. -I\"/opt/NEURON/nrn-7.3//include/nrn\" -I\"/opt/NEURON/nrn-7.3//x86_64/lib\"      -g -O2 -c -o Golgi_DeSouza10_Lkg.lo Golgi_DeSouza10_Lkg.c", 
        "libtool: compile:  mpicc -DHAVE_CONFIG_H -I. -I.. -I/opt/NEURON/nrn-7.3//include/nrn -I/opt/NEURON/nrn-7.3//x86_64/lib -g -O2 -c Golgi_DeSouza10_Lkg.c  -fPIC -DPIC -o .libs/Golgi_DeSouza10_Lkg.o", 
        "\"/opt/NEURON/nrn-7.3//x86_64/bin/nocmodl\" Golgi_DeSouza10_Na", 
        "Translating Golgi_DeSouza10_Na.mod into Golgi_DeSouza10_Na.c", 
        "Thread Safe", 
        "\"/opt/NEURON/nrn-7.3//share/nrn/libtool\" --tag=CC --mode=compile mpicc -DHAVE_CONFIG_H  -I. -I.. -I\"/opt/NEURON/nrn-7.3//include/nrn\" -I\"/opt/NEURON/nrn-7.3//x86_64/lib\"      -g -O2 -c -o Golgi_DeSouza10_Na.lo Golgi_DeSouza10_Na.c", 
        "libtool: compile:  mpicc -DHAVE_CONFIG_H -I. -I.. -I/opt/NEURON/nrn-7.3//include/nrn -I/opt/NEURON/nrn-7.3//x86_64/lib -g -O2 -c Golgi_DeSouza10_Na.c  -fPIC -DPIC -o .libs/Golgi_DeSouza10_Na.o", 
        "\"/opt/NEURON/nrn-7.3//x86_64/bin/nocmodl\" Golgi_DeSouza10_NaP", 
        "Translating Golgi_DeSouza10_NaP.mod into Golgi_DeSouza10_NaP.c", 
        "Thread Safe", 
        "\"/opt/NEURON/nrn-7.3//share/nrn/libtool\" --tag=CC --mode=compile mpicc -DHAVE_CONFIG_H  -I. -I.. -I\"/opt/NEURON/nrn-7.3//include/nrn\" -I\"/opt/NEURON/nrn-7.3//x86_64/lib\"      -g -O2 -c -o Golgi_DeSouza10_NaP.lo Golgi_DeSouza10_NaP.c", 
        "libtool: compile:  mpicc -DHAVE_CONFIG_H -I. -I.. -I/opt/NEURON/nrn-7.3//include/nrn -I/opt/NEURON/nrn-7.3//x86_64/lib -g -O2 -c Golgi_DeSouza10_NaP.c  -fPIC -DPIC -o .libs/Golgi_DeSouza10_NaP.o", 
        "\"/opt/NEURON/nrn-7.3//x86_64/bin/nocmodl\" Golgi_DeSouza10_NaR", 
        "Translating Golgi_DeSouza10_NaR.mod into Golgi_DeSouza10_NaR.c", 
        "Thread Safe", 
        "\"/opt/NEURON/nrn-7.3//share/nrn/libtool\" --tag=CC --mode=compile mpicc -DHAVE_CONFIG_H  -I. -I.. -I\"/opt/NEURON/nrn-7.3//include/nrn\" -I\"/opt/NEURON/nrn-7.3//x86_64/lib\"      -g -O2 -c -o Golgi_DeSouza10_NaR.lo Golgi_DeSouza10_NaR.c", 
        "libtool: compile:  mpicc -DHAVE_CONFIG_H -I. -I.. -I/opt/NEURON/nrn-7.3//include/nrn -I/opt/NEURON/nrn-7.3//x86_64/lib -g -O2 -c Golgi_DeSouza10_NaR.c  -fPIC -DPIC -o .libs/Golgi_DeSouza10_NaR.o", 
        "\"/opt/NEURON/nrn-7.3//x86_64/bin/nocmodl\" Golgi_DeSouza10_SK2", 
        "Translating Golgi_DeSouza10_SK2.mod into Golgi_DeSouza10_SK2.c", 
        "NEURON's CVode method ignores conservation", 
        "Thread Safe", 
        "\"/opt/NEURON/nrn-7.3//share/nrn/libtool\" --tag=CC --mode=compile mpicc -DHAVE_CONFIG_H  -I. -I.. -I\"/opt/NEURON/nrn-7.3//include/nrn\" -I\"/opt/NEURON/nrn-7.3//x86_64/lib\"      -g -O2 -c -o Golgi_DeSouza10_SK2.lo Golgi_DeSouza10_SK2.c", 
        "libtool: compile:  mpicc -DHAVE_CONFIG_H -I. -I.. -I/opt/NEURON/nrn-7.3//include/nrn -I/opt/NEURON/nrn-7.3//x86_64/lib -g -O2 -c Golgi_DeSouza10_SK2.c  -fPIC -DPIC -o .libs/Golgi_DeSouza10_SK2.o", 
        "\"/opt/NEURON/nrn-7.3//x86_64/bin/nocmodl\" Golgi_DeSouza10_ca", 
        "Translating Golgi_DeSouza10_ca.mod into Golgi_DeSouza10_ca.c", 
        "Thread Safe", 
        "Warning: Default 2 of PARAMETER cao will be ignored and set by NEURON.", 
        "\"/opt/NEURON/nrn-7.3//share/nrn/libtool\" --tag=CC --mode=compile mpicc -DHAVE_CONFIG_H  -I. -I.. -I\"/opt/NEURON/nrn-7.3//include/nrn\" -I\"/opt/NEURON/nrn-7.3//x86_64/lib\"      -g -O2 -c -o Golgi_DeSouza10_ca.lo Golgi_DeSouza10_ca.c", 
        "libtool: compile:  mpicc -DHAVE_CONFIG_H -I. -I.. -I/opt/NEURON/nrn-7.3//include/nrn -I/opt/NEURON/nrn-7.3//x86_64/lib -g -O2 -c Golgi_DeSouza10_ca.c  -fPIC -DPIC -o .libs/Golgi_DeSouza10_ca.o", 
        "\"/opt/NEURON/nrn-7.3//x86_64/bin/nocmodl\" Golgi_DeSouza10_ca2", 
        "Translating Golgi_DeSouza10_ca2.mod into Golgi_DeSouza10_ca2.c", 
        "Thread Safe", 
        "\"/opt/NEURON/nrn-7.3//share/nrn/libtool\" --tag=CC --mode=compile mpicc -DHAVE_CONFIG_H  -I. -I.. -I\"/opt/NEURON/nrn-7.3//include/nrn\" -I\"/opt/NEURON/nrn-7.3//x86_64/lib\"      -g -O2 -c -o Golgi_DeSouza10_ca2.lo Golgi_DeSouza10_ca2.c", 
        "libtool: compile:  mpicc -DHAVE_CONFIG_H -I. -I.. -I/opt/NEURON/nrn-7.3//include/nrn -I/opt/NEURON/nrn-7.3//x86_64/lib -g -O2 -c Golgi_DeSouza10_ca2.c  -fPIC -DPIC -o .libs/Golgi_DeSouza10_ca2.o", 
        "\"/opt/NEURON/nrn-7.3//x86_64/bin/nocmodl\" Golgi_DeSouza10_k", 
        "Translating Golgi_DeSouza10_k.mod into Golgi_DeSouza10_k.c", 
        "Thread Safe", 
        "\"/opt/NEURON/nrn-7.3//share/nrn/libtool\" --tag=CC --mode=compile mpicc -DHAVE_CONFIG_H  -I. -I.. -I\"/opt/NEURON/nrn-7.3//include/nrn\" -I\"/opt/NEURON/nrn-7.3//x86_64/lib\"      -g -O2 -c -o Golgi_DeSouza10_k.lo Golgi_DeSouza10_k.c", 
        "libtool: compile:  mpicc -DHAVE_CONFIG_H -I. -I.. -I/opt/NEURON/nrn-7.3//include/nrn -I/opt/NEURON/nrn-7.3//x86_64/lib -g -O2 -c Golgi_DeSouza10_k.c  -fPIC -DPIC -o .libs/Golgi_DeSouza10_k.o", 
        "\"/opt/NEURON/nrn-7.3//x86_64/bin/nocmodl\" Golgi_DeSouza10_na", 
        "Translating Golgi_DeSouza10_na.mod into Golgi_DeSouza10_na.c", 
        "Thread Safe", 
        "\"/opt/NEURON/nrn-7.3//share/nrn/libtool\" --tag=CC --mode=compile mpicc -DHAVE_CONFIG_H  -I. -I.. -I\"/opt/NEURON/nrn-7.3//include/nrn\" -I\"/opt/NEURON/nrn-7.3//x86_64/lib\"      -g -O2 -c -o Golgi_DeSouza10_na.lo Golgi_DeSouza10_na.c", 
        "libtool: compile:  mpicc -DHAVE_CONFIG_H -I. -I.. -I/opt/NEURON/nrn-7.3//include/nrn -I/opt/NEURON/nrn-7.3//x86_64/lib -g -O2 -c Golgi_DeSouza10_na.c  -fPIC -DPIC -o .libs/Golgi_DeSouza10_na.o", 
        "\"/opt/NEURON/nrn-7.3//x86_64/bin/nocmodl\" Synapse", 
        "Translating Synapse.mod into Synapse.c", 
        "NEURON's CVode method ignores conservation", 
        "Thread Safe", 
        "\"/opt/NEURON/nrn-7.3//share/nrn/libtool\" --tag=CC --mode=compile mpicc -DHAVE_CONFIG_H  -I. -I.. -I\"/opt/NEURON/nrn-7.3//include/nrn\" -I\"/opt/NEURON/nrn-7.3//x86_64/lib\"      -g -O2 -c -o Synapse.lo Synapse.c", 
        "libtool: compile:  mpicc -DHAVE_CONFIG_H -I. -I.. -I/opt/NEURON/nrn-7.3//include/nrn -I/opt/NEURON/nrn-7.3//x86_64/lib -g -O2 -c Synapse.c  -fPIC -DPIC -o .libs/Synapse.o", 
        "\"/opt/NEURON/nrn-7.3//share/nrn/libtool\" --tag=CC --mode=compile mpicc -DHAVE_CONFIG_H  -I. -I.. -I\"/opt/NEURON/nrn-7.3//include/nrn\" -I\"/opt/NEURON/nrn-7.3//x86_64/lib\"      -g -O2 -c -o mod_func.lo mod_func.c", 
        "libtool: compile:  mpicc -DHAVE_CONFIG_H -I. -I.. -I/opt/NEURON/nrn-7.3//include/nrn -I/opt/NEURON/nrn-7.3//x86_64/lib -g -O2 -c mod_func.c  -fPIC -DPIC -o .libs/mod_func.o", 
        "\"/opt/NEURON/nrn-7.3//share/nrn/libtool\" --tag=CC --mode=link mpicc -module  -g -O2    -o libnrnmech.la -rpath \"/opt/NEURON/nrn-7.3//x86_64/lib\"  Golgi_DeSouza10_CaHVA.lo Golgi_DeSouza10_CaLVA.lo Golgi_DeSouza10_HCN1.lo Golgi_DeSouza10_HCN2.lo Golgi_DeSouza10_KA.lo Golgi_DeSouza10_KCa.lo Golgi_DeSouza10_KM.lo Golgi_DeSouza10_KV.lo Golgi_DeSouza10_Lkg.lo Golgi_DeSouza10_Na.lo Golgi_DeSouza10_NaP.lo Golgi_DeSouza10_NaR.lo Golgi_DeSouza10_SK2.lo Golgi_DeSouza10_ca.lo Golgi_DeSouza10_ca2.lo Golgi_DeSouza10_k.lo Golgi_DeSouza10_na.lo Synapse.lo mod_func.lo  -L\"/opt/NEURON/nrn-7.3//x86_64/lib\" -lnrnoc -loc -lmemacs -lnrnmpi -lscopmath -lsparse13 -lreadline -lncurses -L\"/opt/NEURON/nrn-7.3//x86_64/lib\" \"/opt/NEURON/nrn-7.3//x86_64/lib/libnrniv.la\" -livoc -lneuron_gnu -lmeschach -lsundials       -lm -ldl", 
        "libtool: link: mpicc -shared  -fPIC -DPIC  .libs/Golgi_DeSouza10_CaHVA.o .libs/Golgi_DeSouza10_CaLVA.o .libs/Golgi_DeSouza10_HCN1.o .libs/Golgi_DeSouza10_HCN2.o .libs/Golgi_DeSouza10_KA.o .libs/Golgi_DeSouza10_KCa.o .libs/Golgi_DeSouza10_KM.o .libs/Golgi_DeSouza10_KV.o .libs/Golgi_DeSouza10_Lkg.o .libs/Golgi_DeSouza10_Na.o .libs/Golgi_DeSouza10_NaP.o .libs/Golgi_DeSouza10_NaR.o .libs/Golgi_DeSouza10_SK2.o .libs/Golgi_DeSouza10_ca.o .libs/Golgi_DeSouza10_ca2.o .libs/Golgi_DeSouza10_k.o .libs/Golgi_DeSouza10_na.o .libs/Synapse.o .libs/mod_func.o   -Wl,-rpath -Wl,/opt/NEURON/nrn-7.3/x86_64/lib -Wl,-rpath -Wl,/opt/NEURON/nrn-7.3/x86_64/lib -L/opt/NEURON/nrn-7.3//x86_64/lib /opt/NEURON/nrn-7.3/x86_64/lib/libnrnoc.so /opt/NEURON/nrn-7.3/x86_64/lib/liboc.so /opt/NEURON/nrn-7.3/x86_64/lib/libmemacs.so /opt/NEURON/nrn-7.3/x86_64/lib/libnrnmpi.so /opt/NEURON/nrn-7.3/x86_64/lib/libscopmath.so /opt/NEURON/nrn-7.3/x86_64/lib/libsparse13.so -lreadline -lncurses /opt/NEURON/nrn-7.3/x86_64/lib/libnrniv.so /opt/NEURON/nrn-7.3/x86_64/lib/libivoc.so /opt/NEURON/nrn-7.3/x86_64/lib/libneuron_gnu.so /opt/NEURON/nrn-7.3/x86_64/lib/libmeschach.so /opt/NEURON/nrn-7.3/x86_64/lib/libsundials.so -lm -ldl  -O2   -pthread -Wl,-soname -Wl,libnrnmech.so.0 -o .libs/libnrnmech.so.0.0.0", 
        "libtool: link: (cd \".libs\" && rm -f \"libnrnmech.so.0\" && ln -s \"libnrnmech.so.0.0.0\" \"libnrnmech.so.0\")", 
        "libtool: link: (cd \".libs\" && rm -f \"libnrnmech.so\" && ln -s \"libnrnmech.so.0.0.0\" \"libnrnmech.so\")", 
        "libtool: link: ( cd \".libs\" && rm -f \"libnrnmech.la\" && ln -s \"../libnrnmech.la\" \"libnrnmech.la\" )", 
        "Successfully created x86_64/special"
       ]
      }, 
      {
       "output_type": "stream", 
       "stream": "stdout", 
       "text": [
        "", 
        "NEURON -- VERSION 7.3 (755:56b2e4fa6248) 2013-01-02", 
        "Duke, Yale, and the BlueBrain Project -- Copyright 1984-2012", 
        "See http://www.neuron.yale.edu/credits.html", 
        "", 
        "Additional mechanisms from files", 
        " Golgi_DeSouza10_CaHVA.mod Golgi_DeSouza10_CaLVA.mod Golgi_DeSouza10_HCN1.mod Golgi_DeSouza10_HCN2.mod Golgi_DeSouza10_KA.mod Golgi_DeSouza10_KCa.mod Golgi_DeSouza10_KM.mod Golgi_DeSouza10_KV.mod Golgi_DeSouza10_Lkg.mod Golgi_DeSouza10_Na.mod Golgi_DeSouza10_NaP.mod Golgi_DeSouza10_NaR.mod Golgi_DeSouza10_SK2.mod Golgi_DeSouza10_ca.mod Golgi_DeSouza10_ca2.mod Golgi_DeSouza10_k.mod Golgi_DeSouza10_na.mod Synapse.mod", 
        "nrniv: unable to open font \"*helvetica-medium-r-normal*--14*\", using \"fixed\"", 
        "soma { nseg=1  L=27  Ra=100", 
        "\t/*location 0 attached to cell 0*/", 
        "\t/* First segment only */", 
        "\tinsert morphology { diam=27}", 
        "\tinsert capacitance { cm=1}", 
        "\tinsert Golgi_DeSouza10_ca { d_Golgi_DeSouza10_ca=0.2 cai0_Golgi_DeSouza10_ca=5e-05 beta_Golgi_DeSouza10_ca=1.3}", 
        "\tinsert Golgi_DeSouza10_ca2 { d_Golgi_DeSouza10_ca2=0.2 ca2i0_Golgi_DeSouza10_ca2=5e-05 beta_Golgi_DeSouza10_ca2=1.3}", 
        "\tinsert Golgi_DeSouza10_CaHVA { gcabar_Golgi_DeSouza10_CaHVA=0.00046}", 
        "\tinsert Golgi_DeSouza10_CaLVA { gca2bar_Golgi_DeSouza10_CaLVA=0.00025 shift_Golgi_DeSouza10_CaLVA=2 v0_m_inf_Golgi_DeSouza10_CaLVA=-50 v0_h_inf_Golgi_DeSouza10_CaLVA=-78 k_m_inf_Golgi_DeSouza10_CaLVA=-7.4 k_h_inf_Golgi_DeSouza10_CaLVA=5 C_tau_m_Golgi_DeSouza10_CaLVA=3 A_tau_m_Golgi_DeSouza10_CaLVA=1 v0_tau_m1_Golgi_DeSouza10_CaLVA=-25 v0_tau_m2_Golgi_DeSouza10_CaLVA=-100 k_tau_m1_Golgi_DeSouza10_CaLVA=10 k_tau_m2_Golgi_DeSouza10_CaLVA=-15 C_tau_h_Golgi_DeSouza10_CaLVA=85 A_tau_h_Golgi_DeSouza10_CaLVA=1 v0_tau_h1_Golgi_DeSouza10_CaLVA=-46 v0_tau_h2_Golgi_DeSouza10_CaLVA=-405 k_tau_h1_Golgi_DeSouza10_CaLVA=4 k_tau_h2_Golgi_DeSouza10_CaLVA=-50}", 
        "\tinsert ca2_ion {}", 
        "\tinsert Golgi_DeSouza10_HCN1 { gbar_Golgi_DeSouza10_HCN1=5e-05 Erev_Golgi_DeSouza10_HCN1=-20}", 
        "\tinsert Golgi_DeSouza10_HCN2 { gbar_Golgi_DeSouza10_HCN2=8e-05 ehcn2_Golgi_DeSouza10_HCN2=-20}", 
        "\tinsert Golgi_DeSouza10_KA { gkbar_Golgi_DeSouza10_KA=0.008}", 
        "\tinsert Golgi_DeSouza10_KCa { gkbar_Golgi_DeSouza10_KCa=0.001}", 
        "\tinsert Golgi_DeSouza10_KM { Aalpha_c_Golgi_DeSouza10_KM=7 Balpha_c_Golgi_DeSouza10_KM=0.0015 Kalpha_c_Golgi_DeSouza10_KM=-11.765 Abeta_c_Golgi_DeSouza10_KM=1 Bbeta_c_Golgi_DeSouza10_KM=0.00015 Kbeta_c_Golgi_DeSouza10_KM=-11.765 gkbar_Golgi_DeSouza10_KM=0.003}", 
        "\tinsert Golgi_DeSouza10_KV { gkbar_Golgi_DeSouza10_KV=0.032}", 
        "\tinsert Golgi_DeSouza10_Lkg { glbar_Golgi_DeSouza10_Lkg=2.1e-05 el_Golgi_DeSouza10_Lkg=-55}", 
        "\tinsert Golgi_DeSouza10_Na { Aalpha_m_Golgi_DeSouza10_Na=0.3 Kalpha_m_Golgi_DeSouza10_Na=-10 V0alpha_m_Golgi_DeSouza10_Na=-25 Abeta_m_Golgi_DeSouza10_Na=12 Kbeta_m_Golgi_DeSouza10_Na=-18.182 V0beta_m_Golgi_DeSouza10_Na=-50 Aalpha_h_Golgi_DeSouza10_Na=0.21 Kalpha_h_Golgi_DeSouza10_Na=-3.333 V0alpha_h_Golgi_DeSouza10_Na=-50 Abeta_h_Golgi_DeSouza10_Na=3 Kbeta_h_Golgi_DeSouza10_Na=-5 V0beta_h_Golgi_DeSouza10_Na=-17 gnabar_Golgi_DeSouza10_Na=0.048}", 
        "\tinsert Golgi_DeSouza10_NaP { gbar_Golgi_DeSouza10_NaP=0.00019}", 
        "\tinsert Golgi_DeSouza10_NaR { Aalpha_s_Golgi_DeSouza10_NaR=-0.00493 V0alpha_s_Golgi_DeSouza10_NaR=-4.48754 Kalpha_s_Golgi_DeSouza10_NaR=-6.81881 Shiftalpha_s_Golgi_DeSouza10_NaR=8e-05 Abeta_s_Golgi_DeSouza10_NaR=0.01558 V0beta_s_Golgi_DeSouza10_NaR=43.9749 Kbeta_s_Golgi_DeSouza10_NaR=0.10818 Shiftbeta_s_Golgi_DeSouza10_NaR=0.04752 Aalpha_f_Golgi_DeSouza10_NaR=0.31836 V0alpha_f_Golgi_DeSouza10_NaR=-80 Kalpha_f_Golgi_DeSouza10_NaR=-62.5262 Abeta_f_Golgi_DeSouza10_NaR=0.01014 V0beta_f_Golgi_DeSouza10_NaR=-83.3332 Kbeta_f_Golgi_DeSouza10_NaR=16.0538 gnabar_Golgi_DeSouza10_NaR=0.0017}", 
        "\tinsert Golgi_DeSouza10_SK2 { gkbar_Golgi_DeSouza10_SK2=0.038}", 
        "\tinsert ca_ion {}", 
        "\tinsert Golgi_DeSouza10_k { d_Golgi_DeSouza10_k=0.2 ko0_Golgi_DeSouza10_k=5 ki0_Golgi_DeSouza10_k=140 beta_Golgi_DeSouza10_k=0.075}", 
        "\tinsert k_ion {}", 
        "\tinsert Golgi_DeSouza10_na { d_Golgi_DeSouza10_na=0.2 nao0_Golgi_DeSouza10_na=145 nai0_Golgi_DeSouza10_na=5 beta_Golgi_DeSouza10_na=0.075}", 
        "\tinsert na_ion {}", 
        "}", 
        "dend[0] { nseg=10  L=113  Ra=100", 
        "\t/*location 0 attached to cell 1*/", 
        "\t/* First segment only */", 
        "\tinsert capacitance { cm=1}", 
        "\tinsert morphology { diam=3}", 
        "\tinsert Golgi_DeSouza10_Lkg { glbar_Golgi_DeSouza10_Lkg=2.1e-05 el_Golgi_DeSouza10_Lkg=-55}", 
        "}", 
        "dend[1] { nseg=10  L=113  Ra=100", 
        "\t/*location 0 attached to cell 1*/", 
        "\t/* First segment only */", 
        "\tinsert capacitance { cm=1}", 
        "\tinsert morphology { diam=3}", 
        "\tinsert Golgi_DeSouza10_Lkg { glbar_Golgi_DeSouza10_Lkg=2.1e-05 el_Golgi_DeSouza10_Lkg=-55}", 
        "}", 
        "dend[2] { nseg=10  L=113  Ra=100", 
        "\t/*location 0 attached to cell 1*/", 
        "\t/* First segment only */", 
        "\tinsert capacitance { cm=1}", 
        "\tinsert morphology { diam=3}", 
        "\tinsert Golgi_DeSouza10_Lkg { glbar_Golgi_DeSouza10_Lkg=2.1e-05 el_Golgi_DeSouza10_Lkg=-55}", 
        "}", 
        "axon { nseg=100  L=1200  Ra=100", 
        "\t/*location 0 attached to cell 1*/", 
        "\t/* First segment only */", 
        "\tinsert capacitance { cm=1}", 
        "\tinsert morphology { diam=2.4}", 
        "\tinsert Golgi_DeSouza10_Lkg { glbar_Golgi_DeSouza10_Lkg=2.1e-05 el_Golgi_DeSouza10_Lkg=-55}", 
        "}", 
        "ena: 87.390000\t14 ", 
        "ek: -84.690000\t14 ", 
        "eca: 132.457934\t15 ", 
        "celsius: 23.000000\t18 ", 
        "\t1 ", 
        "\t1 ", 
        "Writing output to '<project-home>/output/combined.Golgi.v_dat'\t62 ", 
        "\t1 ", 
        "\t0 "
       ]
      }, 
      {
       "output_type": "stream", 
       "stream": "stdout", 
       "text": [
        "", 
        ""
       ]
      }
     ], 
     "prompt_number": 16
    }, 
    {
     "cell_type": "code", 
     "collapsed": false, 
     "input": [
      "plot_activity('output/combined.Golgi.v"
     ], 
     "language": "python", 
     "outputs": [
      {
       "output_type": "stream", 
       "stream": "stdout", 
       "text": [
        "/home/tclose/git/kbrain", 
        ""
       ]
      }
     ], 
     "prompt_number": 7
    }, 
    {
     "cell_type": "code", 
     "collapsed": false, 
     "input": [
      "print PROJECT_DIR"
     ], 
     "language": "python", 
     "outputs": [
      {
       "output_type": "stream", 
       "stream": "stdout", 
       "text": [
        "/home/tclose/kbrain"
       ]
      }
     ], 
     "prompt_number": 8
    }, 
    {
     "cell_type": "code", 
     "collapsed": true, 
     "input": [], 
     "language": "python", 
     "outputs": [], 
     "prompt_number": 8
    }
   ]
  }
 ]
}