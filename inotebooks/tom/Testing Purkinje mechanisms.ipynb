{
 "metadata": {
  "name": "Testing Purkinje mechanisms"
 }, 
 "nbformat": 2, 
 "worksheets": [
  {
   "cells": [
    {
     "cell_type": "code", 
     "collapsed": false, 
     "input": [
      "from utilities.inotebook import *", 
      "inotebook_init()"
     ], 
     "language": "python", 
     "outputs": [
      {
       "output_type": "stream", 
       "stream": "stdout", 
       "text": [
        "Using git revision of k-Brain: f67a835e9699fc2305270d1e4f854d727248ba0e", 
        ""
       ]
      }
     ], 
     "prompt_number": 1
    }, 
    {
     "cell_type": "code", 
     "collapsed": false, 
     "input": [
      "clear_output_dir()"
     ], 
     "language": "python", 
     "outputs": [
      {
       "output_type": "stream", 
       "stream": "stdout", 
       "text": [
        "No files provided, clearing all files in output directory", 
        "Removed generated_granule_mechanisms.log from output directory", 
        "Removed ncml_generated_granule_hoc.log from output directory", 
        "Removed single_golgi_cell_with_axon_nest.log from output directory", 
        "Removed ncml_generated_granule_hoc.dat from output directory", 
        "Removed fabios_granule_hoc.log from output directory", 
        "Removed single_granule.v from output directory", 
        "Removed single_granule_cell.log from output directory", 
        "Removed fabios_granule_hoc.dat from output directory", 
        "Removed single_granule_cell_nest.log from output directory", 
        "Removed generated_granule_mechanisms.test.dat from output directory", 
        "", 
        "-----------------------------------", 
        "Remaining files in output directory", 
        "-----------------------------------", 
        "ellipsoid_test.", 
        "-----------------------------------"
       ]
      }
     ], 
     "prompt_number": 2
    }, 
    {
     "cell_type": "code", 
     "collapsed": false, 
     "input": [
      "bash('single_cell.py xml/test/single_purkinje.xml --build force --inject step 0.01875 1000 --output output/single_purkinje.v', save_output='output/single_purkinje_cell.log')"
     ], 
     "language": "python", 
     "outputs": [
      {
       "output_type": "stream", 
       "stream": "stdout", 
       "text": [
        "Return Code: 1", 
        "NEURON -- VERSION 7.3 (755:56b2e4fa6248) 2013-01-02", 
        "Duke, Yale, and the BlueBrain Project -- Copyright 1984-2012", 
        "See http://www.neuron.yale.edu/credits.html", 
        "", 
        "Additional mechanisms from files", 
        " adexp.mod alphaisyn.mod alphasyn.mod expisyn.mod gap.mod gsfa_grr.mod hh_traub.mod netstim2.mod refrac.mod reset.mod stdwa_guetig.mod stdwa_softlimits.mod stdwa_songabbott.mod stdwa_symm.mod tmgsyn.mod tmisyn.mod vecstim.mod", 
        "", 
        "Error: (cadr) bad argument type: ()", 
        "", 
        "\tCall history:", 
        "", 
        "\thash-table-ref\t  ", 
        "\tnemo-core#nemo:quantity?\t  ", 
        "\tdatatype#invoke-variant-case\t  ", 
        "\tfilter-map\t  ", 
        "\tdis7064\t  ", 
        "\tg92139214\t  ", 
        "\tnemo-core#nemo-intern\t  ", 
        "\tsymbol->string\t  ", 
        "\tstring-append\t  ", 
        "\tstring->symbol\t  ", 
        "\thash-table-ref\t  ", 
        "\tdatatype#invoke-variant-case\t  ", 
        "\thash-table-ref\t  ", 
        "\tnemo-core#nemo:quantity?\t  ", 
        "\tdatatype#invoke-variant-case\t  ", 
        "\tfilter-map\t  \t<--", 
        "", 
        "Warning: uncaught exception: (specificCapacitance (@ (value \"1.0\") (units \"uF_per_cm2\")))", 
        "", 
        "", 
        "Warning: uncaught exception: (reversalPotential (@ (value \"60\") (units \"mV\") (species \"na\")))", 
        "", 
        "", 
        "Warning: uncaught exception: (reversalPotential (@ (value \"-88\") (units \"mV\") (species \"k\")))", 
        "", 
        "Building mechanisms in '/home/tclose/git/kbrain/src/pyNN/neuron/nmodl' directory.", 
        "numprocs=1", 
        "Building network", 
        "Traceback (most recent call last):", 
        "  File \"/home/tclose/git/kbrain/src/test/single_cell.py\", line 94, in <module>", 
        "    main(sys.argv[1:])", 
        "  File \"/home/tclose/git/kbrain/src/test/single_cell.py\", line 47, in main", 
        "    max_delay=2.0, silent_build=args.silent_build, build_mode=args.build)", 
        "  File \"/home/tclose/git/kbrain/src/ninemlp/neuron/__init__.py\", line 258, in __init__", 
        "    temperature=temperature, silent_build=silent_build, flags=flags)", 
        "  File \"/home/tclose/git/kbrain/src/ninemlp/common/__init__.py\", line 276, in __init__", 
        "    silent_build=silent_build, flags=flags)", 
        "  File \"/home/tclose/git/kbrain/src/ninemlp/common/__init__.py\", line 330, in load_network", 
        "    silent_build)", 
        "  File \"/home/tclose/git/kbrain/src/ninemlp/common/__init__.py\", line 371, in _create_population", 
        "    silent=silent_build)", 
        "  File \"/home/tclose/git/kbrain/src/ninemlp/neuron/ncml.py\", line 633, in load_cell_type", 
        "    silent_build=silent)", 
        "  File \"/home/tclose/git/kbrain/src/ninemlp/neuron/build.py\", line 97, in build_celltype_files", 
        "    format(e))", 
        "Exception: Error while compiling NCML description into NMODL code -> Command '/usr/bin/nemo xml/test/ncml/Purkinje_Khaliq03.xml -p --pyparams=xml/test/ncml/build/neuron/Purkinje_Khaliq03/params --nmodl=xml/test/ncml/build/neuron/Purkinje_Khaliq03/install --nmodl-method=derivimplicit --nmodl-kinetic=Na_z' returned non-zero exit status 70", 
        ""
       ]
      }
     ], 
     "prompt_number": 3
    }, 
    {
     "cell_type": "code", 
     "collapsed": false, 
     "input": [
      "bash('cd external/purkinje_khaliq03; nrnivmodl', silent=True)", 
      "bash('cd external/purkinje_khaliq03; nrngui mosinit.hoc')"
     ], 
     "language": "python", 
     "outputs": [
      {
       "output_type": "stream", 
       "stream": "stdout", 
       "text": [
        "NEURON -- VERSION 7.3 (755:56b2e4fa6248) 2013-01-02", 
        "Duke, Yale, and the BlueBrain Project -- Copyright 1984-2012", 
        "See http://www.neuron.yale.edu/credits.html", 
        "", 
        "Additional mechanisms from files", 
        " bkpkj.mod cadiff.mod cap.mod ihpkj.mod kpkj.mod kpkj2.mod kpkjslow.mod pkjlk.mod rsg.mod", 
        "nrniv: unable to open font \"*helvetica-medium-r-normal*--14*\", using \"fixed\"", 
        "\t1 ", 
        "\t1 ", 
        "Writing output to '../../output/purkinje_khaliq03.dat'\t54 ", 
        "\t1 ", 
        "\t0 ", 
        ""
       ]
      }
     ], 
     "prompt_number": 8
    }, 
    {
     "cell_type": "code", 
     "collapsed": true, 
     "input": [
      "activity_plot('output/purkinje_khaliq03.dat')"
     ], 
     "language": "python", 
     "outputs": [], 
     "prompt_number": 9
    }, 
    {
     "cell_type": "code", 
     "collapsed": true, 
     "input": [], 
     "language": "python", 
     "outputs": []
    }
   ]
  }
 ]
}