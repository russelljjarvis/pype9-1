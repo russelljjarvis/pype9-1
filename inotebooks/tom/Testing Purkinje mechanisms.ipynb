{
 "metadata": {
  "name": "Testing Purkinje mechanisms"
 }, 
 "nbformat": 2, 
 "worksheets": [
  {
   "cells": [
    {
     "cell_type": "code", 
     "collapsed": false, 
     "input": [
      "from utilities.inotebook import *", 
      "inotebook_init()"
     ], 
     "language": "python", 
     "outputs": [
      {
       "output_type": "stream", 
       "stream": "stdout", 
       "text": [
        "Using git revision of k-Brain: fe8f78946be391d11766a811de0d696d1c34c283", 
        ""
       ]
      }
     ], 
     "prompt_number": 2
    }, 
    {
     "cell_type": "code", 
     "collapsed": false, 
     "input": [
      "clear_output_dir()"
     ], 
     "language": "python", 
     "outputs": [
      {
       "output_type": "stream", 
       "stream": "stdout", 
       "text": [
        "No files provided, clearing all files in output directory", 
        "Removed purkinje_khaliq03.dat from output directory", 
        "Removed single_purkinje_cell.log from output directory", 
        "", 
        "-----------------------------------", 
        "Remaining files in output directory", 
        "-----------------------------------", 
        "ellipsoid_test.", 
        "-----------------------------------"
       ]
      }
     ], 
     "prompt_number": 3
    }, 
    {
     "cell_type": "code", 
     "collapsed": true, 
     "input": [
      "bash('single_cell.py xml/test/single_purkinje.xml --build force --inject step 0.01875 1000 --output output/single_purkinje.v', save_output='output/single_purkinje_cell.log')"
     ], 
     "language": "python", 
     "outputs": [
      {
       "output_type": "stream", 
       "stream": "stdout", 
       "text": [
        "NEURON -- VERSION 7.3 (755:56b2e4fa6248) 2013-01-02", 
        "Duke, Yale, and the BlueBrain Project -- Copyright 1984-2012", 
        "See http://www.neuron.yale.edu/credits.html", 
        "", 
        "Additional mechanisms from files", 
        " adexp.mod alphaisyn.mod alphasyn.mod expisyn.mod gap.mod gsfa_grr.mod hh_traub.mod netstim2.mod refrac.mod reset.mod stdwa_guetig.mod stdwa_softlimits.mod stdwa_songabbott.mod stdwa_symm.mod tmgsyn.mod tmisyn.mod vecstim.mod", 
        "", 
        "Warning: uncaught exception: (specificCapacitance (@ (value \"1.0\") (units \"uF_per_cm2\")))", 
        "", 
        "", 
        "Warning: uncaught exception: (reversalPotential (@ (value \"60\") (units \"mV\") (species \"na\")))", 
        "", 
        "", 
        "Warning: uncaught exception: (reversalPotential (@ (value \"-88\") (units \"mV\") (species \"k\")))", 
        "", 
        "Creating x86_64 directory for .o files.", 
        "", 
        "/home/tclose/git/kbrain/xml/test/ncml/build/neuron/Purkinje_Khaliq03/install", 
        "Purkinje_Khaliq03_CaBK.mod Purkinje_Khaliq03_CaP.mod Purkinje_Khaliq03_Ih.mod Purkinje_Khaliq03_K1.mod Purkinje_Khaliq03_K2.mod Purkinje_Khaliq03_K3.mod Purkinje_Khaliq03_Leak.mod Purkinje_Khaliq03_Narsg.mod Purkinje_Khaliq03_ca.mod Purkinje_Khaliq03_soma.mod", 
        "Purkinje_Khaliq03_CaBK.mod Purkinje_Khaliq03_CaP.mod Purkinje_Khaliq03_Ih.mod Purkinje_Khaliq03_K1.mod Purkinje_Khaliq03_K2.mod Purkinje_Khaliq03_K3.mod Purkinje_Khaliq03_Leak.mod Purkinje_Khaliq03_Narsg.mod Purkinje_Khaliq03_ca.mod Purkinje_Khaliq03_soma.mod", 
        "\"/opt/NEURON/nrn-7.3//x86_64/bin/nocmodl\" Purkinje_Khaliq03_CaBK", 
        "Translating Purkinje_Khaliq03_CaBK.mod into Purkinje_Khaliq03_CaBK.c", 
        "Thread Safe", 
        "Warning: Default -88 of PARAMETER ek will be ignored and set by NEURON.", 
        "\"/opt/NEURON/nrn-7.3//share/nrn/libtool\" --tag=CC --mode=compile mpicc -DHAVE_CONFIG_H  -I. -I.. -I\"/opt/NEURON/nrn-7.3//include/nrn\" -I\"/opt/NEURON/nrn-7.3//x86_64/lib\"      -g -O2 -c -o Purkinje_Khaliq03_CaBK.lo Purkinje_Khaliq03_CaBK.c", 
        "libtool: compile:  mpicc -DHAVE_CONFIG_H -I. -I.. -I/opt/NEURON/nrn-7.3//include/nrn -I/opt/NEURON/nrn-7.3//x86_64/lib -g -O2 -c Purkinje_Khaliq03_CaBK.c  -fPIC -DPIC -o .libs/Purkinje_Khaliq03_CaBK.o", 
        "\"/opt/NEURON/nrn-7.3//x86_64/bin/nocmodl\" Purkinje_Khaliq03_CaP", 
        "Translating Purkinje_Khaliq03_CaP.mod into Purkinje_Khaliq03_CaP.c", 
        "Thread Safe", 
        "\"/opt/NEURON/nrn-7.3//share/nrn/libtool\" --tag=CC --mode=compile mpicc -DHAVE_CONFIG_H  -I. -I.. -I\"/opt/NEURON/nrn-7.3//include/nrn\" -I\"/opt/NEURON/nrn-7.3//x86_64/lib\"      -g -O2 -c -o Purkinje_Khaliq03_CaP.lo Purkinje_Khaliq03_CaP.c", 
        "libtool: compile:  mpicc -DHAVE_CONFIG_H -I. -I.. -I/opt/NEURON/nrn-7.3//include/nrn -I/opt/NEURON/nrn-7.3//x86_64/lib -g -O2 -c Purkinje_Khaliq03_CaP.c  -fPIC -DPIC -o .libs/Purkinje_Khaliq03_CaP.o", 
        "\"/opt/NEURON/nrn-7.3//x86_64/bin/nocmodl\" Purkinje_Khaliq03_Ih", 
        "Translating Purkinje_Khaliq03_Ih.mod into Purkinje_Khaliq03_Ih.c", 
        "Thread Safe", 
        "\"/opt/NEURON/nrn-7.3//share/nrn/libtool\" --tag=CC --mode=compile mpicc -DHAVE_CONFIG_H  -I. -I.. -I\"/opt/NEURON/nrn-7.3//include/nrn\" -I\"/opt/NEURON/nrn-7.3//x86_64/lib\"      -g -O2 -c -o Purkinje_Khaliq03_Ih.lo Purkinje_Khaliq03_Ih.c", 
        "libtool: compile:  mpicc -DHAVE_CONFIG_H -I. -I.. -I/opt/NEURON/nrn-7.3//include/nrn -I/opt/NEURON/nrn-7.3//x86_64/lib -g -O2 -c Purkinje_Khaliq03_Ih.c  -fPIC -DPIC -o .libs/Purkinje_Khaliq03_Ih.o", 
        "\"/opt/NEURON/nrn-7.3//x86_64/bin/nocmodl\" Purkinje_Khaliq03_K1", 
        "Translating Purkinje_Khaliq03_K1.mod into Purkinje_Khaliq03_K1.c", 
        "Thread Safe", 
        "Warning: Default -88 of PARAMETER ek will be ignored and set by NEURON.", 
        "\"/opt/NEURON/nrn-7.3//share/nrn/libtool\" --tag=CC --mode=compile mpicc -DHAVE_CONFIG_H  -I. -I.. -I\"/opt/NEURON/nrn-7.3//include/nrn\" -I\"/opt/NEURON/nrn-7.3//x86_64/lib\"      -g -O2 -c -o Purkinje_Khaliq03_K1.lo Purkinje_Khaliq03_K1.c", 
        "libtool: compile:  mpicc -DHAVE_CONFIG_H -I. -I.. -I/opt/NEURON/nrn-7.3//include/nrn -I/opt/NEURON/nrn-7.3//x86_64/lib -g -O2 -c Purkinje_Khaliq03_K1.c  -fPIC -DPIC -o .libs/Purkinje_Khaliq03_K1.o", 
        "\"/opt/NEURON/nrn-7.3//x86_64/bin/nocmodl\" Purkinje_Khaliq03_K2", 
        "Translating Purkinje_Khaliq03_K2.mod into Purkinje_Khaliq03_K2.c", 
        "Thread Safe", 
        "Warning: Default -88 of PARAMETER ek will be ignored and set by NEURON.", 
        "\"/opt/NEURON/nrn-7.3//share/nrn/libtool\" --tag=CC --mode=compile mpicc -DHAVE_CONFIG_H  -I. -I.. -I\"/opt/NEURON/nrn-7.3//include/nrn\" -I\"/opt/NEURON/nrn-7.3//x86_64/lib\"      -g -O2 -c -o Purkinje_Khaliq03_K2.lo Purkinje_Khaliq03_K2.c", 
        "libtool: compile:  mpicc -DHAVE_CONFIG_H -I. -I.. -I/opt/NEURON/nrn-7.3//include/nrn -I/opt/NEURON/nrn-7.3//x86_64/lib -g -O2 -c Purkinje_Khaliq03_K2.c  -fPIC -DPIC -o .libs/Purkinje_Khaliq03_K2.o", 
        "\"/opt/NEURON/nrn-7.3//x86_64/bin/nocmodl\" Purkinje_Khaliq03_K3", 
        "Translating Purkinje_Khaliq03_K3.mod into Purkinje_Khaliq03_K3.c", 
        "Thread Safe", 
        "Warning: Default -88 of PARAMETER ek will be ignored and set by NEURON.", 
        "\"/opt/NEURON/nrn-7.3//share/nrn/libtool\" --tag=CC --mode=compile mpicc -DHAVE_CONFIG_H  -I. -I.. -I\"/opt/NEURON/nrn-7.3//include/nrn\" -I\"/opt/NEURON/nrn-7.3//x86_64/lib\"      -g -O2 -c -o Purkinje_Khaliq03_K3.lo Purkinje_Khaliq03_K3.c", 
        "libtool: compile:  mpicc -DHAVE_CONFIG_H -I. -I.. -I/opt/NEURON/nrn-7.3//include/nrn -I/opt/NEURON/nrn-7.3//x86_64/lib -g -O2 -c Purkinje_Khaliq03_K3.c  -fPIC -DPIC -o .libs/Purkinje_Khaliq03_K3.o", 
        "\"/opt/NEURON/nrn-7.3//x86_64/bin/nocmodl\" Purkinje_Khaliq03_Leak", 
        "Translating Purkinje_Khaliq03_Leak.mod into Purkinje_Khaliq03_Leak.c", 
        "Thread Safe", 
        "\"/opt/NEURON/nrn-7.3//share/nrn/libtool\" --tag=CC --mode=compile mpicc -DHAVE_CONFIG_H  -I. -I.. -I\"/opt/NEURON/nrn-7.3//include/nrn\" -I\"/opt/NEURON/nrn-7.3//x86_64/lib\"      -g -O2 -c -o Purkinje_Khaliq03_Leak.lo Purkinje_Khaliq03_Leak.c", 
        "libtool: compile:  mpicc -DHAVE_CONFIG_H -I. -I.. -I/opt/NEURON/nrn-7.3//include/nrn -I/opt/NEURON/nrn-7.3//x86_64/lib -g -O2 -c Purkinje_Khaliq03_Leak.c  -fPIC -DPIC -o .libs/Purkinje_Khaliq03_Leak.o", 
        "\"/opt/NEURON/nrn-7.3//x86_64/bin/nocmodl\" Purkinje_Khaliq03_Narsg", 
        "Translating Purkinje_Khaliq03_Narsg.mod into Purkinje_Khaliq03_Narsg.c", 
        "Thread Safe", 
        "Warning: Default 60 of PARAMETER ena will be ignored and set by NEURON.", 
        "\"/opt/NEURON/nrn-7.3//share/nrn/libtool\" --tag=CC --mode=compile mpicc -DHAVE_CONFIG_H  -I. -I.. -I\"/opt/NEURON/nrn-7.3//include/nrn\" -I\"/opt/NEURON/nrn-7.3//x86_64/lib\"      -g -O2 -c -o Purkinje_Khaliq03_Narsg.lo Purkinje_Khaliq03_Narsg.c", 
        "libtool: compile:  mpicc -DHAVE_CONFIG_H -I. -I.. -I/opt/NEURON/nrn-7.3//include/nrn -I/opt/NEURON/nrn-7.3//x86_64/lib -g -O2 -c Purkinje_Khaliq03_Narsg.c  -fPIC -DPIC -o .libs/Purkinje_Khaliq03_Narsg.o", 
        "\"/opt/NEURON/nrn-7.3//x86_64/bin/nocmodl\" Purkinje_Khaliq03_ca", 
        "Translating Purkinje_Khaliq03_ca.mod into Purkinje_Khaliq03_ca.c", 
        "Thread Safe", 
        "\"/opt/NEURON/nrn-7.3//share/nrn/libtool\" --tag=CC --mode=compile mpicc -DHAVE_CONFIG_H  -I. -I.. -I\"/opt/NEURON/nrn-7.3//include/nrn\" -I\"/opt/NEURON/nrn-7.3//x86_64/lib\"      -g -O2 -c -o Purkinje_Khaliq03_ca.lo Purkinje_Khaliq03_ca.c", 
        "libtool: compile:  mpicc -DHAVE_CONFIG_H -I. -I.. -I/opt/NEURON/nrn-7.3//include/nrn -I/opt/NEURON/nrn-7.3//x86_64/lib -g -O2 -c Purkinje_Khaliq03_ca.c  -fPIC -DPIC -o .libs/Purkinje_Khaliq03_ca.o", 
        "\"/opt/NEURON/nrn-7.3//x86_64/bin/nocmodl\" Purkinje_Khaliq03_soma", 
        "Translating Purkinje_Khaliq03_soma.mod into Purkinje_Khaliq03_soma.c", 
        "Thread Safe", 
        "\"/opt/NEURON/nrn-7.3//share/nrn/libtool\" --tag=CC --mode=compile mpicc -DHAVE_CONFIG_H  -I. -I.. -I\"/opt/NEURON/nrn-7.3//include/nrn\" -I\"/opt/NEURON/nrn-7.3//x86_64/lib\"      -g -O2 -c -o Purkinje_Khaliq03_soma.lo Purkinje_Khaliq03_soma.c", 
        "libtool: compile:  mpicc -DHAVE_CONFIG_H -I. -I.. -I/opt/NEURON/nrn-7.3//include/nrn -I/opt/NEURON/nrn-7.3//x86_64/lib -g -O2 -c Purkinje_Khaliq03_soma.c  -fPIC -DPIC -o .libs/Purkinje_Khaliq03_soma.o", 
        "\"/opt/NEURON/nrn-7.3//share/nrn/libtool\" --tag=CC --mode=compile mpicc -DHAVE_CONFIG_H  -I. -I.. -I\"/opt/NEURON/nrn-7.3//include/nrn\" -I\"/opt/NEURON/nrn-7.3//x86_64/lib\"      -g -O2 -c -o mod_func.lo mod_func.c", 
        "libtool: compile:  mpicc -DHAVE_CONFIG_H -I. -I.. -I/opt/NEURON/nrn-7.3//include/nrn -I/opt/NEURON/nrn-7.3//x86_64/lib -g -O2 -c mod_func.c  -fPIC -DPIC -o .libs/mod_func.o", 
        "\"/opt/NEURON/nrn-7.3//share/nrn/libtool\" --tag=CC --mode=link mpicc -module  -g -O2    -o libnrnmech.la -rpath \"/opt/NEURON/nrn-7.3//x86_64/lib\"  Purkinje_Khaliq03_CaBK.lo Purkinje_Khaliq03_CaP.lo Purkinje_Khaliq03_Ih.lo Purkinje_Khaliq03_K1.lo Purkinje_Khaliq03_K2.lo Purkinje_Khaliq03_K3.lo Purkinje_Khaliq03_Leak.lo Purkinje_Khaliq03_Narsg.lo Purkinje_Khaliq03_ca.lo Purkinje_Khaliq03_soma.lo mod_func.lo  -L\"/opt/NEURON/nrn-7.3//x86_64/lib\" -lnrnoc -loc -lmemacs -lnrnmpi -lscopmath -lsparse13 -lreadline -lncurses -L\"/opt/NEURON/nrn-7.3//x86_64/lib\" \"/opt/NEURON/nrn-7.3//x86_64/lib/libnrniv.la\" -livoc -lneuron_gnu -lmeschach -lsundials       -lm -ldl", 
        "libtool: link: mpicc -shared  -fPIC -DPIC  .libs/Purkinje_Khaliq03_CaBK.o .libs/Purkinje_Khaliq03_CaP.o .libs/Purkinje_Khaliq03_Ih.o .libs/Purkinje_Khaliq03_K1.o .libs/Purkinje_Khaliq03_K2.o .libs/Purkinje_Khaliq03_K3.o .libs/Purkinje_Khaliq03_Leak.o .libs/Purkinje_Khaliq03_Narsg.o .libs/Purkinje_Khaliq03_ca.o .libs/Purkinje_Khaliq03_soma.o .libs/mod_func.o   -Wl,-rpath -Wl,/opt/NEURON/nrn-7.3/x86_64/lib -Wl,-rpath -Wl,/opt/NEURON/nrn-7.3/x86_64/lib -L/opt/NEURON/nrn-7.3//x86_64/lib /opt/NEURON/nrn-7.3/x86_64/lib/libnrnoc.so /opt/NEURON/nrn-7.3/x86_64/lib/liboc.so /opt/NEURON/nrn-7.3/x86_64/lib/libmemacs.so /opt/NEURON/nrn-7.3/x86_64/lib/libnrnmpi.so /opt/NEURON/nrn-7.3/x86_64/lib/libscopmath.so /opt/NEURON/nrn-7.3/x86_64/lib/libsparse13.so -lreadline -lncurses /opt/NEURON/nrn-7.3/x86_64/lib/libnrniv.so /opt/NEURON/nrn-7.3/x86_64/lib/libivoc.so /opt/NEURON/nrn-7.3/x86_64/lib/libneuron_gnu.so /opt/NEURON/nrn-7.3/x86_64/lib/libmeschach.so /opt/NEURON/nrn-7.3/x86_64/lib/libsundials.so -lm -ldl  -O2   -pthread -Wl,-soname -Wl,libnrnmech.so.0 -o .libs/libnrnmech.so.0.0.0", 
        "libtool: link: (cd \".libs\" && rm -f \"libnrnmech.so.0\" && ln -s \"libnrnmech.so.0.0.0\" \"libnrnmech.so.0\")", 
        "libtool: link: (cd \".libs\" && rm -f \"libnrnmech.so\" && ln -s \"libnrnmech.so.0.0.0\" \"libnrnmech.so\")", 
        "libtool: link: ( cd \".libs\" && rm -f \"libnrnmech.la\" && ln -s \"../libnrnmech.la\" \"libnrnmech.la\" )", 
        "Successfully created x86_64/special", 
        "Additional mechanisms from files", 
        " Purkinje_Khaliq03_CaBK.mod Purkinje_Khaliq03_CaP.mod Purkinje_Khaliq03_Ih.mod Purkinje_Khaliq03_K1.mod Purkinje_Khaliq03_K2.mod Purkinje_Khaliq03_K3.mod Purkinje_Khaliq03_Leak.mod Purkinje_Khaliq03_Narsg.mod Purkinje_Khaliq03_ca.mod Purkinje_Khaliq03_soma.mod", 
        "Building mechanisms in '/home/tclose/git/kbrain/src/pyNN/neuron/nmodl' directory.", 
        "numprocs=1", 
        "Building network", 
        "Building mechanisms in 'xml/test/ncml/build/neuron/Purkinje_Khaliq03/install' directory.", 
        "Populations:", 
        "Population \"Purkinjes\"", 
        "    Structure   : Line", 
        "      y: 0.0", 
        "      x0: 0.0", 
        "      z: 0.0", 
        "      dx: 1.0", 
        "    Local cells : 1", 
        "    Cell type   : Purkinje_Khaliq03", 
        "    ID range    : 0-0", 
        "    First cell on this node:", 
        "      ID: 0", 
        "      all_segs.K2.e_rev: -88.0", 
        "      soma_group.L: 15.0", 
        "      all_segs.Ih.e_rev: -30.0", 
        "      all_segs.Narsg.e_rev: 60.0", 
        "      parent: <weakref at 0x302e418; to 'Population' at 0x2ec9fd0>", 
        "      soma_group.AMPA.e: 0.0", 
        "      all_segs.CaP.pbar: 5e-05", 
        "      all_segs.Ih.gbar: 0.0001", 
        "      all_segs.K3.e_rev: -88.0", 
        "      all_segs.Leak.gbar: 5e-05", 
        "      all_segs.K1.e_rev: -88.0", 
        "      all_segs.K3.gbar: 0.004", 
        "      soma_group.diam: 17.5", 
        "      all_segs.cm: 1.0", 
        "      all_segs.Leak.e_rev: -60.0", 
        "      all_segs.Narsg.gbar: 0.015", 
        "      all_segs.K2.gbar: 0.002", 
        "      all_segs.K1.gbar: 0.004", 
        "      soma_group.AMPA.tau2: 1.2", 
        "      soma_group.AMPA.tau1: 0.5", 
        "      all_segs.Ra: 100.0", 
        "", 
        "Population \"AMPAInput\"", 
        "    Structure   : Line", 
        "      y: 0.0", 
        "      x0: 0.0", 
        "      z: 0.0", 
        "      dx: 1.0", 
        "    Local cells : 1", 
        "    Cell type   : SpikeSourceArray", 
        "    ID range    : 1-1", 
        "    First cell on this node:", 
        "      ID: 1", 
        "      spike_times: []", 
        "", 
        "Projections:", 
        "PySec_0x2eb5d10 { nseg=1  L=15  Ra=100", 
        "\t/*location 0 attached to cell 3*/", 
        "\t/* First segment only */", 
        "\tinsert morphology { diam=17.5}", 
        "\tinsert capacitance { cm=1}", 
        "\tinsert Purkinje_Khaliq03_CaP { comp241_vcbdur_Purkinje_Khaliq03_CaP=10 comp241_vchold_Purkinje_Khaliq03_CaP=-90 comp241_vcsteps_Purkinje_Khaliq03_CaP=11 comp241_vcbase_Purkinje_Khaliq03_CaP=-90 comp240_C_m_Purkinje_Khaliq03_CaP=0.001 comp241_vcinc_Purkinje_Khaliq03_CaP=10 comp242_pcabar_Purkinje_Khaliq03_CaP=5e-05 comp241_vchdur_Purkinje_Khaliq03_CaP=5}", 
        "\tinsert Purkinje_Khaliq03_Ih { comp380_gbar_Purkinje_Khaliq03_Ih=0.0001 comp379_vcbdur_Purkinje_Khaliq03_Ih=1200 comp379_vcinc_Purkinje_Khaliq03_Ih=-10 comp379_vchold_Purkinje_Khaliq03_Ih=-50 comp379_vcsteps_Purkinje_Khaliq03_Ih=7 comp378_C_m_Purkinje_Khaliq03_Ih=0.001 comp380_e_Purkinje_Khaliq03_Ih=-30 comp379_vcbase_Purkinje_Khaliq03_Ih=-60 comp379_vchdur_Purkinje_Khaliq03_Ih=300}", 
        "\tinsert Purkinje_Khaliq03_K1 { comp284_vcinc_Purkinje_Khaliq03_K1=10 comp283_C_m_Purkinje_Khaliq03_K1=0.001 comp284_vcbase_Purkinje_Khaliq03_K1=-69 comp284_vcsteps_Purkinje_Khaliq03_K1=8 comp284_vchdur_Purkinje_Khaliq03_K1=30 comp284_vcbdur_Purkinje_Khaliq03_K1=100 comp285_gbar_Purkinje_Khaliq03_K1=0.004 comp285_e_Purkinje_Khaliq03_K1=-88 comp284_vchold_Purkinje_Khaliq03_K1=-71}", 
        "\tinsert Purkinje_Khaliq03_K2 { comp315_vcbdur_Purkinje_Khaliq03_K2=100 comp316_gbar_Purkinje_Khaliq03_K2=0.002 comp315_vchold_Purkinje_Khaliq03_K2=-71 comp315_vcsteps_Purkinje_Khaliq03_K2=9 comp314_C_m_Purkinje_Khaliq03_K2=0.001 comp315_vcbase_Purkinje_Khaliq03_K2=-69 comp315_vcinc_Purkinje_Khaliq03_K2=10 comp316_e_Purkinje_Khaliq03_K2=-88 comp315_vchdur_Purkinje_Khaliq03_K2=30}", 
        "\tinsert Purkinje_Khaliq03_K3 { comp338_gbar_Purkinje_Khaliq03_K3=0.004 comp337_vchold_Purkinje_Khaliq03_K3=-71 comp337_vcsteps_Purkinje_Khaliq03_K3=8 comp337_vcbase_Purkinje_Khaliq03_K3=-61 comp336_C_m_Purkinje_Khaliq03_K3=0.001 comp338_e_Purkinje_Khaliq03_K3=-88 comp337_vchdur_Purkinje_Khaliq03_K3=30 comp337_vcbdur_Purkinje_Khaliq03_K3=100 comp337_vcinc_Purkinje_Khaliq03_K3=10}", 
        "\tinsert k_ion { ek=-88}", 
        "\tinsert Purkinje_Khaliq03_Leak { comp399_vcbdur_Purkinje_Khaliq03_Leak=100 comp398_C_m_Purkinje_Khaliq03_Leak=0.001 comp399_vcinc_Purkinje_Khaliq03_Leak=10 comp399_vchold_Purkinje_Khaliq03_Leak=-71 comp399_vcsteps_Purkinje_Khaliq03_Leak=5 comp399_vcbase_Purkinje_Khaliq03_Leak=-91 comp400_gbar_Purkinje_Khaliq03_Leak=5e-05 comp400_e_Purkinje_Khaliq03_Leak=-60 comp399_vchdur_Purkinje_Khaliq03_Leak=30}", 
        "\tinsert Purkinje_Khaliq03_Narsg { comp359_vcbdur_Purkinje_Khaliq03_Narsg=100 comp360_e_Purkinje_Khaliq03_Narsg=60 comp359_vcinc_Purkinje_Khaliq03_Narsg=10 comp359_vchold_Purkinje_Khaliq03_Narsg=-71 comp359_vcsteps_Purkinje_Khaliq03_Narsg=9 comp358_C_m_Purkinje_Khaliq03_Narsg=0.001 comp359_vcbase_Purkinje_Khaliq03_Narsg=-60 comp360_gbar_Purkinje_Khaliq03_Narsg=0.015 comp359_vchdur_Purkinje_Khaliq03_Narsg=30}", 
        "\tinsert na_ion { ena=60}", 
        "\tinsert Purkinje_Khaliq03_ca { comp418_cao_Purkinje_Khaliq03_ca=2.4 ca0_Purkinje_Khaliq03_ca=0.0001 comp417_C_m_Purkinje_Khaliq03_ca=0.001}", 
        "\tinsert ca_ion {}", 
        "\tinsert Exp2Syn { tau1=0.5 tau2=1.2 e=0}", 
        "}", 
        "------Miscellaneous hoc variables to print------", 
        "celsius: 30.0", 
        "Starting run", 
        "Simulated single cell for 2000.000000 milliseconds", 
        "Saved voltage trace to 'output/single_purkinje.v'", 
        ""
       ]
      }
     ], 
     "prompt_number": 5
    }, 
    {
     "cell_type": "code", 
     "collapsed": true, 
     "input": [
      "bash('cd external/purkinje_khaliq03; nrnivmodl', silent=True)", 
      "bash('cd external/purkinje_khaliq03; nrngui mosinit.hoc')"
     ], 
     "language": "python", 
     "outputs": []
    }, 
    {
     "cell_type": "code", 
     "collapsed": false, 
     "input": [
      "bash('cd xml/test/ncml/build/neuron/Purkinje_Khaliq03/install; nrnivmodl', silent=True)", 
      "bash('cd external/nemo_testing/neuron/ncml_generated_hoc; nrngui ncml_generated_purkinje.hoc', save_output='output/ncml_generated_granule_hoc.log')"
     ], 
     "language": "python", 
     "outputs": [
      {
       "output_type": "stream", 
       "stream": "stdout", 
       "text": [
        "NEURON -- VERSION 7.3 (755:56b2e4fa6248) 2013-01-02", 
        "Duke, Yale, and the BlueBrain Project -- Copyright 1984-2012", 
        "See http://www.neuron.yale.edu/credits.html", 
        "", 
        "nrniv: unable to open font \"*helvetica-medium-r-normal*--14*\", using \"fixed\"", 
        "Additional mechanisms from files", 
        " Purkinje_Khaliq03_CaBK.mod Purkinje_Khaliq03_CaP.mod Purkinje_Khaliq03_Ih.mod Purkinje_Khaliq03_K1.mod Purkinje_Khaliq03_K2.mod Purkinje_Khaliq03_K3.mod Purkinje_Khaliq03_Leak.mod Purkinje_Khaliq03_Narsg.mod Purkinje_Khaliq03_ca.mod Purkinje_Khaliq03_soma.mod", 
        "\t1 ", 
        "\t1 ", 
        "\t1 ", 
        "Writing output to '../../../../output/ncml_generated_purkinje.dat'\t66 ", 
        "\t1 ", 
        "\t0 ", 
        ""
       ]
      }
     ], 
     "prompt_number": 12
    }, 
    {
     "cell_type": "code", 
     "collapsed": false, 
     "input": [
      "activity_plot('output/single_purkinje.v output/purkinje_khaliq03.dat --combine')"
     ], 
     "language": "python", 
     "outputs": [], 
     "prompt_number": 3
    }, 
    {
     "cell_type": "code", 
     "collapsed": true, 
     "input": [
      "activity_plot('output/ncml_generated_purkinje.dat output/purkinje_khaliq03.dat --combine')"
     ], 
     "language": "python", 
     "outputs": [], 
     "prompt_number": 9
    }, 
    {
     "cell_type": "code", 
     "collapsed": true, 
     "input": [], 
     "language": "python", 
     "outputs": []
    }
   ]
  }
 ]
}