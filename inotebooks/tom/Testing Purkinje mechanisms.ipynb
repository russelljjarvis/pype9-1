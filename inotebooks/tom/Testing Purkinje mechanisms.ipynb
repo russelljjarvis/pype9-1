{
 "metadata": {
  "name": "Testing Purkinje mechanisms"
 }, 
 "nbformat": 2, 
 "worksheets": [
  {
   "cells": [
    {
     "cell_type": "code", 
     "collapsed": false, 
     "input": [
      "from utilities.inotebook import *", 
      "inotebook_init()"
     ], 
     "language": "python", 
     "outputs": [
      {
       "output_type": "stream", 
       "stream": "stdout", 
       "text": [
        "Using git revision of k-Brain: 71356c2551a7c1648a036c9c180700b0b17f727b", 
        ""
       ]
      }
     ], 
     "prompt_number": 2
    }, 
    {
     "cell_type": "code", 
     "collapsed": false, 
     "input": [
      "clear_output_dir()"
     ], 
     "language": "python", 
     "outputs": [
      {
       "output_type": "stream", 
       "stream": "stdout", 
       "text": [
        "No files provided, clearing all files in output directory", 
        "Removed purkinje_khaliq03.dat from output directory", 
        "Removed single_purkinje_cell.log from output directory", 
        "", 
        "-----------------------------------", 
        "Remaining files in output directory", 
        "-----------------------------------", 
        "ellipsoid_test.", 
        "-----------------------------------"
       ]
      }
     ], 
     "prompt_number": 3
    }, 
    {
     "cell_type": "code", 
     "collapsed": false, 
     "input": [
      "bash('single_cell.py xml/test/single_purkinje.xml --build force --inject step 0.01875 1000 --output output/single_purkinje.v', save_output='output/single_purkinje_cell.log')"
     ], 
     "language": "python", 
     "outputs": [
      {
       "output_type": "stream", 
       "stream": "stdout", 
       "text": [
        "Return Code: 1", 
        "NEURON -- VERSION 7.3 (755:56b2e4fa6248) 2013-01-02", 
        "Duke, Yale, and the BlueBrain Project -- Copyright 1984-2012", 
        "See http://www.neuron.yale.edu/credits.html", 
        "", 
        "Additional mechanisms from files", 
        " adexp.mod alphaisyn.mod alphasyn.mod expisyn.mod gap.mod gsfa_grr.mod hh_traub.mod netstim2.mod refrac.mod reset.mod stdwa_guetig.mod stdwa_softlimits.mod stdwa_songabbott.mod stdwa_symm.mod tmgsyn.mod tmisyn.mod vecstim.mod", 
        "", 
        "Warning: uncaught exception: (specificCapacitance (@ (value \"1.0\") (units \"uF_per_cm2\")))", 
        "", 
        "", 
        "Warning: uncaught exception: (reversalPotential (@ (value \"60\") (units \"mV\") (species \"na\")))", 
        "", 
        "", 
        "Warning: uncaught exception: (reversalPotential (@ (value \"-88\") (units \"mV\") (species \"k\")))", 
        "", 
        "Creating x86_64 directory for .o files.", 
        "", 
        "/home/tclose/git/kbrain/xml/test/ncml/build/neuron/Purkinje_Khaliq03/install", 
        "Purkinje_Khaliq03_CaBK.mod Purkinje_Khaliq03_CaP.mod Purkinje_Khaliq03_Ih.mod Purkinje_Khaliq03_K1.mod Purkinje_Khaliq03_K2.mod Purkinje_Khaliq03_K3.mod Purkinje_Khaliq03_Leak.mod Purkinje_Khaliq03_Narsg.mod Purkinje_Khaliq03_ca.mod", 
        "Purkinje_Khaliq03_CaBK.mod Purkinje_Khaliq03_CaP.mod Purkinje_Khaliq03_Ih.mod Purkinje_Khaliq03_K1.mod Purkinje_Khaliq03_K2.mod Purkinje_Khaliq03_K3.mod Purkinje_Khaliq03_Leak.mod Purkinje_Khaliq03_Narsg.mod Purkinje_Khaliq03_ca.mod", 
        "\"/opt/NEURON/nrn-7.3//x86_64/bin/nocmodl\" Purkinje_Khaliq03_CaBK", 
        "Translating Purkinje_Khaliq03_CaBK.mod into Purkinje_Khaliq03_CaBK.c", 
        "Thread Safe", 
        "Warning: Default -88 of PARAMETER ek will be ignored and set by NEURON.", 
        "\"/opt/NEURON/nrn-7.3//share/nrn/libtool\" --tag=CC --mode=compile mpicc -DHAVE_CONFIG_H  -I. -I.. -I\"/opt/NEURON/nrn-7.3//include/nrn\" -I\"/opt/NEURON/nrn-7.3//x86_64/lib\"      -g -O2 -c -o Purkinje_Khaliq03_CaBK.lo Purkinje_Khaliq03_CaBK.c", 
        "libtool: compile:  mpicc -DHAVE_CONFIG_H -I. -I.. -I/opt/NEURON/nrn-7.3//include/nrn -I/opt/NEURON/nrn-7.3//x86_64/lib -g -O2 -c Purkinje_Khaliq03_CaBK.c  -fPIC -DPIC -o .libs/Purkinje_Khaliq03_CaBK.o", 
        "\"/opt/NEURON/nrn-7.3//x86_64/bin/nocmodl\" Purkinje_Khaliq03_CaP", 
        "Translating Purkinje_Khaliq03_CaP.mod into Purkinje_Khaliq03_CaP.c", 
        "Thread Safe", 
        "\"/opt/NEURON/nrn-7.3//share/nrn/libtool\" --tag=CC --mode=compile mpicc -DHAVE_CONFIG_H  -I. -I.. -I\"/opt/NEURON/nrn-7.3//include/nrn\" -I\"/opt/NEURON/nrn-7.3//x86_64/lib\"      -g -O2 -c -o Purkinje_Khaliq03_CaP.lo Purkinje_Khaliq03_CaP.c", 
        "libtool: compile:  mpicc -DHAVE_CONFIG_H -I. -I.. -I/opt/NEURON/nrn-7.3//include/nrn -I/opt/NEURON/nrn-7.3//x86_64/lib -g -O2 -c Purkinje_Khaliq03_CaP.c  -fPIC -DPIC -o .libs/Purkinje_Khaliq03_CaP.o", 
        "\"/opt/NEURON/nrn-7.3//x86_64/bin/nocmodl\" Purkinje_Khaliq03_Ih", 
        "Translating Purkinje_Khaliq03_Ih.mod into Purkinje_Khaliq03_Ih.c", 
        "Thread Safe", 
        "\"/opt/NEURON/nrn-7.3//share/nrn/libtool\" --tag=CC --mode=compile mpicc -DHAVE_CONFIG_H  -I. -I.. -I\"/opt/NEURON/nrn-7.3//include/nrn\" -I\"/opt/NEURON/nrn-7.3//x86_64/lib\"      -g -O2 -c -o Purkinje_Khaliq03_Ih.lo Purkinje_Khaliq03_Ih.c", 
        "libtool: compile:  mpicc -DHAVE_CONFIG_H -I. -I.. -I/opt/NEURON/nrn-7.3//include/nrn -I/opt/NEURON/nrn-7.3//x86_64/lib -g -O2 -c Purkinje_Khaliq03_Ih.c  -fPIC -DPIC -o .libs/Purkinje_Khaliq03_Ih.o", 
        "\"/opt/NEURON/nrn-7.3//x86_64/bin/nocmodl\" Purkinje_Khaliq03_K1", 
        "Translating Purkinje_Khaliq03_K1.mod into Purkinje_Khaliq03_K1.c", 
        "Thread Safe", 
        "Warning: Default -88 of PARAMETER ek will be ignored and set by NEURON.", 
        "\"/opt/NEURON/nrn-7.3//share/nrn/libtool\" --tag=CC --mode=compile mpicc -DHAVE_CONFIG_H  -I. -I.. -I\"/opt/NEURON/nrn-7.3//include/nrn\" -I\"/opt/NEURON/nrn-7.3//x86_64/lib\"      -g -O2 -c -o Purkinje_Khaliq03_K1.lo Purkinje_Khaliq03_K1.c", 
        "libtool: compile:  mpicc -DHAVE_CONFIG_H -I. -I.. -I/opt/NEURON/nrn-7.3//include/nrn -I/opt/NEURON/nrn-7.3//x86_64/lib -g -O2 -c Purkinje_Khaliq03_K1.c  -fPIC -DPIC -o .libs/Purkinje_Khaliq03_K1.o", 
        "\"/opt/NEURON/nrn-7.3//x86_64/bin/nocmodl\" Purkinje_Khaliq03_K2", 
        "Translating Purkinje_Khaliq03_K2.mod into Purkinje_Khaliq03_K2.c", 
        "Thread Safe", 
        "Warning: Default -88 of PARAMETER ek will be ignored and set by NEURON.", 
        "\"/opt/NEURON/nrn-7.3//share/nrn/libtool\" --tag=CC --mode=compile mpicc -DHAVE_CONFIG_H  -I. -I.. -I\"/opt/NEURON/nrn-7.3//include/nrn\" -I\"/opt/NEURON/nrn-7.3//x86_64/lib\"      -g -O2 -c -o Purkinje_Khaliq03_K2.lo Purkinje_Khaliq03_K2.c", 
        "libtool: compile:  mpicc -DHAVE_CONFIG_H -I. -I.. -I/opt/NEURON/nrn-7.3//include/nrn -I/opt/NEURON/nrn-7.3//x86_64/lib -g -O2 -c Purkinje_Khaliq03_K2.c  -fPIC -DPIC -o .libs/Purkinje_Khaliq03_K2.o", 
        "\"/opt/NEURON/nrn-7.3//x86_64/bin/nocmodl\" Purkinje_Khaliq03_K3", 
        "Translating Purkinje_Khaliq03_K3.mod into Purkinje_Khaliq03_K3.c", 
        "Thread Safe", 
        "Warning: Default -88 of PARAMETER ek will be ignored and set by NEURON.", 
        "\"/opt/NEURON/nrn-7.3//share/nrn/libtool\" --tag=CC --mode=compile mpicc -DHAVE_CONFIG_H  -I. -I.. -I\"/opt/NEURON/nrn-7.3//include/nrn\" -I\"/opt/NEURON/nrn-7.3//x86_64/lib\"      -g -O2 -c -o Purkinje_Khaliq03_K3.lo Purkinje_Khaliq03_K3.c", 
        "libtool: compile:  mpicc -DHAVE_CONFIG_H -I. -I.. -I/opt/NEURON/nrn-7.3//include/nrn -I/opt/NEURON/nrn-7.3//x86_64/lib -g -O2 -c Purkinje_Khaliq03_K3.c  -fPIC -DPIC -o .libs/Purkinje_Khaliq03_K3.o", 
        "\"/opt/NEURON/nrn-7.3//x86_64/bin/nocmodl\" Purkinje_Khaliq03_Leak", 
        "Translating Purkinje_Khaliq03_Leak.mod into Purkinje_Khaliq03_Leak.c", 
        "Thread Safe", 
        "\"/opt/NEURON/nrn-7.3//share/nrn/libtool\" --tag=CC --mode=compile mpicc -DHAVE_CONFIG_H  -I. -I.. -I\"/opt/NEURON/nrn-7.3//include/nrn\" -I\"/opt/NEURON/nrn-7.3//x86_64/lib\"      -g -O2 -c -o Purkinje_Khaliq03_Leak.lo Purkinje_Khaliq03_Leak.c", 
        "libtool: compile:  mpicc -DHAVE_CONFIG_H -I. -I.. -I/opt/NEURON/nrn-7.3//include/nrn -I/opt/NEURON/nrn-7.3//x86_64/lib -g -O2 -c Purkinje_Khaliq03_Leak.c  -fPIC -DPIC -o .libs/Purkinje_Khaliq03_Leak.o", 
        "\"/opt/NEURON/nrn-7.3//x86_64/bin/nocmodl\" Purkinje_Khaliq03_Narsg", 
        "Translating Purkinje_Khaliq03_Narsg.mod into Purkinje_Khaliq03_Narsg.c", 
        "Thread Safe", 
        "Warning: Default 60 of PARAMETER ena will be ignored and set by NEURON.", 
        "\"/opt/NEURON/nrn-7.3//share/nrn/libtool\" --tag=CC --mode=compile mpicc -DHAVE_CONFIG_H  -I. -I.. -I\"/opt/NEURON/nrn-7.3//include/nrn\" -I\"/opt/NEURON/nrn-7.3//x86_64/lib\"      -g -O2 -c -o Purkinje_Khaliq03_Narsg.lo Purkinje_Khaliq03_Narsg.c", 
        "libtool: compile:  mpicc -DHAVE_CONFIG_H -I. -I.. -I/opt/NEURON/nrn-7.3//include/nrn -I/opt/NEURON/nrn-7.3//x86_64/lib -g -O2 -c Purkinje_Khaliq03_Narsg.c  -fPIC -DPIC -o .libs/Purkinje_Khaliq03_Narsg.o", 
        "\"/opt/NEURON/nrn-7.3//x86_64/bin/nocmodl\" Purkinje_Khaliq03_ca", 
        "Translating Purkinje_Khaliq03_ca.mod into Purkinje_Khaliq03_ca.c", 
        "Thread Safe", 
        "\"/opt/NEURON/nrn-7.3//share/nrn/libtool\" --tag=CC --mode=compile mpicc -DHAVE_CONFIG_H  -I. -I.. -I\"/opt/NEURON/nrn-7.3//include/nrn\" -I\"/opt/NEURON/nrn-7.3//x86_64/lib\"      -g -O2 -c -o Purkinje_Khaliq03_ca.lo Purkinje_Khaliq03_ca.c", 
        "libtool: compile:  mpicc -DHAVE_CONFIG_H -I. -I.. -I/opt/NEURON/nrn-7.3//include/nrn -I/opt/NEURON/nrn-7.3//x86_64/lib -g -O2 -c Purkinje_Khaliq03_ca.c  -fPIC -DPIC -o .libs/Purkinje_Khaliq03_ca.o", 
        "\"/opt/NEURON/nrn-7.3//share/nrn/libtool\" --tag=CC --mode=compile mpicc -DHAVE_CONFIG_H  -I. -I.. -I\"/opt/NEURON/nrn-7.3//include/nrn\" -I\"/opt/NEURON/nrn-7.3//x86_64/lib\"      -g -O2 -c -o mod_func.lo mod_func.c", 
        "libtool: compile:  mpicc -DHAVE_CONFIG_H -I. -I.. -I/opt/NEURON/nrn-7.3//include/nrn -I/opt/NEURON/nrn-7.3//x86_64/lib -g -O2 -c mod_func.c  -fPIC -DPIC -o .libs/mod_func.o", 
        "\"/opt/NEURON/nrn-7.3//share/nrn/libtool\" --tag=CC --mode=link mpicc -module  -g -O2    -o libnrnmech.la -rpath \"/opt/NEURON/nrn-7.3//x86_64/lib\"  Purkinje_Khaliq03_CaBK.lo Purkinje_Khaliq03_CaP.lo Purkinje_Khaliq03_Ih.lo Purkinje_Khaliq03_K1.lo Purkinje_Khaliq03_K2.lo Purkinje_Khaliq03_K3.lo Purkinje_Khaliq03_Leak.lo Purkinje_Khaliq03_Narsg.lo Purkinje_Khaliq03_ca.lo mod_func.lo  -L\"/opt/NEURON/nrn-7.3//x86_64/lib\" -lnrnoc -loc -lmemacs -lnrnmpi -lscopmath -lsparse13 -lreadline -lncurses -L\"/opt/NEURON/nrn-7.3//x86_64/lib\" \"/opt/NEURON/nrn-7.3//x86_64/lib/libnrniv.la\" -livoc -lneuron_gnu -lmeschach -lsundials       -lm -ldl", 
        "libtool: link: mpicc -shared  -fPIC -DPIC  .libs/Purkinje_Khaliq03_CaBK.o .libs/Purkinje_Khaliq03_CaP.o .libs/Purkinje_Khaliq03_Ih.o .libs/Purkinje_Khaliq03_K1.o .libs/Purkinje_Khaliq03_K2.o .libs/Purkinje_Khaliq03_K3.o .libs/Purkinje_Khaliq03_Leak.o .libs/Purkinje_Khaliq03_Narsg.o .libs/Purkinje_Khaliq03_ca.o .libs/mod_func.o   -Wl,-rpath -Wl,/opt/NEURON/nrn-7.3/x86_64/lib -Wl,-rpath -Wl,/opt/NEURON/nrn-7.3/x86_64/lib -L/opt/NEURON/nrn-7.3//x86_64/lib /opt/NEURON/nrn-7.3/x86_64/lib/libnrnoc.so /opt/NEURON/nrn-7.3/x86_64/lib/liboc.so /opt/NEURON/nrn-7.3/x86_64/lib/libmemacs.so /opt/NEURON/nrn-7.3/x86_64/lib/libnrnmpi.so /opt/NEURON/nrn-7.3/x86_64/lib/libscopmath.so /opt/NEURON/nrn-7.3/x86_64/lib/libsparse13.so -lreadline -lncurses /opt/NEURON/nrn-7.3/x86_64/lib/libnrniv.so /opt/NEURON/nrn-7.3/x86_64/lib/libivoc.so /opt/NEURON/nrn-7.3/x86_64/lib/libneuron_gnu.so /opt/NEURON/nrn-7.3/x86_64/lib/libmeschach.so /opt/NEURON/nrn-7.3/x86_64/lib/libsundials.so -lm -ldl  -O2   -pthread -Wl,-soname -Wl,libnrnmech.so.0 -o .libs/libnrnmech.so.0.0.0", 
        "libtool: link: (cd \".libs\" && rm -f \"libnrnmech.so.0\" && ln -s \"libnrnmech.so.0.0.0\" \"libnrnmech.so.0\")", 
        "libtool: link: (cd \".libs\" && rm -f \"libnrnmech.so\" && ln -s \"libnrnmech.so.0.0.0\" \"libnrnmech.so\")", 
        "libtool: link: ( cd \".libs\" && rm -f \"libnrnmech.la\" && ln -s \"../libnrnmech.la\" \"libnrnmech.la\" )", 
        "Successfully created x86_64/special", 
        "Additional mechanisms from files", 
        " Purkinje_Khaliq03_CaBK.mod Purkinje_Khaliq03_CaP.mod Purkinje_Khaliq03_Ih.mod Purkinje_Khaliq03_K1.mod Purkinje_Khaliq03_K2.mod Purkinje_Khaliq03_K3.mod Purkinje_Khaliq03_Leak.mod Purkinje_Khaliq03_Narsg.mod Purkinje_Khaliq03_ca.mod", 
        "Building mechanisms in '/home/tclose/git/kbrain/src/pyNN/neuron/nmodl' directory.", 
        "numprocs=1", 
        "Building network", 
        "Building mechanisms in 'xml/test/ncml/build/neuron/Purkinje_Khaliq03/install' directory.", 
        "Traceback (most recent call last):", 
        "  File \"/home/tclose/git/kbrain/src/test/single_cell.py\", line 94, in <module>", 
        "    main(sys.argv[1:])", 
        "  File \"/home/tclose/git/kbrain/src/test/single_cell.py\", line 47, in main", 
        "    max_delay=2.0, silent_build=args.silent_build, build_mode=args.build)", 
        "  File \"/home/tclose/git/kbrain/src/ninemlp/neuron/__init__.py\", line 258, in __init__", 
        "    temperature=temperature, silent_build=silent_build, flags=flags)", 
        "  File \"/home/tclose/git/kbrain/src/ninemlp/common/__init__.py\", line 276, in __init__", 
        "    silent_build=silent_build, flags=flags)", 
        "  File \"/home/tclose/git/kbrain/src/ninemlp/common/__init__.py\", line 330, in load_network", 
        "    silent_build)", 
        "  File \"/home/tclose/git/kbrain/src/ninemlp/common/__init__.py\", line 371, in _create_population", 
        "    silent=silent_build)", 
        "  File \"/home/tclose/git/kbrain/src/ninemlp/neuron/ncml.py\", line 636, in load_cell_type", 
        "    celltype = NCMLMetaClass(str(celltype_name), (pyNN.models.BaseCellType, NCMLCell), dct)", 
        "  File \"/home/tclose/git/kbrain/src/ninemlp/neuron/ncml.py\", line 525, in __new__", 
        "    cls._validate_recordable(cellclass) #FIXME: This is a bit of a hack", 
        "  File \"/home/tclose/git/kbrain/src/ninemlp/neuron/ncml.py\", line 537, in _validate_recordable", 
        "    test_cell = cell_type()", 
        "  File \"/home/tclose/git/kbrain/src/ninemlp/neuron/ncml.py\", line 518, in cellclass__init__", 
        "    NCMLCell.__init__(self, **parameters)", 
        "  File \"/home/tclose/git/kbrain/src/ninemlp/neuron/ncml.py\", line 232, in __init__", 
        "    self._init_biophysics()", 
        "  File \"/home/tclose/git/kbrain/src/ninemlp/neuron/ncml.py\", line 395, in _init_biophysics", 
        "    for seg in self.get_group(syn.group_id):", 
        "  File \"/home/tclose/git/kbrain/src/ninemlp/common/ncml.py\", line 329, in get_group", 
        "    return self.groups[group_id] if group_id else self.all_segs", 
        "KeyError: u'soma'", 
        ""
       ]
      }
     ], 
     "prompt_number": 4
    }, 
    {
     "cell_type": "code", 
     "collapsed": false, 
     "input": [
      "bash('cd external/purkinje_khaliq03; nrnivmodl', silent=True)", 
      "bash('cd external/purkinje_khaliq03; nrngui mosinit.hoc')"
     ], 
     "language": "python", 
     "outputs": [
      {
       "output_type": "stream", 
       "stream": "stdout", 
       "text": [
        "NEURON -- VERSION 7.3 (755:56b2e4fa6248) 2013-01-02", 
        "Duke, Yale, and the BlueBrain Project -- Copyright 1984-2012", 
        "See http://www.neuron.yale.edu/credits.html", 
        "", 
        "Additional mechanisms from files", 
        " bkpkj.mod cadiff.mod cap.mod ihpkj.mod kpkj.mod kpkj2.mod kpkjslow.mod pkjlk.mod rsg.mod", 
        "nrniv: unable to open font \"*helvetica-medium-r-normal*--14*\", using \"fixed\"", 
        "\t1 ", 
        "\t1 ", 
        "Writing output to '../../output/purkinje_khaliq03.dat'\t54 ", 
        "\t1 ", 
        "\t0 ", 
        ""
       ]
      }
     ], 
     "prompt_number": 5
    }, 
    {
     "cell_type": "code", 
     "collapsed": true, 
     "input": [
      "activity_plot('output/single_purkinje.v output/purkinje_khaliq03.dat --combine')"
     ], 
     "language": "python", 
     "outputs": [], 
     "prompt_number": 6
    }, 
    {
     "cell_type": "code", 
     "collapsed": true, 
     "input": [], 
     "language": "python", 
     "outputs": [], 
     "prompt_number": 6
    }
   ]
  }
 ]
}