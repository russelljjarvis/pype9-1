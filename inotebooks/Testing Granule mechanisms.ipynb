{
 "metadata": {
  "name": "Testing Granule mechanisms"
 }, 
 "nbformat": 2, 
 "worksheets": [
  {
   "cells": [
    {
     "cell_type": "markdown", 
     "source": [
      "---", 
      "Initialise IPython Notebook", 
      "---"
     ]
    }, 
    {
     "cell_type": "code", 
     "collapsed": true, 
     "input": [
      "from utilities.inotebook import *"
     ], 
     "language": "python", 
     "outputs": [], 
     "prompt_number": 68
    }, 
    {
     "cell_type": "code", 
     "collapsed": false, 
     "input": [
      "inotebook_init()"
     ], 
     "language": "python", 
     "outputs": [
      {
       "output_type": "stream", 
       "stream": "stdout", 
       "text": [
        "Using git revision of k-Brain: 08daff7c2e4950f5b2ff80dad4d06afffb71e223", 
        ""
       ]
      }
     ], 
     "prompt_number": 69
    }, 
    {
     "cell_type": "markdown", 
     "source": [
      "---", 
      "Testing original vs generated granule mod files", 
      "---"
     ]
    }, 
    {
     "cell_type": "markdown", 
     "source": [
      "---", 
      "Preporatory tasks"
     ]
    }, 
    {
     "cell_type": "markdown", 
     "source": [
      "Clear any files that might be getting confused with previous builds"
     ]
    }, 
    {
     "cell_type": "code", 
     "collapsed": false, 
     "input": [
      "clear_output_dir() "
     ], 
     "language": "python", 
     "outputs": [
      {
       "output_type": "stream", 
       "stream": "stdout", 
       "text": [
        "No files provided, clearing all files in output directory", 
        "Removed generated_granule_hoc.log from output directory", 
        "Removed generated_granule_hoc.dat from output directory", 
        "Removed generated_granule_mechanisms.log from output directory", 
        "Removed single_cell.Granules.v from output directory", 
        "Removed fabios_granule_hoc.log from output directory", 
        "Removed single_granule_cell.log from output directory", 
        "Removed fabios_granule_hoc.dat from output directory", 
        "Removed single_cell.Granules.spikes from output directory", 
        "Removed fabios_granule_mechanisms.log from output directory", 
        "Removed fabios_granule_mechanisms.test.dat from output directory", 
        "Removed generated_granule_mechanisms.test.dat from output directory", 
        "", 
        "-----------------------------------", 
        "Remaining files in output directory", 
        "-----------------------------------", 
        "", 
        "-----------------------------------"
       ]
      }
     ], 
     "prompt_number": 70
    }, 
    {
     "cell_type": "markdown", 
     "source": [
      "Checking that hoc scripts are doing the same thing"
     ]
    }, 
    {
     "cell_type": "code", 
     "collapsed": false, 
     "input": [
      "diff('external/original_mod/granule/fabios_granule.hoc', 'xml/cerebellum/ncml/build/nmodl/generated_granule.hoc')"
     ], 
     "language": "python", 
     "outputs": [
      {
       "output_type": "stream", 
       "stream": "stdout", 
       "text": [
        "*** ", 
        "--- ", 
        "***************", 
        "*** 1,18 ****", 
        "  stim_amp=0.01875", 
        "  ", 
        "  // This is the absolute path on my machine (feel free to add your own as it doesn't hurt)", 
        "! nrn_load_dll(\"/home/tclose/kbrain/external/original_mod/granule/x86_64/.libs/libnrnmech.so\")", 
        "  ", 
        "  //object variable will refer to a list that will hold an arbitrary number of NetCon objects.", 
        "  ", 
        "  objectvar nclist  ", 
        "  ", 
        "  //synapses         ", 
        "- ", 
        "  objectvar synAMPA,synNMDA,synGABAa1,synGABAa2 ", 
        "  ", 
        "  //counting spikes", 
        "- ", 
        "  objref spiketimes,spikecount", 
        "  ", 
        "  objref voltagem", 
        "--- 1,16 ----", 
        "  stim_amp=0.01875", 
        "  ", 
        "  // This is the absolute path on my machine (feel free to add your own as it doesn't hurt)", 
        "! nrn_load_dll(\"/home/tclose/kbrain/xml/cerebellum/ncml/build/nmodl/x86_64/.libs/libnrnmech.so\")", 
        "  ", 
        "  //object variable will refer to a list that will hold an arbitrary number of NetCon objects.", 
        "  ", 
        "  objectvar nclist  ", 
        "  ", 
        "  //synapses         ", 
        "  objectvar synAMPA,synNMDA,synGABAa1,synGABAa2 ", 
        "  ", 
        "  //counting spikes", 
        "  objref spiketimes,spikecount", 
        "  ", 
        "  objref voltagem", 
        "***************", 
        "*** 45,79 ****", 
        "      ", 
        "      Area = PI*soma.diam*soma.L*1e-8", 
        "  ", 
        "!     insert GRC_CA", 
        "!     insert GRC_CALC", 
        "!     insert GRC_KA", 
        "!     insert GRC_KCA ", 
        "!     insert GRC_KIR    ", 
        "!     insert GRC_KM", 
        "!     insert GRC_KV ", 
        "!     insert GRC_LKG1 ", 
        "!     insert GRC_LKG2", 
        "!     insert GRC_NA ", 
        "  ", 
        "!     gcabar_GRC_CA= 0.00046    //2009 model", 
        "!     gkbar_GRC_KCA = 0.04   //ajusted Version 3", 
        "!     gkbar_GRC_KV= 0.003    //2009 model", 
        "!     gkbar_GRC_KA = 0.0032   //2009 model", 
        "!     gkbar_GRC_KM= 0.00025   //0.0001  //2009 model", 
        "!     gkbar_GRC_KIR = 0.0009  //2009 model", 
        "!     gl_GRC_LKG1=5.68e-5   //2009 model", 
        "!     ggaba_GRC_LKG2 = 3e-05    //2009 model", 
        "!     gnabar_GRC_NA= 0.013     //2009 model  ", 
        "!     beta_GRC_CALC = 1.5", 
        "      ", 
        "!     usetable_GRC_CA   = 0         ", 
        "!     usetable_GRC_KA   = 0", 
        "!     usetable_GRC_KCA  = 0", 
        "!     usetable_GRC_KM   = 0", 
        "!     usetable_GRC_KV   = 0", 
        "!     usetable_GRC_KIR  = 0   ", 
        "!     usetable_GRC_NA   = 0        ", 
        "      ", 
        "      ena = 87.39", 
        "      ek = -84.69", 
        "--- 43,78 ----", 
        "      ", 
        "      Area = PI*soma.diam*soma.L*1e-8", 
        "  ", 
        "!     insert CGC_Ca", 
        "!     insert CGC_CaHVA    ", 
        "!     insert CGC_KA", 
        "!     insert CGC_KCa ", 
        "!     insert CGC_KM", 
        "!     insert CGC_KV", 
        "!     insert CGC_Kir", 
        "!     insert CGC_Lkg1", 
        "!     insert CGC_Lkg2", 
        "!     insert CGC_Na ", 
        "  ", 
        "!     gcabar_CGC_Ca= 0.00046    //2009 model", 
        "!     gkbar_CGC_KCa = 0.04   //ajusted Version 3", 
        "!     gkbar_CGC_KA = 0.0032   //2009 model", 
        "!     gkbar_CGC_KV= 0.003    //2009 model", 
        "!     gkbar_CGC_KM= 0.00025   //0.0001  //2009 model", 
        "!     gkbar_CGC_Kir = 0.0009  //2009 model", 
        "!     gl_CGC_Lkg1=5.68e-5   //2009 model", 
        "!     ggaba_CGC_Lkg2 = 3e-05    //2009 model", 
        "!     gnabar_CGC_Na= 0.013     //2009 model  ", 
        "! ", 
        "!     beta_GRC_Ca = 1.5", 
        "      ", 
        "!     usetable_CGC_Ca   = 0              ", 
        "!     usetable_CGC_KA   = 0", 
        "!     usetable_CGC_KCa  = 0", 
        "!     usetable_CGC_KM   = 0", 
        "!     usetable_CGC_KV   = 0", 
        "!     usetable_CGC_Kir  = 0   ", 
        "!     usetable_CGC_Na   = 0      ", 
        "      ", 
        "      ena = 87.39", 
        "      ek = -84.69", 
        "***************", 
        "*** 155,161 ****", 
        "  ", 
        "  objref output_file", 
        "  output_file = new File()", 
        "! output_file.wopen(\"/home/tclose/kbrain/output/fabios_granule_hoc.dat\")", 
        "  for (i=0; i < rec_v.size(); i=i+1) {", 
        "    output_file.printf(\"%g %g\\n\", rec_t.x[i], rec_v.x[i])", 
        "  }", 
        "--- 154,160 ----", 
        "  ", 
        "  objref output_file", 
        "  output_file = new File()", 
        "! output_file.wopen(\"/home/tclose/kbrain/output/generated_granule_hoc.dat\")", 
        "  for (i=0; i < rec_v.size(); i=i+1) {", 
        "    output_file.printf(\"%g %g\\n\", rec_t.x[i], rec_v.x[i])", 
        "  }"
       ]
      }
     ], 
     "prompt_number": 71
    }, 
    {
     "cell_type": "markdown", 
     "source": [
      "---", 
      "Fabio's hoc script and mod files"
     ]
    }, 
    {
     "cell_type": "code", 
     "collapsed": false, 
     "input": [
      "bash('cd external/original_mod/granule; nrnivmodl', silent=True)", 
      "bash('nrngui external/original_mod/granule/fabios_granule.hoc', save_output='output/fabios_granule_hoc.log')"
     ], 
     "language": "python", 
     "outputs": [
      {
       "output_type": "stream", 
       "stream": "stdout", 
       "text": [
        "NEURON -- Release 7.2 (562:42a47463b504) 2011-12-21", 
        "Duke, Yale, and the BlueBrain Project -- Copyright 1984-2008", 
        "See http://www.neuron.yale.edu/credits.html", 
        "", 
        "nrniv: unable to open font \"*helvetica-medium-r-normal*--14*\", using \"fixed\"", 
        "Additional mechanisms from files", 
        " GRC_CA.mod GRC_CALC.mod GRC_KA.mod GRC_KCA.mod GRC_KIR.mod GRC_KM.mod GRC_KV.mod GRC_LKG1.mod GRC_LKG2.mod GRC_NA.mod", 
        "\t1 ", 
        "soma { nseg=1  L=11.8  Ra=100", 
        "\t/*location 0 attached to cell 0*/", 
        "\t/* First segment only */", 
        "\tinsert morphology { diam=11.8}", 
        "\tinsert capacitance { cm=1}", 
        "\tinsert GRC_CA { Aalpha_s_GRC_CA=0.04944 Kalpha_s_GRC_CA=15.873 V0alpha_s_GRC_CA=-29.06 Abeta_s_GRC_CA=0.08298 Kbeta_s_GRC_CA=-25.641 V0beta_s_GRC_CA=-18.66 Aalpha_u_GRC_CA=0.0013 Kalpha_u_GRC_CA=-18.183 V0alpha_u_GRC_CA=-48 Abeta_u_GRC_CA=0.0013 Kbeta_u_GRC_CA=83.33 V0beta_u_GRC_CA=-48 gcabar_GRC_CA=0.00046}", 
        "\tinsert GRC_CALC { d_GRC_CALC=0.2 cai0_GRC_CALC=0.0001 beta_GRC_CALC=1.5}", 
        "\tinsert GRC_KA { Aalpha_a_GRC_KA=0.8147 Kalpha_a_GRC_KA=-23.3271 V0alpha_a_GRC_KA=-9.17203 Abeta_a_GRC_KA=0.1655 Kbeta_a_GRC_KA=19.4718 V0beta_a_GRC_KA=-18.2791 Aalpha_b_GRC_KA=0.0368 Kalpha_b_GRC_KA=12.8433 V0alpha_b_GRC_KA=-111.332 Abeta_b_GRC_KA=0.0345 Kbeta_b_GRC_KA=-8.90123 V0beta_b_GRC_KA=-49.9537 V0_ainf_GRC_KA=-38 K_ainf_GRC_KA=-17 V0_binf_GRC_KA=-78.8 K_binf_GRC_KA=8.4 gkbar_GRC_KA=0.0032}", 
        "\tinsert GRC_KCA { Aalpha_c_GRC_KCA=2.5 Balpha_c_GRC_KCA=0.0015 Kalpha_c_GRC_KCA=-11.765 Abeta_c_GRC_KCA=1.5 Bbeta_c_GRC_KCA=0.00015 Kbeta_c_GRC_KCA=-11.765 gkbar_GRC_KCA=0.04}", 
        "\tinsert ca_ion {}", 
        "\tinsert GRC_KIR { Aalpha_d_GRC_KIR=0.13289 Kalpha_d_GRC_KIR=-24.3902 V0alpha_d_GRC_KIR=-83.94 Abeta_d_GRC_KIR=0.16994 Kbeta_d_GRC_KIR=35.714 V0beta_d_GRC_KIR=-83.94 gkbar_GRC_KIR=0.0009}", 
        "\tinsert GRC_KM { Aalpha_n_GRC_KM=0.0033 Kalpha_n_GRC_KM=40 V0alpha_n_GRC_KM=-30 Abeta_n_GRC_KM=0.0033 Kbeta_n_GRC_KM=-20 V0beta_n_GRC_KM=-30 V0_ninf_GRC_KM=-35 B_ninf_GRC_KM=6 gkbar_GRC_KM=0.00025}", 
        "\tinsert GRC_KV { Aalpha_n_GRC_KV=-0.01 Kalpha_n_GRC_KV=-10 V0alpha_n_GRC_KV=-25 Abeta_n_GRC_KV=0.125 Kbeta_n_GRC_KV=-80 V0beta_n_GRC_KV=-35 gkbar_GRC_KV=0.003}", 
        "\tinsert k_ion { ek=-84.69}", 
        "\tinsert GRC_LKG1 { gl_GRC_LKG1=5.68e-05 el_GRC_LKG1=-16.5}", 
        "\tinsert GRC_LKG2 { ggaba_GRC_LKG2=3e-05 egaba_GRC_LKG2=-65}", 
        "\tinsert GRC_NA { gnabar_GRC_NA=0.013 Aalfa_GRC_NA=353.91 Valfa_GRC_NA=13.99 Abeta_GRC_NA=1.272 Vbeta_GRC_NA=13.99 Agamma_GRC_NA=150 Adelta_GRC_NA=40 Aepsilon_GRC_NA=1.75 Ateta_GRC_NA=0.0201 Vteta_GRC_NA=25 ACon_GRC_NA=0.005 ACoff_GRC_NA=0.5 AOon_GRC_NA=0.75 AOoff_GRC_NA=0.005 n1_GRC_NA=5.422 n2_GRC_NA=3.279 n3_GRC_NA=1.83 n4_GRC_NA=0.738}", 
        "\tinsert na_ion { ena=87.39}", 
        "\tinsert Exp2Syn { tau1=0.03 tau2=0.5 e=0}", 
        "\tinsert Exp2Syn { tau1=1 tau2=13.3 e=0}", 
        "\tinsert Exp2Syn { tau1=0.31 tau2=8.8 e=-75}", 
        "\tinsert Exp2Syn { tau1=0.31 tau2=300 e=-75}", 
        "\tinsert APCount { n=0 thresh=-20 time=0}", 
        "}", 
        "\t1 ", 
        "ena: 87.390000\t14 ", 
        "ek: -84.690000\t14 ", 
        "eca: 132.457934\t15 ", 
        "ecl: -65.000000\t15 ", 
        "celsius: 30.000000\t18 ", 
        "\t1 ", 
        "\t1 ", 
        "\t1 ", 
        "\t0 ", 
        ""
       ]
      }
     ], 
     "prompt_number": 72
    }, 
    {
     "cell_type": "markdown", 
     "source": [
      "---", 
      "Generated mod files with Fabio's hoc script"
     ]
    }, 
    {
     "cell_type": "code", 
     "collapsed": false, 
     "input": [
      "bash('cd xml/cerebellum/ncml/build/nmodl; nrnivmodl', silent=True)", 
      "bash('nrngui xml/cerebellum/ncml/build/nmodl/generated_granule.hoc', save_output='output/generated_granule_hoc.log')"
     ], 
     "language": "python", 
     "outputs": [
      {
       "output_type": "stream", 
       "stream": "stdout", 
       "text": [
        "NEURON -- Release 7.2 (562:42a47463b504) 2011-12-21", 
        "Duke, Yale, and the BlueBrain Project -- Copyright 1984-2008", 
        "See http://www.neuron.yale.edu/credits.html", 
        "", 
        "nrniv: unable to open font \"*helvetica-medium-r-normal*--14*\", using \"fixed\"", 
        "Additional mechanisms from files", 
        " CGC_Ca.mod CGC_CaHVA.mod CGC_KA.mod CGC_KCa.mod CGC_KM.mod CGC_KV.mod CGC_Kir.mod CGC_Lkg1.mod CGC_Lkg2.mod CGC_Na.mod Gap.mod Golgi_Ca.mod Golgi_Ca2.mod Golgi_CaHVA.mod Golgi_CaLVA.mod Golgi_HCN1.mod Golgi_HCN2.mod Golgi_KA.mod Golgi_KCa.mod Golgi_KM.mod Golgi_KV.mod Golgi_Lkg.mod Golgi_Na.mod Golgi_NaP.mod Golgi_NaR.mod Golgi_SK2.mod KConc.mod NaConc.mod Synapse.mod notused_CGC_NaR.mod notused_CGC_Nar.mod notused_CGC_pNa.mod old_Golgi_Lkg.mod", 
        "\t1 ", 
        "soma { nseg=1  L=11.8  Ra=100", 
        "\t/*location 0 attached to cell 0*/", 
        "\t/* First segment only */", 
        "\tinsert morphology { diam=11.8}", 
        "\tinsert capacitance { cm=1}", 
        "\tinsert CGC_Ca {}", 
        "\tinsert CGC_CaHVA { comp210_vcbdur_CGC_CaHVA=100 comp210_vcsteps_CGC_CaHVA=8 comp210_vchold_CGC_CaHVA=-71 comp210_vcbase_CGC_CaHVA=-69 comp210_vcinc_CGC_CaHVA=10 comp295_gbar_CGC_CaHVA=0.00046 comp210_vchdur_CGC_CaHVA=30 comp295_e_CGC_CaHVA=129.33}", 
        "\tinsert CGC_KA { comp685_vcbase_CGC_KA=-69 comp685_vcsteps_CGC_KA=8 comp685_vchold_CGC_KA=-71 comp685_vcbdur_CGC_KA=100 comp770_gbar_CGC_KA=0.004 comp685_vcinc_CGC_KA=10 comp685_vchdur_CGC_KA=30 comp770_e_CGC_KA=-84.69}", 
        "\tinsert CGC_KCa { comp1301_gbar_CGC_KCa=0.003 comp1216_vchdur_CGC_KCa=30 comp1216_vcbdur_CGC_KCa=100 comp1216_vcbase_CGC_KCa=-69 comp1216_vchold_CGC_KCa=-71 comp1301_e_CGC_KCa=-84.69 comp1216_vcinc_CGC_KCa=10 comp1216_vcsteps_CGC_KCa=8}", 
        "\tinsert ca_ion {}", 
        "\tinsert CGC_KM { comp1913_vcsteps_CGC_KM=8 comp1913_vcbdur_CGC_KM=100 comp1998_e_CGC_KM=-84.69 comp1913_vchold_CGC_KM=-71 comp1913_vchdur_CGC_KM=30 comp1913_vcbase_CGC_KM=-69 comp1998_gbar_CGC_KM=0.00035 comp1913_vcinc_CGC_KM=10}", 
        "\tinsert CGC_KV { comp2288_vchdur_CGC_KV=30 comp2373_e_CGC_KV=-84.69 comp2288_vchold_CGC_KV=-71 comp2373_gbar_CGC_KV=0.003 comp2288_vcbase_CGC_KV=-69 comp2288_vcinc_CGC_KV=10 comp2288_vcbdur_CGC_KV=100 comp2288_vcsteps_CGC_KV=8}", 
        "\tinsert CGC_Kir { comp1651_e_CGC_Kir=-84.69 comp1566_vchold_CGC_Kir=-71 comp1566_vcsteps_CGC_Kir=8 comp1651_gbar_CGC_Kir=0.0009 comp1566_vcinc_CGC_Kir=10 comp1566_vcbdur_CGC_Kir=100 comp1566_vcbase_CGC_Kir=-69 comp1566_vchdur_CGC_Kir=30}", 
        "\tinsert k_ion { ek=-84.69}", 
        "\tinsert CGC_Lkg1 { comp2635_gbar_CGC_Lkg1=5.68e-05 comp2635_e_CGC_Lkg1=-16.5}", 
        "\tinsert CGC_Lkg2 { comp2726_ggaba_CGC_Lkg2=3e-05 comp2726_egaba_CGC_Lkg2=-65}", 
        "\tinsert CGC_Na { comp2902_gbar_CGC_Na=0.013 comp2817_vcsteps_CGC_Na=9 comp2817_vchold_CGC_Na=-71 comp2817_vchdur_CGC_Na=30 comp2817_vcbase_CGC_Na=-60 comp2817_vcinc_CGC_Na=10 comp2817_vcbdur_CGC_Na=100 comp2902_e_CGC_Na=87.39}", 
        "\tinsert na_ion { ena=87.39}", 
        "\tinsert Exp2Syn { tau1=0.03 tau2=0.5 e=0}", 
        "\tinsert Exp2Syn { tau1=1 tau2=13.3 e=0}", 
        "\tinsert Exp2Syn { tau1=0.31 tau2=8.8 e=-75}", 
        "\tinsert Exp2Syn { tau1=0.31 tau2=300 e=-75}", 
        "\tinsert APCount { n=0 thresh=-20 time=0}", 
        "}", 
        "\t1 ", 
        "ena: 87.390000\t14 ", 
        "ek: -84.690000\t14 ", 
        "eca: 132.457934\t15 ", 
        "ecl: -65.000000\t15 ", 
        "celsius: 30.000000\t18 ", 
        "\t1 ", 
        "\t1 ", 
        "\t1 ", 
        "\t0 ", 
        ""
       ]
      }
     ], 
     "prompt_number": 73
    }, 
    {
     "cell_type": "markdown", 
     "source": [
      "---", 
      "Use mechanisms.py with generated mod files"
     ]
    }, 
    {
     "cell_type": "code", 
     "collapsed": false, 
     "input": [
      "bash('mechanisms.py xml/cerebellum/ncml/build/nmodl/CGC*.mod --save_prefix output/generated_granule_mechanisms --timestep 0.025 --no_plot --silent_build --init_var ena 87.39 --step 0.01875 --init_var ek \"-84.69\" --init_var eca 129.33', save_output='output/generated_granule_mechanisms.log')"
     ], 
     "language": "python", 
     "outputs": [
      {
       "output_type": "stream", 
       "stream": "stdout", 
       "text": [
        "Recording activity for injected step current starting at 1000", 
        "Build mechanisms in '/home/tclose/git/kbrain/xml/cerebellum/ncml/build/nmodl' directory", 
        "Building mechanisms in '/home/tclose/git/kbrain/xml/cerebellum/ncml/build/nmodl' directory.", 
        "NEURON -- Release 7.2 (562:42a47463b504) 2011-12-21", 
        "Duke, Yale, and the BlueBrain Project -- Copyright 1984-2008", 
        "See http://www.neuron.yale.edu/credits.html", 
        "", 
        "Additional mechanisms from files", 
        " CGC_Ca.mod CGC_CaHVA.mod CGC_KA.mod CGC_KCa.mod CGC_KM.mod CGC_KV.mod CGC_Kir.mod CGC_Lkg1.mod CGC_Lkg2.mod CGC_Na.mod Gap.mod Golgi_Ca.mod Golgi_Ca2.mod Golgi_CaHVA.mod Golgi_CaLVA.mod Golgi_HCN1.mod Golgi_HCN2.mod Golgi_KA.mod Golgi_KCa.mod Golgi_KM.mod Golgi_KV.mod Golgi_Lkg.mod Golgi_Na.mod Golgi_NaP.mod Golgi_NaR.mod Golgi_SK2.mod KConc.mod NaConc.mod Synapse.mod notused_CGC_NaR.mod notused_CGC_Nar.mod notused_CGC_pNa.mod old_Golgi_Lkg.mod", 
        "Mechanisms inserted into test: CGC_Ca, CGC_CaHVA, CGC_KA, CGC_KCa, CGC_KM, CGC_KV, CGC_Kir, CGC_Lkg1, CGC_Lkg2, CGC_Na", 
        "MPI_Initialized==false, disabling MPI functionality.", 
        "Creating test cell...", 
        "ena = 87.39", 
        "ek = -84.69", 
        "eca = 129.33", 
        "Starting simulation of 'test'...", 
        "Simulating at 30.000000C", 
        "Finished simulation of 'test'", 
        "", 
        "Saved test recording to 'output/generated_granule_mechanisms.test.dat'", 
        "Description of test cell:", 
        "<__main__.NeuronTestCell object at 0x29a7b10>.PySec_3f60570 { nseg=1  L=11.8  Ra=100", 
        "\t/*location 0 attached to cell 0*/", 
        "\t/* First segment only */", 
        "\tinsert morphology { diam=11.8}", 
        "\tinsert capacitance { cm=1}", 
        "\tinsert CGC_Ca {}", 
        "\tinsert CGC_CaHVA { comp210_vcbdur_CGC_CaHVA=100 comp210_vcsteps_CGC_CaHVA=8 comp210_vchold_CGC_CaHVA=-71 comp210_vcbase_CGC_CaHVA=-69 comp210_vcinc_CGC_CaHVA=10 comp295_gbar_CGC_CaHVA=0.00046 comp210_vchdur_CGC_CaHVA=30 comp295_e_CGC_CaHVA=129.33}", 
        "\tinsert CGC_KA { comp685_vcbase_CGC_KA=-69 comp685_vcsteps_CGC_KA=8 comp685_vchold_CGC_KA=-71 comp685_vcbdur_CGC_KA=100 comp770_gbar_CGC_KA=0.004 comp685_vcinc_CGC_KA=10 comp685_vchdur_CGC_KA=30 comp770_e_CGC_KA=-84.69}", 
        "\tinsert CGC_KCa { comp1301_gbar_CGC_KCa=0.003 comp1216_vchdur_CGC_KCa=30 comp1216_vcbdur_CGC_KCa=100 comp1216_vcbase_CGC_KCa=-69 comp1216_vchold_CGC_KCa=-71 comp1301_e_CGC_KCa=-84.69 comp1216_vcinc_CGC_KCa=10 comp1216_vcsteps_CGC_KCa=8}", 
        "\tinsert ca_ion {}", 
        "\tinsert CGC_KM { comp1913_vcsteps_CGC_KM=8 comp1913_vcbdur_CGC_KM=100 comp1998_e_CGC_KM=-84.69 comp1913_vchold_CGC_KM=-71 comp1913_vchdur_CGC_KM=30 comp1913_vcbase_CGC_KM=-69 comp1998_gbar_CGC_KM=0.00035 comp1913_vcinc_CGC_KM=10}", 
        "\tinsert CGC_KV { comp2288_vchdur_CGC_KV=30 comp2373_e_CGC_KV=-84.69 comp2288_vchold_CGC_KV=-71 comp2373_gbar_CGC_KV=0.003 comp2288_vcbase_CGC_KV=-69 comp2288_vcinc_CGC_KV=10 comp2288_vcbdur_CGC_KV=100 comp2288_vcsteps_CGC_KV=8}", 
        "\tinsert CGC_Kir { comp1651_e_CGC_Kir=-84.69 comp1566_vchold_CGC_Kir=-71 comp1566_vcsteps_CGC_Kir=8 comp1651_gbar_CGC_Kir=0.0009 comp1566_vcinc_CGC_Kir=10 comp1566_vcbdur_CGC_Kir=100 comp1566_vcbase_CGC_Kir=-69 comp1566_vchdur_CGC_Kir=30}", 
        "\tinsert k_ion { ek=-84.69}", 
        "\tinsert CGC_Lkg1 { comp2635_gbar_CGC_Lkg1=5.68e-05 comp2635_e_CGC_Lkg1=-16.5}", 
        "\tinsert CGC_Lkg2 { comp2726_ggaba_CGC_Lkg2=3e-05 comp2726_egaba_CGC_Lkg2=-65}", 
        "\tinsert CGC_Na { comp2902_gbar_CGC_Na=0.013 comp2817_vcsteps_CGC_Na=9 comp2817_vchold_CGC_Na=-71 comp2817_vchdur_CGC_Na=30 comp2817_vcbase_CGC_Na=-60 comp2817_vcinc_CGC_Na=10 comp2817_vcbdur_CGC_Na=100 comp2902_e_CGC_Na=87.39}", 
        "\tinsert na_ion { ena=87.39}", 
        "\tinsert IClamp { del=1000 dur=1999 amp=0.01875}", 
        "}", 
        "Finished testing mechanisms.", 
        ""
       ]
      }
     ], 
     "prompt_number": 74
    }, 
    {
     "cell_type": "markdown", 
     "source": [
      "---", 
      "Use mechanisms.py with original mod files"
     ]
    }, 
    {
     "cell_type": "code", 
     "collapsed": false, 
     "input": [
      "bash('mechanisms.py external/original_mod/granule/GRC*.mod --no_tables --save_prefix output/fabios_granule_mechanisms --timestep 0.025 --no_plot --silent_build --init_var ena 87.39 --step 0.01875 --init_var ek \"-84.69\" --init_var eca 129.33 --init_mech_var GRC_CA gcabar 0.00046 --init_mech_var GRC_KCA gkbar 0.04 --init_mech_var GRC_KV gkbar 0.003 --init_mech_var GRC_KA gkbar 0.0032 --init_mech_var GRC_KM gkbar 0.00025 --init_mech_var GRC_KIR gkbar 0.0009 --init_mech_var GRC_LKG gl 15.68e-5 --init_mech_var GRC_LKG2 ggaba 3e-05 --init_mech_var GRC_NA gnabar 0.013 --init_mech_var GRC_CALC beta 1.5', save_output='output/fabios_granule_mechanisms.log')"
     ], 
     "language": "python", 
     "outputs": [
      {
       "output_type": "stream", 
       "stream": "stdout", 
       "text": [
        "Recording activity for injected step current starting at 1000", 
        "Build mechanisms in '/home/tclose/git/kbrain/external/original_mod/granule' directory", 
        "Building mechanisms in '/home/tclose/git/kbrain/external/original_mod/granule' directory.", 
        "NEURON -- Release 7.2 (562:42a47463b504) 2011-12-21", 
        "Duke, Yale, and the BlueBrain Project -- Copyright 1984-2008", 
        "See http://www.neuron.yale.edu/credits.html", 
        "", 
        "Additional mechanisms from files", 
        " GRC_CA.mod GRC_CALC.mod GRC_KA.mod GRC_KCA.mod GRC_KIR.mod GRC_KM.mod GRC_KV.mod GRC_LKG1.mod GRC_LKG2.mod GRC_NA.mod", 
        "Mechanisms inserted into test: GRC_CA, GRC_CALC, GRC_KA, GRC_KCA, GRC_KIR, GRC_KM, GRC_KV, GRC_LKG1, GRC_LKG2, GRC_NA", 
        "MPI_Initialized==false, disabling MPI functionality.", 
        "Creating test cell...", 
        "ena = 87.39", 
        "ek = -84.69", 
        "eca = 129.33", 
        "gcabar_GRC_CA = 0.00046", 
        "gkbar_GRC_KCA = 0.04", 
        "gkbar_GRC_KV = 0.003", 
        "gkbar_GRC_KA = 0.0032", 
        "gkbar_GRC_KM = 0.00025", 
        "gkbar_GRC_KIR = 0.0009", 
        "gl_GRC_LKG = 15.68e-5", 
        "ggaba_GRC_LKG2 = 3e-05", 
        "gnabar_GRC_NA = 0.013", 
        "beta_GRC_CALC = 1.5", 
        "Starting simulation of 'test'...", 
        "Simulating at 30.000000C", 
        "Finished simulation of 'test'", 
        "", 
        "Saved test recording to 'output/fabios_granule_mechanisms.test.dat'", 
        "Description of test cell:", 
        "<__main__.NeuronTestCell object at 0x1f19b10>.PySec_34d3990 { nseg=1  L=11.8  Ra=100", 
        "\t/*location 0 attached to cell 0*/", 
        "\t/* First segment only */", 
        "\tinsert morphology { diam=11.8}", 
        "\tinsert capacitance { cm=1}", 
        "\tinsert GRC_CA { Aalpha_s_GRC_CA=0.04944 Kalpha_s_GRC_CA=15.873 V0alpha_s_GRC_CA=-29.06 Abeta_s_GRC_CA=0.08298 Kbeta_s_GRC_CA=-25.641 V0beta_s_GRC_CA=-18.66 Aalpha_u_GRC_CA=0.0013 Kalpha_u_GRC_CA=-18.183 V0alpha_u_GRC_CA=-48 Abeta_u_GRC_CA=0.0013 Kbeta_u_GRC_CA=83.33 V0beta_u_GRC_CA=-48 gcabar_GRC_CA=0.00046}", 
        "\tinsert GRC_CALC { d_GRC_CALC=0.2 cai0_GRC_CALC=0.0001 beta_GRC_CALC=1.5}", 
        "\tinsert GRC_KA { Aalpha_a_GRC_KA=0.8147 Kalpha_a_GRC_KA=-23.3271 V0alpha_a_GRC_KA=-9.17203 Abeta_a_GRC_KA=0.1655 Kbeta_a_GRC_KA=19.4718 V0beta_a_GRC_KA=-18.2791 Aalpha_b_GRC_KA=0.0368 Kalpha_b_GRC_KA=12.8433 V0alpha_b_GRC_KA=-111.332 Abeta_b_GRC_KA=0.0345 Kbeta_b_GRC_KA=-8.90123 V0beta_b_GRC_KA=-49.9537 V0_ainf_GRC_KA=-38 K_ainf_GRC_KA=-17 V0_binf_GRC_KA=-78.8 K_binf_GRC_KA=8.4 gkbar_GRC_KA=0.0032}", 
        "\tinsert GRC_KCA { Aalpha_c_GRC_KCA=2.5 Balpha_c_GRC_KCA=0.0015 Kalpha_c_GRC_KCA=-11.765 Abeta_c_GRC_KCA=1.5 Bbeta_c_GRC_KCA=0.00015 Kbeta_c_GRC_KCA=-11.765 gkbar_GRC_KCA=0.04}", 
        "\tinsert ca_ion {}", 
        "\tinsert GRC_KIR { Aalpha_d_GRC_KIR=0.13289 Kalpha_d_GRC_KIR=-24.3902 V0alpha_d_GRC_KIR=-83.94 Abeta_d_GRC_KIR=0.16994 Kbeta_d_GRC_KIR=35.714 V0beta_d_GRC_KIR=-83.94 gkbar_GRC_KIR=0.0009}", 
        "\tinsert GRC_KM { Aalpha_n_GRC_KM=0.0033 Kalpha_n_GRC_KM=40 V0alpha_n_GRC_KM=-30 Abeta_n_GRC_KM=0.0033 Kbeta_n_GRC_KM=-20 V0beta_n_GRC_KM=-30 V0_ninf_GRC_KM=-35 B_ninf_GRC_KM=6 gkbar_GRC_KM=0.00025}", 
        "\tinsert GRC_KV { Aalpha_n_GRC_KV=-0.01 Kalpha_n_GRC_KV=-10 V0alpha_n_GRC_KV=-25 Abeta_n_GRC_KV=0.125 Kbeta_n_GRC_KV=-80 V0beta_n_GRC_KV=-35 gkbar_GRC_KV=0.003}", 
        "\tinsert k_ion { ek=-84.69}", 
        "\tinsert GRC_LKG1 { gl_GRC_LKG1=5.68e-05 el_GRC_LKG1=-16.5}", 
        "\tinsert GRC_LKG2 { ggaba_GRC_LKG2=3e-05 egaba_GRC_LKG2=-65}", 
        "\tinsert GRC_NA { gnabar_GRC_NA=0.013 Aalfa_GRC_NA=353.91 Valfa_GRC_NA=13.99 Abeta_GRC_NA=1.272 Vbeta_GRC_NA=13.99 Agamma_GRC_NA=150 Adelta_GRC_NA=40 Aepsilon_GRC_NA=1.75 Ateta_GRC_NA=0.0201 Vteta_GRC_NA=25 ACon_GRC_NA=0.005 ACoff_GRC_NA=0.5 AOon_GRC_NA=0.75 AOoff_GRC_NA=0.005 n1_GRC_NA=5.422 n2_GRC_NA=3.279 n3_GRC_NA=1.83 n4_GRC_NA=0.738}", 
        "\tinsert na_ion { ena=87.39}", 
        "\tinsert IClamp { del=1000 dur=1999 amp=0.01875}", 
        "}", 
        "Finished testing mechanisms.", 
        ""
       ]
      }
     ], 
     "prompt_number": 82
    }, 
    {
     "cell_type": "markdown", 
     "source": [
      "---", 
      "Using pyNN this time (should be the same as the multi-compartment case)"
     ]
    }, 
    {
     "cell_type": "code", 
     "collapsed": false, 
     "input": [
      "bash('single_cell.py xml/cerebellum/single_granule.xml --silent_build --print_all', save_output='output/single_granule_cell.log')"
     ], 
     "language": "python", 
     "outputs": [
      {
       "output_type": "stream", 
       "stream": "stdout", 
       "text": [
        "NEURON -- Release 7.2 (562:42a47463b504) 2011-12-21", 
        "Duke, Yale, and the BlueBrain Project -- Copyright 1984-2008", 
        "See http://www.neuron.yale.edu/credits.html", 
        "", 
        "Additional mechanisms from files", 
        " adexp.mod alphaisyn.mod alphasyn.mod expisyn.mod gsfa_grr.mod hh_traub.mod netstim2.mod refrac.mod reset.mod stdwa_guetig.mod stdwa_softlimits.mod stdwa_songabbott.mod stdwa_symm.mod tmgsyn.mod tmisyn.mod vecstim.mod", 
        "Additional mechanisms from files", 
        " CGC_Ca.mod CGC_CaHVA.mod CGC_KA.mod CGC_KCa.mod CGC_KM.mod CGC_KV.mod CGC_Kir.mod CGC_Lkg1.mod CGC_Lkg2.mod CGC_Na.mod Gap.mod Golgi_Ca.mod Golgi_Ca2.mod Golgi_CaHVA.mod Golgi_CaLVA.mod Golgi_HCN1.mod Golgi_HCN2.mod Golgi_KA.mod Golgi_KCa.mod Golgi_KM.mod Golgi_KV.mod Golgi_Lkg.mod Golgi_Na.mod Golgi_NaP.mod Golgi_NaR.mod Golgi_SK2.mod KConc.mod NaConc.mod Synapse.mod notused_CGC_NaR.mod notused_CGC_Nar.mod notused_CGC_pNa.mod old_Golgi_Lkg.mod", 
        "No handlers could be found for logger \"PyNN\"", 
        "MPI_Initialized==false, disabling MPI functionality.", 
        "Building mechanisms in '/home/tclose/git/kbrain/src/pyNN/neuron/nmodl' directory.", 
        "Building network", 
        "Building mechanisms in 'xml/cerebellum/./ncml/build/nmodl' directory.", 
        "ID: soma", 
        "PySec_396cf50 { nseg=1  L=9.76  Ra=100", 
        "\t/*location 0 attached to cell 1*/", 
        "\t/* First segment only */", 
        "\tinsert morphology { diam=9.76}", 
        "\tinsert capacitance { cm=1}", 
        "\tinsert pas { g_pas=3 e_pas=-70}", 
        "\tinsert CGC_Ca {}", 
        "\tinsert CGC_CaHVA { comp210_vcbdur_CGC_CaHVA=100 comp210_vcsteps_CGC_CaHVA=8 comp210_vchold_CGC_CaHVA=-71 comp210_vcbase_CGC_CaHVA=-69 comp210_vcinc_CGC_CaHVA=10 comp295_gbar_CGC_CaHVA=0.00046 comp210_vchdur_CGC_CaHVA=30 comp295_e_CGC_CaHVA=129.33}", 
        "\tinsert CGC_KA { comp685_vcbase_CGC_KA=-69 comp685_vcsteps_CGC_KA=8 comp685_vchold_CGC_KA=-71 comp685_vcbdur_CGC_KA=100 comp770_gbar_CGC_KA=0.004 comp685_vcinc_CGC_KA=10 comp685_vchdur_CGC_KA=30 comp770_e_CGC_KA=-84.69}", 
        "\tinsert CGC_KCa { comp1301_gbar_CGC_KCa=0.003 comp1216_vchdur_CGC_KCa=30 comp1216_vcbdur_CGC_KCa=100 comp1216_vcbase_CGC_KCa=-69 comp1216_vchold_CGC_KCa=-71 comp1301_e_CGC_KCa=-84.69 comp1216_vcinc_CGC_KCa=10 comp1216_vcsteps_CGC_KCa=8}", 
        "\tinsert ca_ion {}", 
        "\tinsert CGC_KM { comp1913_vcsteps_CGC_KM=8 comp1913_vcbdur_CGC_KM=100 comp1998_e_CGC_KM=-84.69 comp1913_vchold_CGC_KM=-71 comp1913_vchdur_CGC_KM=30 comp1913_vcbase_CGC_KM=-69 comp1998_gbar_CGC_KM=0.00035 comp1913_vcinc_CGC_KM=10}", 
        "\tinsert CGC_KV { comp2288_vchdur_CGC_KV=30 comp2373_e_CGC_KV=-84.69 comp2288_vchold_CGC_KV=-71 comp2373_gbar_CGC_KV=0.003 comp2288_vcbase_CGC_KV=-69 comp2288_vcinc_CGC_KV=10 comp2288_vcbdur_CGC_KV=100 comp2288_vcsteps_CGC_KV=8}", 
        "\tinsert CGC_Kir { comp1651_e_CGC_Kir=-84.69 comp1566_vchold_CGC_Kir=-71 comp1566_vcsteps_CGC_Kir=8 comp1651_gbar_CGC_Kir=0.0009 comp1566_vcinc_CGC_Kir=10 comp1566_vcbdur_CGC_Kir=100 comp1566_vcbase_CGC_Kir=-69 comp1566_vchdur_CGC_Kir=30}", 
        "\tinsert k_ion { ek=-84.69}", 
        "\tinsert CGC_Lkg1 { comp2635_gbar_CGC_Lkg1=5.68e-05 comp2635_e_CGC_Lkg1=-16.5}", 
        "\tinsert CGC_Lkg2 { comp2726_ggaba_CGC_Lkg2=3e-05 comp2726_egaba_CGC_Lkg2=-65}", 
        "\tinsert CGC_Na { comp2902_gbar_CGC_Na=0.013 comp2817_vcsteps_CGC_Na=9 comp2817_vchold_CGC_Na=-71 comp2817_vchdur_CGC_Na=30 comp2817_vcbase_CGC_Na=-60 comp2817_vcinc_CGC_Na=10 comp2817_vcbdur_CGC_Na=100 comp2902_e_CGC_Na=87.39}", 
        "\tinsert na_ion { ena=87.39}", 
        "}", 
        "------Miscellaneous hoc variables to print------", 
        "ena: 87.39", 
        "ek: -84.69", 
        "eca: 129.33", 
        "celsius: 30.0", 
        "Starting run", 
        "Simulated single cell for 2000.000000 milliseconds", 
        ""
       ]
      }
     ], 
     "prompt_number": 77
    }, 
    {
     "cell_type": "markdown", 
     "source": [
      "---", 
      "Plotting comparison between different scripts or mod files"
     ]
    }, 
    {
     "cell_type": "code", 
     "collapsed": false, 
     "input": [
      "activity_plot('output/fabios_granule_hoc.dat output/generated_granule_hoc.dat output/generated_granule_mechanisms.test.dat output/fabios_granule_mechanisms.test.dat --combine')"
     ], 
     "language": "python", 
     "outputs": [], 
     "prompt_number": 84
    }, 
    {
     "cell_type": "markdown", 
     "source": [
      "In this case the peak voltage is the same but the firing rate of the generated files is considerably slower, not sure what the problem is"
     ]
    }, 
    {
     "cell_type": "code", 
     "collapsed": false, 
     "input": [
      "os.listdir('output')"
     ], 
     "language": "python", 
     "outputs": [
      {
       "output_type": "pyout", 
       "prompt_number": 79, 
       "text": [
        "['generated_granule_hoc.log',", 
        " 'generated_granule_hoc.dat',", 
        " 'generated_granule_mechanisms.log',", 
        " 'single_cell.Granules.v',", 
        " 'fabios_granule_hoc.log',", 
        " 'single_granule_cell.log',", 
        " 'fabios_granule_hoc.dat',", 
        " 'single_cell.Granules.spikes',", 
        " 'fabios_granule_mechanisms.log',", 
        " 'fabios_granule_mechanisms.test.dat',", 
        " 'generated_granule_mechanisms.test.dat']"
       ]
      }
     ], 
     "prompt_number": 79
    }, 
    {
     "cell_type": "code", 
     "collapsed": false, 
     "input": [
      "diff('output/generated_granule_mechanisms.log', 'output/generated_granule_hoc.log')"
     ], 
     "language": "python", 
     "outputs": [
      {
       "output_type": "stream", 
       "stream": "stdout", 
       "text": [
        "*** ", 
        "--- ", 
        "***************", 
        "*** 1,32 ****", 
        "- Recording activity for injected step current starting at 1000", 
        "- Build mechanisms in '/home/tclose/git/kbrain/external/original_mod/granule' directory", 
        "- Building mechanisms in '/home/tclose/git/kbrain/external/original_mod/granule' directory.", 
        "- Build mechanisms in '/home/tclose/git/kbrain/xml/cerebellum/ncml/build/nmodl' directory", 
        "- Building mechanisms in '/home/tclose/git/kbrain/xml/cerebellum/ncml/build/nmodl' directory.", 
        "- Mechanisms inserted into new: CGC_Ca, CGC_CaHVA, CGC_KA, CGC_KCa, CGC_KM, CGC_KV, CGC_Kir, CGC_Lkg1, CGC_Lkg2, CGC_Na", 
        "- Mechanisms inserted into ref: GRC_CA, GRC_CALC, GRC_KA, GRC_KCA, GRC_KIR, GRC_KM, GRC_KV, GRC_LKG1, GRC_LKG2, GRC_NA", 
        "  NEURON -- Release 7.2 (562:42a47463b504) 2011-12-21", 
        "  Duke, Yale, and the BlueBrain Project -- Copyright 1984-2008", 
        "  See http://www.neuron.yale.edu/credits.html", 
        "  ", 
        "! NEURON -- Release 7.2 (562:42a47463b504) 2011-12-21", 
        "! Duke, Yale, and the BlueBrain Project -- Copyright 1984-2008", 
        "! See http://www.neuron.yale.edu/credits.html", 
        "! ", 
        "  Additional mechanisms from files", 
        "   CGC_Ca.mod CGC_CaHVA.mod CGC_KA.mod CGC_KCa.mod CGC_KM.mod CGC_KV.mod CGC_Kir.mod CGC_Lkg1.mod CGC_Lkg2.mod CGC_Na.mod Gap.mod Golgi_Ca.mod Golgi_Ca2.mod Golgi_CaHVA.mod Golgi_CaLVA.mod Golgi_HCN1.mod Golgi_HCN2.mod Golgi_KA.mod Golgi_KCa.mod Golgi_KM.mod Golgi_KV.mod Golgi_Lkg.mod Golgi_Na.mod Golgi_NaP.mod Golgi_NaR.mod Golgi_SK2.mod KConc.mod NaConc.mod Synapse.mod notused_CGC_NaR.mod notused_CGC_Nar.mod notused_CGC_pNa.mod old_Golgi_Lkg.mod", 
        "! Additional mechanisms from files", 
        "!  GRC_CA.mod GRC_CALC.mod GRC_KA.mod GRC_KCA.mod GRC_KIR.mod GRC_KM.mod GRC_KV.mod GRC_LKG1.mod GRC_LKG2.mod GRC_NA.mod", 
        "! MPI_Initialized==false, disabling MPI functionality.", 
        "! Creating new cell...", 
        "! ena = 87.39", 
        "! ek = -84.69", 
        "! eca = 129.33", 
        "! Starting simulation of 'new'...", 
        "! Simulating at 30.000000C", 
        "! Finished simulation of 'new'", 
        "! Description of new cell:", 
        "! <__main__.NeuronTestCell object at 0x1806a10>.PySec_2dcf1e0 { nseg=1  L=11.8  Ra=100", 
        "  \t/*location 0 attached to cell 0*/", 
        "  \t/* First segment only */", 
        "  \tinsert morphology { diam=11.8}", 
        "--- 1,12 ----", 
        "  NEURON -- Release 7.2 (562:42a47463b504) 2011-12-21", 
        "  Duke, Yale, and the BlueBrain Project -- Copyright 1984-2008", 
        "  See http://www.neuron.yale.edu/credits.html", 
        "  ", 
        "! nrniv: unable to open font \"*helvetica-medium-r-normal*--14*\", using \"fixed\"", 
        "  Additional mechanisms from files", 
        "   CGC_Ca.mod CGC_CaHVA.mod CGC_KA.mod CGC_KCa.mod CGC_KM.mod CGC_KV.mod CGC_Kir.mod CGC_Lkg1.mod CGC_Lkg2.mod CGC_Na.mod Gap.mod Golgi_Ca.mod Golgi_Ca2.mod Golgi_CaHVA.mod Golgi_CaLVA.mod Golgi_HCN1.mod Golgi_HCN2.mod Golgi_KA.mod Golgi_KCa.mod Golgi_KM.mod Golgi_KV.mod Golgi_Lkg.mod Golgi_Na.mod Golgi_NaP.mod Golgi_NaR.mod Golgi_SK2.mod KConc.mod NaConc.mod Synapse.mod notused_CGC_NaR.mod notused_CGC_Nar.mod notused_CGC_pNa.mod old_Golgi_Lkg.mod", 
        "! \t1 ", 
        "! soma { nseg=1  L=11.8  Ra=100", 
        "  \t/*location 0 attached to cell 0*/", 
        "  \t/* First segment only */", 
        "  \tinsert morphology { diam=11.8}", 
        "***************", 
        "*** 44,78 ****", 
        "  \tinsert CGC_Lkg2 { comp2726_ggaba_CGC_Lkg2=3e-05 comp2726_egaba_CGC_Lkg2=-65}", 
        "  \tinsert CGC_Na { comp2902_gbar_CGC_Na=0.013 comp2817_vcsteps_CGC_Na=9 comp2817_vchold_CGC_Na=-71 comp2817_vchdur_CGC_Na=30 comp2817_vcbase_CGC_Na=-60 comp2817_vcinc_CGC_Na=10 comp2817_vcbdur_CGC_Na=100 comp2902_e_CGC_Na=87.39}", 
        "  \tinsert na_ion { ena=87.39}", 
        "! \tinsert IClamp { del=1000 dur=1999 amp=0.01875}", 
        "  }", 
        "! MPI_Initialized==false, disabling MPI functionality.", 
        "! Creating ref cell...", 
        "! ena = 87.39", 
        "! ek = -84.69", 
        "! eca = 129.33", 
        "! Starting simulation of 'ref'...", 
        "! Simulating at 30.000000C", 
        "! Finished simulation of 'ref'", 
        "! Description of ref cell:", 
        "! <__main__.NeuronTestCell object at 0x1806ad0>.PySec_2dcd060 { nseg=1  L=11.8  Ra=100", 
        "! \t/*location 0 attached to cell 0*/", 
        "! \t/* First segment only */", 
        "! \tinsert morphology { diam=11.8}", 
        "! \tinsert capacitance { cm=1}", 
        "! \tinsert GRC_CA { Aalpha_s_GRC_CA=0.04944 Kalpha_s_GRC_CA=15.873 V0alpha_s_GRC_CA=-29.06 Abeta_s_GRC_CA=0.08298 Kbeta_s_GRC_CA=-25.641 V0beta_s_GRC_CA=-18.66 Aalpha_u_GRC_CA=0.0013 Kalpha_u_GRC_CA=-18.183 V0alpha_u_GRC_CA=-48 Abeta_u_GRC_CA=0.0013 Kbeta_u_GRC_CA=83.33 V0beta_u_GRC_CA=-48 gcabar_GRC_CA=0.00046}", 
        "! \tinsert GRC_CALC { d_GRC_CALC=0.2 cai0_GRC_CALC=0.0001 beta_GRC_CALC=1.5}", 
        "! \tinsert GRC_KA { Aalpha_a_GRC_KA=0.8147 Kalpha_a_GRC_KA=-23.3271 V0alpha_a_GRC_KA=-9.17203 Abeta_a_GRC_KA=0.1655 Kbeta_a_GRC_KA=19.4718 V0beta_a_GRC_KA=-18.2791 Aalpha_b_GRC_KA=0.0368 Kalpha_b_GRC_KA=12.8433 V0alpha_b_GRC_KA=-111.332 Abeta_b_GRC_KA=0.0345 Kbeta_b_GRC_KA=-8.90123 V0beta_b_GRC_KA=-49.9537 V0_ainf_GRC_KA=-38 K_ainf_GRC_KA=-17 V0_binf_GRC_KA=-78.8 K_binf_GRC_KA=8.4 gkbar_GRC_KA=0.0032}", 
        "! \tinsert GRC_KCA { Aalpha_c_GRC_KCA=2.5 Balpha_c_GRC_KCA=0.0015 Kalpha_c_GRC_KCA=-11.765 Abeta_c_GRC_KCA=1.5 Bbeta_c_GRC_KCA=0.00015 Kbeta_c_GRC_KCA=-11.765 gkbar_GRC_KCA=0.003}", 
        "! \tinsert ca_ion {}", 
        "! \tinsert GRC_KIR { Aalpha_d_GRC_KIR=0.13289 Kalpha_d_GRC_KIR=-24.3902 V0alpha_d_GRC_KIR=-83.94 Abeta_d_GRC_KIR=0.16994 Kbeta_d_GRC_KIR=35.714 V0beta_d_GRC_KIR=-83.94 gkbar_GRC_KIR=0.0009}", 
        "! \tinsert GRC_KM { Aalpha_n_GRC_KM=0.0033 Kalpha_n_GRC_KM=40 V0alpha_n_GRC_KM=-30 Abeta_n_GRC_KM=0.0033 Kbeta_n_GRC_KM=-20 V0beta_n_GRC_KM=-30 V0_ninf_GRC_KM=-35 B_ninf_GRC_KM=6 gkbar_GRC_KM=0.00025}", 
        "! \tinsert GRC_KV { Aalpha_n_GRC_KV=-0.01 Kalpha_n_GRC_KV=-10 V0alpha_n_GRC_KV=-25 Abeta_n_GRC_KV=0.125 Kbeta_n_GRC_KV=-80 V0beta_n_GRC_KV=-35 gkbar_GRC_KV=0.003}", 
        "! \tinsert k_ion { ek=-84.69}", 
        "! \tinsert GRC_LKG1 { gl_GRC_LKG1=5.68e-05 el_GRC_LKG1=-16.5}", 
        "! \tinsert GRC_LKG2 { ggaba_GRC_LKG2=3e-05 egaba_GRC_LKG2=-65}", 
        "! \tinsert GRC_NA { gnabar_GRC_NA=0.013 Aalfa_GRC_NA=353.91 Valfa_GRC_NA=13.99 Abeta_GRC_NA=1.272 Vbeta_GRC_NA=13.99 Agamma_GRC_NA=150 Adelta_GRC_NA=40 Aepsilon_GRC_NA=1.75 Ateta_GRC_NA=0.0201 Vteta_GRC_NA=25 ACon_GRC_NA=0.005 ACoff_GRC_NA=0.5 AOon_GRC_NA=0.75 AOoff_GRC_NA=0.005 n1_GRC_NA=5.422 n2_GRC_NA=3.279 n3_GRC_NA=1.83 n4_GRC_NA=0.738}", 
        "! \tinsert na_ion { ena=87.39}", 
        "! \tinsert IClamp { del=1000 dur=1999 amp=0.01875}", 
        "! }", 
        "! Finished testing mechanisms.", 
        "--- 24,42 ----", 
        "  \tinsert CGC_Lkg2 { comp2726_ggaba_CGC_Lkg2=3e-05 comp2726_egaba_CGC_Lkg2=-65}", 
        "  \tinsert CGC_Na { comp2902_gbar_CGC_Na=0.013 comp2817_vcsteps_CGC_Na=9 comp2817_vchold_CGC_Na=-71 comp2817_vchdur_CGC_Na=30 comp2817_vcbase_CGC_Na=-60 comp2817_vcinc_CGC_Na=10 comp2817_vcbdur_CGC_Na=100 comp2902_e_CGC_Na=87.39}", 
        "  \tinsert na_ion { ena=87.39}", 
        "! \tinsert Exp2Syn { tau1=0.03 tau2=0.5 e=0}", 
        "! \tinsert Exp2Syn { tau1=1 tau2=13.3 e=0}", 
        "! \tinsert Exp2Syn { tau1=0.31 tau2=8.8 e=-75}", 
        "! \tinsert Exp2Syn { tau1=0.31 tau2=300 e=-75}", 
        "! \tinsert APCount { n=0 thresh=-20 time=0}", 
        "  }", 
        "! \t1 ", 
        "! ena: 87.390000\t14 ", 
        "! ek: -84.690000\t14 ", 
        "! eca: 132.457934\t15 ", 
        "! ecl: -65.000000\t15 ", 
        "! celsius: 30.000000\t18 ", 
        "! \t1 ", 
        "! \t1 ", 
        "! \t1 ", 
        "! \t0 "
       ]
      }
     ], 
     "prompt_number": 80
    }, 
    {
     "cell_type": "code", 
     "collapsed": false, 
     "input": [
      "diff('output/fabios_granule_mechanisms.log', 'output/fabios_granule_hoc.log')"
     ], 
     "language": "python", 
     "outputs": [
      {
       "output_type": "stream", 
       "stream": "stdout", 
       "text": [
        "*** ", 
        "--- ", 
        "***************", 
        "*** 1,35 ****", 
        "- Recording activity for injected step current starting at 1000", 
        "- Build mechanisms in '/home/tclose/git/kbrain/external/original_mod/granule' directory", 
        "- Building mechanisms in '/home/tclose/git/kbrain/external/original_mod/granule' directory.", 
        "  NEURON -- Release 7.2 (562:42a47463b504) 2011-12-21", 
        "  Duke, Yale, and the BlueBrain Project -- Copyright 1984-2008", 
        "  See http://www.neuron.yale.edu/credits.html", 
        "  ", 
        "  Additional mechanisms from files", 
        "   GRC_CA.mod GRC_CALC.mod GRC_KA.mod GRC_KCA.mod GRC_KIR.mod GRC_KM.mod GRC_KV.mod GRC_LKG1.mod GRC_LKG2.mod GRC_NA.mod", 
        "! Mechanisms inserted into test: GRC_CA, GRC_CALC, GRC_KA, GRC_KCA, GRC_KIR, GRC_KM, GRC_KV, GRC_LKG1, GRC_LKG2, GRC_NA", 
        "! MPI_Initialized==false, disabling MPI functionality.", 
        "! Creating test cell...", 
        "! ena = 87.39", 
        "! ek = -84.69", 
        "! eca = 129.33", 
        "! gcabar_GRC_CA = 0.00046", 
        "! gkbar_GRC_KCA = 0.04", 
        "! gkbar_GRC_KV = 0.003", 
        "! gkbar_GRC_KA = 0.0032", 
        "! gkbar_GRC_KM = 0.00025", 
        "! gkbar_GRC_KIR = 0.0009", 
        "! gl_GRC_LKG = 15.68e-5", 
        "! ggaba_GRC_LKG2 = 3e-05", 
        "! gnabar_GRC_NA = 0.013", 
        "! beta_GRC_CALC = 1.5", 
        "! Starting simulation of 'test'...", 
        "! Simulating at 30.000000C", 
        "! Finished simulation of 'test'", 
        "! ", 
        "! Saved test recording to 'output/fabios_granule_mechanisms.test.dat'", 
        "! Description of test cell:", 
        "! <__main__.NeuronTestCell object at 0x2198cd0>.PySec_3751960 { nseg=1  L=11.8  Ra=100", 
        "  \t/*location 0 attached to cell 0*/", 
        "  \t/* First segment only */", 
        "  \tinsert morphology { diam=11.8}", 
        "--- 1,12 ----", 
        "  NEURON -- Release 7.2 (562:42a47463b504) 2011-12-21", 
        "  Duke, Yale, and the BlueBrain Project -- Copyright 1984-2008", 
        "  See http://www.neuron.yale.edu/credits.html", 
        "  ", 
        "+ nrniv: unable to open font \"*helvetica-medium-r-normal*--14*\", using \"fixed\"", 
        "  Additional mechanisms from files", 
        "   GRC_CA.mod GRC_CALC.mod GRC_KA.mod GRC_KCA.mod GRC_KIR.mod GRC_KM.mod GRC_KV.mod GRC_LKG1.mod GRC_LKG2.mod GRC_NA.mod", 
        "! \t1 ", 
        "! soma { nseg=1  L=11.8  Ra=100", 
        "  \t/*location 0 attached to cell 0*/", 
        "  \t/* First segment only */", 
        "  \tinsert morphology { diam=11.8}", 
        "***************", 
        "*** 47,52 ****", 
        "  \tinsert GRC_LKG2 { ggaba_GRC_LKG2=3e-05 egaba_GRC_LKG2=-65}", 
        "  \tinsert GRC_NA { gnabar_GRC_NA=0.013 Aalfa_GRC_NA=353.91 Valfa_GRC_NA=13.99 Abeta_GRC_NA=1.272 Vbeta_GRC_NA=13.99 Agamma_GRC_NA=150 Adelta_GRC_NA=40 Aepsilon_GRC_NA=1.75 Ateta_GRC_NA=0.0201 Vteta_GRC_NA=25 ACon_GRC_NA=0.005 ACoff_GRC_NA=0.5 AOon_GRC_NA=0.75 AOoff_GRC_NA=0.005 n1_GRC_NA=5.422 n2_GRC_NA=3.279 n3_GRC_NA=1.83 n4_GRC_NA=0.738}", 
        "  \tinsert na_ion { ena=87.39}", 
        "! \tinsert IClamp { del=1000 dur=1999 amp=0.01875}", 
        "  }", 
        "! Finished testing mechanisms.", 
        "--- 24,42 ----", 
        "  \tinsert GRC_LKG2 { ggaba_GRC_LKG2=3e-05 egaba_GRC_LKG2=-65}", 
        "  \tinsert GRC_NA { gnabar_GRC_NA=0.013 Aalfa_GRC_NA=353.91 Valfa_GRC_NA=13.99 Abeta_GRC_NA=1.272 Vbeta_GRC_NA=13.99 Agamma_GRC_NA=150 Adelta_GRC_NA=40 Aepsilon_GRC_NA=1.75 Ateta_GRC_NA=0.0201 Vteta_GRC_NA=25 ACon_GRC_NA=0.005 ACoff_GRC_NA=0.5 AOon_GRC_NA=0.75 AOoff_GRC_NA=0.005 n1_GRC_NA=5.422 n2_GRC_NA=3.279 n3_GRC_NA=1.83 n4_GRC_NA=0.738}", 
        "  \tinsert na_ion { ena=87.39}", 
        "! \tinsert Exp2Syn { tau1=0.03 tau2=0.5 e=0}", 
        "! \tinsert Exp2Syn { tau1=1 tau2=13.3 e=0}", 
        "! \tinsert Exp2Syn { tau1=0.31 tau2=8.8 e=-75}", 
        "! \tinsert Exp2Syn { tau1=0.31 tau2=300 e=-75}", 
        "! \tinsert APCount { n=0 thresh=-20 time=0}", 
        "  }", 
        "! \t1 ", 
        "! ena: 87.390000\t14 ", 
        "! ek: -84.690000\t14 ", 
        "! eca: 132.457934\t15 ", 
        "! ecl: -65.000000\t15 ", 
        "! celsius: 30.000000\t18 ", 
        "! \t1 ", 
        "! \t1 ", 
        "! \t1 ", 
        "! \t0 "
       ]
      }
     ], 
     "prompt_number": 81
    }, 
    {
     "cell_type": "code", 
     "collapsed": true, 
     "input": [], 
     "language": "python", 
     "outputs": [], 
     "prompt_number": 81
    }
   ]
  }
 ]
}