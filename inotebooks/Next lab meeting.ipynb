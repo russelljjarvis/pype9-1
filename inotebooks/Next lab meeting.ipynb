{
 "metadata": {
  "name": "Next lab meeting"
 }, 
 "nbformat": 2, 
 "worksheets": [
  {
   "cells": [
    {
     "cell_type": "code", 
     "collapsed": true, 
     "input": [
      "from utilities.inotebook import *"
     ], 
     "language": "python", 
     "outputs": [], 
     "prompt_number": 1
    }, 
    {
     "cell_type": "code", 
     "collapsed": false, 
     "input": [
      "inotebook_init()"
     ], 
     "language": "python", 
     "outputs": [
      {
       "output_type": "stream", 
       "stream": "stdout", 
       "text": [
        "Using git revision of k-Brain: 8ab07bea1df2f75f53796a8211a128bd2fe8e143", 
        ""
       ]
      }
     ], 
     "prompt_number": 2
    }, 
    {
     "cell_type": "code", 
     "collapsed": true, 
     "input": [
      "os.chdir('/home/tclose/Data/KBrain/fabios_network/in_anger/2000')"
     ], 
     "language": "python", 
     "outputs": [], 
     "prompt_number": 3
    }, 
    {
     "cell_type": "markdown", 
     "source": [
      "---", 
      "Things to do", 
      "---"
     ]
    }, 
    {
     "cell_type": "markdown", 
     "source": [
      "- Small scale network (one to one cell network)", 
      "    - Compare with Fabios hoc network", 
      "    - Check that synaptic strengths are right", 
      "- Randomly disribute parameters", 
      "- Test NEST code generation"
     ]
    }, 
    {
     "cell_type": "code", 
     "collapsed": true, 
     "input": [], 
     "language": "python", 
     "outputs": []
    }
   ]
  }
 ]
}