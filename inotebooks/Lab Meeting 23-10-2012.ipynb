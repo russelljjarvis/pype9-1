{
 "metadata": {
  "name": "Lab Meeting 23-10-2012"
 }, 
 "nbformat": 2, 
 "worksheets": [
  {
   "cells": [
    {
     "cell_type": "markdown", 
     "source": [
      "---", 
      "IPython Notebook Initialisation"
     ]
    }, 
    {
     "cell_type": "code", 
     "collapsed": true, 
     "input": [
      "from utilities.inotebook import *"
     ], 
     "language": "python", 
     "outputs": [], 
     "prompt_number": 18
    }, 
    {
     "cell_type": "code", 
     "collapsed": false, 
     "input": [
      "inotebook_init()"
     ], 
     "language": "python", 
     "outputs": [
      {
       "output_type": "stream", 
       "stream": "stdout", 
       "text": [
        "Using git revision of k-Brain: 8ab07bea1df2f75f53796a8211a128bd2fe8e143", 
        ""
       ]
      }
     ], 
     "prompt_number": 19
    }, 
    {
     "cell_type": "code", 
     "collapsed": true, 
     "input": [
      "os.chdir('/home/tclose/Data/KBrain/fabios_network/in_anger/2000')"
     ], 
     "language": "python", 
     "outputs": [], 
     "prompt_number": 20
    }, 
    {
     "cell_type": "markdown", 
     "source": [
      "---", 
      "Fabio's Granular-Golgi Network (plots from paper)", 
      "---", 
      "Note that leak current, initial membrane voltage and cell diameter is not being \"randomized\" as it is in Fabio's paper, which probably explains some of the differences in firing behaviour"
     ]
    }, 
    {
     "cell_type": "code", 
     "collapsed": false, 
     "input": [
      "bash('~/kbrain/src/simulate/fabios_network.py --help')"
     ], 
     "language": "python", 
     "outputs": [
      {
       "output_type": "stream", 
       "stream": "stdout", 
       "text": [
        "usage: fabios_network.py [-h] [--simulator SIMULATOR] [--build BUILD]", 
        "                         [--mf_rate MF_RATE] [--time TIME] [--output OUTPUT]", 
        "                         [--start_input START_INPUT] [--min_delay MIN_DELAY]", 
        "                         [--timestep TIMESTEP]", 
        "                         [--save_connections SAVE_CONNECTIONS]", 
        "                         [--stim_seed STIM_SEED] [--para_unsafe]", 
        "                         [--volt_trace POPULATION INDEX] [--debug]", 
        "                         [--silent_build] [--include_gap]", 
        "                         [--no_granule_to_golgi]", 
        "", 
        "This script creates and runs the Granular network that Fabio created for his", 
        "2011 paper. @author Tom Close", 
        "", 
        "optional arguments:", 
        "  -h, --help            show this help message and exit", 
        "  --simulator SIMULATOR", 
        "                        simulator for NINEML+ (either 'neuron' or 'nest')", 
        "  --build BUILD         Option to build the NMODL files before running (can be", 
        "                        one of ['lazy', 'force', 'compile_only', 'require',", 
        "                        'super_lazy'].", 
        "  --mf_rate MF_RATE     Mean firing rate of the Mossy Fibres (default: 1)", 
        "  --time TIME           The run time of the simulation (ms) (default: 2000.0)", 
        "  --output OUTPUT       The output location of the recording files", 
        "  --start_input START_INPUT", 
        "                        The start time of the mossy fiber stimulation", 
        "                        (default: 1000)", 
        "  --min_delay MIN_DELAY", 
        "                        The minimum synaptic delay in the network (default:", 
        "                        0.002)", 
        "  --timestep TIMESTEP   The timestep used for the simulation (default: 0.001)", 
        "  --save_connections SAVE_CONNECTIONS", 
        "                        A path in which to save the generated connections", 
        "  --stim_seed STIM_SEED", 
        "                        The seed passed to the stimulated spikes", 
        "  --para_unsafe         If set the network simulation will try to be parallel", 
        "                        neuron safe", 
        "  --volt_trace POPULATION INDEX", 
        "                        Save voltage traces for the given list of (\"population", 
        "                        name\", \"cell ID\") tuples", 
        "  --debug               Loads a stripped down version of the network for", 
        "                        easier debugging", 
        "  --silent_build        Suppresses all build output", 
        "  --include_gap         Includes Golgi-to-Golgi gap junctions into the network", 
        "  --no_granule_to_golgi", 
        "                        Deactivates the granule to golgi connection in the", 
        "                        network.", 
        ""
       ]
      }
     ], 
     "prompt_number": 31
    }, 
    {
     "cell_type": "markdown", 
     "source": [
      "---", 
      "No Gap junctions or PF to Golgi connections"
     ]
    }, 
    {
     "cell_type": "code", 
     "collapsed": false, 
     "input": [
      "activity_plot('no_gap_no_granule_to_golgi/Golgis.spikes --time_start 800 --time_stop 1200')"
     ], 
     "language": "python", 
     "outputs": [], 
     "prompt_number": 32
    }, 
    {
     "cell_type": "code", 
     "collapsed": false, 
     "input": [
      "activity_plot('no_gap_no_granule_to_golgi/Granules.spikes --time_start 800 --time_stop 1200')"
     ], 
     "language": "python", 
     "outputs": [], 
     "prompt_number": 35
    }, 
    {
     "cell_type": "markdown", 
     "source": [
      "---", 
      "With Gap junctions but no PF to Golgi connections"
     ]
    }, 
    {
     "cell_type": "code", 
     "collapsed": true, 
     "input": [
      "activity_plot('include_gap_no_granule_to_golgi/Golgis.spikes --time_start 800 --time_stop 1200')"
     ], 
     "language": "python", 
     "outputs": [], 
     "prompt_number": 23
    }, 
    {
     "cell_type": "code", 
     "collapsed": true, 
     "input": [
      "activity_plot('include_gap_no_granule_to_golgi/Golgis.spikes --time_start 800 --time_stop 1200')"
     ], 
     "language": "python", 
     "outputs": [], 
     "prompt_number": 24
    }, 
    {
     "cell_type": "markdown", 
     "source": [
      "---", 
      "Without Gap junctions with PF to Golgi connections"
     ]
    }, 
    {
     "cell_type": "code", 
     "collapsed": true, 
     "input": [
      "activity_plot('no_gap/Golgis.spikes --time_start 800 --time_stop 1200')"
     ], 
     "language": "python", 
     "outputs": [], 
     "prompt_number": 25
    }, 
    {
     "cell_type": "code", 
     "collapsed": true, 
     "input": [
      "activity_plot('no_gap/Granules.spikes --time_start 800 --time_stop 1200')"
     ], 
     "language": "python", 
     "outputs": [], 
     "prompt_number": 26
    }, 
    {
     "cell_type": "markdown", 
     "source": [
      "---", 
      "With Gap junctions and PF to Golgi connections"
     ]
    }, 
    {
     "cell_type": "code", 
     "collapsed": true, 
     "input": [
      "activity_plot('include_gap/Golgis.spikes --time_start 800 --time_stop 1200')"
     ], 
     "language": "python", 
     "outputs": [], 
     "prompt_number": 27
    }, 
    {
     "cell_type": "code", 
     "collapsed": true, 
     "input": [
      "activity_plot('include_gap/Granules.spikes --time_start 800 --time_stop 1200')"
     ], 
     "language": "python", 
     "outputs": [], 
     "prompt_number": 34
    }, 
    {
     "cell_type": "markdown", 
     "source": [
      "---", 
      "Ongoing tasks:", 
      "---", 
      "- incorporating random distributions into NetworkML framework", 
      "- NEST implementation", 
      "  - Test module compiles and loads into pyNN framework"
     ]
    }, 
    {
     "cell_type": "code", 
     "collapsed": true, 
     "input": [], 
     "language": "python", 
     "outputs": [], 
     "prompt_number": 28
    }
   ]
  }
 ]
}